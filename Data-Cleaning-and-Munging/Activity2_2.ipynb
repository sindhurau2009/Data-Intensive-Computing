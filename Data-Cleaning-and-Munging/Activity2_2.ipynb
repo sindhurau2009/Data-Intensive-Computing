{
 "cells": [
  {
   "cell_type": "code",
   "execution_count": 1,
   "metadata": {
    "collapsed": false
   },
   "outputs": [
    {
     "name": "stderr",
     "output_type": "stream",
     "text": [
      "\n",
      "Attaching package: 'dplyr'\n",
      "\n",
      "The following objects are masked from 'package:stats':\n",
      "\n",
      "    filter, lag\n",
      "\n",
      "The following objects are masked from 'package:base':\n",
      "\n",
      "    intersect, setdiff, setequal, union\n",
      "\n"
     ]
    }
   ],
   "source": [
    "library(\"dplyr\")"
   ]
  },
  {
   "cell_type": "raw",
   "metadata": {},
   "source": [
    "library(\"RSQLite\")"
   ]
  },
  {
   "cell_type": "raw",
   "metadata": {},
   "source": [
    "library(\"RSQLite\")"
   ]
  },
  {
   "cell_type": "code",
   "execution_count": 2,
   "metadata": {
    "collapsed": true
   },
   "outputs": [],
   "source": [
    "library(\"RSQLite\")"
   ]
  },
  {
   "cell_type": "code",
   "execution_count": 3,
   "metadata": {
    "collapsed": false
   },
   "outputs": [
    {
     "name": "stderr",
     "output_type": "stream",
     "text": [
      "Loading required package: gsubfn\n",
      "Loading required package: proto\n",
      "Could not load tcltk.  Will use slower R code instead.\n"
     ]
    }
   ],
   "source": [
    "library(\"sqldf\")"
   ]
  },
  {
   "cell_type": "code",
   "execution_count": 4,
   "metadata": {
    "collapsed": true
   },
   "outputs": [],
   "source": [
    "players <- read.csv(\"Players.csv\")"
   ]
  },
  {
   "cell_type": "code",
   "execution_count": 5,
   "metadata": {
    "collapsed": false
   },
   "outputs": [
    {
     "data": {
      "text/html": [
       "<table>\n",
       "<thead><tr><th scope=col>X</th><th scope=col>player_api_id</th><th scope=col>overall_rating</th><th scope=col>gk_rating</th><th scope=col>player_name</th><th scope=col>no_appearances</th><th scope=col>no_of_leagues</th></tr></thead>\n",
       "<tbody>\n",
       "\t<tr><td> 1                      </td><td>2625                    </td><td>63                      </td><td>153                     </td><td>Patryk Rachwal,18       </td><td> 90                     </td><td>NA                      </td></tr>\n",
       "\t<tr><td> 2                      </td><td>2752                    </td><td>72                      </td><td> 53                     </td><td>Diego Mainz             </td><td> 81                     </td><td> 1                      </td></tr>\n",
       "\t<tr><td> 3                      </td><td>2768                    </td><td>75                      </td><td>128                     </td><td>Jose Dorado             </td><td> 71                     </td><td> 1                      </td></tr>\n",
       "\t<tr><td> 4                      </td><td>2770                    </td><td>74                      </td><td>148                     </td><td>Ignacio Gonzalez        </td><td> 16                     </td><td>NA                      </td></tr>\n",
       "\t<tr><td> 5                      </td><td>2790                    </td><td>73                      </td><td>144                     </td><td>Alberto Rey             </td><td> 50                     </td><td>NA                      </td></tr>\n",
       "\t<tr><td> 6                      </td><td>2796                    </td><td>69                      </td><td>340                     </td><td>Javier Jimenez          </td><td>  1                     </td><td>NA                      </td></tr>\n",
       "\t<tr><td> 7                      </td><td>2802                    </td><td>82                      </td><td>146                     </td><td>Pablo Hernandez         </td><td>144                     </td><td> 1                      </td></tr>\n",
       "\t<tr><td> 8                      </td><td>2805                    </td><td>76                      </td><td>141                     </td><td>Ruben Perez             </td><td>131                     </td><td>NA                      </td></tr>\n",
       "\t<tr><td> 9                      </td><td>2857                    </td><td>72                      </td><td>143                     </td><td>Ivan Perez              </td><td>  3                     </td><td>NA                      </td></tr>\n",
       "\t<tr><td>10                      </td><td>2862                    </td><td>76                      </td><td>146                     </td><td>Vicente Sanchez         </td><td> 17                     </td><td>NA                      </td></tr>\n",
       "\t<tr><td>11                      </td><td>2907                    </td><td>68                      </td><td>135                     </td><td>Gregory Lacombe         </td><td>  6                     </td><td>NA                      </td></tr>\n",
       "\t<tr><td>12                      </td><td>2973                    </td><td>72                      </td><td>147                     </td><td>Ugur Inceman            </td><td> 16                     </td><td>NA                      </td></tr>\n",
       "\t<tr><td>13                      </td><td>2977                    </td><td>82                      </td><td>104                     </td><td>David Rivas Rodriguez   </td><td>  5                     </td><td> 1                      </td></tr>\n",
       "\t<tr><td>14                      </td><td>2983                    </td><td>75                      </td><td>139                     </td><td>Jorge Molina            </td><td> 71                     </td><td>NA                      </td></tr>\n",
       "\t<tr><td>15                      </td><td>2984                    </td><td>75                      </td><td>364                     </td><td>Sergio Aragones         </td><td> 38                     </td><td> 1                      </td></tr>\n",
       "\t<tr><td>16                      </td><td>3140                    </td><td>69                      </td><td>136                     </td><td>Alexandre Hauw          </td><td> 42                     </td><td>NA                      </td></tr>\n",
       "\t<tr><td>17                      </td><td>3204                    </td><td>81                      </td><td>156                     </td><td>Marat Izmailov          </td><td> 42                     </td><td>NA                      </td></tr>\n",
       "\t<tr><td>18                      </td><td>3263                    </td><td>67                      </td><td>115                     </td><td>Kelly Berville          </td><td> 19                     </td><td>NA                      </td></tr>\n",
       "\t<tr><td>19                      </td><td>3264                    </td><td>62                      </td><td> 98                     </td><td>Abdelmalek Cherrad      </td><td>  1                     </td><td>NA                      </td></tr>\n",
       "\t<tr><td>20                      </td><td>3316                    </td><td>71                      </td><td>108                     </td><td>Oscar Sanchez           </td><td>  6                     </td><td>NA                      </td></tr>\n",
       "\t<tr><td>21                      </td><td>3329                    </td><td>64                      </td><td>130                     </td><td>Vincent Euvrard         </td><td> 85                     </td><td> 1                      </td></tr>\n",
       "\t<tr><td>22                      </td><td>3377                    </td><td>72                      </td><td>138                     </td><td>Luca Belingheri         </td><td>  1                     </td><td>NA                      </td></tr>\n",
       "\t<tr><td>23                      </td><td>3441                    </td><td>71                      </td><td>138                     </td><td>Aleksander Radosavljevic</td><td> 74                     </td><td> 1                      </td></tr>\n",
       "\t<tr><td>24                      </td><td>3512                    </td><td>75                      </td><td>143                     </td><td>Peter Halmosi           </td><td>  4                     </td><td>NA                      </td></tr>\n",
       "\t<tr><td>25                      </td><td>3517                    </td><td>82                      </td><td>149                     </td><td>Alexandr Kerzhakov      </td><td> 17                     </td><td>NA                      </td></tr>\n",
       "\t<tr><td>26                      </td><td>3520                    </td><td>86                      </td><td>159                     </td><td>Andrey Arshavin         </td><td> 70                     </td><td>NA                      </td></tr>\n",
       "\t<tr><td>27                      </td><td>4747                    </td><td>73                      </td><td>128                     </td><td>Lee Wilkie              </td><td> 36                     </td><td> 1                      </td></tr>\n",
       "\t<tr><td>28                      </td><td>4863                    </td><td>66                      </td><td> 54                     </td><td>Boban Grncarov          </td><td> 25                     </td><td> 1                      </td></tr>\n",
       "\t<tr><td>29                      </td><td>4902                    </td><td>77                      </td><td>145                     </td><td>Iriney                  </td><td> 68                     </td><td>NA                      </td></tr>\n",
       "\t<tr><td>30                      </td><td>4939                    </td><td>64                      </td><td>116                     </td><td>Tim Clancy              </td><td> 97                     </td><td> 1                      </td></tr>\n",
       "\t<tr><td>...</td><td>...</td><td>...</td><td>...</td><td>...</td><td>...</td><td>...</td></tr>\n",
       "\t<tr><td>11031                 </td><td>701154                </td><td>65                    </td><td>42                    </td><td>Kylian Mbappe Lottin  </td><td> 2                    </td><td>NA                    </td></tr>\n",
       "\t<tr><td>11032                 </td><td>703659                </td><td>51                    </td><td>48                    </td><td>Colin Trachsel        </td><td> 1                    </td><td>NA                    </td></tr>\n",
       "\t<tr><td>11033                 </td><td>704523                </td><td>62                    </td><td>43                    </td><td>Christopher Nkunku    </td><td> 4                    </td><td>NA                    </td></tr>\n",
       "\t<tr><td>11034                 </td><td>705484                </td><td>52                    </td><td>32                    </td><td>Eray Cumart           </td><td> 4                    </td><td> 1                    </td></tr>\n",
       "\t<tr><td>11035                 </td><td>706985                </td><td>58                    </td><td>53                    </td><td>Jordan Lyden          </td><td> 2                    </td><td>NA                    </td></tr>\n",
       "\t<tr><td>11036                 </td><td>710807                </td><td>67                    </td><td>47                    </td><td>Jonatan Montiel       </td><td> 1                    </td><td>NA                    </td></tr>\n",
       "\t<tr><td>11037                 </td><td>715642                </td><td>59                    </td><td>61                    </td><td>Aissa Laidouni        </td><td> 1                    </td><td>NA                    </td></tr>\n",
       "\t<tr><td>11038                 </td><td>716998                </td><td>56                    </td><td>46                    </td><td>Sebastien Lamonge     </td><td> 1                    </td><td>NA                    </td></tr>\n",
       "\t<tr><td>11039                 </td><td>717248                </td><td>64                    </td><td>59                    </td><td>Felipe Augusto        </td><td> 4                    </td><td>NA                    </td></tr>\n",
       "\t<tr><td>11040                 </td><td>717270                </td><td>61                    </td><td>56                    </td><td>Antoine Rabillard     </td><td> 1                    </td><td>NA                    </td></tr>\n",
       "\t<tr><td>11041                 </td><td>717557                </td><td>64                    </td><td>49                    </td><td>Levi Garcia           </td><td> 4                    </td><td>NA                    </td></tr>\n",
       "\t<tr><td>11042                 </td><td>719413                </td><td>64                    </td><td>54                    </td><td>Dorian Caddy          </td><td> 3                    </td><td>NA                    </td></tr>\n",
       "\t<tr><td>11043                 </td><td>720738                </td><td>55                    </td><td>52                    </td><td>Charles Traore        </td><td> 5                    </td><td>NA                    </td></tr>\n",
       "\t<tr><td>11044                 </td><td>721133                </td><td>70                    </td><td>60                    </td><td>Rafa Soares           </td><td>15                    </td><td> 1                    </td></tr>\n",
       "\t<tr><td>11045                 </td><td>722766                </td><td>71                    </td><td>36                    </td><td>Charly Musonda        </td><td>13                    </td><td>NA                    </td></tr>\n",
       "\t<tr><td>11046                 </td><td>723037                </td><td>53                    </td><td>54                    </td><td>Wanderson Lima        </td><td> 7                    </td><td> 1                    </td></tr>\n",
       "\t<tr><td>11047                 </td><td>725718                </td><td>60                    </td><td>54                    </td><td>Dennis van der Heijden</td><td> 1                    </td><td>NA                    </td></tr>\n",
       "\t<tr><td>11048                 </td><td>726956                </td><td>54                    </td><td>41                    </td><td>Cedric Itten          </td><td> 4                    </td><td>NA                    </td></tr>\n",
       "\t<tr><td>11049                 </td><td>728125                </td><td>50                    </td><td>49                    </td><td>Christopher McLaughlin</td><td> 2                    </td><td>NA                    </td></tr>\n",
       "\t<tr><td>11050                 </td><td>728414                </td><td>59                    </td><td>54                    </td><td>Justin Hoogma         </td><td> 1                    </td><td>NA                    </td></tr>\n",
       "\t<tr><td>11051                 </td><td>728478                </td><td>56                    </td><td>54                    </td><td>Kamil Jozwiak         </td><td> 1                    </td><td>NA                    </td></tr>\n",
       "\t<tr><td>11052                 </td><td>730065                </td><td>57                    </td><td>59                    </td><td>Jorge Intima          </td><td> 1                    </td><td>NA                    </td></tr>\n",
       "\t<tr><td>11053                 </td><td>733787                </td><td>51                    </td><td>45                    </td><td>Linus Obexer          </td><td> 2                    </td><td>NA                    </td></tr>\n",
       "\t<tr><td>11054                 </td><td>742405                </td><td>51                    </td><td>56                    </td><td>Tom Davies            </td><td> 1                    </td><td>NA                    </td></tr>\n",
       "\t<tr><td>11055                 </td><td>743720                </td><td>50                    </td><td>53                    </td><td>Charles Pickel        </td><td> 1                    </td><td>NA                    </td></tr>\n",
       "\t<tr><td>11056                 </td><td>744907                </td><td>53                    </td><td>57                    </td><td>Greg Taylor           </td><td> 1                    </td><td> 1                    </td></tr>\n",
       "\t<tr><td>11057                 </td><td>746419                </td><td>59                    </td><td>42                    </td><td>Francisco Afonso      </td><td> 2                    </td><td>NA                    </td></tr>\n",
       "\t<tr><td>11058                 </td><td>748432                </td><td>58                    </td><td>46                    </td><td>Fynn Arkenberg        </td><td> 2                    </td><td> 1                    </td></tr>\n",
       "\t<tr><td>11059                 </td><td>750435                </td><td>60                    </td><td>48                    </td><td>Rees Greenwood        </td><td> 1                    </td><td>NA                    </td></tr>\n",
       "\t<tr><td>11060                 </td><td>750584                </td><td>58                    </td><td>54                    </td><td>Alexandre Azevedo     </td><td> 1                    </td><td>NA                    </td></tr>\n",
       "</tbody>\n",
       "</table>\n"
      ],
      "text/latex": [
       "\\begin{tabular}{r|lllllll}\n",
       " X & player\\_api\\_id & overall\\_rating & gk\\_rating & player\\_name & no\\_appearances & no\\_of\\_leagues\\\\\n",
       "\\hline\n",
       "\t  1                       & 2625                     & 63                       & 153                      & Patryk Rachwal,18        &  90                      & NA                      \\\\\n",
       "\t  2                       & 2752                     & 72                       &  53                      & Diego Mainz              &  81                      &  1                      \\\\\n",
       "\t  3                       & 2768                     & 75                       & 128                      & Jose Dorado              &  71                      &  1                      \\\\\n",
       "\t  4                       & 2770                     & 74                       & 148                      & Ignacio Gonzalez         &  16                      & NA                      \\\\\n",
       "\t  5                       & 2790                     & 73                       & 144                      & Alberto Rey              &  50                      & NA                      \\\\\n",
       "\t  6                       & 2796                     & 69                       & 340                      & Javier Jimenez           &   1                      & NA                      \\\\\n",
       "\t  7                       & 2802                     & 82                       & 146                      & Pablo Hernandez          & 144                      &  1                      \\\\\n",
       "\t  8                       & 2805                     & 76                       & 141                      & Ruben Perez              & 131                      & NA                      \\\\\n",
       "\t  9                       & 2857                     & 72                       & 143                      & Ivan Perez               &   3                      & NA                      \\\\\n",
       "\t 10                       & 2862                     & 76                       & 146                      & Vicente Sanchez          &  17                      & NA                      \\\\\n",
       "\t 11                       & 2907                     & 68                       & 135                      & Gregory Lacombe          &   6                      & NA                      \\\\\n",
       "\t 12                       & 2973                     & 72                       & 147                      & Ugur Inceman             &  16                      & NA                      \\\\\n",
       "\t 13                       & 2977                     & 82                       & 104                      & David Rivas Rodriguez    &   5                      &  1                      \\\\\n",
       "\t 14                       & 2983                     & 75                       & 139                      & Jorge Molina             &  71                      & NA                      \\\\\n",
       "\t 15                       & 2984                     & 75                       & 364                      & Sergio Aragones          &  38                      &  1                      \\\\\n",
       "\t 16                       & 3140                     & 69                       & 136                      & Alexandre Hauw           &  42                      & NA                      \\\\\n",
       "\t 17                       & 3204                     & 81                       & 156                      & Marat Izmailov           &  42                      & NA                      \\\\\n",
       "\t 18                       & 3263                     & 67                       & 115                      & Kelly Berville           &  19                      & NA                      \\\\\n",
       "\t 19                       & 3264                     & 62                       &  98                      & Abdelmalek Cherrad       &   1                      & NA                      \\\\\n",
       "\t 20                       & 3316                     & 71                       & 108                      & Oscar Sanchez            &   6                      & NA                      \\\\\n",
       "\t 21                       & 3329                     & 64                       & 130                      & Vincent Euvrard          &  85                      &  1                      \\\\\n",
       "\t 22                       & 3377                     & 72                       & 138                      & Luca Belingheri          &   1                      & NA                      \\\\\n",
       "\t 23                       & 3441                     & 71                       & 138                      & Aleksander Radosavljevic &  74                      &  1                      \\\\\n",
       "\t 24                       & 3512                     & 75                       & 143                      & Peter Halmosi            &   4                      & NA                      \\\\\n",
       "\t 25                       & 3517                     & 82                       & 149                      & Alexandr Kerzhakov       &  17                      & NA                      \\\\\n",
       "\t 26                       & 3520                     & 86                       & 159                      & Andrey Arshavin          &  70                      & NA                      \\\\\n",
       "\t 27                       & 4747                     & 73                       & 128                      & Lee Wilkie               &  36                      &  1                      \\\\\n",
       "\t 28                       & 4863                     & 66                       &  54                      & Boban Grncarov           &  25                      &  1                      \\\\\n",
       "\t 29                       & 4902                     & 77                       & 145                      & Iriney                   &  68                      & NA                      \\\\\n",
       "\t 30                       & 4939                     & 64                       & 116                      & Tim Clancy               &  97                      &  1                      \\\\\n",
       "\t ... & ... & ... & ... & ... & ... & ...\\\\\n",
       "\t 11031                  & 701154                 & 65                     & 42                     & Kylian Mbappe Lottin   &  2                     & NA                    \\\\\n",
       "\t 11032                  & 703659                 & 51                     & 48                     & Colin Trachsel         &  1                     & NA                    \\\\\n",
       "\t 11033                  & 704523                 & 62                     & 43                     & Christopher Nkunku     &  4                     & NA                    \\\\\n",
       "\t 11034                  & 705484                 & 52                     & 32                     & Eray Cumart            &  4                     &  1                    \\\\\n",
       "\t 11035                  & 706985                 & 58                     & 53                     & Jordan Lyden           &  2                     & NA                    \\\\\n",
       "\t 11036                  & 710807                 & 67                     & 47                     & Jonatan Montiel        &  1                     & NA                    \\\\\n",
       "\t 11037                  & 715642                 & 59                     & 61                     & Aissa Laidouni         &  1                     & NA                    \\\\\n",
       "\t 11038                  & 716998                 & 56                     & 46                     & Sebastien Lamonge      &  1                     & NA                    \\\\\n",
       "\t 11039                  & 717248                 & 64                     & 59                     & Felipe Augusto         &  4                     & NA                    \\\\\n",
       "\t 11040                  & 717270                 & 61                     & 56                     & Antoine Rabillard      &  1                     & NA                    \\\\\n",
       "\t 11041                  & 717557                 & 64                     & 49                     & Levi Garcia            &  4                     & NA                    \\\\\n",
       "\t 11042                  & 719413                 & 64                     & 54                     & Dorian Caddy           &  3                     & NA                    \\\\\n",
       "\t 11043                  & 720738                 & 55                     & 52                     & Charles Traore         &  5                     & NA                    \\\\\n",
       "\t 11044                  & 721133                 & 70                     & 60                     & Rafa Soares            & 15                     &  1                    \\\\\n",
       "\t 11045                  & 722766                 & 71                     & 36                     & Charly Musonda         & 13                     & NA                    \\\\\n",
       "\t 11046                  & 723037                 & 53                     & 54                     & Wanderson Lima         &  7                     &  1                    \\\\\n",
       "\t 11047                  & 725718                 & 60                     & 54                     & Dennis van der Heijden &  1                     & NA                    \\\\\n",
       "\t 11048                  & 726956                 & 54                     & 41                     & Cedric Itten           &  4                     & NA                    \\\\\n",
       "\t 11049                  & 728125                 & 50                     & 49                     & Christopher McLaughlin &  2                     & NA                    \\\\\n",
       "\t 11050                  & 728414                 & 59                     & 54                     & Justin Hoogma          &  1                     & NA                    \\\\\n",
       "\t 11051                  & 728478                 & 56                     & 54                     & Kamil Jozwiak          &  1                     & NA                    \\\\\n",
       "\t 11052                  & 730065                 & 57                     & 59                     & Jorge Intima           &  1                     & NA                    \\\\\n",
       "\t 11053                  & 733787                 & 51                     & 45                     & Linus Obexer           &  2                     & NA                    \\\\\n",
       "\t 11054                  & 742405                 & 51                     & 56                     & Tom Davies             &  1                     & NA                    \\\\\n",
       "\t 11055                  & 743720                 & 50                     & 53                     & Charles Pickel         &  1                     & NA                    \\\\\n",
       "\t 11056                  & 744907                 & 53                     & 57                     & Greg Taylor            &  1                     &  1                    \\\\\n",
       "\t 11057                  & 746419                 & 59                     & 42                     & Francisco Afonso       &  2                     & NA                    \\\\\n",
       "\t 11058                  & 748432                 & 58                     & 46                     & Fynn Arkenberg         &  2                     &  1                    \\\\\n",
       "\t 11059                  & 750435                 & 60                     & 48                     & Rees Greenwood         &  1                     & NA                    \\\\\n",
       "\t 11060                  & 750584                 & 58                     & 54                     & Alexandre Azevedo      &  1                     & NA                    \\\\\n",
       "\\end{tabular}\n"
      ],
      "text/markdown": [
       "\n",
       "X | player_api_id | overall_rating | gk_rating | player_name | no_appearances | no_of_leagues | \n",
       "|---|---|---|---|---|---|---|---|---|---|---|---|---|---|---|---|---|---|---|---|---|---|---|---|---|---|---|---|---|---|---|---|---|---|---|---|---|---|---|---|---|---|---|---|---|---|---|---|---|---|---|---|---|---|---|---|---|---|---|---|---|\n",
       "|  1                       | 2625                     | 63                       | 153                      | Patryk Rachwal,18        |  90                      | NA                       | \n",
       "|  2                       | 2752                     | 72                       |  53                      | Diego Mainz              |  81                      |  1                       | \n",
       "|  3                       | 2768                     | 75                       | 128                      | Jose Dorado              |  71                      |  1                       | \n",
       "|  4                       | 2770                     | 74                       | 148                      | Ignacio Gonzalez         |  16                      | NA                       | \n",
       "|  5                       | 2790                     | 73                       | 144                      | Alberto Rey              |  50                      | NA                       | \n",
       "|  6                       | 2796                     | 69                       | 340                      | Javier Jimenez           |   1                      | NA                       | \n",
       "|  7                       | 2802                     | 82                       | 146                      | Pablo Hernandez          | 144                      |  1                       | \n",
       "|  8                       | 2805                     | 76                       | 141                      | Ruben Perez              | 131                      | NA                       | \n",
       "|  9                       | 2857                     | 72                       | 143                      | Ivan Perez               |   3                      | NA                       | \n",
       "| 10                       | 2862                     | 76                       | 146                      | Vicente Sanchez          |  17                      | NA                       | \n",
       "| 11                       | 2907                     | 68                       | 135                      | Gregory Lacombe          |   6                      | NA                       | \n",
       "| 12                       | 2973                     | 72                       | 147                      | Ugur Inceman             |  16                      | NA                       | \n",
       "| 13                       | 2977                     | 82                       | 104                      | David Rivas Rodriguez    |   5                      |  1                       | \n",
       "| 14                       | 2983                     | 75                       | 139                      | Jorge Molina             |  71                      | NA                       | \n",
       "| 15                       | 2984                     | 75                       | 364                      | Sergio Aragones          |  38                      |  1                       | \n",
       "| 16                       | 3140                     | 69                       | 136                      | Alexandre Hauw           |  42                      | NA                       | \n",
       "| 17                       | 3204                     | 81                       | 156                      | Marat Izmailov           |  42                      | NA                       | \n",
       "| 18                       | 3263                     | 67                       | 115                      | Kelly Berville           |  19                      | NA                       | \n",
       "| 19                       | 3264                     | 62                       |  98                      | Abdelmalek Cherrad       |   1                      | NA                       | \n",
       "| 20                       | 3316                     | 71                       | 108                      | Oscar Sanchez            |   6                      | NA                       | \n",
       "| 21                       | 3329                     | 64                       | 130                      | Vincent Euvrard          |  85                      |  1                       | \n",
       "| 22                       | 3377                     | 72                       | 138                      | Luca Belingheri          |   1                      | NA                       | \n",
       "| 23                       | 3441                     | 71                       | 138                      | Aleksander Radosavljevic |  74                      |  1                       | \n",
       "| 24                       | 3512                     | 75                       | 143                      | Peter Halmosi            |   4                      | NA                       | \n",
       "| 25                       | 3517                     | 82                       | 149                      | Alexandr Kerzhakov       |  17                      | NA                       | \n",
       "| 26                       | 3520                     | 86                       | 159                      | Andrey Arshavin          |  70                      | NA                       | \n",
       "| 27                       | 4747                     | 73                       | 128                      | Lee Wilkie               |  36                      |  1                       | \n",
       "| 28                       | 4863                     | 66                       |  54                      | Boban Grncarov           |  25                      |  1                       | \n",
       "| 29                       | 4902                     | 77                       | 145                      | Iriney                   |  68                      | NA                       | \n",
       "| 30                       | 4939                     | 64                       | 116                      | Tim Clancy               |  97                      |  1                       | \n",
       "| ... | ... | ... | ... | ... | ... | ... | \n",
       "| 11031                  | 701154                 | 65                     | 42                     | Kylian Mbappe Lottin   |  2                     | NA                     | \n",
       "| 11032                  | 703659                 | 51                     | 48                     | Colin Trachsel         |  1                     | NA                     | \n",
       "| 11033                  | 704523                 | 62                     | 43                     | Christopher Nkunku     |  4                     | NA                     | \n",
       "| 11034                  | 705484                 | 52                     | 32                     | Eray Cumart            |  4                     |  1                     | \n",
       "| 11035                  | 706985                 | 58                     | 53                     | Jordan Lyden           |  2                     | NA                     | \n",
       "| 11036                  | 710807                 | 67                     | 47                     | Jonatan Montiel        |  1                     | NA                     | \n",
       "| 11037                  | 715642                 | 59                     | 61                     | Aissa Laidouni         |  1                     | NA                     | \n",
       "| 11038                  | 716998                 | 56                     | 46                     | Sebastien Lamonge      |  1                     | NA                     | \n",
       "| 11039                  | 717248                 | 64                     | 59                     | Felipe Augusto         |  4                     | NA                     | \n",
       "| 11040                  | 717270                 | 61                     | 56                     | Antoine Rabillard      |  1                     | NA                     | \n",
       "| 11041                  | 717557                 | 64                     | 49                     | Levi Garcia            |  4                     | NA                     | \n",
       "| 11042                  | 719413                 | 64                     | 54                     | Dorian Caddy           |  3                     | NA                     | \n",
       "| 11043                  | 720738                 | 55                     | 52                     | Charles Traore         |  5                     | NA                     | \n",
       "| 11044                  | 721133                 | 70                     | 60                     | Rafa Soares            | 15                     |  1                     | \n",
       "| 11045                  | 722766                 | 71                     | 36                     | Charly Musonda         | 13                     | NA                     | \n",
       "| 11046                  | 723037                 | 53                     | 54                     | Wanderson Lima         |  7                     |  1                     | \n",
       "| 11047                  | 725718                 | 60                     | 54                     | Dennis van der Heijden |  1                     | NA                     | \n",
       "| 11048                  | 726956                 | 54                     | 41                     | Cedric Itten           |  4                     | NA                     | \n",
       "| 11049                  | 728125                 | 50                     | 49                     | Christopher McLaughlin |  2                     | NA                     | \n",
       "| 11050                  | 728414                 | 59                     | 54                     | Justin Hoogma          |  1                     | NA                     | \n",
       "| 11051                  | 728478                 | 56                     | 54                     | Kamil Jozwiak          |  1                     | NA                     | \n",
       "| 11052                  | 730065                 | 57                     | 59                     | Jorge Intima           |  1                     | NA                     | \n",
       "| 11053                  | 733787                 | 51                     | 45                     | Linus Obexer           |  2                     | NA                     | \n",
       "| 11054                  | 742405                 | 51                     | 56                     | Tom Davies             |  1                     | NA                     | \n",
       "| 11055                  | 743720                 | 50                     | 53                     | Charles Pickel         |  1                     | NA                     | \n",
       "| 11056                  | 744907                 | 53                     | 57                     | Greg Taylor            |  1                     |  1                     | \n",
       "| 11057                  | 746419                 | 59                     | 42                     | Francisco Afonso       |  2                     | NA                     | \n",
       "| 11058                  | 748432                 | 58                     | 46                     | Fynn Arkenberg         |  2                     |  1                     | \n",
       "| 11059                  | 750435                 | 60                     | 48                     | Rees Greenwood         |  1                     | NA                     | \n",
       "| 11060                  | 750584                 | 58                     | 54                     | Alexandre Azevedo      |  1                     | NA                     | \n",
       "\n",
       "\n"
      ],
      "text/plain": [
       "      X     player_api_id overall_rating gk_rating player_name             \n",
       "1      1    2625          63             153       Patryk Rachwal,18       \n",
       "2      2    2752          72              53       Diego Mainz             \n",
       "3      3    2768          75             128       Jose Dorado             \n",
       "4      4    2770          74             148       Ignacio Gonzalez        \n",
       "5      5    2790          73             144       Alberto Rey             \n",
       "6      6    2796          69             340       Javier Jimenez          \n",
       "7      7    2802          82             146       Pablo Hernandez         \n",
       "8      8    2805          76             141       Ruben Perez             \n",
       "9      9    2857          72             143       Ivan Perez              \n",
       "10    10    2862          76             146       Vicente Sanchez         \n",
       "11    11    2907          68             135       Gregory Lacombe         \n",
       "12    12    2973          72             147       Ugur Inceman            \n",
       "13    13    2977          82             104       David Rivas Rodriguez   \n",
       "14    14    2983          75             139       Jorge Molina            \n",
       "15    15    2984          75             364       Sergio Aragones         \n",
       "16    16    3140          69             136       Alexandre Hauw          \n",
       "17    17    3204          81             156       Marat Izmailov          \n",
       "18    18    3263          67             115       Kelly Berville          \n",
       "19    19    3264          62              98       Abdelmalek Cherrad      \n",
       "20    20    3316          71             108       Oscar Sanchez           \n",
       "21    21    3329          64             130       Vincent Euvrard         \n",
       "22    22    3377          72             138       Luca Belingheri         \n",
       "23    23    3441          71             138       Aleksander Radosavljevic\n",
       "24    24    3512          75             143       Peter Halmosi           \n",
       "25    25    3517          82             149       Alexandr Kerzhakov      \n",
       "26    26    3520          86             159       Andrey Arshavin         \n",
       "27    27    4747          73             128       Lee Wilkie              \n",
       "28    28    4863          66              54       Boban Grncarov          \n",
       "29    29    4902          77             145       Iriney                  \n",
       "30    30    4939          64             116       Tim Clancy              \n",
       "...   ...   ...           ...            ...       ...                     \n",
       "11031 11031 701154        65             42        Kylian Mbappe Lottin    \n",
       "11032 11032 703659        51             48        Colin Trachsel          \n",
       "11033 11033 704523        62             43        Christopher Nkunku      \n",
       "11034 11034 705484        52             32        Eray Cumart             \n",
       "11035 11035 706985        58             53        Jordan Lyden            \n",
       "11036 11036 710807        67             47        Jonatan Montiel         \n",
       "11037 11037 715642        59             61        Aissa Laidouni          \n",
       "11038 11038 716998        56             46        Sebastien Lamonge       \n",
       "11039 11039 717248        64             59        Felipe Augusto          \n",
       "11040 11040 717270        61             56        Antoine Rabillard       \n",
       "11041 11041 717557        64             49        Levi Garcia             \n",
       "11042 11042 719413        64             54        Dorian Caddy            \n",
       "11043 11043 720738        55             52        Charles Traore          \n",
       "11044 11044 721133        70             60        Rafa Soares             \n",
       "11045 11045 722766        71             36        Charly Musonda          \n",
       "11046 11046 723037        53             54        Wanderson Lima          \n",
       "11047 11047 725718        60             54        Dennis van der Heijden  \n",
       "11048 11048 726956        54             41        Cedric Itten            \n",
       "11049 11049 728125        50             49        Christopher McLaughlin  \n",
       "11050 11050 728414        59             54        Justin Hoogma           \n",
       "11051 11051 728478        56             54        Kamil Jozwiak           \n",
       "11052 11052 730065        57             59        Jorge Intima            \n",
       "11053 11053 733787        51             45        Linus Obexer            \n",
       "11054 11054 742405        51             56        Tom Davies              \n",
       "11055 11055 743720        50             53        Charles Pickel          \n",
       "11056 11056 744907        53             57        Greg Taylor             \n",
       "11057 11057 746419        59             42        Francisco Afonso        \n",
       "11058 11058 748432        58             46        Fynn Arkenberg          \n",
       "11059 11059 750435        60             48        Rees Greenwood          \n",
       "11060 11060 750584        58             54        Alexandre Azevedo       \n",
       "      no_appearances no_of_leagues\n",
       "1      90            NA           \n",
       "2      81             1           \n",
       "3      71             1           \n",
       "4      16            NA           \n",
       "5      50            NA           \n",
       "6       1            NA           \n",
       "7     144             1           \n",
       "8     131            NA           \n",
       "9       3            NA           \n",
       "10     17            NA           \n",
       "11      6            NA           \n",
       "12     16            NA           \n",
       "13      5             1           \n",
       "14     71            NA           \n",
       "15     38             1           \n",
       "16     42            NA           \n",
       "17     42            NA           \n",
       "18     19            NA           \n",
       "19      1            NA           \n",
       "20      6            NA           \n",
       "21     85             1           \n",
       "22      1            NA           \n",
       "23     74             1           \n",
       "24      4            NA           \n",
       "25     17            NA           \n",
       "26     70            NA           \n",
       "27     36             1           \n",
       "28     25             1           \n",
       "29     68            NA           \n",
       "30     97             1           \n",
       "...   ...            ...          \n",
       "11031  2             NA           \n",
       "11032  1             NA           \n",
       "11033  4             NA           \n",
       "11034  4              1           \n",
       "11035  2             NA           \n",
       "11036  1             NA           \n",
       "11037  1             NA           \n",
       "11038  1             NA           \n",
       "11039  4             NA           \n",
       "11040  1             NA           \n",
       "11041  4             NA           \n",
       "11042  3             NA           \n",
       "11043  5             NA           \n",
       "11044 15              1           \n",
       "11045 13             NA           \n",
       "11046  7              1           \n",
       "11047  1             NA           \n",
       "11048  4             NA           \n",
       "11049  2             NA           \n",
       "11050  1             NA           \n",
       "11051  1             NA           \n",
       "11052  1             NA           \n",
       "11053  2             NA           \n",
       "11054  1             NA           \n",
       "11055  1             NA           \n",
       "11056  1              1           \n",
       "11057  2             NA           \n",
       "11058  2              1           \n",
       "11059  1             NA           \n",
       "11060  1             NA           "
      ]
     },
     "metadata": {},
     "output_type": "display_data"
    }
   ],
   "source": [
    "players"
   ]
  },
  {
   "cell_type": "code",
   "execution_count": 6,
   "metadata": {
    "collapsed": true
   },
   "outputs": [],
   "source": [
    "teams <- read.csv(\"Teams.csv\")"
   ]
  },
  {
   "cell_type": "code",
   "execution_count": 7,
   "metadata": {
    "collapsed": false
   },
   "outputs": [
    {
     "data": {
      "text/html": [
       "<table>\n",
       "<thead><tr><th scope=col>X</th><th scope=col>team_api_id</th><th scope=col>buildupPlay</th><th scope=col>chanceCreation</th><th scope=col>defence</th><th scope=col>team_name</th><th scope=col>no_goals</th></tr></thead>\n",
       "<tbody>\n",
       "\t<tr><td> 1                      </td><td>1601                    </td><td>139                     </td><td>186                     </td><td>175                     </td><td>Ruch Chorzów            </td><td>280                     </td></tr>\n",
       "\t<tr><td> 2                      </td><td>1773                    </td><td>153                     </td><td>157                     </td><td>137                     </td><td>Oud-Heverlee Leuven     </td><td>126                     </td></tr>\n",
       "\t<tr><td> 3                      </td><td>1957                    </td><td>158                     </td><td>163                     </td><td>210                     </td><td>Jagiellonia Bialystok   </td><td>287                     </td></tr>\n",
       "\t<tr><td> 4                      </td><td>2033                    </td><td>147                     </td><td>165                     </td><td>155                     </td><td>S.C. Olhanense          </td><td>138                     </td></tr>\n",
       "\t<tr><td> 5                      </td><td>2182                    </td><td>176                     </td><td>196                     </td><td>160                     </td><td>Lech Poznan             </td><td>372                     </td></tr>\n",
       "\t<tr><td> 6                      </td><td>2183                    </td><td> NA                     </td><td>180                     </td><td>175                     </td><td>P. Warszawa             </td><td>184                     </td></tr>\n",
       "\t<tr><td> 7                      </td><td>2186                    </td><td>125                     </td><td>168                     </td><td>205                     </td><td>Cracovia                </td><td>235                     </td></tr>\n",
       "\t<tr><td> 8                      </td><td>4087                    </td><td>156                     </td><td>180                     </td><td>165                     </td><td>Évian Thonon Gaillard FC</td><td>180                     </td></tr>\n",
       "\t<tr><td> 9                      </td><td>4170                    </td><td> NA                     </td><td>165                     </td><td>200                     </td><td>US Boulogne Cote D'Opale</td><td> 31                     </td></tr>\n",
       "\t<tr><td>10                      </td><td>6269                    </td><td>179                     </td><td>172                     </td><td>151                     </td><td>Novara                  </td><td> 34                     </td></tr>\n",
       "\t<tr><td>11                      </td><td>6351                    </td><td> NA                     </td><td>160                     </td><td>155                     </td><td>KAS Eupen               </td><td> 28                     </td></tr>\n",
       "\t<tr><td>12                      </td><td>6391                    </td><td>153                     </td><td>179                     </td><td>146                     </td><td>GFC Ajaccio             </td><td> 37                     </td></tr>\n",
       "\t<tr><td>13                      </td><td>6403                    </td><td>142                     </td><td>170                     </td><td>150                     </td><td>FC Paços de Ferreira    </td><td>292                     </td></tr>\n",
       "\t<tr><td>14                      </td><td>6413                    </td><td>137                     </td><td>165                     </td><td>181                     </td><td>PEC Zwolle              </td><td>204                     </td></tr>\n",
       "\t<tr><td>15                      </td><td>6421                    </td><td> NA                     </td><td>165                     </td><td> 90                     </td><td>Leixões SC              </td><td> 55                     </td></tr>\n",
       "\t<tr><td>16                      </td><td>6433                    </td><td>160                     </td><td>132                     </td><td>141                     </td><td>Go Ahead Eagles         </td><td> 74                     </td></tr>\n",
       "\t<tr><td>17                      </td><td>6493                    </td><td> NA                     </td><td>175                     </td><td>150                     </td><td>AC Bellinzona           </td><td>128                     </td></tr>\n",
       "\t<tr><td>18                      </td><td>6547                    </td><td>147                     </td><td>146                     </td><td>121                     </td><td>FC Penafiel             </td><td> 29                     </td></tr>\n",
       "\t<tr><td>19                      </td><td>6631                    </td><td>134                     </td><td>176                     </td><td>164                     </td><td>FC Dordrecht            </td><td> 24                     </td></tr>\n",
       "\t<tr><td>20                      </td><td>7730                    </td><td>141                     </td><td>164                     </td><td>165                     </td><td>FC Lausanne-Sports      </td><td> 99                     </td></tr>\n",
       "\t<tr><td>21                      </td><td>7788                    </td><td>136                     </td><td>159                     </td><td>138                     </td><td>SC Cambuur              </td><td>119                     </td></tr>\n",
       "\t<tr><td>22                      </td><td>7794                    </td><td>174                     </td><td>156                     </td><td>210                     </td><td>SC Bastia               </td><td>165                     </td></tr>\n",
       "\t<tr><td>23                      </td><td>7819                    </td><td>157                     </td><td>165                     </td><td>205                     </td><td>SM Caen                 </td><td>220                     </td></tr>\n",
       "\t<tr><td>24                      </td><td>7841                    </td><td>157                     </td><td>180                     </td><td>153                     </td><td>Rio Ave FC              </td><td>248                     </td></tr>\n",
       "\t<tr><td>25                      </td><td>7842                    </td><td>174                     </td><td>139                     </td><td>150                     </td><td>Estoril Praia           </td><td>167                     </td></tr>\n",
       "\t<tr><td>26                      </td><td>7844                    </td><td>131                     </td><td>179                     </td><td>177                     </td><td>Vitória Guimarães       </td><td>300                     </td></tr>\n",
       "\t<tr><td>27                      </td><td>7869                    </td><td>146                     </td><td>171                     </td><td>129                     </td><td>Córdoba CF              </td><td> 22                     </td></tr>\n",
       "\t<tr><td>28                      </td><td>7878                    </td><td>166                     </td><td>200                     </td><td>170                     </td><td>Granada CF              </td><td>179                     </td></tr>\n",
       "\t<tr><td>29                      </td><td>7943                    </td><td>188                     </td><td>186                     </td><td>138                     </td><td>Sassuolo                </td><td>141                     </td></tr>\n",
       "\t<tr><td>30                      </td><td>7955                    </td><td> NA                     </td><td>190                     </td><td>150                     </td><td>Neuchâtel Xamax         </td><td>171                     </td></tr>\n",
       "\t<tr><td>...</td><td>...</td><td>...</td><td>...</td><td>...</td><td>...</td><td>...</td></tr>\n",
       "\t<tr><td>259                    </td><td> 10211                 </td><td> NA                    </td><td>165                    </td><td>155                    </td><td>SC Beira Mar           </td><td> 93                    </td></tr>\n",
       "\t<tr><td>260                    </td><td> 10212                 </td><td>182                    </td><td>186                    </td><td>144                    </td><td>CS Marítimo            </td><td>316                    </td></tr>\n",
       "\t<tr><td>261                    </td><td> 10214                 </td><td>167                    </td><td>165                    </td><td>156                    </td><td>CD Nacional            </td><td>332                    </td></tr>\n",
       "\t<tr><td>262                    </td><td> 10215                 </td><td>150                    </td><td>172                    </td><td>151                    </td><td>Académica de Coimbra   </td><td>240                    </td></tr>\n",
       "\t<tr><td>263                    </td><td> 10217                 </td><td>162                    </td><td>181                    </td><td>173                    </td><td>ADO Den Haag           </td><td>366                    </td></tr>\n",
       "\t<tr><td>264                    </td><td> 10218                 </td><td>163                    </td><td>162                    </td><td>106                    </td><td>Excelsior              </td><td>154                    </td></tr>\n",
       "\t<tr><td>265                    </td><td> 10219                 </td><td>142                    </td><td>159                    </td><td>150                    </td><td>RKC Waalwijk           </td><td>153                    </td></tr>\n",
       "\t<tr><td>266                    </td><td> 10228                 </td><td>150                    </td><td>171                    </td><td>183                    </td><td>SC Heerenveen          </td><td>470                    </td></tr>\n",
       "\t<tr><td>267                    </td><td> 10229                 </td><td>154                    </td><td>185                    </td><td>184                    </td><td>AZ                     </td><td>492                    </td></tr>\n",
       "\t<tr><td>268                    </td><td> 10233                 </td><td>184                    </td><td>182                    </td><td>154                    </td><td>Genoa                  </td><td>392                    </td></tr>\n",
       "\t<tr><td>269                    </td><td> 10235                 </td><td>154                    </td><td>165                    </td><td>160                    </td><td>Feyenoord              </td><td>489                    </td></tr>\n",
       "\t<tr><td>270                    </td><td> 10238                 </td><td>149                    </td><td>165                    </td><td>140                    </td><td>Vitória Setúbal        </td><td>238                    </td></tr>\n",
       "\t<tr><td>271                    </td><td> 10242                 </td><td>148                    </td><td>150                    </td><td>140                    </td><td>ES Troyes AC           </td><td> 71                    </td></tr>\n",
       "\t<tr><td>272                    </td><td> 10243                 </td><td>157                    </td><td>165                    </td><td>163                    </td><td>FC Zürich              </td><td>468                    </td></tr>\n",
       "\t<tr><td>273                    </td><td> 10249                 </td><td>162                    </td><td>160                    </td><td>210                    </td><td>Montpellier Hérault SC </td><td>344                    </td></tr>\n",
       "\t<tr><td>274                    </td><td> 10251                 </td><td>148                    </td><td>200                    </td><td>200                    </td><td>Hibernian              </td><td>259                    </td></tr>\n",
       "\t<tr><td>275                    </td><td> 10252                 </td><td>170                    </td><td>185                    </td><td>145                    </td><td>Aston Villa            </td><td>335                    </td></tr>\n",
       "\t<tr><td>276                    </td><td> 10260                 </td><td>134                    </td><td>200                    </td><td>163                    </td><td>Manchester United      </td><td>582                    </td></tr>\n",
       "\t<tr><td>277                    </td><td> 10261                 </td><td>152                    </td><td>195                    </td><td>161                    </td><td>Newcastle United       </td><td>324                    </td></tr>\n",
       "\t<tr><td>278                    </td><td> 10264                 </td><td>145                    </td><td>166                    </td><td>150                    </td><td>SC Braga               </td><td>398                    </td></tr>\n",
       "\t<tr><td>279                    </td><td> 10265                 </td><td>135                    </td><td>183                    </td><td>205                    </td><td>Wisla Kraków           </td><td>332                    </td></tr>\n",
       "\t<tr><td>280                    </td><td> 10267                 </td><td>116                    </td><td>185                    </td><td>175                    </td><td>Valencia CF            </td><td>484                    </td></tr>\n",
       "\t<tr><td>281                    </td><td> 10268                 </td><td>171                    </td><td>165                    </td><td>158                    </td><td>Elche CF               </td><td> 65                    </td></tr>\n",
       "\t<tr><td>282                    </td><td> 10269                 </td><td>168                    </td><td>200                    </td><td>175                    </td><td>VfB Stuttgart          </td><td>415                    </td></tr>\n",
       "\t<tr><td>283                    </td><td> 10278                 </td><td>154                    </td><td>178                    </td><td>160                    </td><td>Hércules Club de Fútbol</td><td> 36                    </td></tr>\n",
       "\t<tr><td>284                    </td><td> 10281                 </td><td>153                    </td><td>172                    </td><td>161                    </td><td>Real Valladolid        </td><td>170                    </td></tr>\n",
       "\t<tr><td>285                    </td><td>108893                 </td><td>156                    </td><td>141                    </td><td>158                    </td><td>AC Arles-Avignon       </td><td> 21                    </td></tr>\n",
       "\t<tr><td>286                    </td><td>158085                 </td><td>174                    </td><td>160                    </td><td>113                    </td><td>FC Arouca              </td><td>101                    </td></tr>\n",
       "\t<tr><td>287                    </td><td>208931                 </td><td>190                    </td><td>160                    </td><td>141                    </td><td>Carpi                  </td><td> 37                    </td></tr>\n",
       "\t<tr><td>288                    </td><td>274581                 </td><td>150                    </td><td>150                    </td><td>140                    </td><td>Royal Excel Mouscron   </td><td> 71                    </td></tr>\n",
       "</tbody>\n",
       "</table>\n"
      ],
      "text/latex": [
       "\\begin{tabular}{r|lllllll}\n",
       " X & team\\_api\\_id & buildupPlay & chanceCreation & defence & team\\_name & no\\_goals\\\\\n",
       "\\hline\n",
       "\t  1                       & 1601                     & 139                      & 186                      & 175                      & Ruch Chorzów             & 280                     \\\\\n",
       "\t  2                       & 1773                     & 153                      & 157                      & 137                      & Oud-Heverlee Leuven      & 126                     \\\\\n",
       "\t  3                       & 1957                     & 158                      & 163                      & 210                      & Jagiellonia Bialystok    & 287                     \\\\\n",
       "\t  4                       & 2033                     & 147                      & 165                      & 155                      & S.C. Olhanense           & 138                     \\\\\n",
       "\t  5                       & 2182                     & 176                      & 196                      & 160                      & Lech Poznan              & 372                     \\\\\n",
       "\t  6                       & 2183                     &  NA                      & 180                      & 175                      & P. Warszawa              & 184                     \\\\\n",
       "\t  7                       & 2186                     & 125                      & 168                      & 205                      & Cracovia                 & 235                     \\\\\n",
       "\t  8                       & 4087                     & 156                      & 180                      & 165                      & Évian Thonon Gaillard FC & 180                     \\\\\n",
       "\t  9                       & 4170                     &  NA                      & 165                      & 200                      & US Boulogne Cote D'Opale &  31                     \\\\\n",
       "\t 10                       & 6269                     & 179                      & 172                      & 151                      & Novara                   &  34                     \\\\\n",
       "\t 11                       & 6351                     &  NA                      & 160                      & 155                      & KAS Eupen                &  28                     \\\\\n",
       "\t 12                       & 6391                     & 153                      & 179                      & 146                      & GFC Ajaccio              &  37                     \\\\\n",
       "\t 13                       & 6403                     & 142                      & 170                      & 150                      & FC Paços de Ferreira     & 292                     \\\\\n",
       "\t 14                       & 6413                     & 137                      & 165                      & 181                      & PEC Zwolle               & 204                     \\\\\n",
       "\t 15                       & 6421                     &  NA                      & 165                      &  90                      & Leixões SC               &  55                     \\\\\n",
       "\t 16                       & 6433                     & 160                      & 132                      & 141                      & Go Ahead Eagles          &  74                     \\\\\n",
       "\t 17                       & 6493                     &  NA                      & 175                      & 150                      & AC Bellinzona            & 128                     \\\\\n",
       "\t 18                       & 6547                     & 147                      & 146                      & 121                      & FC Penafiel              &  29                     \\\\\n",
       "\t 19                       & 6631                     & 134                      & 176                      & 164                      & FC Dordrecht             &  24                     \\\\\n",
       "\t 20                       & 7730                     & 141                      & 164                      & 165                      & FC Lausanne-Sports       &  99                     \\\\\n",
       "\t 21                       & 7788                     & 136                      & 159                      & 138                      & SC Cambuur               & 119                     \\\\\n",
       "\t 22                       & 7794                     & 174                      & 156                      & 210                      & SC Bastia                & 165                     \\\\\n",
       "\t 23                       & 7819                     & 157                      & 165                      & 205                      & SM Caen                  & 220                     \\\\\n",
       "\t 24                       & 7841                     & 157                      & 180                      & 153                      & Rio Ave FC               & 248                     \\\\\n",
       "\t 25                       & 7842                     & 174                      & 139                      & 150                      & Estoril Praia            & 167                     \\\\\n",
       "\t 26                       & 7844                     & 131                      & 179                      & 177                      & Vitória Guimarães        & 300                     \\\\\n",
       "\t 27                       & 7869                     & 146                      & 171                      & 129                      & Córdoba CF               &  22                     \\\\\n",
       "\t 28                       & 7878                     & 166                      & 200                      & 170                      & Granada CF               & 179                     \\\\\n",
       "\t 29                       & 7943                     & 188                      & 186                      & 138                      & Sassuolo                 & 141                     \\\\\n",
       "\t 30                       & 7955                     &  NA                      & 190                      & 150                      & Neuchâtel Xamax          & 171                     \\\\\n",
       "\t ... & ... & ... & ... & ... & ... & ...\\\\\n",
       "\t 259                     &  10211                  &  NA                     & 165                     & 155                     & SC Beira Mar            &  93                    \\\\\n",
       "\t 260                     &  10212                  & 182                     & 186                     & 144                     & CS Marítimo             & 316                    \\\\\n",
       "\t 261                     &  10214                  & 167                     & 165                     & 156                     & CD Nacional             & 332                    \\\\\n",
       "\t 262                     &  10215                  & 150                     & 172                     & 151                     & Académica de Coimbra    & 240                    \\\\\n",
       "\t 263                     &  10217                  & 162                     & 181                     & 173                     & ADO Den Haag            & 366                    \\\\\n",
       "\t 264                     &  10218                  & 163                     & 162                     & 106                     & Excelsior               & 154                    \\\\\n",
       "\t 265                     &  10219                  & 142                     & 159                     & 150                     & RKC Waalwijk            & 153                    \\\\\n",
       "\t 266                     &  10228                  & 150                     & 171                     & 183                     & SC Heerenveen           & 470                    \\\\\n",
       "\t 267                     &  10229                  & 154                     & 185                     & 184                     & AZ                      & 492                    \\\\\n",
       "\t 268                     &  10233                  & 184                     & 182                     & 154                     & Genoa                   & 392                    \\\\\n",
       "\t 269                     &  10235                  & 154                     & 165                     & 160                     & Feyenoord               & 489                    \\\\\n",
       "\t 270                     &  10238                  & 149                     & 165                     & 140                     & Vitória Setúbal         & 238                    \\\\\n",
       "\t 271                     &  10242                  & 148                     & 150                     & 140                     & ES Troyes AC            &  71                    \\\\\n",
       "\t 272                     &  10243                  & 157                     & 165                     & 163                     & FC Zürich               & 468                    \\\\\n",
       "\t 273                     &  10249                  & 162                     & 160                     & 210                     & Montpellier Hérault SC  & 344                    \\\\\n",
       "\t 274                     &  10251                  & 148                     & 200                     & 200                     & Hibernian               & 259                    \\\\\n",
       "\t 275                     &  10252                  & 170                     & 185                     & 145                     & Aston Villa             & 335                    \\\\\n",
       "\t 276                     &  10260                  & 134                     & 200                     & 163                     & Manchester United       & 582                    \\\\\n",
       "\t 277                     &  10261                  & 152                     & 195                     & 161                     & Newcastle United        & 324                    \\\\\n",
       "\t 278                     &  10264                  & 145                     & 166                     & 150                     & SC Braga                & 398                    \\\\\n",
       "\t 279                     &  10265                  & 135                     & 183                     & 205                     & Wisla Kraków            & 332                    \\\\\n",
       "\t 280                     &  10267                  & 116                     & 185                     & 175                     & Valencia CF             & 484                    \\\\\n",
       "\t 281                     &  10268                  & 171                     & 165                     & 158                     & Elche CF                &  65                    \\\\\n",
       "\t 282                     &  10269                  & 168                     & 200                     & 175                     & VfB Stuttgart           & 415                    \\\\\n",
       "\t 283                     &  10278                  & 154                     & 178                     & 160                     & Hércules Club de Fútbol &  36                    \\\\\n",
       "\t 284                     &  10281                  & 153                     & 172                     & 161                     & Real Valladolid         & 170                    \\\\\n",
       "\t 285                     & 108893                  & 156                     & 141                     & 158                     & AC Arles-Avignon        &  21                    \\\\\n",
       "\t 286                     & 158085                  & 174                     & 160                     & 113                     & FC Arouca               & 101                    \\\\\n",
       "\t 287                     & 208931                  & 190                     & 160                     & 141                     & Carpi                   &  37                    \\\\\n",
       "\t 288                     & 274581                  & 150                     & 150                     & 140                     & Royal Excel Mouscron    &  71                    \\\\\n",
       "\\end{tabular}\n"
      ],
      "text/markdown": [
       "\n",
       "X | team_api_id | buildupPlay | chanceCreation | defence | team_name | no_goals | \n",
       "|---|---|---|---|---|---|---|---|---|---|---|---|---|---|---|---|---|---|---|---|---|---|---|---|---|---|---|---|---|---|---|---|---|---|---|---|---|---|---|---|---|---|---|---|---|---|---|---|---|---|---|---|---|---|---|---|---|---|---|---|---|\n",
       "|  1                       | 1601                     | 139                      | 186                      | 175                      | Ruch Chorzów             | 280                      | \n",
       "|  2                       | 1773                     | 153                      | 157                      | 137                      | Oud-Heverlee Leuven      | 126                      | \n",
       "|  3                       | 1957                     | 158                      | 163                      | 210                      | Jagiellonia Bialystok    | 287                      | \n",
       "|  4                       | 2033                     | 147                      | 165                      | 155                      | S.C. Olhanense           | 138                      | \n",
       "|  5                       | 2182                     | 176                      | 196                      | 160                      | Lech Poznan              | 372                      | \n",
       "|  6                       | 2183                     |  NA                      | 180                      | 175                      | P. Warszawa              | 184                      | \n",
       "|  7                       | 2186                     | 125                      | 168                      | 205                      | Cracovia                 | 235                      | \n",
       "|  8                       | 4087                     | 156                      | 180                      | 165                      | Évian Thonon Gaillard FC | 180                      | \n",
       "|  9                       | 4170                     |  NA                      | 165                      | 200                      | US Boulogne Cote D'Opale |  31                      | \n",
       "| 10                       | 6269                     | 179                      | 172                      | 151                      | Novara                   |  34                      | \n",
       "| 11                       | 6351                     |  NA                      | 160                      | 155                      | KAS Eupen                |  28                      | \n",
       "| 12                       | 6391                     | 153                      | 179                      | 146                      | GFC Ajaccio              |  37                      | \n",
       "| 13                       | 6403                     | 142                      | 170                      | 150                      | FC Paços de Ferreira     | 292                      | \n",
       "| 14                       | 6413                     | 137                      | 165                      | 181                      | PEC Zwolle               | 204                      | \n",
       "| 15                       | 6421                     |  NA                      | 165                      |  90                      | Leixões SC               |  55                      | \n",
       "| 16                       | 6433                     | 160                      | 132                      | 141                      | Go Ahead Eagles          |  74                      | \n",
       "| 17                       | 6493                     |  NA                      | 175                      | 150                      | AC Bellinzona            | 128                      | \n",
       "| 18                       | 6547                     | 147                      | 146                      | 121                      | FC Penafiel              |  29                      | \n",
       "| 19                       | 6631                     | 134                      | 176                      | 164                      | FC Dordrecht             |  24                      | \n",
       "| 20                       | 7730                     | 141                      | 164                      | 165                      | FC Lausanne-Sports       |  99                      | \n",
       "| 21                       | 7788                     | 136                      | 159                      | 138                      | SC Cambuur               | 119                      | \n",
       "| 22                       | 7794                     | 174                      | 156                      | 210                      | SC Bastia                | 165                      | \n",
       "| 23                       | 7819                     | 157                      | 165                      | 205                      | SM Caen                  | 220                      | \n",
       "| 24                       | 7841                     | 157                      | 180                      | 153                      | Rio Ave FC               | 248                      | \n",
       "| 25                       | 7842                     | 174                      | 139                      | 150                      | Estoril Praia            | 167                      | \n",
       "| 26                       | 7844                     | 131                      | 179                      | 177                      | Vitória Guimarães        | 300                      | \n",
       "| 27                       | 7869                     | 146                      | 171                      | 129                      | Córdoba CF               |  22                      | \n",
       "| 28                       | 7878                     | 166                      | 200                      | 170                      | Granada CF               | 179                      | \n",
       "| 29                       | 7943                     | 188                      | 186                      | 138                      | Sassuolo                 | 141                      | \n",
       "| 30                       | 7955                     |  NA                      | 190                      | 150                      | Neuchâtel Xamax          | 171                      | \n",
       "| ... | ... | ... | ... | ... | ... | ... | \n",
       "| 259                     |  10211                  |  NA                     | 165                     | 155                     | SC Beira Mar            |  93                     | \n",
       "| 260                     |  10212                  | 182                     | 186                     | 144                     | CS Marítimo             | 316                     | \n",
       "| 261                     |  10214                  | 167                     | 165                     | 156                     | CD Nacional             | 332                     | \n",
       "| 262                     |  10215                  | 150                     | 172                     | 151                     | Académica de Coimbra    | 240                     | \n",
       "| 263                     |  10217                  | 162                     | 181                     | 173                     | ADO Den Haag            | 366                     | \n",
       "| 264                     |  10218                  | 163                     | 162                     | 106                     | Excelsior               | 154                     | \n",
       "| 265                     |  10219                  | 142                     | 159                     | 150                     | RKC Waalwijk            | 153                     | \n",
       "| 266                     |  10228                  | 150                     | 171                     | 183                     | SC Heerenveen           | 470                     | \n",
       "| 267                     |  10229                  | 154                     | 185                     | 184                     | AZ                      | 492                     | \n",
       "| 268                     |  10233                  | 184                     | 182                     | 154                     | Genoa                   | 392                     | \n",
       "| 269                     |  10235                  | 154                     | 165                     | 160                     | Feyenoord               | 489                     | \n",
       "| 270                     |  10238                  | 149                     | 165                     | 140                     | Vitória Setúbal         | 238                     | \n",
       "| 271                     |  10242                  | 148                     | 150                     | 140                     | ES Troyes AC            |  71                     | \n",
       "| 272                     |  10243                  | 157                     | 165                     | 163                     | FC Zürich               | 468                     | \n",
       "| 273                     |  10249                  | 162                     | 160                     | 210                     | Montpellier Hérault SC  | 344                     | \n",
       "| 274                     |  10251                  | 148                     | 200                     | 200                     | Hibernian               | 259                     | \n",
       "| 275                     |  10252                  | 170                     | 185                     | 145                     | Aston Villa             | 335                     | \n",
       "| 276                     |  10260                  | 134                     | 200                     | 163                     | Manchester United       | 582                     | \n",
       "| 277                     |  10261                  | 152                     | 195                     | 161                     | Newcastle United        | 324                     | \n",
       "| 278                     |  10264                  | 145                     | 166                     | 150                     | SC Braga                | 398                     | \n",
       "| 279                     |  10265                  | 135                     | 183                     | 205                     | Wisla Kraków            | 332                     | \n",
       "| 280                     |  10267                  | 116                     | 185                     | 175                     | Valencia CF             | 484                     | \n",
       "| 281                     |  10268                  | 171                     | 165                     | 158                     | Elche CF                |  65                     | \n",
       "| 282                     |  10269                  | 168                     | 200                     | 175                     | VfB Stuttgart           | 415                     | \n",
       "| 283                     |  10278                  | 154                     | 178                     | 160                     | Hércules Club de Fútbol |  36                     | \n",
       "| 284                     |  10281                  | 153                     | 172                     | 161                     | Real Valladolid         | 170                     | \n",
       "| 285                     | 108893                  | 156                     | 141                     | 158                     | AC Arles-Avignon        |  21                     | \n",
       "| 286                     | 158085                  | 174                     | 160                     | 113                     | FC Arouca               | 101                     | \n",
       "| 287                     | 208931                  | 190                     | 160                     | 141                     | Carpi                   |  37                     | \n",
       "| 288                     | 274581                  | 150                     | 150                     | 140                     | Royal Excel Mouscron    |  71                     | \n",
       "\n",
       "\n"
      ],
      "text/plain": [
       "    X   team_api_id buildupPlay chanceCreation defence team_name               \n",
       "1    1  1601        139         186            175     Ruch Chorzów            \n",
       "2    2  1773        153         157            137     Oud-Heverlee Leuven     \n",
       "3    3  1957        158         163            210     Jagiellonia Bialystok   \n",
       "4    4  2033        147         165            155     S.C. Olhanense          \n",
       "5    5  2182        176         196            160     Lech Poznan             \n",
       "6    6  2183         NA         180            175     P. Warszawa             \n",
       "7    7  2186        125         168            205     Cracovia                \n",
       "8    8  4087        156         180            165     Évian Thonon Gaillard FC\n",
       "9    9  4170         NA         165            200     US Boulogne Cote D'Opale\n",
       "10  10  6269        179         172            151     Novara                  \n",
       "11  11  6351         NA         160            155     KAS Eupen               \n",
       "12  12  6391        153         179            146     GFC Ajaccio             \n",
       "13  13  6403        142         170            150     FC Paços de Ferreira    \n",
       "14  14  6413        137         165            181     PEC Zwolle              \n",
       "15  15  6421         NA         165             90     Leixões SC              \n",
       "16  16  6433        160         132            141     Go Ahead Eagles         \n",
       "17  17  6493         NA         175            150     AC Bellinzona           \n",
       "18  18  6547        147         146            121     FC Penafiel             \n",
       "19  19  6631        134         176            164     FC Dordrecht            \n",
       "20  20  7730        141         164            165     FC Lausanne-Sports      \n",
       "21  21  7788        136         159            138     SC Cambuur              \n",
       "22  22  7794        174         156            210     SC Bastia               \n",
       "23  23  7819        157         165            205     SM Caen                 \n",
       "24  24  7841        157         180            153     Rio Ave FC              \n",
       "25  25  7842        174         139            150     Estoril Praia           \n",
       "26  26  7844        131         179            177     Vitória Guimarães       \n",
       "27  27  7869        146         171            129     Córdoba CF              \n",
       "28  28  7878        166         200            170     Granada CF              \n",
       "29  29  7943        188         186            138     Sassuolo                \n",
       "30  30  7955         NA         190            150     Neuchâtel Xamax         \n",
       "... ... ...         ...         ...            ...     ...                     \n",
       "259 259  10211       NA         165            155     SC Beira Mar            \n",
       "260 260  10212      182         186            144     CS Marítimo             \n",
       "261 261  10214      167         165            156     CD Nacional             \n",
       "262 262  10215      150         172            151     Académica de Coimbra    \n",
       "263 263  10217      162         181            173     ADO Den Haag            \n",
       "264 264  10218      163         162            106     Excelsior               \n",
       "265 265  10219      142         159            150     RKC Waalwijk            \n",
       "266 266  10228      150         171            183     SC Heerenveen           \n",
       "267 267  10229      154         185            184     AZ                      \n",
       "268 268  10233      184         182            154     Genoa                   \n",
       "269 269  10235      154         165            160     Feyenoord               \n",
       "270 270  10238      149         165            140     Vitória Setúbal         \n",
       "271 271  10242      148         150            140     ES Troyes AC            \n",
       "272 272  10243      157         165            163     FC Zürich               \n",
       "273 273  10249      162         160            210     Montpellier Hérault SC  \n",
       "274 274  10251      148         200            200     Hibernian               \n",
       "275 275  10252      170         185            145     Aston Villa             \n",
       "276 276  10260      134         200            163     Manchester United       \n",
       "277 277  10261      152         195            161     Newcastle United        \n",
       "278 278  10264      145         166            150     SC Braga                \n",
       "279 279  10265      135         183            205     Wisla Kraków            \n",
       "280 280  10267      116         185            175     Valencia CF             \n",
       "281 281  10268      171         165            158     Elche CF                \n",
       "282 282  10269      168         200            175     VfB Stuttgart           \n",
       "283 283  10278      154         178            160     Hércules Club de Fútbol \n",
       "284 284  10281      153         172            161     Real Valladolid         \n",
       "285 285 108893      156         141            158     AC Arles-Avignon        \n",
       "286 286 158085      174         160            113     FC Arouca               \n",
       "287 287 208931      190         160            141     Carpi                   \n",
       "288 288 274581      150         150            140     Royal Excel Mouscron    \n",
       "    no_goals\n",
       "1   280     \n",
       "2   126     \n",
       "3   287     \n",
       "4   138     \n",
       "5   372     \n",
       "6   184     \n",
       "7   235     \n",
       "8   180     \n",
       "9    31     \n",
       "10   34     \n",
       "11   28     \n",
       "12   37     \n",
       "13  292     \n",
       "14  204     \n",
       "15   55     \n",
       "16   74     \n",
       "17  128     \n",
       "18   29     \n",
       "19   24     \n",
       "20   99     \n",
       "21  119     \n",
       "22  165     \n",
       "23  220     \n",
       "24  248     \n",
       "25  167     \n",
       "26  300     \n",
       "27   22     \n",
       "28  179     \n",
       "29  141     \n",
       "30  171     \n",
       "... ...     \n",
       "259  93     \n",
       "260 316     \n",
       "261 332     \n",
       "262 240     \n",
       "263 366     \n",
       "264 154     \n",
       "265 153     \n",
       "266 470     \n",
       "267 492     \n",
       "268 392     \n",
       "269 489     \n",
       "270 238     \n",
       "271  71     \n",
       "272 468     \n",
       "273 344     \n",
       "274 259     \n",
       "275 335     \n",
       "276 582     \n",
       "277 324     \n",
       "278 398     \n",
       "279 332     \n",
       "280 484     \n",
       "281  65     \n",
       "282 415     \n",
       "283  36     \n",
       "284 170     \n",
       "285  21     \n",
       "286 101     \n",
       "287  37     \n",
       "288  71     "
      ]
     },
     "metadata": {},
     "output_type": "display_data"
    }
   ],
   "source": [
    "teams"
   ]
  },
  {
   "cell_type": "code",
   "execution_count": 8,
   "metadata": {
    "collapsed": false
   },
   "outputs": [
    {
     "ename": "ERROR",
     "evalue": "Error in order(overall_rating): object 'overall_rating' not found\n",
     "output_type": "error",
     "traceback": [
      "Error in order(overall_rating): object 'overall_rating' not found\nTraceback:\n",
      "1. players[order(overall_rating)]",
      "2. `[.data.frame`(players, order(overall_rating))",
      "3. order(overall_rating)"
     ]
    }
   ],
   "source": [
    "p1 <- players[order(overall_rating)]"
   ]
  },
  {
   "cell_type": "code",
   "execution_count": null,
   "metadata": {
    "collapsed": true
   },
   "outputs": [],
   "source": [
    "players <- data.frame(players)"
   ]
  },
  {
   "cell_type": "code",
   "execution_count": null,
   "metadata": {
    "collapsed": false
   },
   "outputs": [],
   "source": [
    "p1 <- players[order(overall_rating)]"
   ]
  },
  {
   "cell_type": "code",
   "execution_count": null,
   "metadata": {
    "collapsed": false
   },
   "outputs": [],
   "source": [
    "players"
   ]
  },
  {
   "cell_type": "code",
   "execution_count": null,
   "metadata": {
    "collapsed": true
   },
   "outputs": [],
   "source": [
    "attach(players)"
   ]
  },
  {
   "cell_type": "code",
   "execution_count": null,
   "metadata": {
    "collapsed": true
   },
   "outputs": [],
   "source": [
    "p1 <- players[order(overall_rating),]"
   ]
  },
  {
   "cell_type": "code",
   "execution_count": null,
   "metadata": {
    "collapsed": false
   },
   "outputs": [],
   "source": [
    "p1"
   ]
  },
  {
   "cell_type": "code",
   "execution_count": null,
   "metadata": {
    "collapsed": true
   },
   "outputs": [],
   "source": [
    "p1 <- players[order(-overall_rating),]"
   ]
  },
  {
   "cell_type": "code",
   "execution_count": null,
   "metadata": {
    "collapsed": false
   },
   "outputs": [],
   "source": [
    "p1"
   ]
  },
  {
   "cell_type": "code",
   "execution_count": null,
   "metadata": {
    "collapsed": false
   },
   "outputs": [],
   "source": [
    "a1 <- head(p1,n=10)"
   ]
  },
  {
   "cell_type": "code",
   "execution_count": null,
   "metadata": {
    "collapsed": true
   },
   "outputs": [],
   "source": [
    "player_id <- a1$player_api_id\n",
    "player_name <- a1$player_name\n",
    "overall_rating <- a1$overall_rating\n",
    "que1 <- data.frame(player_id,player_name,overall_rating)"
   ]
  },
  {
   "cell_type": "code",
   "execution_count": null,
   "metadata": {
    "collapsed": false
   },
   "outputs": [],
   "source": [
    "que1"
   ]
  },
  {
   "cell_type": "code",
   "execution_count": null,
   "metadata": {
    "collapsed": true
   },
   "outputs": [],
   "source": [
    "p2 <- players[order(-gk_rating),]"
   ]
  },
  {
   "cell_type": "code",
   "execution_count": null,
   "metadata": {
    "collapsed": false
   },
   "outputs": [],
   "source": [
    "p2"
   ]
  },
  {
   "cell_type": "code",
   "execution_count": null,
   "metadata": {
    "collapsed": true
   },
   "outputs": [],
   "source": [
    "a2 <- head(p2,n=10)"
   ]
  },
  {
   "cell_type": "code",
   "execution_count": null,
   "metadata": {
    "collapsed": false
   },
   "outputs": [],
   "source": [
    "a2"
   ]
  },
  {
   "cell_type": "code",
   "execution_count": null,
   "metadata": {
    "collapsed": true
   },
   "outputs": [],
   "source": [
    "player_id <- a2$player_api_id\n",
    "player_name <- a2$player_name\n",
    "gk_rating <- a2$gk_rating\n",
    "que2 <- data.frame(player_id,player_name,gk_rating)"
   ]
  },
  {
   "cell_type": "code",
   "execution_count": null,
   "metadata": {
    "collapsed": false
   },
   "outputs": [],
   "source": [
    "que2"
   ]
  },
  {
   "cell_type": "code",
   "execution_count": null,
   "metadata": {
    "collapsed": false
   },
   "outputs": [],
   "source": [
    "p3 <- players[order(-no_appearances),]"
   ]
  },
  {
   "cell_type": "code",
   "execution_count": null,
   "metadata": {
    "collapsed": false
   },
   "outputs": [],
   "source": [
    "p3"
   ]
  },
  {
   "cell_type": "code",
   "execution_count": null,
   "metadata": {
    "collapsed": true
   },
   "outputs": [],
   "source": [
    "a3 <- head(p3,n=10)"
   ]
  },
  {
   "cell_type": "code",
   "execution_count": null,
   "metadata": {
    "collapsed": false
   },
   "outputs": [],
   "source": [
    "a3"
   ]
  },
  {
   "cell_type": "code",
   "execution_count": null,
   "metadata": {
    "collapsed": true
   },
   "outputs": [],
   "source": [
    "player_id <- a3$player_api_id\n",
    "player_name <- a3$player_name\n",
    "no_appearances <- a3$no_appearances\n",
    "que3 <- data.frame(player_id,player_name,no_appearances)"
   ]
  },
  {
   "cell_type": "code",
   "execution_count": null,
   "metadata": {
    "collapsed": false
   },
   "outputs": [],
   "source": [
    "que3"
   ]
  },
  {
   "cell_type": "code",
   "execution_count": null,
   "metadata": {
    "collapsed": true
   },
   "outputs": [],
   "source": [
    "p4 <- players[order(-no_of_leagues),]"
   ]
  },
  {
   "cell_type": "code",
   "execution_count": null,
   "metadata": {
    "collapsed": false
   },
   "outputs": [],
   "source": [
    "p4"
   ]
  },
  {
   "cell_type": "code",
   "execution_count": null,
   "metadata": {
    "collapsed": false
   },
   "outputs": [],
   "source": [
    "a4 <- head(p4,n=10)\n",
    "a4"
   ]
  },
  {
   "cell_type": "code",
   "execution_count": null,
   "metadata": {
    "collapsed": true
   },
   "outputs": [],
   "source": [
    "player_id <- a4$player_api_id\n",
    "player_name <- a4$player_name\n",
    "no_of_leagues <- a4$no_of_leagues\n",
    "que4 <- data.frame(player_id,player_name,no_of_leagues)"
   ]
  },
  {
   "cell_type": "code",
   "execution_count": null,
   "metadata": {
    "collapsed": false
   },
   "outputs": [],
   "source": [
    "que4"
   ]
  },
  {
   "cell_type": "code",
   "execution_count": null,
   "metadata": {
    "collapsed": false
   },
   "outputs": [],
   "source": [
    "teams"
   ]
  },
  {
   "cell_type": "code",
   "execution_count": null,
   "metadata": {
    "collapsed": false
   },
   "outputs": [],
   "source": [
    "t1 <- teams[order(-buildupPlay),]\n",
    "t1"
   ]
  },
  {
   "cell_type": "code",
   "execution_count": null,
   "metadata": {
    "collapsed": false
   },
   "outputs": [],
   "source": [
    "attach(teams)"
   ]
  },
  {
   "cell_type": "code",
   "execution_count": null,
   "metadata": {
    "collapsed": false
   },
   "outputs": [],
   "source": [
    "t1 <- teams[order(-buildupPlay),]\n",
    "t1"
   ]
  },
  {
   "cell_type": "code",
   "execution_count": null,
   "metadata": {
    "collapsed": false
   },
   "outputs": [],
   "source": [
    "b1 <- head(t1,n=10)\n",
    "b1"
   ]
  },
  {
   "cell_type": "code",
   "execution_count": null,
   "metadata": {
    "collapsed": true
   },
   "outputs": [],
   "source": [
    "team_id <- b1$team_api_id\n",
    "team_name <- b1$team_name\n",
    "buildupPlay <- b1$buildupPlay\n",
    "que5 <- data.frame(team_id,team_name,buildupPlay)"
   ]
  },
  {
   "cell_type": "code",
   "execution_count": null,
   "metadata": {
    "collapsed": false
   },
   "outputs": [],
   "source": [
    "que5"
   ]
  },
  {
   "cell_type": "code",
   "execution_count": null,
   "metadata": {
    "collapsed": false
   },
   "outputs": [],
   "source": [
    "t2 <- teams[order(-chanceCreation),]\n",
    "t2"
   ]
  },
  {
   "cell_type": "code",
   "execution_count": null,
   "metadata": {
    "collapsed": false
   },
   "outputs": [],
   "source": [
    "b2 <- head(t2, n=10)\n",
    "b2"
   ]
  },
  {
   "cell_type": "code",
   "execution_count": null,
   "metadata": {
    "collapsed": true
   },
   "outputs": [],
   "source": [
    "team_id <- b2$team_api_id\n",
    "team_name <- b2$team_name\n",
    "chanceCreation <- b2$chanceCreation\n",
    "que6 <- data.frame(team_id,team_name,chanceCreation)"
   ]
  },
  {
   "cell_type": "code",
   "execution_count": null,
   "metadata": {
    "collapsed": false
   },
   "outputs": [],
   "source": [
    "que6"
   ]
  },
  {
   "cell_type": "code",
   "execution_count": null,
   "metadata": {
    "collapsed": false
   },
   "outputs": [],
   "source": [
    "t3 <- teams[order(-defence),]\n",
    "t3"
   ]
  },
  {
   "cell_type": "code",
   "execution_count": null,
   "metadata": {
    "collapsed": false
   },
   "outputs": [],
   "source": [
    "b3 <- head(t3,n=10)\n",
    "b3"
   ]
  },
  {
   "cell_type": "code",
   "execution_count": null,
   "metadata": {
    "collapsed": false
   },
   "outputs": [],
   "source": [
    "team_id <- b3$team_api_id\n",
    "team_name <- b3$team_name\n",
    "defence <- b3$defence\n",
    "que7 <- data.frame(team_id,team_name,defence)\n",
    "que7"
   ]
  },
  {
   "cell_type": "code",
   "execution_count": null,
   "metadata": {
    "collapsed": false
   },
   "outputs": [],
   "source": [
    "t4 <- teams[order(-no_goals),]\n",
    "t4"
   ]
  },
  {
   "cell_type": "code",
   "execution_count": null,
   "metadata": {
    "collapsed": false
   },
   "outputs": [],
   "source": [
    "b4 <- head(t4,n=10)\n",
    "b4"
   ]
  },
  {
   "cell_type": "code",
   "execution_count": null,
   "metadata": {
    "collapsed": false
   },
   "outputs": [],
   "source": [
    "team_id <- b4$team_api_id\n",
    "team_name <- b4$team_name\n",
    "defence <- b4$buildupPlay\n",
    "que8 <- data.frame(team_id,team_name,defence)\n",
    "que8"
   ]
  },
  {
   "cell_type": "code",
   "execution_count": null,
   "metadata": {
    "collapsed": false
   },
   "outputs": [],
   "source": [
    "ans1 <- que1$player_name\n",
    "print(\"Top 10 players by overall rating:\")\n",
    "ans1"
   ]
  },
  {
   "cell_type": "code",
   "execution_count": null,
   "metadata": {
    "collapsed": false
   },
   "outputs": [],
   "source": [
    "ans2 <- que2$player_name\n",
    "print(\"Top 10 players by gk rating:\")\n",
    "ans2"
   ]
  },
  {
   "cell_type": "code",
   "execution_count": null,
   "metadata": {
    "collapsed": false
   },
   "outputs": [],
   "source": [
    "ans3 <- que3$player_name\n",
    "print(\"Top 10 players by number of appearances:\")\n",
    "ans3"
   ]
  },
  {
   "cell_type": "code",
   "execution_count": null,
   "metadata": {
    "collapsed": false
   },
   "outputs": [],
   "source": [
    "ans4 <- que4$player_name\n",
    "print(\"Top 10 players by number of leagues they played in:\")\n",
    "ans4"
   ]
  },
  {
   "cell_type": "code",
   "execution_count": null,
   "metadata": {
    "collapsed": false
   },
   "outputs": [],
   "source": [
    "ans5 <- que5$team_name\n",
    "print(\"Top 10 teams by sum of buildupPlay attributes:\")\n",
    "ans5"
   ]
  },
  {
   "cell_type": "markdown",
   "metadata": {},
   "source": [
    "###### "
   ]
  },
  {
   "cell_type": "code",
   "execution_count": null,
   "metadata": {
    "collapsed": false
   },
   "outputs": [],
   "source": [
    "ans6 <- que6$team_name\n",
    "print(\"Top 10 teams by sum of chanceCreation attributes:\")\n",
    "ans6"
   ]
  },
  {
   "cell_type": "code",
   "execution_count": null,
   "metadata": {
    "collapsed": false
   },
   "outputs": [],
   "source": [
    "ans7 <- que7$team_name\n",
    "print(\"Top 10 teams by sum of defence attributes:\")\n",
    "ans7"
   ]
  },
  {
   "cell_type": "code",
   "execution_count": null,
   "metadata": {
    "collapsed": false
   },
   "outputs": [],
   "source": [
    "ans8 <- que8$team_name\n",
    "print(\"Top 10 teams by number of scored goals:\")\n",
    "ans8"
   ]
  },
  {
   "cell_type": "code",
   "execution_count": null,
   "metadata": {
    "collapsed": true
   },
   "outputs": [],
   "source": []
  }
 ],
 "metadata": {
  "kernelspec": {
   "display_name": "R",
   "language": "R",
   "name": "ir"
  },
  "language_info": {
   "codemirror_mode": "r",
   "file_extension": ".r",
   "mimetype": "text/x-r-source",
   "name": "R",
   "pygments_lexer": "r",
   "version": "3.3.2"
  }
 },
 "nbformat": 4,
 "nbformat_minor": 2
}
