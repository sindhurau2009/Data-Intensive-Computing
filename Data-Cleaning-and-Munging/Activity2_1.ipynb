{
 "cells": [
  {
   "cell_type": "code",
   "execution_count": 97,
   "metadata": {
    "collapsed": true
   },
   "outputs": [],
   "source": [
    "library('twitteR')"
   ]
  },
  {
   "cell_type": "code",
   "execution_count": 98,
   "metadata": {
    "collapsed": false
   },
   "outputs": [
    {
     "name": "stdout",
     "output_type": "stream",
     "text": [
      "[1] \"Using direct authentication\"\n"
     ]
    }
   ],
   "source": [
    "setup_twitter_oauth(\"dIOk7Zoe1ggv1nt9DUz7mf5l2\",\"AfgmA3uH7HrLYJWdBagvkMaHJutCtVq7l5U3PLc1DfMR8pNNZH\",\"774008633948594176-UKdDUoFOmKZfDG5kzGXRvC7KWDBbQLx\",\"p0ylTSARIap5FxDzuFraPQxVQmswEEv40cOQcxg7bp2wd\")"
   ]
  },
  {
   "cell_type": "code",
   "execution_count": 99,
   "metadata": {
    "collapsed": false
   },
   "outputs": [],
   "source": [
    "library('dplyr')"
   ]
  },
  {
   "cell_type": "code",
   "execution_count": 100,
   "metadata": {
    "collapsed": true
   },
   "outputs": [],
   "source": [
    "library('RSQLite')"
   ]
  },
  {
   "cell_type": "code",
   "execution_count": 101,
   "metadata": {
    "collapsed": false
   },
   "outputs": [],
   "source": [
    "library('sqldf')"
   ]
  },
  {
   "cell_type": "code",
   "execution_count": 102,
   "metadata": {
    "collapsed": false
   },
   "outputs": [
    {
     "ename": "ERROR",
     "evalue": "Error in (function (classes, fdef, mtable) : unable to find an inherited method for function 'dbConnect' for signature '\"character\"'\n",
     "output_type": "error",
     "traceback": [
      "Error in (function (classes, fdef, mtable) : unable to find an inherited method for function 'dbConnect' for signature '\"character\"'\nTraceback:\n",
      "1. dbConnect(drv = \"SQLite\", dbname = \"database.sqlite\")",
      "2. (function (classes, fdef, mtable) \n . {\n .     methods <- .findInheritedMethods(classes, fdef, mtable)\n .     if (length(methods) == 1L) \n .         return(methods[[1L]])\n .     else if (length(methods) == 0L) {\n .         cnames <- paste0(\"\\\"\", vapply(classes, as.character, \n .             \"\"), \"\\\"\", collapse = \", \")\n .         stop(gettextf(\"unable to find an inherited method for function %s for signature %s\", \n .             sQuote(fdef@generic), sQuote(cnames)), domain = NA)\n .     }\n .     else stop(\"Internal error in finding inherited methods; didn't return a unique method\", \n .         domain = NA)\n . })(list(\"character\"), structure(function (drv, ...) \n . {\n .     ans <- standardGeneric(\"dbConnect\")\n .     .valueClassTest(ans, \"DBIConnection\", \"dbConnect\")\n . }, generic = structure(\"dbConnect\", package = \"DBI\"), package = \"DBI\", group = list(), valueClass = \"DBIConnection\", signature = \"drv\", default = `\\001NULL\\001`, skeleton = (function (drv, \n .     ...) \n . stop(\"invalid call in method dispatch to 'dbConnect' (no default method)\", \n .     domain = NA))(drv, ...), class = structure(\"standardGeneric\", package = \"methods\")), \n .     <environment>)",
      "3. stop(gettextf(\"unable to find an inherited method for function %s for signature %s\", \n .     sQuote(fdef@generic), sQuote(cnames)), domain = NA)"
     ]
    }
   ],
   "source": [
    "con = dbConnect(drv=\"SQLite\", dbname=\"database.sqlite\")"
   ]
  },
  {
   "cell_type": "code",
   "execution_count": 103,
   "metadata": {
    "collapsed": true
   },
   "outputs": [],
   "source": [
    "con <- dbConnect(drv=RSQLite::SQLite(), dbname=\"database.sqlite\")"
   ]
  },
  {
   "cell_type": "code",
   "execution_count": 104,
   "metadata": {
    "collapsed": true
   },
   "outputs": [],
   "source": [
    "tables <- dbListTables(con)"
   ]
  },
  {
   "cell_type": "code",
   "execution_count": 105,
   "metadata": {
    "collapsed": false
   },
   "outputs": [
    {
     "data": {
      "text/html": [
       "<ol class=list-inline>\n",
       "\t<li>'Country'</li>\n",
       "\t<li>'League'</li>\n",
       "\t<li>'Match'</li>\n",
       "\t<li>'Player'</li>\n",
       "\t<li>'Player_Attributes'</li>\n",
       "\t<li>'Team'</li>\n",
       "\t<li>'Team_Attributes'</li>\n",
       "\t<li>'sqlite_sequence'</li>\n",
       "</ol>\n"
      ],
      "text/latex": [
       "\\begin{enumerate*}\n",
       "\\item 'Country'\n",
       "\\item 'League'\n",
       "\\item 'Match'\n",
       "\\item 'Player'\n",
       "\\item 'Player\\_Attributes'\n",
       "\\item 'Team'\n",
       "\\item 'Team\\_Attributes'\n",
       "\\item 'sqlite\\_sequence'\n",
       "\\end{enumerate*}\n"
      ],
      "text/markdown": [
       "1. 'Country'\n",
       "2. 'League'\n",
       "3. 'Match'\n",
       "4. 'Player'\n",
       "5. 'Player_Attributes'\n",
       "6. 'Team'\n",
       "7. 'Team_Attributes'\n",
       "8. 'sqlite_sequence'\n",
       "\n",
       "\n"
      ],
      "text/plain": [
       "[1] \"Country\"           \"League\"            \"Match\"            \n",
       "[4] \"Player\"            \"Player_Attributes\" \"Team\"             \n",
       "[7] \"Team_Attributes\"   \"sqlite_sequence\"  "
      ]
     },
     "metadata": {},
     "output_type": "display_data"
    }
   ],
   "source": [
    "tables"
   ]
  },
  {
   "cell_type": "code",
   "execution_count": 106,
   "metadata": {
    "collapsed": true
   },
   "outputs": [],
   "source": [
    "tabs <- tables[tables != \"sqlite_sequence\"]"
   ]
  },
  {
   "cell_type": "code",
   "execution_count": 107,
   "metadata": {
    "collapsed": false
   },
   "outputs": [
    {
     "data": {
      "text/html": [
       "<ol class=list-inline>\n",
       "\t<li>'Country'</li>\n",
       "\t<li>'League'</li>\n",
       "\t<li>'Match'</li>\n",
       "\t<li>'Player'</li>\n",
       "\t<li>'Player_Attributes'</li>\n",
       "\t<li>'Team'</li>\n",
       "\t<li>'Team_Attributes'</li>\n",
       "</ol>\n"
      ],
      "text/latex": [
       "\\begin{enumerate*}\n",
       "\\item 'Country'\n",
       "\\item 'League'\n",
       "\\item 'Match'\n",
       "\\item 'Player'\n",
       "\\item 'Player\\_Attributes'\n",
       "\\item 'Team'\n",
       "\\item 'Team\\_Attributes'\n",
       "\\end{enumerate*}\n"
      ],
      "text/markdown": [
       "1. 'Country'\n",
       "2. 'League'\n",
       "3. 'Match'\n",
       "4. 'Player'\n",
       "5. 'Player_Attributes'\n",
       "6. 'Team'\n",
       "7. 'Team_Attributes'\n",
       "\n",
       "\n"
      ],
      "text/plain": [
       "[1] \"Country\"           \"League\"            \"Match\"            \n",
       "[4] \"Player\"            \"Player_Attributes\" \"Team\"             \n",
       "[7] \"Team_Attributes\"  "
      ]
     },
     "metadata": {},
     "output_type": "display_data"
    }
   ],
   "source": [
    "tabs"
   ]
  },
  {
   "cell_type": "code",
   "execution_count": 108,
   "metadata": {
    "collapsed": true
   },
   "outputs": [],
   "source": [
    "ldf <- vector(\"list\",length = length(tabs))"
   ]
  },
  {
   "cell_type": "code",
   "execution_count": 109,
   "metadata": {
    "collapsed": false
   },
   "outputs": [
    {
     "data": {
      "text/html": [
       "<ol>\n",
       "\t<li>NULL</li>\n",
       "\t<li>NULL</li>\n",
       "\t<li>NULL</li>\n",
       "\t<li>NULL</li>\n",
       "\t<li>NULL</li>\n",
       "\t<li>NULL</li>\n",
       "\t<li>NULL</li>\n",
       "</ol>\n"
      ],
      "text/latex": [
       "\\begin{enumerate}\n",
       "\\item NULL\n",
       "\\item NULL\n",
       "\\item NULL\n",
       "\\item NULL\n",
       "\\item NULL\n",
       "\\item NULL\n",
       "\\item NULL\n",
       "\\end{enumerate}\n"
      ],
      "text/markdown": [
       "1. NULL\n",
       "2. NULL\n",
       "3. NULL\n",
       "4. NULL\n",
       "5. NULL\n",
       "6. NULL\n",
       "7. NULL\n",
       "\n",
       "\n"
      ],
      "text/plain": [
       "[[1]]\n",
       "NULL\n",
       "\n",
       "[[2]]\n",
       "NULL\n",
       "\n",
       "[[3]]\n",
       "NULL\n",
       "\n",
       "[[4]]\n",
       "NULL\n",
       "\n",
       "[[5]]\n",
       "NULL\n",
       "\n",
       "[[6]]\n",
       "NULL\n",
       "\n",
       "[[7]]\n",
       "NULL\n"
      ]
     },
     "metadata": {},
     "output_type": "display_data"
    }
   ],
   "source": [
    "ldf"
   ]
  },
  {
   "cell_type": "code",
   "execution_count": 110,
   "metadata": {
    "collapsed": false
   },
   "outputs": [],
   "source": [
    "for (i in seq(along=tabs)) {\n",
    "  ldf[[i]] <- dbGetQuery(conn=con, statement=paste(\"SELECT * FROM '\", tabs[[i]], \"'\", sep=\"\"))\n",
    "}"
   ]
  },
  {
   "cell_type": "code",
   "execution_count": null,
   "metadata": {
    "collapsed": false
   },
   "outputs": [],
   "source": [
    "ldf"
   ]
  },
  {
   "cell_type": "code",
   "execution_count": null,
   "metadata": {
    "collapsed": true
   },
   "outputs": [],
   "source": [
    "ldf1 <- ldf[1]"
   ]
  },
  {
   "cell_type": "code",
   "execution_count": null,
   "metadata": {
    "collapsed": false
   },
   "outputs": [],
   "source": [
    "ldf1"
   ]
  },
  {
   "cell_type": "code",
   "execution_count": null,
   "metadata": {
    "collapsed": true
   },
   "outputs": [],
   "source": [
    "ldf2 <- ldf[2]"
   ]
  },
  {
   "cell_type": "code",
   "execution_count": null,
   "metadata": {
    "collapsed": false
   },
   "outputs": [],
   "source": [
    "ldf2"
   ]
  },
  {
   "cell_type": "code",
   "execution_count": null,
   "metadata": {
    "collapsed": true
   },
   "outputs": [],
   "source": [
    "ldf3 <- ldf[3]"
   ]
  },
  {
   "cell_type": "code",
   "execution_count": null,
   "metadata": {
    "collapsed": false
   },
   "outputs": [],
   "source": [
    "ldf3"
   ]
  },
  {
   "cell_type": "code",
   "execution_count": null,
   "metadata": {
    "collapsed": true
   },
   "outputs": [],
   "source": [
    "ldf4 <- ldf[4]"
   ]
  },
  {
   "cell_type": "code",
   "execution_count": null,
   "metadata": {
    "collapsed": false
   },
   "outputs": [],
   "source": [
    "ldf4"
   ]
  },
  {
   "cell_type": "code",
   "execution_count": null,
   "metadata": {
    "collapsed": true
   },
   "outputs": [],
   "source": [
    "ldf5 <- ldf[5]"
   ]
  },
  {
   "cell_type": "code",
   "execution_count": null,
   "metadata": {
    "collapsed": false
   },
   "outputs": [],
   "source": [
    "ldf5"
   ]
  },
  {
   "cell_type": "code",
   "execution_count": null,
   "metadata": {
    "collapsed": true
   },
   "outputs": [],
   "source": [
    "ldf6 <- ldf[6]"
   ]
  },
  {
   "cell_type": "code",
   "execution_count": null,
   "metadata": {
    "collapsed": false
   },
   "outputs": [],
   "source": [
    "ldf6"
   ]
  },
  {
   "cell_type": "code",
   "execution_count": null,
   "metadata": {
    "collapsed": true
   },
   "outputs": [],
   "source": [
    "ldf7 <- ldf[7]"
   ]
  },
  {
   "cell_type": "code",
   "execution_count": null,
   "metadata": {
    "collapsed": false
   },
   "outputs": [],
   "source": [
    "ldf7"
   ]
  },
  {
   "cell_type": "code",
   "execution_count": null,
   "metadata": {
    "collapsed": false
   },
   "outputs": [],
   "source": [
    "ldf[8]"
   ]
  },
  {
   "cell_type": "code",
   "execution_count": null,
   "metadata": {
    "collapsed": false
   },
   "outputs": [],
   "source": [
    "str(ldf1)"
   ]
  },
  {
   "cell_type": "code",
   "execution_count": null,
   "metadata": {
    "collapsed": false
   },
   "outputs": [],
   "source": [
    "str(ldf2)"
   ]
  },
  {
   "cell_type": "markdown",
   "metadata": {},
   "source": [
    "# str(ldf3)"
   ]
  },
  {
   "cell_type": "code",
   "execution_count": null,
   "metadata": {
    "collapsed": false
   },
   "outputs": [],
   "source": [
    "x <- sqldf(\"\n",
    "  SELECT *\n",
    "  FROM ldf4 d1 JOIN ldf5 d2\n",
    "  ON d1.player_api_id = d2.player_api_id\n",
    "  \")"
   ]
  },
  {
   "cell_type": "code",
   "execution_count": null,
   "metadata": {
    "collapsed": false
   },
   "outputs": [],
   "source": [
    "x <- sqldf(\"\n",
    "  SELECT *\n",
    "  FROM tables[4] d1 JOIN tables[5] d2\n",
    "  ON d1.player_api_id = d2.player_api_id\n",
    "  \")"
   ]
  },
  {
   "cell_type": "code",
   "execution_count": null,
   "metadata": {
    "collapsed": false
   },
   "outputs": [],
   "source": [
    "x = ldf4 %>% left_join(ldf5, by = c(\"player_api_id\" = \"player_api_id\"))"
   ]
  },
  {
   "cell_type": "code",
   "execution_count": null,
   "metadata": {
    "collapsed": true
   },
   "outputs": [],
   "source": [
    "tab1 <- tabs[1]"
   ]
  },
  {
   "cell_type": "code",
   "execution_count": null,
   "metadata": {
    "collapsed": false
   },
   "outputs": [],
   "source": [
    "tab1"
   ]
  },
  {
   "cell_type": "code",
   "execution_count": null,
   "metadata": {
    "collapsed": true
   },
   "outputs": [],
   "source": [
    "library('dplyr')"
   ]
  },
  {
   "cell_type": "code",
   "execution_count": null,
   "metadata": {
    "collapsed": false
   },
   "outputs": [],
   "source": [
    "x <- full_join(ldf4, ldf5, by=\"player_api_id\")"
   ]
  },
  {
   "cell_type": "code",
   "execution_count": null,
   "metadata": {
    "collapsed": true
   },
   "outputs": [],
   "source": [
    "df1 <- data.frame(ldf1)"
   ]
  },
  {
   "cell_type": "code",
   "execution_count": null,
   "metadata": {
    "collapsed": true
   },
   "outputs": [],
   "source": [
    "df1 <- data.frame(ldf1)"
   ]
  },
  {
   "cell_type": "code",
   "execution_count": null,
   "metadata": {
    "collapsed": false
   },
   "outputs": [],
   "source": [
    "df1"
   ]
  },
  {
   "cell_type": "code",
   "execution_count": null,
   "metadata": {
    "collapsed": true
   },
   "outputs": [],
   "source": [
    "df2 <- data.frame(ldf2)"
   ]
  },
  {
   "cell_type": "code",
   "execution_count": null,
   "metadata": {
    "collapsed": true
   },
   "outputs": [],
   "source": [
    "df3 <- data.frame(ldf3)"
   ]
  },
  {
   "cell_type": "code",
   "execution_count": null,
   "metadata": {
    "collapsed": true
   },
   "outputs": [],
   "source": [
    "df4 <- data.frame(ldf4)"
   ]
  },
  {
   "cell_type": "code",
   "execution_count": null,
   "metadata": {
    "collapsed": true
   },
   "outputs": [],
   "source": [
    "df5 <- data.frame(ldf5)"
   ]
  },
  {
   "cell_type": "code",
   "execution_count": null,
   "metadata": {
    "collapsed": true
   },
   "outputs": [],
   "source": [
    "df6 <- data.frame(ldf6)"
   ]
  },
  {
   "cell_type": "code",
   "execution_count": null,
   "metadata": {
    "collapsed": true
   },
   "outputs": [],
   "source": [
    "df7 <- data.frame(ldf7)"
   ]
  },
  {
   "cell_type": "code",
   "execution_count": null,
   "metadata": {
    "collapsed": true
   },
   "outputs": [],
   "source": [
    "x <- full_join(df4, df5, by=\"player_api_id\")"
   ]
  },
  {
   "cell_type": "code",
   "execution_count": null,
   "metadata": {
    "collapsed": false
   },
   "outputs": [],
   "source": [
    "x"
   ]
  },
  {
   "cell_type": "code",
   "execution_count": null,
   "metadata": {
    "collapsed": false
   },
   "outputs": [],
   "source": [
    "new_x <- x[order(x$overall_rating),]"
   ]
  },
  {
   "cell_type": "raw",
   "metadata": {},
   "source": [
    "str(x)"
   ]
  },
  {
   "cell_type": "code",
   "execution_count": null,
   "metadata": {
    "collapsed": false
   },
   "outputs": [],
   "source": [
    "str(x)"
   ]
  },
  {
   "cell_type": "code",
   "execution_count": null,
   "metadata": {
    "collapsed": false
   },
   "outputs": [],
   "source": [
    "new_x"
   ]
  },
  {
   "cell_type": "code",
   "execution_count": null,
   "metadata": {
    "collapsed": false
   },
   "outputs": [],
   "source": [
    "head(new_x, n=10)"
   ]
  },
  {
   "cell_type": "code",
   "execution_count": null,
   "metadata": {
    "collapsed": false
   },
   "outputs": [],
   "source": [
    "head(new_x$overall_rating,n=10)"
   ]
  },
  {
   "cell_type": "code",
   "execution_count": null,
   "metadata": {
    "collapsed": true
   },
   "outputs": [],
   "source": [
    "q1 <- new_x[c(\"player_name\",\"overall_rating\")]"
   ]
  },
  {
   "cell_type": "code",
   "execution_count": null,
   "metadata": {
    "collapsed": false
   },
   "outputs": [],
   "source": [
    "head(q1,n=10)"
   ]
  },
  {
   "cell_type": "code",
   "execution_count": null,
   "metadata": {
    "collapsed": false
   },
   "outputs": [],
   "source": [
    "r1 <- group_by(ldf1,player_api_id)\n",
    "r1<-summarise(r1or= max(overall_rating))"
   ]
  },
  {
   "cell_type": "code",
   "execution_count": null,
   "metadata": {
    "collapsed": true
   },
   "outputs": [],
   "source": [
    "my_db <- src_sqlite(\"database.sqlite\", create=T)"
   ]
  },
  {
   "cell_type": "markdown",
   "metadata": {},
   "source": [
    "t1 <- tbl(my_db, sql(\"SELECT * FROM Country\")))"
   ]
  },
  {
   "cell_type": "code",
   "execution_count": null,
   "metadata": {
    "collapsed": false
   },
   "outputs": [],
   "source": [
    "t1 <- tbl(my_db, sql(\"SELECT * FROM Country\"))"
   ]
  },
  {
   "cell_type": "code",
   "execution_count": null,
   "metadata": {
    "collapsed": false
   },
   "outputs": [],
   "source": [
    "t1"
   ]
  },
  {
   "cell_type": "code",
   "execution_count": 7,
   "metadata": {
    "collapsed": false
   },
   "outputs": [
    {
     "ename": "ERROR",
     "evalue": "Error in tbl(my_db, sql(\"SELECT * from League\")): object 'my_db' not found\n",
     "output_type": "error",
     "traceback": [
      "Error in tbl(my_db, sql(\"SELECT * from League\")): object 'my_db' not found\nTraceback:\n",
      "1. tbl(my_db, sql(\"SELECT * from League\"))"
     ]
    }
   ],
   "source": [
    "t2 <- tbl(my_db, sql(\"SELECT * from League\"))"
   ]
  },
  {
   "cell_type": "code",
   "execution_count": null,
   "metadata": {
    "collapsed": true
   },
   "outputs": [],
   "source": [
    "t3 <- tbl(my_db, sql(\"SELECT * from Match\"))"
   ]
  },
  {
   "cell_type": "code",
   "execution_count": 8,
   "metadata": {
    "collapsed": false
   },
   "outputs": [
    {
     "ename": "ERROR",
     "evalue": "Error in tbl(my_db, sql(\"SELECT * from Player\")): object 'my_db' not found\n",
     "output_type": "error",
     "traceback": [
      "Error in tbl(my_db, sql(\"SELECT * from Player\")): object 'my_db' not found\nTraceback:\n",
      "1. tbl(my_db, sql(\"SELECT * from Player\"))"
     ]
    }
   ],
   "source": [
    "t4 <- tbl(my_db, sql(\"SELECT * from Player\"))"
   ]
  },
  {
   "cell_type": "code",
   "execution_count": 9,
   "metadata": {
    "collapsed": false
   },
   "outputs": [
    {
     "ename": "ERROR",
     "evalue": "Error in tbl(my_db, sql(\"SELECT * from Player_Attributes\")): object 'my_db' not found\n",
     "output_type": "error",
     "traceback": [
      "Error in tbl(my_db, sql(\"SELECT * from Player_Attributes\")): object 'my_db' not found\nTraceback:\n",
      "1. tbl(my_db, sql(\"SELECT * from Player_Attributes\"))"
     ]
    }
   ],
   "source": [
    "t5 <- tbl(my_db, sql(\"SELECT * from Player_Attributes\"))"
   ]
  },
  {
   "cell_type": "code",
   "execution_count": null,
   "metadata": {
    "collapsed": true
   },
   "outputs": [],
   "source": [
    "t6 <- tbl(my_db, sql(\"SELECT * from sqlite_sequence\"))"
   ]
  },
  {
   "cell_type": "code",
   "execution_count": 10,
   "metadata": {
    "collapsed": false
   },
   "outputs": [
    {
     "ename": "ERROR",
     "evalue": "Error in tbl(my_db, sql(\"SELECT * from Team\")): object 'my_db' not found\n",
     "output_type": "error",
     "traceback": [
      "Error in tbl(my_db, sql(\"SELECT * from Team\")): object 'my_db' not found\nTraceback:\n",
      "1. tbl(my_db, sql(\"SELECT * from Team\"))"
     ]
    }
   ],
   "source": [
    "t7 <- tbl(my_db, sql(\"SELECT * from Team\"))"
   ]
  },
  {
   "cell_type": "code",
   "execution_count": null,
   "metadata": {
    "collapsed": true
   },
   "outputs": [],
   "source": [
    "t8 <- tbl(my_db, sql(\"SELECT * from Team_Attributes\"))"
   ]
  },
  {
   "cell_type": "code",
   "execution_count": 11,
   "metadata": {
    "collapsed": false
   },
   "outputs": [
    {
     "ename": "ERROR",
     "evalue": "Error in eval(expr, envir, enclos): object 't2' not found\n",
     "output_type": "error",
     "traceback": [
      "Error in eval(expr, envir, enclos): object 't2' not found\nTraceback:\n"
     ]
    }
   ],
   "source": [
    "t2"
   ]
  },
  {
   "cell_type": "code",
   "execution_count": 12,
   "metadata": {
    "collapsed": false
   },
   "outputs": [
    {
     "ename": "ERROR",
     "evalue": "Error in eval(expr, envir, enclos): object 't3' not found\n",
     "output_type": "error",
     "traceback": [
      "Error in eval(expr, envir, enclos): object 't3' not found\nTraceback:\n"
     ]
    }
   ],
   "source": [
    "t3"
   ]
  },
  {
   "cell_type": "code",
   "execution_count": 13,
   "metadata": {
    "collapsed": false
   },
   "outputs": [
    {
     "ename": "ERROR",
     "evalue": "Error in eval(expr, envir, enclos): object 't4' not found\n",
     "output_type": "error",
     "traceback": [
      "Error in eval(expr, envir, enclos): object 't4' not found\nTraceback:\n"
     ]
    }
   ],
   "source": [
    "t4"
   ]
  },
  {
   "cell_type": "code",
   "execution_count": 14,
   "metadata": {
    "collapsed": false
   },
   "outputs": [
    {
     "ename": "ERROR",
     "evalue": "Error in eval(expr, envir, enclos): object 't5' not found\n",
     "output_type": "error",
     "traceback": [
      "Error in eval(expr, envir, enclos): object 't5' not found\nTraceback:\n"
     ]
    }
   ],
   "source": [
    "t5"
   ]
  },
  {
   "cell_type": "code",
   "execution_count": 15,
   "metadata": {
    "collapsed": false
   },
   "outputs": [
    {
     "ename": "ERROR",
     "evalue": "Error in eval(expr, envir, enclos): object 't6' not found\n",
     "output_type": "error",
     "traceback": [
      "Error in eval(expr, envir, enclos): object 't6' not found\nTraceback:\n"
     ]
    }
   ],
   "source": [
    "t6"
   ]
  },
  {
   "cell_type": "code",
   "execution_count": 16,
   "metadata": {
    "collapsed": false
   },
   "outputs": [
    {
     "ename": "ERROR",
     "evalue": "Error in eval(expr, envir, enclos): object 't7' not found\n",
     "output_type": "error",
     "traceback": [
      "Error in eval(expr, envir, enclos): object 't7' not found\nTraceback:\n"
     ]
    }
   ],
   "source": [
    "t7"
   ]
  },
  {
   "cell_type": "code",
   "execution_count": 17,
   "metadata": {
    "collapsed": false
   },
   "outputs": [
    {
     "ename": "ERROR",
     "evalue": "Error in eval(expr, envir, enclos): object 't8' not found\n",
     "output_type": "error",
     "traceback": [
      "Error in eval(expr, envir, enclos): object 't8' not found\nTraceback:\n"
     ]
    }
   ],
   "source": [
    "t8"
   ]
  },
  {
   "cell_type": "code",
   "execution_count": 18,
   "metadata": {
    "collapsed": false
   },
   "outputs": [
    {
     "ename": "ERROR",
     "evalue": "Error in eval(expr, envir, enclos): object 't5' not found\n",
     "output_type": "error",
     "traceback": [
      "Error in eval(expr, envir, enclos): object 't5' not found\nTraceback:\n"
     ]
    }
   ],
   "source": [
    "t9 <- t5"
   ]
  },
  {
   "cell_type": "code",
   "execution_count": 19,
   "metadata": {
    "collapsed": false
   },
   "outputs": [
    {
     "ename": "ERROR",
     "evalue": "Error in mutate_(.data, .dots = lazyeval::lazy_dots(...)): object 't9' not found\n",
     "output_type": "error",
     "traceback": [
      "Error in mutate_(.data, .dots = lazyeval::lazy_dots(...)): object 't9' not found\nTraceback:\n",
      "1. mutate(t9, gk_rating = (gk_diving + gk_handling + gk_kicking + \n .     gk_positioning + gk_reflexes))",
      "2. mutate_(.data, .dots = lazyeval::lazy_dots(...))"
     ]
    }
   ],
   "source": [
    "t9 <- mutate(t9, gk_rating = (gk_diving+gk_handling+gk_kicking+gk_positioning+gk_reflexes))"
   ]
  },
  {
   "cell_type": "code",
   "execution_count": null,
   "metadata": {
    "collapsed": false
   },
   "outputs": [],
   "source": [
    "t9"
   ]
  },
  {
   "cell_type": "code",
   "execution_count": 20,
   "metadata": {
    "collapsed": false
   },
   "outputs": [
    {
     "ename": "ERROR",
     "evalue": "Error in group_by_(.data, .dots = lazyeval::lazy_dots(...), add = add): object 't9' not found\n",
     "output_type": "error",
     "traceback": [
      "Error in group_by_(.data, .dots = lazyeval::lazy_dots(...), add = add): object 't9' not found\nTraceback:\n",
      "1. group_by(t9, player_api_id)",
      "2. group_by_(.data, .dots = lazyeval::lazy_dots(...), add = add)"
     ]
    }
   ],
   "source": [
    "r1<- group_by(t9,player_api_id)"
   ]
  },
  {
   "cell_type": "code",
   "execution_count": null,
   "metadata": {
    "collapsed": false
   },
   "outputs": [],
   "source": [
    "r2 <- summarise(r1,ovr_rating = max(overall_rating),gk_rating = max(gk_rating))"
   ]
  },
  {
   "cell_type": "code",
   "execution_count": 21,
   "metadata": {
    "collapsed": false
   },
   "outputs": [
    {
     "ename": "ERROR",
     "evalue": "Error in eval(expr, envir, enclos): object 'r2' not found\n",
     "output_type": "error",
     "traceback": [
      "Error in eval(expr, envir, enclos): object 'r2' not found\nTraceback:\n"
     ]
    }
   ],
   "source": [
    "r2"
   ]
  },
  {
   "cell_type": "code",
   "execution_count": 22,
   "metadata": {
    "collapsed": false
   },
   "outputs": [
    {
     "ename": "ERROR",
     "evalue": "Error in eval(expr, envir, enclos): object 'r2' not found\n",
     "output_type": "error",
     "traceback": [
      "Error in eval(expr, envir, enclos): object 'r2' not found\nTraceback:\n"
     ]
    }
   ],
   "source": [
    "r2"
   ]
  },
  {
   "cell_type": "code",
   "execution_count": 23,
   "metadata": {
    "collapsed": false
   },
   "outputs": [
    {
     "ename": "ERROR",
     "evalue": "Error in group_by_(.data, .dots = lazyeval::lazy_dots(...), add = add): object 'r2' not found\n",
     "output_type": "error",
     "traceback": [
      "Error in group_by_(.data, .dots = lazyeval::lazy_dots(...), add = add): object 'r2' not found\nTraceback:\n",
      "1. group_by(r2, ovr_rating)",
      "2. group_by_(.data, .dots = lazyeval::lazy_dots(...), add = add)"
     ]
    }
   ],
   "source": [
    "temp <- group_by(r2,ovr_rating)"
   ]
  },
  {
   "cell_type": "code",
   "execution_count": 24,
   "metadata": {
    "collapsed": false
   },
   "outputs": [
    {
     "ename": "ERROR",
     "evalue": "Error in eval(expr, envir, enclos): object 'temp' not found\n",
     "output_type": "error",
     "traceback": [
      "Error in eval(expr, envir, enclos): object 'temp' not found\nTraceback:\n"
     ]
    }
   ],
   "source": [
    "temp"
   ]
  },
  {
   "cell_type": "code",
   "execution_count": 25,
   "metadata": {
    "collapsed": false
   },
   "outputs": [
    {
     "ename": "ERROR",
     "evalue": "Error in eval(expr, envir, enclos): object 't3' not found\n",
     "output_type": "error",
     "traceback": [
      "Error in eval(expr, envir, enclos): object 't3' not found\nTraceback:\n"
     ]
    }
   ],
   "source": [
    "t3"
   ]
  },
  {
   "cell_type": "code",
   "execution_count": 26,
   "metadata": {
    "collapsed": false
   },
   "outputs": [
    {
     "ename": "ERROR",
     "evalue": "Error in group_by_(.data, .dots = lazyeval::lazy_dots(...), add = add): object 't8' not found\n",
     "output_type": "error",
     "traceback": [
      "Error in group_by_(.data, .dots = lazyeval::lazy_dots(...), add = add): object 't8' not found\nTraceback:\n",
      "1. group_by(t8, teamp_api_id)",
      "2. group_by_(.data, .dots = lazyeval::lazy_dots(...), add = add)"
     ]
    }
   ],
   "source": [
    "r3 <- group_by(t8, teamp_api_id)"
   ]
  },
  {
   "cell_type": "code",
   "execution_count": null,
   "metadata": {
    "collapsed": true
   },
   "outputs": [],
   "source": [
    "t10 <- mutate(t8, buildupPlay = (buildUpPlaySpeed + buildUpPlayDribbling + buildUpPlayPassing))"
   ]
  },
  {
   "cell_type": "code",
   "execution_count": 27,
   "metadata": {
    "collapsed": false
   },
   "outputs": [
    {
     "ename": "ERROR",
     "evalue": "Error in eval(expr, envir, enclos): object 't10' not found\n",
     "output_type": "error",
     "traceback": [
      "Error in eval(expr, envir, enclos): object 't10' not found\nTraceback:\n"
     ]
    }
   ],
   "source": [
    "t10"
   ]
  },
  {
   "cell_type": "code",
   "execution_count": 28,
   "metadata": {
    "collapsed": false
   },
   "outputs": [
    {
     "ename": "ERROR",
     "evalue": "Error in mutate_(.data, .dots = lazyeval::lazy_dots(...)): object 't10' not found\n",
     "output_type": "error",
     "traceback": [
      "Error in mutate_(.data, .dots = lazyeval::lazy_dots(...)): object 't10' not found\nTraceback:\n",
      "1. mutate(t10, chanceCreation = (chanceCreationPassing + chanceCreationCrossing + \n .     chanceCreationShooting))",
      "2. mutate_(.data, .dots = lazyeval::lazy_dots(...))"
     ]
    }
   ],
   "source": [
    "t10 <- mutate(t10, chanceCreation = (chanceCreationPassing + chanceCreationCrossing + chanceCreationShooting))"
   ]
  },
  {
   "cell_type": "code",
   "execution_count": 29,
   "metadata": {
    "collapsed": false
   },
   "outputs": [
    {
     "ename": "ERROR",
     "evalue": "Error in eval(expr, envir, enclos): object 't10' not found\n",
     "output_type": "error",
     "traceback": [
      "Error in eval(expr, envir, enclos): object 't10' not found\nTraceback:\n"
     ]
    }
   ],
   "source": [
    "t10"
   ]
  },
  {
   "cell_type": "code",
   "execution_count": 30,
   "metadata": {
    "collapsed": false
   },
   "outputs": [
    {
     "ename": "ERROR",
     "evalue": "Error in mutate_(.data, .dots = lazyeval::lazy_dots(...)): object 't10' not found\n",
     "output_type": "error",
     "traceback": [
      "Error in mutate_(.data, .dots = lazyeval::lazy_dots(...)): object 't10' not found\nTraceback:\n",
      "1. mutate(t10, defence = (defencePressure + defenceAggression + \n .     defenceTeamWidth))",
      "2. mutate_(.data, .dots = lazyeval::lazy_dots(...))"
     ]
    }
   ],
   "source": [
    "t10 <- mutate(t10, defence = (defencePressure + defenceAggression + defenceTeamWidth))"
   ]
  },
  {
   "cell_type": "code",
   "execution_count": null,
   "metadata": {
    "collapsed": false
   },
   "outputs": [],
   "source": [
    "t10"
   ]
  },
  {
   "cell_type": "code",
   "execution_count": 31,
   "metadata": {
    "collapsed": false
   },
   "outputs": [
    {
     "ename": "ERROR",
     "evalue": "Error in group_by_(.data, .dots = lazyeval::lazy_dots(...), add = add): object 't8' not found\n",
     "output_type": "error",
     "traceback": [
      "Error in group_by_(.data, .dots = lazyeval::lazy_dots(...), add = add): object 't8' not found\nTraceback:\n",
      "1. group_by(t8, team_api_id)",
      "2. group_by_(.data, .dots = lazyeval::lazy_dots(...), add = add)"
     ]
    }
   ],
   "source": [
    "r3 <- group_by(t8, team_api_id)"
   ]
  },
  {
   "cell_type": "code",
   "execution_count": 32,
   "metadata": {
    "collapsed": false
   },
   "outputs": [
    {
     "ename": "ERROR",
     "evalue": "Error in eval(expr, envir, enclos): object 'r3' not found\n",
     "output_type": "error",
     "traceback": [
      "Error in eval(expr, envir, enclos): object 'r3' not found\nTraceback:\n"
     ]
    }
   ],
   "source": [
    "r3"
   ]
  },
  {
   "cell_type": "code",
   "execution_count": 33,
   "metadata": {
    "collapsed": false
   },
   "outputs": [
    {
     "ename": "ERROR",
     "evalue": "Error in eval(expr, envir, enclos): object 'r2' not found\n",
     "output_type": "error",
     "traceback": [
      "Error in eval(expr, envir, enclos): object 'r2' not found\nTraceback:\n",
      "1. r2 %>% left_join(t4, by = \"player_api_id\")",
      "2. eval(lhs, parent, parent)",
      "3. eval(expr, envir, enclos)"
     ]
    }
   ],
   "source": [
    "player <- r2 %>% left_join(t4, by=\"player_api_id\")"
   ]
  },
  {
   "cell_type": "code",
   "execution_count": null,
   "metadata": {
    "collapsed": false
   },
   "outputs": [],
   "source": [
    "player"
   ]
  },
  {
   "cell_type": "code",
   "execution_count": 34,
   "metadata": {
    "collapsed": false
   },
   "outputs": [
    {
     "ename": "ERROR",
     "evalue": "Error in data.frame(player): object 'player' not found\n",
     "output_type": "error",
     "traceback": [
      "Error in data.frame(player): object 'player' not found\nTraceback:\n",
      "1. data.frame(player)"
     ]
    }
   ],
   "source": [
    "players <- data.frame(player)"
   ]
  },
  {
   "cell_type": "code",
   "execution_count": 35,
   "metadata": {
    "collapsed": false
   },
   "outputs": [
    {
     "ename": "ERROR",
     "evalue": "Error in eval(expr, envir, enclos): object 'players' not found\n",
     "output_type": "error",
     "traceback": [
      "Error in eval(expr, envir, enclos): object 'players' not found\nTraceback:\n"
     ]
    }
   ],
   "source": [
    "players"
   ]
  },
  {
   "cell_type": "code",
   "execution_count": 36,
   "metadata": {
    "collapsed": false
   },
   "outputs": [
    {
     "ename": "ERROR",
     "evalue": "Error in is.data.frame(x): object 'players' not found\n",
     "output_type": "error",
     "traceback": [
      "Error in is.data.frame(x): object 'players' not found\nTraceback:\n",
      "1. write.csv(file = \"Players.csv\", players)",
      "2. eval.parent(Call)",
      "3. eval(expr, p)",
      "4. eval(expr, envir, enclos)",
      "5. write.table(file = \"Players.csv\", players, col.names = NA, sep = \",\", \n .     dec = \".\", qmethod = \"double\")",
      "6. is.data.frame(x)"
     ]
    }
   ],
   "source": [
    "write.csv(file=\"Players.csv\",players)"
   ]
  },
  {
   "cell_type": "code",
   "execution_count": 37,
   "metadata": {
    "collapsed": false
   },
   "outputs": [
    {
     "ename": "ERROR",
     "evalue": "Error in eval(expr, envir, enclos): object 'r4' not found\n",
     "output_type": "error",
     "traceback": [
      "Error in eval(expr, envir, enclos): object 'r4' not found\nTraceback:\n",
      "1. r4 %>% left_join(t7, by = \"team_api_id\")",
      "2. eval(lhs, parent, parent)",
      "3. eval(expr, envir, enclos)"
     ]
    }
   ],
   "source": [
    "team <- r4 %>% left_join(t7, by=\"team_api_id\")"
   ]
  },
  {
   "cell_type": "code",
   "execution_count": null,
   "metadata": {
    "collapsed": false
   },
   "outputs": [],
   "source": [
    "team"
   ]
  },
  {
   "cell_type": "code",
   "execution_count": 38,
   "metadata": {
    "collapsed": false
   },
   "outputs": [
    {
     "ename": "ERROR",
     "evalue": "Error in data.frame(team): object 'team' not found\n",
     "output_type": "error",
     "traceback": [
      "Error in data.frame(team): object 'team' not found\nTraceback:\n",
      "1. data.frame(team)"
     ]
    }
   ],
   "source": [
    "teams <- data.frame(team)"
   ]
  },
  {
   "cell_type": "code",
   "execution_count": 39,
   "metadata": {
    "collapsed": false
   },
   "outputs": [
    {
     "ename": "ERROR",
     "evalue": "Error in eval(expr, envir, enclos): object 'teams' not found\n",
     "output_type": "error",
     "traceback": [
      "Error in eval(expr, envir, enclos): object 'teams' not found\nTraceback:\n"
     ]
    }
   ],
   "source": [
    "teams"
   ]
  },
  {
   "cell_type": "code",
   "execution_count": 40,
   "metadata": {
    "collapsed": false
   },
   "outputs": [
    {
     "ename": "ERROR",
     "evalue": "Error in is.data.frame(x): object 'teams' not found\n",
     "output_type": "error",
     "traceback": [
      "Error in is.data.frame(x): object 'teams' not found\nTraceback:\n",
      "1. write.csv(file = \"Teams.csv\", teams)",
      "2. eval.parent(Call)",
      "3. eval(expr, p)",
      "4. eval(expr, envir, enclos)",
      "5. write.table(file = \"Teams.csv\", teams, col.names = NA, sep = \",\", \n .     dec = \".\", qmethod = \"double\")",
      "6. is.data.frame(x)"
     ]
    }
   ],
   "source": [
    "write.csv(file=\"Teams.csv\",teams)"
   ]
  },
  {
   "cell_type": "code",
   "execution_count": null,
   "metadata": {
    "collapsed": true
   },
   "outputs": [],
   "source": [
    "temp1 <- data.frame(t3)"
   ]
  },
  {
   "cell_type": "code",
   "execution_count": 41,
   "metadata": {
    "collapsed": false
   },
   "outputs": [
    {
     "ename": "ERROR",
     "evalue": "Error in str(temp1): object 'temp1' not found\n",
     "output_type": "error",
     "traceback": [
      "Error in str(temp1): object 'temp1' not found\nTraceback:\n",
      "1. str(temp1)"
     ]
    }
   ],
   "source": [
    "str(temp1)"
   ]
  },
  {
   "cell_type": "code",
   "execution_count": 42,
   "metadata": {
    "collapsed": false
   },
   "outputs": [
    {
     "ename": "ERROR",
     "evalue": "Error in stack(temp1, select = c(\"home_player_1\", \"home_player_2\", \"home_player_3\", : object 'temp1' not found\n",
     "output_type": "error",
     "traceback": [
      "Error in stack(temp1, select = c(\"home_player_1\", \"home_player_2\", \"home_player_3\", : object 'temp1' not found\nTraceback:\n",
      "1. stack(temp1, select = c(\"home_player_1\", \"home_player_2\", \"home_player_3\", \n .     \"home_player_4\", \"home_player_5\", \"home_player_6\", \"home_player_7\", \n .     \"home_player_8\", \"home_player_9\", \"home_player_10\", \"home_player_11\", \n .     \"away_player_1\", \"away_player_2\", \"away_player_3\", \"away_player_4\", \n .     \"away_player_5\", \"away_player_6\", \"away_player_7\", \"away_player_8\", \n .     \"away_player_9\", \"away_player_10\", \"away_player_11\"))"
     ]
    }
   ],
   "source": [
    "ts1 <- stack(temp1,select = c(\"home_player_1\",\"home_player_2\",\"home_player_3\",\"home_player_4\",\"home_player_5\",\"home_player_6\",\"home_player_7\",\"home_player_8\",\"home_player_9\",\"home_player_10\",\"home_player_11\",\"away_player_1\",\"away_player_2\",\"away_player_3\",\"away_player_4\",\"away_player_5\",\"away_player_6\",\"away_player_7\",\"away_player_8\",\"away_player_9\",\"away_player_10\",\"away_player_11\"))"
   ]
  },
  {
   "cell_type": "code",
   "execution_count": 43,
   "metadata": {
    "collapsed": false
   },
   "outputs": [
    {
     "ename": "ERROR",
     "evalue": "Error in eval(expr, envir, enclos): object 'ts1' not found\n",
     "output_type": "error",
     "traceback": [
      "Error in eval(expr, envir, enclos): object 'ts1' not found\nTraceback:\n"
     ]
    }
   ],
   "source": [
    "ts1"
   ]
  },
  {
   "cell_type": "code",
   "execution_count": 44,
   "metadata": {
    "collapsed": false
   },
   "outputs": [
    {
     "ename": "ERROR",
     "evalue": "Error in group_by_(.data, .dots = lazyeval::lazy_dots(...), add = add): object 'ts1' not found\n",
     "output_type": "error",
     "traceback": [
      "Error in group_by_(.data, .dots = lazyeval::lazy_dots(...), add = add): object 'ts1' not found\nTraceback:\n",
      "1. group_by(ts1, values)",
      "2. group_by_(.data, .dots = lazyeval::lazy_dots(...), add = add)"
     ]
    }
   ],
   "source": [
    "tg1 <- group_by(ts1, values)\n",
    "tg2 <- summarise(tg1,\n",
    "                count = n())"
   ]
  },
  {
   "cell_type": "code",
   "execution_count": null,
   "metadata": {
    "collapsed": false
   },
   "outputs": [],
   "source": [
    "tg1"
   ]
  },
  {
   "cell_type": "code",
   "execution_count": null,
   "metadata": {
    "collapsed": false
   },
   "outputs": [],
   "source": [
    "colnames(tg2) <- c(\"player_api_id\",\"no_appearances\")\n",
    "tg2"
   ]
  },
  {
   "cell_type": "code",
   "execution_count": 45,
   "metadata": {
    "collapsed": false
   },
   "outputs": [
    {
     "ename": "ERROR",
     "evalue": "Error in eval(expr, envir, enclos): object 't3' not found\n",
     "output_type": "error",
     "traceback": [
      "Error in eval(expr, envir, enclos): object 't3' not found\nTraceback:\n"
     ]
    }
   ],
   "source": [
    "t3"
   ]
  },
  {
   "cell_type": "code",
   "execution_count": 46,
   "metadata": {
    "collapsed": false
   },
   "outputs": [
    {
     "ename": "ERROR",
     "evalue": "Error in eval(expr, envir, enclos): object 'temp1' not found\n",
     "output_type": "error",
     "traceback": [
      "Error in eval(expr, envir, enclos): object 'temp1' not found\nTraceback:\n"
     ]
    }
   ],
   "source": [
    "temp1"
   ]
  },
  {
   "cell_type": "code",
   "execution_count": 47,
   "metadata": {
    "collapsed": false
   },
   "outputs": [
    {
     "ename": "ERROR",
     "evalue": "Error in stack(temp1, select = c(\"league_id\", \"home_player_1\", \"home_player_2\", : object 'temp1' not found\n",
     "output_type": "error",
     "traceback": [
      "Error in stack(temp1, select = c(\"league_id\", \"home_player_1\", \"home_player_2\", : object 'temp1' not found\nTraceback:\n",
      "1. stack(temp1, select = c(\"league_id\", \"home_player_1\", \"home_player_2\", \n .     \"home_player_3\", \"home_player_4\", \"home_player_5\", \"home_player_6\", \n .     \"home_player_7\", \"home_player_8\", \"home_player_9\", \"home_player_10\", \n .     \"home_player_11\", \"away_player_1\", \"away_player_2\", \"away_player_3\", \n .     \"away_player_4\", \"away_player_5\", \"away_player_6\", \"away_player_7\", \n .     \"away_player_8\", \"away_player_9\", \"away_player_10\", \"away_player_11\"))"
     ]
    }
   ],
   "source": [
    "ts2 <- stack(temp1,select = c(\"league_id\",\"home_player_1\",\"home_player_2\",\"home_player_3\",\"home_player_4\",\"home_player_5\",\"home_player_6\",\"home_player_7\",\"home_player_8\",\"home_player_9\",\"home_player_10\",\"home_player_11\",\"away_player_1\",\"away_player_2\",\"away_player_3\",\"away_player_4\",\"away_player_5\",\"away_player_6\",\"away_player_7\",\"away_player_8\",\"away_player_9\",\"away_player_10\",\"away_player_11\"))"
   ]
  },
  {
   "cell_type": "code",
   "execution_count": 48,
   "metadata": {
    "collapsed": false
   },
   "outputs": [
    {
     "ename": "ERROR",
     "evalue": "Error in eval(expr, envir, enclos): object 'ts2' not found\n",
     "output_type": "error",
     "traceback": [
      "Error in eval(expr, envir, enclos): object 'ts2' not found\nTraceback:\n"
     ]
    }
   ],
   "source": [
    "ts2"
   ]
  },
  {
   "cell_type": "code",
   "execution_count": 49,
   "metadata": {
    "collapsed": false
   },
   "outputs": [
    {
     "ename": "ERROR",
     "evalue": "Error in stack(temp1, select = c(\"league_id\", \"home_player_1\", \"league_id\", : object 'temp1' not found\n",
     "output_type": "error",
     "traceback": [
      "Error in stack(temp1, select = c(\"league_id\", \"home_player_1\", \"league_id\", : object 'temp1' not found\nTraceback:\n",
      "1. stack(temp1, select = c(\"league_id\", \"home_player_1\", \"league_id\", \n .     \"home_player_2\", \"league_id\", \"home_player_3\", \"league_id\", \n .     \"home_player_4\", \"league_id\", \"home_player_5\", \"league_id\", \n .     \"home_player_6\", \"league_id\", \"home_player_7\", \"league_id\", \n .     \"home_player_8\", \"league_id\", \"home_player_9\", \"league_id\", \n .     \"home_player_10\", \"league_id\", \"home_player_11\", \"league_id\", \n .     \"away_player_1\", \"league_id\", \"away_player_2\", \"league_id\", \n .     \"away_player_3\", \"league_id\", \"away_player_4\", \"league_id\", \n .     \"away_player_5\", \"league_id\", \"away_player_6\", \"league_id\", \n .     \"away_player_7\", \"league_id\", \"away_player_8\", \"league_id\", \n .     \"away_player_9\", \"league_id\", \"away_player_10\", \"league_id\", \n .     \"away_player_11\"))"
     ]
    }
   ],
   "source": [
    "ts2 <- stack(temp1,select = c(\"league_id\",\"home_player_1\",\"league_id\",\"home_player_2\",\"league_id\",\"home_player_3\",\"league_id\",\"home_player_4\",\"league_id\",\"home_player_5\",\"league_id\",\"home_player_6\",\"league_id\",\"home_player_7\",\"league_id\",\"home_player_8\",\"league_id\",\"home_player_9\",\"league_id\",\"home_player_10\",\"league_id\",\"home_player_11\",\"league_id\",\"away_player_1\",\"league_id\",\"away_player_2\",\"league_id\",\"away_player_3\",\"league_id\",\"away_player_4\",\"league_id\",\"away_player_5\",\"league_id\",\"away_player_6\",\"league_id\",\"away_player_7\",\"league_id\",\"away_player_8\",\"league_id\",\"away_player_9\",\"league_id\",\"away_player_10\",\"league_id\",\"away_player_11\"))"
   ]
  },
  {
   "cell_type": "code",
   "execution_count": null,
   "metadata": {
    "collapsed": false
   },
   "outputs": [],
   "source": [
    "ts2"
   ]
  },
  {
   "cell_type": "code",
   "execution_count": 50,
   "metadata": {
    "collapsed": true
   },
   "outputs": [],
   "source": [
    "rb1 <- rbind(\"home_player1\",\"league_id\",\"home_player_2\",\"league_id\",\"home_player_3\",\"league_id\",\"home_player_4\",\"league_id\",\"home_player_5\",\"league_id\",\"home_player_6\",\"league_id\",\"home_player_7\",\"league_id\",\"home_player_8\",\"league_id\",\"home_player_9\",\"league_id\",\"home_player_10\",\"league_id\",\"home_player_11\",\"league_id\",\"away_player_1\",\"league_id\",\"away_player_2\",\"league_id\",\"away_player_3\",\"league_id\",\"away_player_4\",\"league_id\",\"away_player_5\",\"league_id\",\"away_player_6\",\"league_id\",\"away_player_7\",\"league_id\",\"away_player_8\",\"league_id\",\"away_player_9\",\"league_id\",\"away_player_10\",\"league_id\",\"away_player_11\",\"league_id\")"
   ]
  },
  {
   "cell_type": "code",
   "execution_count": 51,
   "metadata": {
    "collapsed": false
   },
   "outputs": [
    {
     "ename": "ERROR",
     "evalue": "Error in rbind(temp1, select = c(\"home_player1\", \"league_id\", \"home_player_2\", : object 'temp1' not found\n",
     "output_type": "error",
     "traceback": [
      "Error in rbind(temp1, select = c(\"home_player1\", \"league_id\", \"home_player_2\", : object 'temp1' not found\nTraceback:\n",
      "1. rbind(temp1, select = c(\"home_player1\", \"league_id\", \"home_player_2\", \n .     \"league_id\", \"home_player_3\", \"league_id\", \"home_player_4\", \n .     \"league_id\", \"home_player_5\", \"league_id\", \"home_player_6\", \n .     \"league_id\", \"home_player_7\", \"league_id\", \"home_player_8\", \n .     \"league_id\", \"home_player_9\", \"league_id\", \"home_player_10\", \n .     \"league_id\", \"home_player_11\", \"league_id\", \"away_player_1\", \n .     \"league_id\", \"away_player_2\", \"league_id\", \"away_player_3\", \n .     \"league_id\", \"away_player_4\", \"league_id\", \"away_player_5\", \n .     \"league_id\", \"away_player_6\", \"league_id\", \"away_player_7\", \n .     \"league_id\", \"away_player_8\", \"league_id\", \"away_player_9\", \n .     \"league_id\", \"away_player_10\", \"league_id\", \"away_player_11\", \n .     \"league_id\"))"
     ]
    }
   ],
   "source": [
    "rb1 <- rbind(temp1, select=c(\"home_player1\",\"league_id\",\"home_player_2\",\"league_id\",\"home_player_3\",\"league_id\",\"home_player_4\",\"league_id\",\"home_player_5\",\"league_id\",\"home_player_6\",\"league_id\",\"home_player_7\",\"league_id\",\"home_player_8\",\"league_id\",\"home_player_9\",\"league_id\",\"home_player_10\",\"league_id\",\"home_player_11\",\"league_id\",\"away_player_1\",\"league_id\",\"away_player_2\",\"league_id\",\"away_player_3\",\"league_id\",\"away_player_4\",\"league_id\",\"away_player_5\",\"league_id\",\"away_player_6\",\"league_id\",\"away_player_7\",\"league_id\",\"away_player_8\",\"league_id\",\"away_player_9\",\"league_id\",\"away_player_10\",\"league_id\",\"away_player_11\",\"league_id\"))"
   ]
  },
  {
   "cell_type": "code",
   "execution_count": null,
   "metadata": {
    "collapsed": false
   },
   "outputs": [],
   "source": [
    "rb1"
   ]
  },
  {
   "cell_type": "code",
   "execution_count": 52,
   "metadata": {
    "collapsed": false
   },
   "outputs": [
    {
     "ename": "ERROR",
     "evalue": "Error in eval(expr, envir, enclos): object 'temp1' not found\n",
     "output_type": "error",
     "traceback": [
      "Error in eval(expr, envir, enclos): object 'temp1' not found\nTraceback:\n"
     ]
    }
   ],
   "source": [
    "dfs1$league_id <- temp1$league_id\n",
    "dfs1$player_id <- temp1$home_player_1"
   ]
  },
  {
   "cell_type": "code",
   "execution_count": 53,
   "metadata": {
    "collapsed": false
   },
   "outputs": [
    {
     "ename": "ERROR",
     "evalue": "Error in eval(expr, envir, enclos): object 'temp1' not found\n",
     "output_type": "error",
     "traceback": [
      "Error in eval(expr, envir, enclos): object 'temp1' not found\nTraceback:\n"
     ]
    }
   ],
   "source": [
    "d1 <-temp1$league_id\n",
    "d2 <- temp1$home_player_1"
   ]
  },
  {
   "cell_type": "code",
   "execution_count": null,
   "metadata": {
    "collapsed": true
   },
   "outputs": [],
   "source": [
    "dd1 <- data.frame(d1,d2)"
   ]
  },
  {
   "cell_type": "code",
   "execution_count": 54,
   "metadata": {
    "collapsed": false
   },
   "outputs": [
    {
     "ename": "ERROR",
     "evalue": "Error in eval(expr, envir, enclos): object 'dd1' not found\n",
     "output_type": "error",
     "traceback": [
      "Error in eval(expr, envir, enclos): object 'dd1' not found\nTraceback:\n"
     ]
    }
   ],
   "source": [
    "dd1"
   ]
  },
  {
   "cell_type": "code",
   "execution_count": 55,
   "metadata": {
    "collapsed": false
   },
   "outputs": [
    {
     "ename": "ERROR",
     "evalue": "Error in colnames(dd1) <- c(\"league_id\", \"player_id\"): object 'dd1' not found\n",
     "output_type": "error",
     "traceback": [
      "Error in colnames(dd1) <- c(\"league_id\", \"player_id\"): object 'dd1' not found\nTraceback:\n"
     ]
    }
   ],
   "source": [
    "colnames(dd1) <- c(\"league_id\", \"player_id\")"
   ]
  },
  {
   "cell_type": "code",
   "execution_count": 56,
   "metadata": {
    "collapsed": false
   },
   "outputs": [
    {
     "ename": "ERROR",
     "evalue": "Error in eval(expr, envir, enclos): object 'dd1' not found\n",
     "output_type": "error",
     "traceback": [
      "Error in eval(expr, envir, enclos): object 'dd1' not found\nTraceback:\n"
     ]
    }
   ],
   "source": [
    "dd1"
   ]
  },
  {
   "cell_type": "code",
   "execution_count": 57,
   "metadata": {
    "collapsed": false
   },
   "outputs": [
    {
     "ename": "ERROR",
     "evalue": "Error in eval(expr, envir, enclos): object 'temp1' not found\n",
     "output_type": "error",
     "traceback": [
      "Error in eval(expr, envir, enclos): object 'temp1' not found\nTraceback:\n"
     ]
    }
   ],
   "source": [
    "league_id <-temp1$league_id\n",
    "player_id <- temp1$home_player_2"
   ]
  },
  {
   "cell_type": "code",
   "execution_count": null,
   "metadata": {
    "collapsed": true
   },
   "outputs": [],
   "source": [
    "dd2 <- data.frame(league_id,player_id)"
   ]
  },
  {
   "cell_type": "code",
   "execution_count": 58,
   "metadata": {
    "collapsed": false
   },
   "outputs": [
    {
     "ename": "ERROR",
     "evalue": "Error in eval(expr, envir, enclos): object 'dd2' not found\n",
     "output_type": "error",
     "traceback": [
      "Error in eval(expr, envir, enclos): object 'dd2' not found\nTraceback:\n"
     ]
    }
   ],
   "source": [
    "dd2"
   ]
  },
  {
   "cell_type": "code",
   "execution_count": 59,
   "metadata": {
    "collapsed": false
   },
   "outputs": [
    {
     "ename": "ERROR",
     "evalue": "Error in eval(expr, envir, enclos): object 'temp1' not found\n",
     "output_type": "error",
     "traceback": [
      "Error in eval(expr, envir, enclos): object 'temp1' not found\nTraceback:\n"
     ]
    }
   ],
   "source": [
    "league_id <-temp1$league_id\n",
    "player_id <- temp1$home_player_3\n",
    "dd3 <- data.frame(league_id,player_id)\n",
    "dd3"
   ]
  },
  {
   "cell_type": "code",
   "execution_count": 60,
   "metadata": {
    "collapsed": false
   },
   "outputs": [
    {
     "ename": "ERROR",
     "evalue": "Error in eval(expr, envir, enclos): object 'temp1' not found\n",
     "output_type": "error",
     "traceback": [
      "Error in eval(expr, envir, enclos): object 'temp1' not found\nTraceback:\n"
     ]
    }
   ],
   "source": [
    "league_id <-temp1$league_id\n",
    "player_id <- temp1$home_player_4\n",
    "dd4 <- data.frame(league_id,player_id)\n",
    "dd4"
   ]
  },
  {
   "cell_type": "code",
   "execution_count": 61,
   "metadata": {
    "collapsed": false
   },
   "outputs": [
    {
     "ename": "ERROR",
     "evalue": "Error in eval(expr, envir, enclos): object 'temp1' not found\n",
     "output_type": "error",
     "traceback": [
      "Error in eval(expr, envir, enclos): object 'temp1' not found\nTraceback:\n"
     ]
    }
   ],
   "source": [
    "league_id <-temp1$league_id\n",
    "player_id <- temp1$home_player_5\n",
    "dd5 <- data.frame(league_id,player_id)\n",
    "dd5"
   ]
  },
  {
   "cell_type": "code",
   "execution_count": 62,
   "metadata": {
    "collapsed": false
   },
   "outputs": [
    {
     "ename": "ERROR",
     "evalue": "Error in eval(expr, envir, enclos): object 'temp1' not found\n",
     "output_type": "error",
     "traceback": [
      "Error in eval(expr, envir, enclos): object 'temp1' not found\nTraceback:\n"
     ]
    }
   ],
   "source": [
    "league_id <-temp1$league_id\n",
    "player_id <- temp1$home_player_6\n",
    "dd6 <- data.frame(league_id,player_id)\n",
    "dd6"
   ]
  },
  {
   "cell_type": "code",
   "execution_count": 63,
   "metadata": {
    "collapsed": false
   },
   "outputs": [
    {
     "ename": "ERROR",
     "evalue": "Error in eval(expr, envir, enclos): object 'temp1' not found\n",
     "output_type": "error",
     "traceback": [
      "Error in eval(expr, envir, enclos): object 'temp1' not found\nTraceback:\n"
     ]
    }
   ],
   "source": [
    "league_id <-temp1$league_id\n",
    "player_id <- temp1$home_player_7\n",
    "dd7 <- data.frame(league_id,player_id)\n",
    "dd7"
   ]
  },
  {
   "cell_type": "code",
   "execution_count": 64,
   "metadata": {
    "collapsed": false
   },
   "outputs": [
    {
     "ename": "ERROR",
     "evalue": "Error in eval(expr, envir, enclos): object 'temp1' not found\n",
     "output_type": "error",
     "traceback": [
      "Error in eval(expr, envir, enclos): object 'temp1' not found\nTraceback:\n"
     ]
    }
   ],
   "source": [
    "league_id <-temp1$league_id\n",
    "player_id <- temp1$home_player_8\n",
    "dd8 <- data.frame(league_id,player_id)\n",
    "dd8"
   ]
  },
  {
   "cell_type": "code",
   "execution_count": 65,
   "metadata": {
    "collapsed": false
   },
   "outputs": [
    {
     "ename": "ERROR",
     "evalue": "Error in eval(expr, envir, enclos): object 'temp1' not found\n",
     "output_type": "error",
     "traceback": [
      "Error in eval(expr, envir, enclos): object 'temp1' not found\nTraceback:\n"
     ]
    }
   ],
   "source": [
    "league_id <-temp1$league_id\n",
    "player_id <- temp1$home_player_9\n",
    "dd9 <- data.frame(league_id,player_id)\n",
    "dd9"
   ]
  },
  {
   "cell_type": "code",
   "execution_count": 66,
   "metadata": {
    "collapsed": false
   },
   "outputs": [
    {
     "ename": "ERROR",
     "evalue": "Error in eval(expr, envir, enclos): object 'temp1' not found\n",
     "output_type": "error",
     "traceback": [
      "Error in eval(expr, envir, enclos): object 'temp1' not found\nTraceback:\n"
     ]
    }
   ],
   "source": [
    "league_id <-temp1$league_id\n",
    "player_id <- temp1$home_player_10\n",
    "dd10 <- data.frame(league_id,player_id)\n",
    "dd10"
   ]
  },
  {
   "cell_type": "code",
   "execution_count": 67,
   "metadata": {
    "collapsed": false
   },
   "outputs": [
    {
     "ename": "ERROR",
     "evalue": "Error in eval(expr, envir, enclos): object 'temp1' not found\n",
     "output_type": "error",
     "traceback": [
      "Error in eval(expr, envir, enclos): object 'temp1' not found\nTraceback:\n"
     ]
    }
   ],
   "source": [
    "league_id <-temp1$league_id\n",
    "player_id <- temp1$home_player_11\n",
    "dd11 <- data.frame(league_id,player_id)\n",
    "dd11"
   ]
  },
  {
   "cell_type": "code",
   "execution_count": 68,
   "metadata": {
    "collapsed": false
   },
   "outputs": [
    {
     "ename": "ERROR",
     "evalue": "Error in eval(expr, envir, enclos): object 'temp1' not found\n",
     "output_type": "error",
     "traceback": [
      "Error in eval(expr, envir, enclos): object 'temp1' not found\nTraceback:\n"
     ]
    }
   ],
   "source": [
    "league_id <-temp1$league_id\n",
    "player_id <- temp1$away_player_1\n",
    "da1 <- data.frame(league_id,player_id)\n",
    "da1"
   ]
  },
  {
   "cell_type": "code",
   "execution_count": 69,
   "metadata": {
    "collapsed": false
   },
   "outputs": [
    {
     "ename": "ERROR",
     "evalue": "Error in eval(expr, envir, enclos): object 'temp1' not found\n",
     "output_type": "error",
     "traceback": [
      "Error in eval(expr, envir, enclos): object 'temp1' not found\nTraceback:\n"
     ]
    }
   ],
   "source": [
    "league_id <-temp1$league_id\n",
    "player_id <- temp1$away_player_2\n",
    "da2 <- data.frame(league_id,player_id)\n",
    "da2"
   ]
  },
  {
   "cell_type": "code",
   "execution_count": 70,
   "metadata": {
    "collapsed": false
   },
   "outputs": [
    {
     "ename": "ERROR",
     "evalue": "Error in eval(expr, envir, enclos): object 'temp1' not found\n",
     "output_type": "error",
     "traceback": [
      "Error in eval(expr, envir, enclos): object 'temp1' not found\nTraceback:\n"
     ]
    }
   ],
   "source": [
    "league_id <-temp1$league_id\n",
    "player_id <- temp1$away_player_3\n",
    "da3 <- data.frame(league_id,player_id)\n",
    "da3"
   ]
  },
  {
   "cell_type": "code",
   "execution_count": 71,
   "metadata": {
    "collapsed": false
   },
   "outputs": [
    {
     "ename": "ERROR",
     "evalue": "Error in eval(expr, envir, enclos): object 'temp1' not found\n",
     "output_type": "error",
     "traceback": [
      "Error in eval(expr, envir, enclos): object 'temp1' not found\nTraceback:\n"
     ]
    }
   ],
   "source": [
    "league_id <-temp1$league_id\n",
    "player_id <- temp1$away_player_4\n",
    "da4 <- data.frame(league_id,player_id)\n",
    "da4"
   ]
  },
  {
   "cell_type": "code",
   "execution_count": 72,
   "metadata": {
    "collapsed": false
   },
   "outputs": [
    {
     "ename": "ERROR",
     "evalue": "Error in eval(expr, envir, enclos): object 'temp1' not found\n",
     "output_type": "error",
     "traceback": [
      "Error in eval(expr, envir, enclos): object 'temp1' not found\nTraceback:\n"
     ]
    }
   ],
   "source": [
    "league_id <-temp1$league_id\n",
    "player_id <- temp1$away_player_5\n",
    "da5 <- data.frame(league_id,player_id)\n",
    "da5"
   ]
  },
  {
   "cell_type": "code",
   "execution_count": 73,
   "metadata": {
    "collapsed": false
   },
   "outputs": [
    {
     "ename": "ERROR",
     "evalue": "Error in eval(expr, envir, enclos): object 'temp1' not found\n",
     "output_type": "error",
     "traceback": [
      "Error in eval(expr, envir, enclos): object 'temp1' not found\nTraceback:\n"
     ]
    }
   ],
   "source": [
    "league_id <-temp1$league_id\n",
    "player_id <- temp1$away_player_6\n",
    "da6 <- data.frame(league_id,player_id)\n",
    "da6"
   ]
  },
  {
   "cell_type": "code",
   "execution_count": 74,
   "metadata": {
    "collapsed": false
   },
   "outputs": [
    {
     "ename": "ERROR",
     "evalue": "Error in eval(expr, envir, enclos): object 'temp1' not found\n",
     "output_type": "error",
     "traceback": [
      "Error in eval(expr, envir, enclos): object 'temp1' not found\nTraceback:\n"
     ]
    }
   ],
   "source": [
    "league_id <-temp1$league_id\n",
    "player_id <- temp1$away_player_7\n",
    "da7 <- data.frame(league_id,player_id)\n",
    "da7"
   ]
  },
  {
   "cell_type": "code",
   "execution_count": 75,
   "metadata": {
    "collapsed": false
   },
   "outputs": [
    {
     "ename": "ERROR",
     "evalue": "Error in eval(expr, envir, enclos): object 'temp1' not found\n",
     "output_type": "error",
     "traceback": [
      "Error in eval(expr, envir, enclos): object 'temp1' not found\nTraceback:\n"
     ]
    }
   ],
   "source": [
    "league_id <-temp1$league_id\n",
    "player_id <- temp1$away_player_8\n",
    "da8 <- data.frame(league_id,player_id)\n",
    "da8"
   ]
  },
  {
   "cell_type": "code",
   "execution_count": 76,
   "metadata": {
    "collapsed": false
   },
   "outputs": [
    {
     "ename": "ERROR",
     "evalue": "Error in eval(expr, envir, enclos): object 'temp1' not found\n",
     "output_type": "error",
     "traceback": [
      "Error in eval(expr, envir, enclos): object 'temp1' not found\nTraceback:\n"
     ]
    }
   ],
   "source": [
    "league_id <-temp1$league_id\n",
    "player_id <- temp1$away_player_9\n",
    "da9 <- data.frame(league_id,player_id)\n",
    "da9"
   ]
  },
  {
   "cell_type": "code",
   "execution_count": 77,
   "metadata": {
    "collapsed": false
   },
   "outputs": [
    {
     "ename": "ERROR",
     "evalue": "Error in eval(expr, envir, enclos): object 'temp1' not found\n",
     "output_type": "error",
     "traceback": [
      "Error in eval(expr, envir, enclos): object 'temp1' not found\nTraceback:\n"
     ]
    }
   ],
   "source": [
    "league_id <-temp1$league_id\n",
    "player_id <- temp1$away_player_10\n",
    "da10 <- data.frame(league_id,player_id)\n",
    "da10"
   ]
  },
  {
   "cell_type": "code",
   "execution_count": 78,
   "metadata": {
    "collapsed": false
   },
   "outputs": [
    {
     "ename": "ERROR",
     "evalue": "Error in eval(expr, envir, enclos): object 'temp1' not found\n",
     "output_type": "error",
     "traceback": [
      "Error in eval(expr, envir, enclos): object 'temp1' not found\nTraceback:\n"
     ]
    }
   ],
   "source": [
    "league_id <-temp1$league_id\n",
    "player_id <- temp1$away_player_11\n",
    "da11 <- data.frame(league_id,player_id)\n",
    "da11"
   ]
  },
  {
   "cell_type": "code",
   "execution_count": 79,
   "metadata": {
    "collapsed": false
   },
   "outputs": [
    {
     "ename": "ERROR",
     "evalue": "Error in rbind(dd1, dd2, dd3, dd4, dd5, dd6, dd7, dd8, dd9, dd10, dd1, : object 'dd1' not found\n",
     "output_type": "error",
     "traceback": [
      "Error in rbind(dd1, dd2, dd3, dd4, dd5, dd6, dd7, dd8, dd9, dd10, dd1, : object 'dd1' not found\nTraceback:\n",
      "1. rbind(dd1, dd2, dd3, dd4, dd5, dd6, dd7, dd8, dd9, dd10, dd1, \n .     da1, da2, da3, da4, da5, da6, da7, da8, da9, da10, da11)"
     ]
    }
   ],
   "source": [
    "y <- rbind(dd1,dd2,dd3,dd4,dd5,dd6,dd7,dd8,dd9,dd10,dd1,da1,da2,da3,da4,da5,da6,da7,da8,da9,da10,da11)"
   ]
  },
  {
   "cell_type": "code",
   "execution_count": null,
   "metadata": {
    "collapsed": false
   },
   "outputs": [],
   "source": [
    "y1"
   ]
  },
  {
   "cell_type": "code",
   "execution_count": 80,
   "metadata": {
    "collapsed": false
   },
   "outputs": [
    {
     "ename": "ERROR",
     "evalue": "Error in unique(y1): object 'y1' not found\n",
     "output_type": "error",
     "traceback": [
      "Error in unique(y1): object 'y1' not found\nTraceback:\n",
      "1. unique(y1)"
     ]
    }
   ],
   "source": [
    "unique_data <- unique(y1)"
   ]
  },
  {
   "cell_type": "code",
   "execution_count": null,
   "metadata": {
    "collapsed": false
   },
   "outputs": [],
   "source": [
    "unique_data"
   ]
  },
  {
   "cell_type": "code",
   "execution_count": 81,
   "metadata": {
    "collapsed": false
   },
   "outputs": [
    {
     "ename": "ERROR",
     "evalue": "Error in group_by_(.data, .dots = lazyeval::lazy_dots(...), add = add): object 'unique_data' not found\n",
     "output_type": "error",
     "traceback": [
      "Error in group_by_(.data, .dots = lazyeval::lazy_dots(...), add = add): object 'unique_data' not found\nTraceback:\n",
      "1. group_by(unique_data, player_id)",
      "2. group_by_(.data, .dots = lazyeval::lazy_dots(...), add = add)"
     ]
    }
   ],
   "source": [
    "l1 <- group_by(unique_data, player_id)\n",
    "l2 <- summarise(l1,\n",
    "                count = n())"
   ]
  },
  {
   "cell_type": "code",
   "execution_count": null,
   "metadata": {
    "collapsed": false
   },
   "outputs": [],
   "source": [
    "colnames(l2) <- c(\"player_api_id\",\"no_of_leagues\")\n",
    "l2"
   ]
  },
  {
   "cell_type": "code",
   "execution_count": 82,
   "metadata": {
    "collapsed": false
   },
   "outputs": [
    {
     "ename": "ERROR",
     "evalue": "Error in eval(expr, envir, enclos): object 'players' not found\n",
     "output_type": "error",
     "traceback": [
      "Error in eval(expr, envir, enclos): object 'players' not found\nTraceback:\n"
     ]
    }
   ],
   "source": [
    "players"
   ]
  },
  {
   "cell_type": "code",
   "execution_count": 83,
   "metadata": {
    "collapsed": false
   },
   "outputs": [
    {
     "ename": "ERROR",
     "evalue": "Error in eval(expr, envir, enclos): object 'players' not found\n",
     "output_type": "error",
     "traceback": [
      "Error in eval(expr, envir, enclos): object 'players' not found\nTraceback:\n"
     ]
    }
   ],
   "source": [
    "player_api_id <- players$player_api_id\n",
    "overall_rating <- players$ovr_rating\n",
    "gk_rating <- players$gk_rating\n",
    "player_name <- players$player_name"
   ]
  },
  {
   "cell_type": "code",
   "execution_count": null,
   "metadata": {
    "collapsed": true
   },
   "outputs": [],
   "source": [
    "player1 <- data.frame(player_api_id,overall_rating,gk_rating,player_name)"
   ]
  },
  {
   "cell_type": "code",
   "execution_count": 84,
   "metadata": {
    "collapsed": false
   },
   "outputs": [
    {
     "ename": "ERROR",
     "evalue": "Error in eval(expr, envir, enclos): object 'player1' not found\n",
     "output_type": "error",
     "traceback": [
      "Error in eval(expr, envir, enclos): object 'player1' not found\nTraceback:\n"
     ]
    }
   ],
   "source": [
    "player1"
   ]
  },
  {
   "cell_type": "code",
   "execution_count": 85,
   "metadata": {
    "collapsed": false
   },
   "outputs": [
    {
     "ename": "ERROR",
     "evalue": "Error in eval(expr, envir, enclos): object 'player1' not found\n",
     "output_type": "error",
     "traceback": [
      "Error in eval(expr, envir, enclos): object 'player1' not found\nTraceback:\n",
      "1. player1 %>% left_join(tg2, by = \"player_api_id\")",
      "2. eval(lhs, parent, parent)",
      "3. eval(expr, envir, enclos)"
     ]
    }
   ],
   "source": [
    "player2 <- player1 %>% left_join(tg2, by = \"player_api_id\")"
   ]
  },
  {
   "cell_type": "code",
   "execution_count": null,
   "metadata": {
    "collapsed": false
   },
   "outputs": [],
   "source": [
    "player2"
   ]
  },
  {
   "cell_type": "code",
   "execution_count": 86,
   "metadata": {
    "collapsed": false
   },
   "outputs": [
    {
     "ename": "ERROR",
     "evalue": "Error in eval(expr, envir, enclos): object 'player2' not found\n",
     "output_type": "error",
     "traceback": [
      "Error in eval(expr, envir, enclos): object 'player2' not found\nTraceback:\n",
      "1. player2 %>% left_join(l2, by = \"player_api_id\")",
      "2. eval(lhs, parent, parent)",
      "3. eval(expr, envir, enclos)"
     ]
    }
   ],
   "source": [
    "player3 <- player2 %>% left_join(l2, by = \"player_api_id\")"
   ]
  },
  {
   "cell_type": "code",
   "execution_count": null,
   "metadata": {
    "collapsed": false
   },
   "outputs": [],
   "source": [
    "player3"
   ]
  },
  {
   "cell_type": "code",
   "execution_count": 87,
   "metadata": {
    "collapsed": false
   },
   "outputs": [
    {
     "ename": "ERROR",
     "evalue": "Error in is.data.frame(x): object 'player3' not found\n",
     "output_type": "error",
     "traceback": [
      "Error in is.data.frame(x): object 'player3' not found\nTraceback:\n",
      "1. write.csv(file = \"Players.csv\", player3)",
      "2. eval.parent(Call)",
      "3. eval(expr, p)",
      "4. eval(expr, envir, enclos)",
      "5. write.table(file = \"Players.csv\", player3, col.names = NA, sep = \",\", \n .     dec = \".\", qmethod = \"double\")",
      "6. is.data.frame(x)"
     ]
    }
   ],
   "source": [
    "write.csv(file=\"Players.csv\",player3)"
   ]
  },
  {
   "cell_type": "code",
   "execution_count": null,
   "metadata": {
    "collapsed": false
   },
   "outputs": [],
   "source": [
    "t3"
   ]
  },
  {
   "cell_type": "code",
   "execution_count": 88,
   "metadata": {
    "collapsed": false
   },
   "outputs": [
    {
     "ename": "ERROR",
     "evalue": "Error in eval(expr, envir, enclos): object 'temp1' not found\n",
     "output_type": "error",
     "traceback": [
      "Error in eval(expr, envir, enclos): object 'temp1' not found\nTraceback:\n"
     ]
    }
   ],
   "source": [
    "temp1"
   ]
  },
  {
   "cell_type": "code",
   "execution_count": 89,
   "metadata": {
    "collapsed": false
   },
   "outputs": [
    {
     "ename": "ERROR",
     "evalue": "Error in eval(expr, envir, enclos): object 'temp1' not found\n",
     "output_type": "error",
     "traceback": [
      "Error in eval(expr, envir, enclos): object 'temp1' not found\nTraceback:\n"
     ]
    }
   ],
   "source": [
    "team_api_id <-temp1$home_team_api_id\n",
    "team_goal <- temp1$home_team_goal\n",
    "tg1 <- data.frame(team_api_id,team_goal)\n",
    "tg1"
   ]
  },
  {
   "cell_type": "code",
   "execution_count": 90,
   "metadata": {
    "collapsed": false
   },
   "outputs": [
    {
     "ename": "ERROR",
     "evalue": "Error in eval(expr, envir, enclos): object 'temp1' not found\n",
     "output_type": "error",
     "traceback": [
      "Error in eval(expr, envir, enclos): object 'temp1' not found\nTraceback:\n"
     ]
    }
   ],
   "source": [
    "team_api_id <-temp1$away_team_api_id\n",
    "team_goal <- temp1$away_team_goal\n",
    "tg2 <- data.frame(team_api_id,team_goal)\n",
    "tg2"
   ]
  },
  {
   "cell_type": "code",
   "execution_count": 91,
   "metadata": {
    "collapsed": false
   },
   "outputs": [
    {
     "ename": "ERROR",
     "evalue": "Error in eval(expr, envir, enclos): object 'teams' not found\n",
     "output_type": "error",
     "traceback": [
      "Error in eval(expr, envir, enclos): object 'teams' not found\nTraceback:\n"
     ]
    }
   ],
   "source": [
    "teams"
   ]
  },
  {
   "cell_type": "code",
   "execution_count": 92,
   "metadata": {
    "collapsed": false
   },
   "outputs": [
    {
     "ename": "ERROR",
     "evalue": "Error in eval(expr, envir, enclos): object 'teams' not found\n",
     "output_type": "error",
     "traceback": [
      "Error in eval(expr, envir, enclos): object 'teams' not found\nTraceback:\n"
     ]
    }
   ],
   "source": [
    "team_api_id <- teams$team_api_id\n",
    "buildupPlay <- teams$buildupPlay\n",
    "chanceCreation <- teams$chanceCreation\n",
    "defence <- teams$defence\n",
    "team_name <- teams$team_long_name\n",
    "teams <- data.frame(team_api_id,buildupPlay,chanceCreation,defence,team_name)"
   ]
  },
  {
   "cell_type": "code",
   "execution_count": null,
   "metadata": {
    "collapsed": false
   },
   "outputs": [],
   "source": [
    "teams"
   ]
  },
  {
   "cell_type": "code",
   "execution_count": 93,
   "metadata": {
    "collapsed": false
   },
   "outputs": [
    {
     "ename": "ERROR",
     "evalue": "Error in rbind(tg1, tg2): object 'tg1' not found\n",
     "output_type": "error",
     "traceback": [
      "Error in rbind(tg1, tg2): object 'tg1' not found\nTraceback:\n",
      "1. rbind(tg1, tg2)"
     ]
    }
   ],
   "source": [
    "tt1 <- rbind(tg1,tg2)"
   ]
  },
  {
   "cell_type": "code",
   "execution_count": null,
   "metadata": {
    "collapsed": false
   },
   "outputs": [],
   "source": [
    "tt1"
   ]
  },
  {
   "cell_type": "code",
   "execution_count": 94,
   "metadata": {
    "collapsed": false
   },
   "outputs": [
    {
     "ename": "ERROR",
     "evalue": "Error in group_by_(.data, .dots = lazyeval::lazy_dots(...), add = add): object 'tt1' not found\n",
     "output_type": "error",
     "traceback": [
      "Error in group_by_(.data, .dots = lazyeval::lazy_dots(...), add = add): object 'tt1' not found\nTraceback:\n",
      "1. group_by(tt1, team_api_id)",
      "2. group_by_(.data, .dots = lazyeval::lazy_dots(...), add = add)"
     ]
    }
   ],
   "source": [
    "t1 <- group_by(tt1, team_api_id)\n",
    "t2 <- summarise(t1, no_goals = sum(team_goal))"
   ]
  },
  {
   "cell_type": "code",
   "execution_count": null,
   "metadata": {
    "collapsed": false
   },
   "outputs": [],
   "source": [
    "t2"
   ]
  },
  {
   "cell_type": "code",
   "execution_count": 95,
   "metadata": {
    "collapsed": false
   },
   "outputs": [
    {
     "ename": "ERROR",
     "evalue": "Error in eval(expr, envir, enclos): object 'teams' not found\n",
     "output_type": "error",
     "traceback": [
      "Error in eval(expr, envir, enclos): object 'teams' not found\nTraceback:\n",
      "1. teams %>% left_join(t2, by = \"team_api_id\")",
      "2. eval(lhs, parent, parent)",
      "3. eval(expr, envir, enclos)"
     ]
    }
   ],
   "source": [
    "team_final <- teams %>% left_join(t2, by=\"team_api_id\")"
   ]
  },
  {
   "cell_type": "code",
   "execution_count": null,
   "metadata": {
    "collapsed": false
   },
   "outputs": [],
   "source": [
    "team_final"
   ]
  },
  {
   "cell_type": "code",
   "execution_count": 96,
   "metadata": {
    "collapsed": false
   },
   "outputs": [
    {
     "ename": "ERROR",
     "evalue": "Error in is.data.frame(x): object 'team_final' not found\n",
     "output_type": "error",
     "traceback": [
      "Error in is.data.frame(x): object 'team_final' not found\nTraceback:\n",
      "1. write.csv(file = \"Teams.csv\", team_final)",
      "2. eval.parent(Call)",
      "3. eval(expr, p)",
      "4. eval(expr, envir, enclos)",
      "5. write.table(file = \"Teams.csv\", team_final, col.names = NA, sep = \",\", \n .     dec = \".\", qmethod = \"double\")",
      "6. is.data.frame(x)"
     ]
    }
   ],
   "source": [
    "write.csv(file=\"Teams.csv\",team_final)"
   ]
  },
  {
   "cell_type": "code",
   "execution_count": null,
   "metadata": {
    "collapsed": true
   },
   "outputs": [],
   "source": []
  }
 ],
 "metadata": {
  "kernelspec": {
   "display_name": "R",
   "language": "R",
   "name": "ir"
  },
  "language_info": {
   "codemirror_mode": "r",
   "file_extension": ".r",
   "mimetype": "text/x-r-source",
   "name": "R",
   "pygments_lexer": "r",
   "version": "3.3.2"
  }
 },
 "nbformat": 4,
 "nbformat_minor": 2
}
