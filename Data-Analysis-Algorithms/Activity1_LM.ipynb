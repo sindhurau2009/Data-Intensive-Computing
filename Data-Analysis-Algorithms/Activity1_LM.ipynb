{
 "cells": [
  {
   "cell_type": "code",
   "execution_count": 1,
   "metadata": {
    "collapsed": false
   },
   "outputs": [
    {
     "data": {
      "text/html": [
       "<table>\n",
       "<thead><tr><th scope=col>Rank</th><th scope=col>Player</th><th scope=col>Team</th><th scope=col>Pos</th><th scope=col>X1st.NHL.Season</th><th scope=col>Last.NHL.Season</th><th scope=col>GP</th><th scope=col>G</th><th scope=col>A</th><th scope=col>P</th><th scope=col>X...</th><th scope=col>PIM</th><th scope=col>PP</th><th scope=col>SH</th><th scope=col>GW</th><th scope=col>GT</th><th scope=col>OT</th><th scope=col>Shots</th></tr></thead>\n",
       "<tbody>\n",
       "\t<tr><td> 1              </td><td>Wayne Gretzky   </td><td>                </td><td>C               </td><td>1979-1980       </td><td>1998-1999       </td><td>1487            </td><td>894             </td><td>1963            </td><td>2857            </td><td>518             </td><td> 577            </td><td>204             </td><td>73              </td><td> 91             </td><td>12              </td><td> 1              </td><td>5089            </td></tr>\n",
       "\t<tr><td> 2              </td><td>Mark Messier    </td><td>                </td><td>C               </td><td>1979-1980       </td><td>2003-2004       </td><td>1756            </td><td>694             </td><td>1193            </td><td>1887            </td><td>210             </td><td>1910            </td><td>179             </td><td>63              </td><td> 92             </td><td>15              </td><td> 7              </td><td>4219            </td></tr>\n",
       "\t<tr><td> 3              </td><td>Gordie Howe     </td><td>                </td><td>R               </td><td>1946-1947       </td><td>1979-1980       </td><td>1767            </td><td>801             </td><td>1049            </td><td>1850            </td><td> 87             </td><td>1685            </td><td> 39             </td><td> 5              </td><td> 18             </td><td>NA              </td><td>NA              </td><td>  NA            </td></tr>\n",
       "\t<tr><td> 4              </td><td>Ron Francis     </td><td>                </td><td>C               </td><td>1981-1982       </td><td>2003-2004       </td><td>1731            </td><td>549             </td><td>1249            </td><td>1798            </td><td>-10             </td><td> 979            </td><td>188             </td><td>12              </td><td> 79             </td><td>13              </td><td> 3              </td><td>3754            </td></tr>\n",
       "\t<tr><td> 5              </td><td>Marcel Dionne   </td><td>                </td><td>C               </td><td>1971-1972       </td><td>1988-1989       </td><td>1348            </td><td>731             </td><td>1040            </td><td>1771            </td><td> 28             </td><td> 600            </td><td>234             </td><td>19              </td><td> 74             </td><td> 1              </td><td> 2              </td><td>5366            </td></tr>\n",
       "\t<tr><td> 6              </td><td>Steve Yzerman   </td><td>                </td><td>C               </td><td>1983-1984       </td><td>2005-2006       </td><td>1514            </td><td>692             </td><td>1063            </td><td>1755            </td><td>202             </td><td> 924            </td><td>202             </td><td>50              </td><td> 94             </td><td>12              </td><td> 8              </td><td>4602            </td></tr>\n",
       "\t<tr><td> 7              </td><td>Mario Lemieux   </td><td>                </td><td>C               </td><td>1984-1985       </td><td>2005-2006       </td><td> 915            </td><td>690             </td><td>1033            </td><td>1723            </td><td>115             </td><td> 834            </td><td>236             </td><td>49              </td><td> 74             </td><td> 7              </td><td> 7              </td><td>3633            </td></tr>\n",
       "\t<tr><td> 8              </td><td>Jaromir Jagr    </td><td>NJD             </td><td>R               </td><td>1990-1991       </td><td>2012-2013       </td><td>1391            </td><td>681             </td><td>1007            </td><td>1688            </td><td>278             </td><td> 959            </td><td>195             </td><td>11              </td><td>118             </td><td>11              </td><td>17              </td><td>4881            </td></tr>\n",
       "\t<tr><td> 9              </td><td>Joe Sakic       </td><td>                </td><td>C               </td><td>1988-1989       </td><td>2008-2009       </td><td>1378            </td><td>625             </td><td>1016            </td><td>1641            </td><td> 30             </td><td> 614            </td><td>205             </td><td>32              </td><td> 86             </td><td>13              </td><td> 7              </td><td>4621            </td></tr>\n",
       "\t<tr><td>10              </td><td>Phil Esposito   </td><td>                </td><td>C               </td><td>1963-1964       </td><td>1980-1981       </td><td>1282            </td><td>717             </td><td> 873            </td><td>1590            </td><td>197             </td><td> 910            </td><td>249             </td><td>23              </td><td>118             </td><td>NA              </td><td>NA              </td><td>  NA            </td></tr>\n",
       "\t<tr><td>11              </td><td>Ray Bourque     </td><td>                </td><td>D               </td><td>1979-1980       </td><td>2000-2001       </td><td>1612            </td><td>410             </td><td>1169            </td><td>1579            </td><td>528             </td><td>1141            </td><td>173             </td><td>16              </td><td> 60             </td><td>14              </td><td> 4              </td><td>6206            </td></tr>\n",
       "\t<tr><td>12              </td><td>Mark Recchi     </td><td>                </td><td>R               </td><td>1988-1989       </td><td>2010-2011       </td><td>1652            </td><td>577             </td><td> 956            </td><td>1533            </td><td>  0             </td><td>1033            </td><td>200             </td><td>18              </td><td> 91             </td><td> 6              </td><td> 6              </td><td>3820            </td></tr>\n",
       "\t<tr><td>13              </td><td>Paul Coffey     </td><td>                </td><td>D               </td><td>1980-1981       </td><td>2000-2001       </td><td>1409            </td><td>396             </td><td>1135            </td><td>1531            </td><td>294             </td><td>1802            </td><td>135             </td><td>20              </td><td> 43             </td><td> 4              </td><td> 0              </td><td>4385            </td></tr>\n",
       "\t<tr><td>14              </td><td>Stan Mikita     </td><td>                </td><td>C               </td><td>1958-1959       </td><td>1979-1980       </td><td>1394            </td><td>541             </td><td> 926            </td><td>1467            </td><td>159             </td><td>1270            </td><td> 86             </td><td> 9              </td><td> 48             </td><td>NA              </td><td>NA              </td><td>  NA            </td></tr>\n",
       "\t<tr><td>15              </td><td>Teemu Selanne   </td><td>                </td><td>R               </td><td>1992-1993       </td><td>2012-2013       </td><td>1387            </td><td>675             </td><td> 755            </td><td>1430            </td><td> 87             </td><td> 648            </td><td>251             </td><td> 7              </td><td>107             </td><td>11              </td><td> 9              </td><td>4429            </td></tr>\n",
       "\t<tr><td>16              </td><td>Bryan Trottier  </td><td>                </td><td>C               </td><td>1975-1976       </td><td>1993-1994       </td><td>1279            </td><td>524             </td><td> 901            </td><td>1425            </td><td>452             </td><td> 912            </td><td>161             </td><td>19              </td><td> 68             </td><td> 2              </td><td> 0              </td><td>2841            </td></tr>\n",
       "\t<tr><td>17              </td><td>Adam Oates      </td><td>                </td><td>C               </td><td>1985-1986       </td><td>2003-2004       </td><td>1337            </td><td>341             </td><td>1079            </td><td>1420            </td><td> 35             </td><td> 415            </td><td>103             </td><td>12              </td><td> 56             </td><td> 6              </td><td> 5              </td><td>2392            </td></tr>\n",
       "\t<tr><td>18              </td><td>Doug Gilmour    </td><td>                </td><td>C               </td><td>1983-1984       </td><td>2002-2003       </td><td>1474            </td><td>450             </td><td> 964            </td><td>1414            </td><td>132             </td><td>1301            </td><td>153             </td><td>18              </td><td> 56             </td><td>15              </td><td> 2              </td><td>2833            </td></tr>\n",
       "\t<tr><td>19              </td><td>Dale Hawerchuk  </td><td>                </td><td>C               </td><td>1981-1982       </td><td>1996-1997       </td><td>1188            </td><td>518             </td><td> 891            </td><td>1409            </td><td>-92             </td><td> 740            </td><td>182             </td><td>13              </td><td> 49             </td><td> 3              </td><td> 2              </td><td>3754            </td></tr>\n",
       "\t<tr><td>20              </td><td>Jari Kurri      </td><td>                </td><td>R               </td><td>1980-1981       </td><td>1997-1998       </td><td>1251            </td><td>601             </td><td> 797            </td><td>1398            </td><td>282             </td><td> 545            </td><td>150             </td><td>37              </td><td> 67             </td><td> 7              </td><td> 3              </td><td>3142            </td></tr>\n",
       "\t<tr><td>21              </td><td>Luc Robitaille  </td><td>                </td><td>L               </td><td>1986-1987       </td><td>2005-2006       </td><td>1431            </td><td>668             </td><td> 726            </td><td>1394            </td><td> 72             </td><td>1177            </td><td>247             </td><td> 3              </td><td> 89             </td><td>14              </td><td> 7              </td><td>3961            </td></tr>\n",
       "\t<tr><td>22              </td><td>Brett Hull      </td><td>                </td><td>R               </td><td>1985-1986       </td><td>2005-2006       </td><td>1269            </td><td>741             </td><td> 650            </td><td>1391            </td><td> 23             </td><td> 458            </td><td>265             </td><td>20              </td><td>110             </td><td>12              </td><td>12              </td><td>4876            </td></tr>\n",
       "\t<tr><td>23              </td><td>Mike Modano     </td><td>                </td><td>C               </td><td>1988-1989       </td><td>2010-2011       </td><td>1499            </td><td>561             </td><td> 813            </td><td>1374            </td><td>114             </td><td> 926            </td><td>157             </td><td>29              </td><td> 92             </td><td>15              </td><td> 9              </td><td>4273            </td></tr>\n",
       "\t<tr><td>24              </td><td>John Bucyk      </td><td>                </td><td>L               </td><td>1955-1956       </td><td>1977-1978       </td><td>1540            </td><td>556             </td><td> 813            </td><td>1369            </td><td>146             </td><td> 497            </td><td>121             </td><td> 1              </td><td> 59             </td><td>NA              </td><td>NA              </td><td>  NA            </td></tr>\n",
       "\t<tr><td>25              </td><td>Brendan Shanahan</td><td>                </td><td>L               </td><td>1987-1988       </td><td>2008-2009       </td><td>1524            </td><td>656             </td><td> 698            </td><td>1354            </td><td>151             </td><td>2489            </td><td>237             </td><td>23              </td><td>109             </td><td>15              </td><td>12              </td><td>5086            </td></tr>\n",
       "\t<tr><td>26              </td><td>Guy Lafleur     </td><td>                </td><td>R               </td><td>1971-1972       </td><td>1990-1991       </td><td>1126            </td><td>560             </td><td> 793            </td><td>1353            </td><td>453             </td><td> 399            </td><td>153             </td><td> 3              </td><td> 97             </td><td> 0              </td><td> 0              </td><td>3521            </td></tr>\n",
       "\t<tr><td>27              </td><td>Mats Sundin     </td><td>                </td><td>C               </td><td>1990-1991       </td><td>2008-2009       </td><td>1346            </td><td>564             </td><td> 785            </td><td>1349            </td><td> 73             </td><td>1093            </td><td>160             </td><td>31              </td><td> 96             </td><td>11              </td><td>15              </td><td>4015            </td></tr>\n",
       "\t<tr><td>28              </td><td>Dave Andreychuk </td><td>                </td><td>L               </td><td>1982-1983       </td><td>2005-2006       </td><td>1639            </td><td>640             </td><td> 698            </td><td>1338            </td><td> 38             </td><td>1125            </td><td>274             </td><td>11              </td><td> 77             </td><td>17              </td><td> 5              </td><td>4556            </td></tr>\n",
       "\t<tr><td>29              </td><td>Denis Savard    </td><td>                </td><td>C               </td><td>1980-1981       </td><td>1996-1997       </td><td>1196            </td><td>473             </td><td> 865            </td><td>1338            </td><td> 97             </td><td>1336            </td><td>127             </td><td>20              </td><td> 56             </td><td> 4              </td><td> 1              </td><td>3143            </td></tr>\n",
       "\t<tr><td>30              </td><td>Mike Gartner    </td><td>                </td><td>R               </td><td>1979-1980       </td><td>1997-1998       </td><td>1432            </td><td>708             </td><td> 627            </td><td>1335            </td><td> 67             </td><td>1159            </td><td>217             </td><td>23              </td><td> 90             </td><td> 9              </td><td> 4              </td><td>5090            </td></tr>\n",
       "\t<tr><td>...</td><td>...</td><td>...</td><td>...</td><td>...</td><td>...</td><td>...</td><td>...</td><td>...</td><td>...</td><td>...</td><td>...</td><td>...</td><td>...</td><td>...</td><td>...</td><td>...</td><td>...</td></tr>\n",
       "\t<tr><td> 71            </td><td>Alex Kovalev   </td><td>               </td><td>R              </td><td>1992-1993      </td><td>2012-2013      </td><td>1316           </td><td>430            </td><td>599            </td><td>1029           </td><td> -31           </td><td>1304           </td><td>133            </td><td> 9             </td><td>70             </td><td> 8             </td><td> 8             </td><td>3585           </td></tr>\n",
       "\t<tr><td> 72            </td><td>Brian Leetch   </td><td>               </td><td>D              </td><td>1987-1988      </td><td>2005-2006      </td><td>1205           </td><td>247            </td><td>781            </td><td>1028           </td><td>  25           </td><td> 571           </td><td>111            </td><td> 8             </td><td>38             </td><td> 9             </td><td> 7             </td><td>3640           </td></tr>\n",
       "\t<tr><td> 73            </td><td>Brian Bellows  </td><td>               </td><td>L              </td><td>1982-1983      </td><td>1998-1999      </td><td>1188           </td><td>485            </td><td>537            </td><td>1022           </td><td>-125           </td><td> 718           </td><td>198            </td><td>13             </td><td>58             </td><td> 2             </td><td> 5             </td><td>3588           </td></tr>\n",
       "\t<tr><td> 74            </td><td>Rod Gilbert    </td><td>               </td><td>R              </td><td>1960-1961      </td><td>1977-1978      </td><td>1065           </td><td>406            </td><td>615            </td><td>1021           </td><td>  89           </td><td> 508           </td><td> 83            </td><td> 0             </td><td>40             </td><td>NA             </td><td>NA             </td><td>  NA           </td></tr>\n",
       "\t<tr><td> 75            </td><td>Dale Hunter    </td><td>               </td><td>C              </td><td>1980-1981      </td><td>1998-1999      </td><td>1407           </td><td>323            </td><td>697            </td><td>1020           </td><td>  98           </td><td>3565           </td><td> 92            </td><td>10             </td><td>41             </td><td> 5             </td><td> 3             </td><td>2045           </td></tr>\n",
       "\t<tr><td> 76            </td><td>Pat LaFontaine </td><td>               </td><td>C              </td><td>1983-1984      </td><td>1997-1998      </td><td> 865           </td><td>468            </td><td>545            </td><td>1013           </td><td>  -4           </td><td> 552           </td><td>156            </td><td>11             </td><td>59             </td><td>11             </td><td> 3             </td><td>2665           </td></tr>\n",
       "\t<tr><td> 77            </td><td>Steve Larmer   </td><td>               </td><td>R              </td><td>1980-1981      </td><td>1994-1995      </td><td>1006           </td><td>441            </td><td>571            </td><td>1012           </td><td> 204           </td><td> 532           </td><td>162            </td><td>24             </td><td>60             </td><td> 1             </td><td> 1             </td><td>2803           </td></tr>\n",
       "\t<tr><td> 78            </td><td>Lanny Mcdonald </td><td>               </td><td>R              </td><td>1973-1974      </td><td>1988-1989      </td><td>1111           </td><td>500            </td><td>506            </td><td>1006           </td><td>  41           </td><td> 899           </td><td>139            </td><td>11             </td><td>53             </td><td> 0             </td><td> 0             </td><td>3444           </td></tr>\n",
       "\t<tr><td> 79            </td><td>Brian Propp    </td><td>               </td><td>L              </td><td>1979-1980      </td><td>1993-1994      </td><td>1016           </td><td>425            </td><td>579            </td><td>1004           </td><td> 310           </td><td> 830           </td><td>120            </td><td>22             </td><td>59             </td><td> 1             </td><td> 1             </td><td>3111           </td></tr>\n",
       "\t<tr><td> 80            </td><td>Paul Kariya    </td><td>               </td><td>L              </td><td>1994-1995      </td><td>2009-2010      </td><td> 989           </td><td>402            </td><td>587            </td><td> 989           </td><td>  31           </td><td> 399           </td><td>139            </td><td>17             </td><td>53             </td><td> 4             </td><td> 4             </td><td>3509           </td></tr>\n",
       "\t<tr><td> 81            </td><td>Rick Middleton </td><td>               </td><td>R              </td><td>1974-1975      </td><td>1987-1988      </td><td>1005           </td><td>448            </td><td>540            </td><td> 988           </td><td> 180           </td><td> 157           </td><td>115            </td><td>25             </td><td>59             </td><td> 0             </td><td> 0             </td><td>2275           </td></tr>\n",
       "\t<tr><td> 82            </td><td>David Keon     </td><td>               </td><td>C              </td><td>1960-1961      </td><td>1981-1982      </td><td>1296           </td><td>396            </td><td>590            </td><td> 986           </td><td> -12           </td><td> 117           </td><td> 32            </td><td>24             </td><td>40             </td><td>NA             </td><td>NA             </td><td>  NA           </td></tr>\n",
       "\t<tr><td> 83            </td><td>Andy Bathgate  </td><td>               </td><td>R              </td><td>1952-1953      </td><td>1970-1971      </td><td>1069           </td><td>349            </td><td>624            </td><td> 973           </td><td> -22           </td><td> 624           </td><td>  9            </td><td> 0             </td><td> 7             </td><td>NA             </td><td>NA             </td><td>  NA           </td></tr>\n",
       "\t<tr><td> 84            </td><td>Maurice Richard</td><td>               </td><td>R              </td><td>1942-1943      </td><td>1959-1960      </td><td> 978           </td><td>544            </td><td>421            </td><td> 965           </td><td>  NA           </td><td>1285           </td><td> NA            </td><td>NA             </td><td>NA             </td><td>NA             </td><td>NA             </td><td>  NA           </td></tr>\n",
       "\t<tr><td> 85            </td><td>Kirk Muller    </td><td>               </td><td>L              </td><td>1984-1985      </td><td>2002-2003      </td><td>1349           </td><td>357            </td><td>602            </td><td> 959           </td><td>-146           </td><td>1223           </td><td>134            </td><td>11             </td><td>47             </td><td> 6             </td><td> 5             </td><td>2792           </td></tr>\n",
       "\t<tr><td> 86            </td><td>Larry Robinson </td><td>               </td><td>D              </td><td>1972-1973      </td><td>1991-1992      </td><td>1384           </td><td>208            </td><td>750            </td><td> 958           </td><td> 730           </td><td> 793           </td><td> 66            </td><td> 3             </td><td>29             </td><td> 2             </td><td> 0             </td><td>2338           </td></tr>\n",
       "\t<tr><td> 87            </td><td>Rick Tocchet   </td><td>               </td><td>R              </td><td>1984-1985      </td><td>2001-2002      </td><td>1144           </td><td>440            </td><td>512            </td><td> 952           </td><td>  82           </td><td>2972           </td><td>130            </td><td>13             </td><td>50             </td><td> 9             </td><td> 2             </td><td>2804           </td></tr>\n",
       "\t<tr><td> 88            </td><td>Chris Chelios  </td><td>               </td><td>D              </td><td>1983-1984      </td><td>2009-2010      </td><td>1651           </td><td>185            </td><td>763            </td><td> 948           </td><td> 350           </td><td>2891           </td><td> 69            </td><td>13             </td><td>31             </td><td> 5             </td><td> 1             </td><td>3626           </td></tr>\n",
       "\t<tr><td> 89            </td><td>Jason Arnott   </td><td>               </td><td>C              </td><td>1993-1994      </td><td>2011-2012      </td><td>1244           </td><td>417            </td><td>521            </td><td> 938           </td><td>  81           </td><td>1242           </td><td>145            </td><td> 2             </td><td>64             </td><td> 7             </td><td> 6             </td><td>3460           </td></tr>\n",
       "\t<tr><td> 90            </td><td>Marian Hossa   </td><td>CHI            </td><td>R              </td><td>1997-1998      </td><td>2012-2013      </td><td>1018           </td><td>434            </td><td>501            </td><td> 935           </td><td> 183           </td><td> 544           </td><td>126            </td><td>26             </td><td>70             </td><td> 5             </td><td>11             </td><td>3383           </td></tr>\n",
       "\t<tr><td> 91            </td><td>Steve Thomas   </td><td>               </td><td>R              </td><td>1984-1985      </td><td>2003-2004      </td><td>1235           </td><td>421            </td><td>512            </td><td> 933           </td><td>  30           </td><td>1306           </td><td>106            </td><td> 0             </td><td>78             </td><td> 7             </td><td>10             </td><td>3170           </td></tr>\n",
       "\t<tr><td> 92            </td><td>Patrik Elias   </td><td>NJD            </td><td>L              </td><td>1995-1996      </td><td>2012-2013      </td><td>1090           </td><td>375            </td><td>555            </td><td> 930           </td><td> 191           </td><td> 497           </td><td>104            </td><td>14             </td><td>78             </td><td> 4             </td><td>15             </td><td>3036           </td></tr>\n",
       "\t<tr><td> 93            </td><td>Neal Broten    </td><td>               </td><td>C              </td><td>1980-1981      </td><td>1996-1997      </td><td>1099           </td><td>289            </td><td>634            </td><td> 923           </td><td>  18           </td><td> 569           </td><td> 67            </td><td>25             </td><td>34             </td><td> 3             </td><td> 2             </td><td>2316           </td></tr>\n",
       "\t<tr><td> 94            </td><td>Bobby Orr      </td><td>               </td><td>D              </td><td>1966-1967      </td><td>1978-1979      </td><td> 657           </td><td>270            </td><td>645            </td><td> 915           </td><td> 597           </td><td> 953           </td><td> 73            </td><td>15             </td><td>26             </td><td>NA             </td><td>NA             </td><td>  NA           </td></tr>\n",
       "\t<tr><td> 95            </td><td>Martin St Louis</td><td>TBL            </td><td>R              </td><td>1998-1999      </td><td>2012-2013      </td><td> 979           </td><td>340            </td><td>572            </td><td> 912           </td><td>  12           </td><td> 280           </td><td> 87            </td><td>28             </td><td>60             </td><td> 5             </td><td> 9             </td><td>2536           </td></tr>\n",
       "\t<tr><td> 96            </td><td>Gary Roberts   </td><td>               </td><td>L              </td><td>1986-1987      </td><td>2008-2009      </td><td>1224           </td><td>438            </td><td>472            </td><td> 910           </td><td> 229           </td><td>2560           </td><td>109            </td><td>13             </td><td>52             </td><td>11             </td><td> 5             </td><td>2374           </td></tr>\n",
       "\t<tr><td> 97            </td><td>Scott Stevens  </td><td>               </td><td>D              </td><td>1982-1983      </td><td>2003-2004      </td><td>1635           </td><td>196            </td><td>712            </td><td> 908           </td><td> 377           </td><td>2785           </td><td> 75            </td><td> 5             </td><td>34             </td><td> 0             </td><td> 2             </td><td>3240           </td></tr>\n",
       "\t<tr><td> 98            </td><td>Tony Amonte    </td><td>               </td><td>R              </td><td>1990-1991      </td><td>2006-2007      </td><td>1174           </td><td>416            </td><td>484            </td><td> 900           </td><td>  96           </td><td> 752           </td><td>108            </td><td>23             </td><td>58             </td><td> 7             </td><td> 6             </td><td>3260           </td></tr>\n",
       "\t<tr><td> 99            </td><td>Ray Ferraro    </td><td>               </td><td>C              </td><td>1984-1985      </td><td>2001-2002      </td><td>1258           </td><td>408            </td><td>490            </td><td> 898           </td><td>-104           </td><td>1288           </td><td>130            </td><td> 0             </td><td>45             </td><td>11             </td><td> 6             </td><td>2164           </td></tr>\n",
       "\t<tr><td>100            </td><td>Brad Park      </td><td>               </td><td>D              </td><td>1968-1969      </td><td>1984-1985      </td><td>1113           </td><td>213            </td><td>683            </td><td> 896           </td><td> 358           </td><td>1429           </td><td> 93            </td><td> 5             </td><td>28             </td><td>NA             </td><td>NA             </td><td>2820           </td></tr>\n",
       "</tbody>\n",
       "</table>\n"
      ],
      "text/latex": [
       "\\begin{tabular}{r|llllllllllllllllll}\n",
       " Rank & Player & Team & Pos & X1st.NHL.Season & Last.NHL.Season & GP & G & A & P & X... & PIM & PP & SH & GW & GT & OT & Shots\\\\\n",
       "\\hline\n",
       "\t  1               & Wayne Gretzky    &                  & C                & 1979-1980        & 1998-1999        & 1487             & 894              & 1963             & 2857             & 518              &  577             & 204              & 73               &  91              & 12               &  1               & 5089            \\\\\n",
       "\t  2               & Mark Messier     &                  & C                & 1979-1980        & 2003-2004        & 1756             & 694              & 1193             & 1887             & 210              & 1910             & 179              & 63               &  92              & 15               &  7               & 4219            \\\\\n",
       "\t  3               & Gordie Howe      &                  & R                & 1946-1947        & 1979-1980        & 1767             & 801              & 1049             & 1850             &  87              & 1685             &  39              &  5               &  18              & NA               & NA               &   NA            \\\\\n",
       "\t  4               & Ron Francis      &                  & C                & 1981-1982        & 2003-2004        & 1731             & 549              & 1249             & 1798             & -10              &  979             & 188              & 12               &  79              & 13               &  3               & 3754            \\\\\n",
       "\t  5               & Marcel Dionne    &                  & C                & 1971-1972        & 1988-1989        & 1348             & 731              & 1040             & 1771             &  28              &  600             & 234              & 19               &  74              &  1               &  2               & 5366            \\\\\n",
       "\t  6               & Steve Yzerman    &                  & C                & 1983-1984        & 2005-2006        & 1514             & 692              & 1063             & 1755             & 202              &  924             & 202              & 50               &  94              & 12               &  8               & 4602            \\\\\n",
       "\t  7               & Mario Lemieux    &                  & C                & 1984-1985        & 2005-2006        &  915             & 690              & 1033             & 1723             & 115              &  834             & 236              & 49               &  74              &  7               &  7               & 3633            \\\\\n",
       "\t  8               & Jaromir Jagr     & NJD              & R                & 1990-1991        & 2012-2013        & 1391             & 681              & 1007             & 1688             & 278              &  959             & 195              & 11               & 118              & 11               & 17               & 4881            \\\\\n",
       "\t  9               & Joe Sakic        &                  & C                & 1988-1989        & 2008-2009        & 1378             & 625              & 1016             & 1641             &  30              &  614             & 205              & 32               &  86              & 13               &  7               & 4621            \\\\\n",
       "\t 10               & Phil Esposito    &                  & C                & 1963-1964        & 1980-1981        & 1282             & 717              &  873             & 1590             & 197              &  910             & 249              & 23               & 118              & NA               & NA               &   NA            \\\\\n",
       "\t 11               & Ray Bourque      &                  & D                & 1979-1980        & 2000-2001        & 1612             & 410              & 1169             & 1579             & 528              & 1141             & 173              & 16               &  60              & 14               &  4               & 6206            \\\\\n",
       "\t 12               & Mark Recchi      &                  & R                & 1988-1989        & 2010-2011        & 1652             & 577              &  956             & 1533             &   0              & 1033             & 200              & 18               &  91              &  6               &  6               & 3820            \\\\\n",
       "\t 13               & Paul Coffey      &                  & D                & 1980-1981        & 2000-2001        & 1409             & 396              & 1135             & 1531             & 294              & 1802             & 135              & 20               &  43              &  4               &  0               & 4385            \\\\\n",
       "\t 14               & Stan Mikita      &                  & C                & 1958-1959        & 1979-1980        & 1394             & 541              &  926             & 1467             & 159              & 1270             &  86              &  9               &  48              & NA               & NA               &   NA            \\\\\n",
       "\t 15               & Teemu Selanne    &                  & R                & 1992-1993        & 2012-2013        & 1387             & 675              &  755             & 1430             &  87              &  648             & 251              &  7               & 107              & 11               &  9               & 4429            \\\\\n",
       "\t 16               & Bryan Trottier   &                  & C                & 1975-1976        & 1993-1994        & 1279             & 524              &  901             & 1425             & 452              &  912             & 161              & 19               &  68              &  2               &  0               & 2841            \\\\\n",
       "\t 17               & Adam Oates       &                  & C                & 1985-1986        & 2003-2004        & 1337             & 341              & 1079             & 1420             &  35              &  415             & 103              & 12               &  56              &  6               &  5               & 2392            \\\\\n",
       "\t 18               & Doug Gilmour     &                  & C                & 1983-1984        & 2002-2003        & 1474             & 450              &  964             & 1414             & 132              & 1301             & 153              & 18               &  56              & 15               &  2               & 2833            \\\\\n",
       "\t 19               & Dale Hawerchuk   &                  & C                & 1981-1982        & 1996-1997        & 1188             & 518              &  891             & 1409             & -92              &  740             & 182              & 13               &  49              &  3               &  2               & 3754            \\\\\n",
       "\t 20               & Jari Kurri       &                  & R                & 1980-1981        & 1997-1998        & 1251             & 601              &  797             & 1398             & 282              &  545             & 150              & 37               &  67              &  7               &  3               & 3142            \\\\\n",
       "\t 21               & Luc Robitaille   &                  & L                & 1986-1987        & 2005-2006        & 1431             & 668              &  726             & 1394             &  72              & 1177             & 247              &  3               &  89              & 14               &  7               & 3961            \\\\\n",
       "\t 22               & Brett Hull       &                  & R                & 1985-1986        & 2005-2006        & 1269             & 741              &  650             & 1391             &  23              &  458             & 265              & 20               & 110              & 12               & 12               & 4876            \\\\\n",
       "\t 23               & Mike Modano      &                  & C                & 1988-1989        & 2010-2011        & 1499             & 561              &  813             & 1374             & 114              &  926             & 157              & 29               &  92              & 15               &  9               & 4273            \\\\\n",
       "\t 24               & John Bucyk       &                  & L                & 1955-1956        & 1977-1978        & 1540             & 556              &  813             & 1369             & 146              &  497             & 121              &  1               &  59              & NA               & NA               &   NA            \\\\\n",
       "\t 25               & Brendan Shanahan &                  & L                & 1987-1988        & 2008-2009        & 1524             & 656              &  698             & 1354             & 151              & 2489             & 237              & 23               & 109              & 15               & 12               & 5086            \\\\\n",
       "\t 26               & Guy Lafleur      &                  & R                & 1971-1972        & 1990-1991        & 1126             & 560              &  793             & 1353             & 453              &  399             & 153              &  3               &  97              &  0               &  0               & 3521            \\\\\n",
       "\t 27               & Mats Sundin      &                  & C                & 1990-1991        & 2008-2009        & 1346             & 564              &  785             & 1349             &  73              & 1093             & 160              & 31               &  96              & 11               & 15               & 4015            \\\\\n",
       "\t 28               & Dave Andreychuk  &                  & L                & 1982-1983        & 2005-2006        & 1639             & 640              &  698             & 1338             &  38              & 1125             & 274              & 11               &  77              & 17               &  5               & 4556            \\\\\n",
       "\t 29               & Denis Savard     &                  & C                & 1980-1981        & 1996-1997        & 1196             & 473              &  865             & 1338             &  97              & 1336             & 127              & 20               &  56              &  4               &  1               & 3143            \\\\\n",
       "\t 30               & Mike Gartner     &                  & R                & 1979-1980        & 1997-1998        & 1432             & 708              &  627             & 1335             &  67              & 1159             & 217              & 23               &  90              &  9               &  4               & 5090            \\\\\n",
       "\t ... & ... & ... & ... & ... & ... & ... & ... & ... & ... & ... & ... & ... & ... & ... & ... & ... & ...\\\\\n",
       "\t  71             & Alex Kovalev    &                 & R               & 1992-1993       & 2012-2013       & 1316            & 430             & 599             & 1029            &  -31            & 1304            & 133             &  9              & 70              &  8              &  8              & 3585           \\\\\n",
       "\t  72             & Brian Leetch    &                 & D               & 1987-1988       & 2005-2006       & 1205            & 247             & 781             & 1028            &   25            &  571            & 111             &  8              & 38              &  9              &  7              & 3640           \\\\\n",
       "\t  73             & Brian Bellows   &                 & L               & 1982-1983       & 1998-1999       & 1188            & 485             & 537             & 1022            & -125            &  718            & 198             & 13              & 58              &  2              &  5              & 3588           \\\\\n",
       "\t  74             & Rod Gilbert     &                 & R               & 1960-1961       & 1977-1978       & 1065            & 406             & 615             & 1021            &   89            &  508            &  83             &  0              & 40              & NA              & NA              &   NA           \\\\\n",
       "\t  75             & Dale Hunter     &                 & C               & 1980-1981       & 1998-1999       & 1407            & 323             & 697             & 1020            &   98            & 3565            &  92             & 10              & 41              &  5              &  3              & 2045           \\\\\n",
       "\t  76             & Pat LaFontaine  &                 & C               & 1983-1984       & 1997-1998       &  865            & 468             & 545             & 1013            &   -4            &  552            & 156             & 11              & 59              & 11              &  3              & 2665           \\\\\n",
       "\t  77             & Steve Larmer    &                 & R               & 1980-1981       & 1994-1995       & 1006            & 441             & 571             & 1012            &  204            &  532            & 162             & 24              & 60              &  1              &  1              & 2803           \\\\\n",
       "\t  78             & Lanny Mcdonald  &                 & R               & 1973-1974       & 1988-1989       & 1111            & 500             & 506             & 1006            &   41            &  899            & 139             & 11              & 53              &  0              &  0              & 3444           \\\\\n",
       "\t  79             & Brian Propp     &                 & L               & 1979-1980       & 1993-1994       & 1016            & 425             & 579             & 1004            &  310            &  830            & 120             & 22              & 59              &  1              &  1              & 3111           \\\\\n",
       "\t  80             & Paul Kariya     &                 & L               & 1994-1995       & 2009-2010       &  989            & 402             & 587             &  989            &   31            &  399            & 139             & 17              & 53              &  4              &  4              & 3509           \\\\\n",
       "\t  81             & Rick Middleton  &                 & R               & 1974-1975       & 1987-1988       & 1005            & 448             & 540             &  988            &  180            &  157            & 115             & 25              & 59              &  0              &  0              & 2275           \\\\\n",
       "\t  82             & David Keon      &                 & C               & 1960-1961       & 1981-1982       & 1296            & 396             & 590             &  986            &  -12            &  117            &  32             & 24              & 40              & NA              & NA              &   NA           \\\\\n",
       "\t  83             & Andy Bathgate   &                 & R               & 1952-1953       & 1970-1971       & 1069            & 349             & 624             &  973            &  -22            &  624            &   9             &  0              &  7              & NA              & NA              &   NA           \\\\\n",
       "\t  84             & Maurice Richard &                 & R               & 1942-1943       & 1959-1960       &  978            & 544             & 421             &  965            &   NA            & 1285            &  NA             & NA              & NA              & NA              & NA              &   NA           \\\\\n",
       "\t  85             & Kirk Muller     &                 & L               & 1984-1985       & 2002-2003       & 1349            & 357             & 602             &  959            & -146            & 1223            & 134             & 11              & 47              &  6              &  5              & 2792           \\\\\n",
       "\t  86             & Larry Robinson  &                 & D               & 1972-1973       & 1991-1992       & 1384            & 208             & 750             &  958            &  730            &  793            &  66             &  3              & 29              &  2              &  0              & 2338           \\\\\n",
       "\t  87             & Rick Tocchet    &                 & R               & 1984-1985       & 2001-2002       & 1144            & 440             & 512             &  952            &   82            & 2972            & 130             & 13              & 50              &  9              &  2              & 2804           \\\\\n",
       "\t  88             & Chris Chelios   &                 & D               & 1983-1984       & 2009-2010       & 1651            & 185             & 763             &  948            &  350            & 2891            &  69             & 13              & 31              &  5              &  1              & 3626           \\\\\n",
       "\t  89             & Jason Arnott    &                 & C               & 1993-1994       & 2011-2012       & 1244            & 417             & 521             &  938            &   81            & 1242            & 145             &  2              & 64              &  7              &  6              & 3460           \\\\\n",
       "\t  90             & Marian Hossa    & CHI             & R               & 1997-1998       & 2012-2013       & 1018            & 434             & 501             &  935            &  183            &  544            & 126             & 26              & 70              &  5              & 11              & 3383           \\\\\n",
       "\t  91             & Steve Thomas    &                 & R               & 1984-1985       & 2003-2004       & 1235            & 421             & 512             &  933            &   30            & 1306            & 106             &  0              & 78              &  7              & 10              & 3170           \\\\\n",
       "\t  92             & Patrik Elias    & NJD             & L               & 1995-1996       & 2012-2013       & 1090            & 375             & 555             &  930            &  191            &  497            & 104             & 14              & 78              &  4              & 15              & 3036           \\\\\n",
       "\t  93             & Neal Broten     &                 & C               & 1980-1981       & 1996-1997       & 1099            & 289             & 634             &  923            &   18            &  569            &  67             & 25              & 34              &  3              &  2              & 2316           \\\\\n",
       "\t  94             & Bobby Orr       &                 & D               & 1966-1967       & 1978-1979       &  657            & 270             & 645             &  915            &  597            &  953            &  73             & 15              & 26              & NA              & NA              &   NA           \\\\\n",
       "\t  95             & Martin St Louis & TBL             & R               & 1998-1999       & 2012-2013       &  979            & 340             & 572             &  912            &   12            &  280            &  87             & 28              & 60              &  5              &  9              & 2536           \\\\\n",
       "\t  96             & Gary Roberts    &                 & L               & 1986-1987       & 2008-2009       & 1224            & 438             & 472             &  910            &  229            & 2560            & 109             & 13              & 52              & 11              &  5              & 2374           \\\\\n",
       "\t  97             & Scott Stevens   &                 & D               & 1982-1983       & 2003-2004       & 1635            & 196             & 712             &  908            &  377            & 2785            &  75             &  5              & 34              &  0              &  2              & 3240           \\\\\n",
       "\t  98             & Tony Amonte     &                 & R               & 1990-1991       & 2006-2007       & 1174            & 416             & 484             &  900            &   96            &  752            & 108             & 23              & 58              &  7              &  6              & 3260           \\\\\n",
       "\t  99             & Ray Ferraro     &                 & C               & 1984-1985       & 2001-2002       & 1258            & 408             & 490             &  898            & -104            & 1288            & 130             &  0              & 45              & 11              &  6              & 2164           \\\\\n",
       "\t 100             & Brad Park       &                 & D               & 1968-1969       & 1984-1985       & 1113            & 213             & 683             &  896            &  358            & 1429            &  93             &  5              & 28              & NA              & NA              & 2820           \\\\\n",
       "\\end{tabular}\n"
      ],
      "text/markdown": [
       "\n",
       "Rank | Player | Team | Pos | X1st.NHL.Season | Last.NHL.Season | GP | G | A | P | X... | PIM | PP | SH | GW | GT | OT | Shots | \n",
       "|---|---|---|---|---|---|---|---|---|---|---|---|---|---|---|---|---|---|---|---|---|---|---|---|---|---|---|---|---|---|---|---|---|---|---|---|---|---|---|---|---|---|---|---|---|---|---|---|---|---|---|---|---|---|---|---|---|---|---|---|---|\n",
       "|  1               | Wayne Gretzky    |                  | C                | 1979-1980        | 1998-1999        | 1487             | 894              | 1963             | 2857             | 518              |  577             | 204              | 73               |  91              | 12               |  1               | 5089             | \n",
       "|  2               | Mark Messier     |                  | C                | 1979-1980        | 2003-2004        | 1756             | 694              | 1193             | 1887             | 210              | 1910             | 179              | 63               |  92              | 15               |  7               | 4219             | \n",
       "|  3               | Gordie Howe      |                  | R                | 1946-1947        | 1979-1980        | 1767             | 801              | 1049             | 1850             |  87              | 1685             |  39              |  5               |  18              | NA               | NA               |   NA             | \n",
       "|  4               | Ron Francis      |                  | C                | 1981-1982        | 2003-2004        | 1731             | 549              | 1249             | 1798             | -10              |  979             | 188              | 12               |  79              | 13               |  3               | 3754             | \n",
       "|  5               | Marcel Dionne    |                  | C                | 1971-1972        | 1988-1989        | 1348             | 731              | 1040             | 1771             |  28              |  600             | 234              | 19               |  74              |  1               |  2               | 5366             | \n",
       "|  6               | Steve Yzerman    |                  | C                | 1983-1984        | 2005-2006        | 1514             | 692              | 1063             | 1755             | 202              |  924             | 202              | 50               |  94              | 12               |  8               | 4602             | \n",
       "|  7               | Mario Lemieux    |                  | C                | 1984-1985        | 2005-2006        |  915             | 690              | 1033             | 1723             | 115              |  834             | 236              | 49               |  74              |  7               |  7               | 3633             | \n",
       "|  8               | Jaromir Jagr     | NJD              | R                | 1990-1991        | 2012-2013        | 1391             | 681              | 1007             | 1688             | 278              |  959             | 195              | 11               | 118              | 11               | 17               | 4881             | \n",
       "|  9               | Joe Sakic        |                  | C                | 1988-1989        | 2008-2009        | 1378             | 625              | 1016             | 1641             |  30              |  614             | 205              | 32               |  86              | 13               |  7               | 4621             | \n",
       "| 10               | Phil Esposito    |                  | C                | 1963-1964        | 1980-1981        | 1282             | 717              |  873             | 1590             | 197              |  910             | 249              | 23               | 118              | NA               | NA               |   NA             | \n",
       "| 11               | Ray Bourque      |                  | D                | 1979-1980        | 2000-2001        | 1612             | 410              | 1169             | 1579             | 528              | 1141             | 173              | 16               |  60              | 14               |  4               | 6206             | \n",
       "| 12               | Mark Recchi      |                  | R                | 1988-1989        | 2010-2011        | 1652             | 577              |  956             | 1533             |   0              | 1033             | 200              | 18               |  91              |  6               |  6               | 3820             | \n",
       "| 13               | Paul Coffey      |                  | D                | 1980-1981        | 2000-2001        | 1409             | 396              | 1135             | 1531             | 294              | 1802             | 135              | 20               |  43              |  4               |  0               | 4385             | \n",
       "| 14               | Stan Mikita      |                  | C                | 1958-1959        | 1979-1980        | 1394             | 541              |  926             | 1467             | 159              | 1270             |  86              |  9               |  48              | NA               | NA               |   NA             | \n",
       "| 15               | Teemu Selanne    |                  | R                | 1992-1993        | 2012-2013        | 1387             | 675              |  755             | 1430             |  87              |  648             | 251              |  7               | 107              | 11               |  9               | 4429             | \n",
       "| 16               | Bryan Trottier   |                  | C                | 1975-1976        | 1993-1994        | 1279             | 524              |  901             | 1425             | 452              |  912             | 161              | 19               |  68              |  2               |  0               | 2841             | \n",
       "| 17               | Adam Oates       |                  | C                | 1985-1986        | 2003-2004        | 1337             | 341              | 1079             | 1420             |  35              |  415             | 103              | 12               |  56              |  6               |  5               | 2392             | \n",
       "| 18               | Doug Gilmour     |                  | C                | 1983-1984        | 2002-2003        | 1474             | 450              |  964             | 1414             | 132              | 1301             | 153              | 18               |  56              | 15               |  2               | 2833             | \n",
       "| 19               | Dale Hawerchuk   |                  | C                | 1981-1982        | 1996-1997        | 1188             | 518              |  891             | 1409             | -92              |  740             | 182              | 13               |  49              |  3               |  2               | 3754             | \n",
       "| 20               | Jari Kurri       |                  | R                | 1980-1981        | 1997-1998        | 1251             | 601              |  797             | 1398             | 282              |  545             | 150              | 37               |  67              |  7               |  3               | 3142             | \n",
       "| 21               | Luc Robitaille   |                  | L                | 1986-1987        | 2005-2006        | 1431             | 668              |  726             | 1394             |  72              | 1177             | 247              |  3               |  89              | 14               |  7               | 3961             | \n",
       "| 22               | Brett Hull       |                  | R                | 1985-1986        | 2005-2006        | 1269             | 741              |  650             | 1391             |  23              |  458             | 265              | 20               | 110              | 12               | 12               | 4876             | \n",
       "| 23               | Mike Modano      |                  | C                | 1988-1989        | 2010-2011        | 1499             | 561              |  813             | 1374             | 114              |  926             | 157              | 29               |  92              | 15               |  9               | 4273             | \n",
       "| 24               | John Bucyk       |                  | L                | 1955-1956        | 1977-1978        | 1540             | 556              |  813             | 1369             | 146              |  497             | 121              |  1               |  59              | NA               | NA               |   NA             | \n",
       "| 25               | Brendan Shanahan |                  | L                | 1987-1988        | 2008-2009        | 1524             | 656              |  698             | 1354             | 151              | 2489             | 237              | 23               | 109              | 15               | 12               | 5086             | \n",
       "| 26               | Guy Lafleur      |                  | R                | 1971-1972        | 1990-1991        | 1126             | 560              |  793             | 1353             | 453              |  399             | 153              |  3               |  97              |  0               |  0               | 3521             | \n",
       "| 27               | Mats Sundin      |                  | C                | 1990-1991        | 2008-2009        | 1346             | 564              |  785             | 1349             |  73              | 1093             | 160              | 31               |  96              | 11               | 15               | 4015             | \n",
       "| 28               | Dave Andreychuk  |                  | L                | 1982-1983        | 2005-2006        | 1639             | 640              |  698             | 1338             |  38              | 1125             | 274              | 11               |  77              | 17               |  5               | 4556             | \n",
       "| 29               | Denis Savard     |                  | C                | 1980-1981        | 1996-1997        | 1196             | 473              |  865             | 1338             |  97              | 1336             | 127              | 20               |  56              |  4               |  1               | 3143             | \n",
       "| 30               | Mike Gartner     |                  | R                | 1979-1980        | 1997-1998        | 1432             | 708              |  627             | 1335             |  67              | 1159             | 217              | 23               |  90              |  9               |  4               | 5090             | \n",
       "| ... | ... | ... | ... | ... | ... | ... | ... | ... | ... | ... | ... | ... | ... | ... | ... | ... | ... | \n",
       "|  71             | Alex Kovalev    |                 | R               | 1992-1993       | 2012-2013       | 1316            | 430             | 599             | 1029            |  -31            | 1304            | 133             |  9              | 70              |  8              |  8              | 3585            | \n",
       "|  72             | Brian Leetch    |                 | D               | 1987-1988       | 2005-2006       | 1205            | 247             | 781             | 1028            |   25            |  571            | 111             |  8              | 38              |  9              |  7              | 3640            | \n",
       "|  73             | Brian Bellows   |                 | L               | 1982-1983       | 1998-1999       | 1188            | 485             | 537             | 1022            | -125            |  718            | 198             | 13              | 58              |  2              |  5              | 3588            | \n",
       "|  74             | Rod Gilbert     |                 | R               | 1960-1961       | 1977-1978       | 1065            | 406             | 615             | 1021            |   89            |  508            |  83             |  0              | 40              | NA              | NA              |   NA            | \n",
       "|  75             | Dale Hunter     |                 | C               | 1980-1981       | 1998-1999       | 1407            | 323             | 697             | 1020            |   98            | 3565            |  92             | 10              | 41              |  5              |  3              | 2045            | \n",
       "|  76             | Pat LaFontaine  |                 | C               | 1983-1984       | 1997-1998       |  865            | 468             | 545             | 1013            |   -4            |  552            | 156             | 11              | 59              | 11              |  3              | 2665            | \n",
       "|  77             | Steve Larmer    |                 | R               | 1980-1981       | 1994-1995       | 1006            | 441             | 571             | 1012            |  204            |  532            | 162             | 24              | 60              |  1              |  1              | 2803            | \n",
       "|  78             | Lanny Mcdonald  |                 | R               | 1973-1974       | 1988-1989       | 1111            | 500             | 506             | 1006            |   41            |  899            | 139             | 11              | 53              |  0              |  0              | 3444            | \n",
       "|  79             | Brian Propp     |                 | L               | 1979-1980       | 1993-1994       | 1016            | 425             | 579             | 1004            |  310            |  830            | 120             | 22              | 59              |  1              |  1              | 3111            | \n",
       "|  80             | Paul Kariya     |                 | L               | 1994-1995       | 2009-2010       |  989            | 402             | 587             |  989            |   31            |  399            | 139             | 17              | 53              |  4              |  4              | 3509            | \n",
       "|  81             | Rick Middleton  |                 | R               | 1974-1975       | 1987-1988       | 1005            | 448             | 540             |  988            |  180            |  157            | 115             | 25              | 59              |  0              |  0              | 2275            | \n",
       "|  82             | David Keon      |                 | C               | 1960-1961       | 1981-1982       | 1296            | 396             | 590             |  986            |  -12            |  117            |  32             | 24              | 40              | NA              | NA              |   NA            | \n",
       "|  83             | Andy Bathgate   |                 | R               | 1952-1953       | 1970-1971       | 1069            | 349             | 624             |  973            |  -22            |  624            |   9             |  0              |  7              | NA              | NA              |   NA            | \n",
       "|  84             | Maurice Richard |                 | R               | 1942-1943       | 1959-1960       |  978            | 544             | 421             |  965            |   NA            | 1285            |  NA             | NA              | NA              | NA              | NA              |   NA            | \n",
       "|  85             | Kirk Muller     |                 | L               | 1984-1985       | 2002-2003       | 1349            | 357             | 602             |  959            | -146            | 1223            | 134             | 11              | 47              |  6              |  5              | 2792            | \n",
       "|  86             | Larry Robinson  |                 | D               | 1972-1973       | 1991-1992       | 1384            | 208             | 750             |  958            |  730            |  793            |  66             |  3              | 29              |  2              |  0              | 2338            | \n",
       "|  87             | Rick Tocchet    |                 | R               | 1984-1985       | 2001-2002       | 1144            | 440             | 512             |  952            |   82            | 2972            | 130             | 13              | 50              |  9              |  2              | 2804            | \n",
       "|  88             | Chris Chelios   |                 | D               | 1983-1984       | 2009-2010       | 1651            | 185             | 763             |  948            |  350            | 2891            |  69             | 13              | 31              |  5              |  1              | 3626            | \n",
       "|  89             | Jason Arnott    |                 | C               | 1993-1994       | 2011-2012       | 1244            | 417             | 521             |  938            |   81            | 1242            | 145             |  2              | 64              |  7              |  6              | 3460            | \n",
       "|  90             | Marian Hossa    | CHI             | R               | 1997-1998       | 2012-2013       | 1018            | 434             | 501             |  935            |  183            |  544            | 126             | 26              | 70              |  5              | 11              | 3383            | \n",
       "|  91             | Steve Thomas    |                 | R               | 1984-1985       | 2003-2004       | 1235            | 421             | 512             |  933            |   30            | 1306            | 106             |  0              | 78              |  7              | 10              | 3170            | \n",
       "|  92             | Patrik Elias    | NJD             | L               | 1995-1996       | 2012-2013       | 1090            | 375             | 555             |  930            |  191            |  497            | 104             | 14              | 78              |  4              | 15              | 3036            | \n",
       "|  93             | Neal Broten     |                 | C               | 1980-1981       | 1996-1997       | 1099            | 289             | 634             |  923            |   18            |  569            |  67             | 25              | 34              |  3              |  2              | 2316            | \n",
       "|  94             | Bobby Orr       |                 | D               | 1966-1967       | 1978-1979       |  657            | 270             | 645             |  915            |  597            |  953            |  73             | 15              | 26              | NA              | NA              |   NA            | \n",
       "|  95             | Martin St Louis | TBL             | R               | 1998-1999       | 2012-2013       |  979            | 340             | 572             |  912            |   12            |  280            |  87             | 28              | 60              |  5              |  9              | 2536            | \n",
       "|  96             | Gary Roberts    |                 | L               | 1986-1987       | 2008-2009       | 1224            | 438             | 472             |  910            |  229            | 2560            | 109             | 13              | 52              | 11              |  5              | 2374            | \n",
       "|  97             | Scott Stevens   |                 | D               | 1982-1983       | 2003-2004       | 1635            | 196             | 712             |  908            |  377            | 2785            |  75             |  5              | 34              |  0              |  2              | 3240            | \n",
       "|  98             | Tony Amonte     |                 | R               | 1990-1991       | 2006-2007       | 1174            | 416             | 484             |  900            |   96            |  752            | 108             | 23              | 58              |  7              |  6              | 3260            | \n",
       "|  99             | Ray Ferraro     |                 | C               | 1984-1985       | 2001-2002       | 1258            | 408             | 490             |  898            | -104            | 1288            | 130             |  0              | 45              | 11              |  6              | 2164            | \n",
       "| 100             | Brad Park       |                 | D               | 1968-1969       | 1984-1985       | 1113            | 213             | 683             |  896            |  358            | 1429            |  93             |  5              | 28              | NA              | NA              | 2820            | \n",
       "\n",
       "\n"
      ],
      "text/plain": [
       "    Rank Player           Team Pos X1st.NHL.Season Last.NHL.Season GP   G  \n",
       "1    1   Wayne Gretzky         C   1979-1980       1998-1999       1487 894\n",
       "2    2   Mark Messier          C   1979-1980       2003-2004       1756 694\n",
       "3    3   Gordie Howe           R   1946-1947       1979-1980       1767 801\n",
       "4    4   Ron Francis           C   1981-1982       2003-2004       1731 549\n",
       "5    5   Marcel Dionne         C   1971-1972       1988-1989       1348 731\n",
       "6    6   Steve Yzerman         C   1983-1984       2005-2006       1514 692\n",
       "7    7   Mario Lemieux         C   1984-1985       2005-2006        915 690\n",
       "8    8   Jaromir Jagr     NJD  R   1990-1991       2012-2013       1391 681\n",
       "9    9   Joe Sakic             C   1988-1989       2008-2009       1378 625\n",
       "10  10   Phil Esposito         C   1963-1964       1980-1981       1282 717\n",
       "11  11   Ray Bourque           D   1979-1980       2000-2001       1612 410\n",
       "12  12   Mark Recchi           R   1988-1989       2010-2011       1652 577\n",
       "13  13   Paul Coffey           D   1980-1981       2000-2001       1409 396\n",
       "14  14   Stan Mikita           C   1958-1959       1979-1980       1394 541\n",
       "15  15   Teemu Selanne         R   1992-1993       2012-2013       1387 675\n",
       "16  16   Bryan Trottier        C   1975-1976       1993-1994       1279 524\n",
       "17  17   Adam Oates            C   1985-1986       2003-2004       1337 341\n",
       "18  18   Doug Gilmour          C   1983-1984       2002-2003       1474 450\n",
       "19  19   Dale Hawerchuk        C   1981-1982       1996-1997       1188 518\n",
       "20  20   Jari Kurri            R   1980-1981       1997-1998       1251 601\n",
       "21  21   Luc Robitaille        L   1986-1987       2005-2006       1431 668\n",
       "22  22   Brett Hull            R   1985-1986       2005-2006       1269 741\n",
       "23  23   Mike Modano           C   1988-1989       2010-2011       1499 561\n",
       "24  24   John Bucyk            L   1955-1956       1977-1978       1540 556\n",
       "25  25   Brendan Shanahan      L   1987-1988       2008-2009       1524 656\n",
       "26  26   Guy Lafleur           R   1971-1972       1990-1991       1126 560\n",
       "27  27   Mats Sundin           C   1990-1991       2008-2009       1346 564\n",
       "28  28   Dave Andreychuk       L   1982-1983       2005-2006       1639 640\n",
       "29  29   Denis Savard          C   1980-1981       1996-1997       1196 473\n",
       "30  30   Mike Gartner          R   1979-1980       1997-1998       1432 708\n",
       "... ...  ...              ...  ... ...             ...             ...  ...\n",
       "71   71  Alex Kovalev          R   1992-1993       2012-2013       1316 430\n",
       "72   72  Brian Leetch          D   1987-1988       2005-2006       1205 247\n",
       "73   73  Brian Bellows         L   1982-1983       1998-1999       1188 485\n",
       "74   74  Rod Gilbert           R   1960-1961       1977-1978       1065 406\n",
       "75   75  Dale Hunter           C   1980-1981       1998-1999       1407 323\n",
       "76   76  Pat LaFontaine        C   1983-1984       1997-1998        865 468\n",
       "77   77  Steve Larmer          R   1980-1981       1994-1995       1006 441\n",
       "78   78  Lanny Mcdonald        R   1973-1974       1988-1989       1111 500\n",
       "79   79  Brian Propp           L   1979-1980       1993-1994       1016 425\n",
       "80   80  Paul Kariya           L   1994-1995       2009-2010        989 402\n",
       "81   81  Rick Middleton        R   1974-1975       1987-1988       1005 448\n",
       "82   82  David Keon            C   1960-1961       1981-1982       1296 396\n",
       "83   83  Andy Bathgate         R   1952-1953       1970-1971       1069 349\n",
       "84   84  Maurice Richard       R   1942-1943       1959-1960        978 544\n",
       "85   85  Kirk Muller           L   1984-1985       2002-2003       1349 357\n",
       "86   86  Larry Robinson        D   1972-1973       1991-1992       1384 208\n",
       "87   87  Rick Tocchet          R   1984-1985       2001-2002       1144 440\n",
       "88   88  Chris Chelios         D   1983-1984       2009-2010       1651 185\n",
       "89   89  Jason Arnott          C   1993-1994       2011-2012       1244 417\n",
       "90   90  Marian Hossa     CHI  R   1997-1998       2012-2013       1018 434\n",
       "91   91  Steve Thomas          R   1984-1985       2003-2004       1235 421\n",
       "92   92  Patrik Elias     NJD  L   1995-1996       2012-2013       1090 375\n",
       "93   93  Neal Broten           C   1980-1981       1996-1997       1099 289\n",
       "94   94  Bobby Orr             D   1966-1967       1978-1979        657 270\n",
       "95   95  Martin St Louis  TBL  R   1998-1999       2012-2013        979 340\n",
       "96   96  Gary Roberts          L   1986-1987       2008-2009       1224 438\n",
       "97   97  Scott Stevens         D   1982-1983       2003-2004       1635 196\n",
       "98   98  Tony Amonte           R   1990-1991       2006-2007       1174 416\n",
       "99   99  Ray Ferraro           C   1984-1985       2001-2002       1258 408\n",
       "100 100  Brad Park             D   1968-1969       1984-1985       1113 213\n",
       "    A    P    X... PIM  PP  SH  GW  GT  OT  Shots\n",
       "1   1963 2857 518   577 204 73   91 12   1  5089 \n",
       "2   1193 1887 210  1910 179 63   92 15   7  4219 \n",
       "3   1049 1850  87  1685  39  5   18 NA  NA    NA \n",
       "4   1249 1798 -10   979 188 12   79 13   3  3754 \n",
       "5   1040 1771  28   600 234 19   74  1   2  5366 \n",
       "6   1063 1755 202   924 202 50   94 12   8  4602 \n",
       "7   1033 1723 115   834 236 49   74  7   7  3633 \n",
       "8   1007 1688 278   959 195 11  118 11  17  4881 \n",
       "9   1016 1641  30   614 205 32   86 13   7  4621 \n",
       "10   873 1590 197   910 249 23  118 NA  NA    NA \n",
       "11  1169 1579 528  1141 173 16   60 14   4  6206 \n",
       "12   956 1533   0  1033 200 18   91  6   6  3820 \n",
       "13  1135 1531 294  1802 135 20   43  4   0  4385 \n",
       "14   926 1467 159  1270  86  9   48 NA  NA    NA \n",
       "15   755 1430  87   648 251  7  107 11   9  4429 \n",
       "16   901 1425 452   912 161 19   68  2   0  2841 \n",
       "17  1079 1420  35   415 103 12   56  6   5  2392 \n",
       "18   964 1414 132  1301 153 18   56 15   2  2833 \n",
       "19   891 1409 -92   740 182 13   49  3   2  3754 \n",
       "20   797 1398 282   545 150 37   67  7   3  3142 \n",
       "21   726 1394  72  1177 247  3   89 14   7  3961 \n",
       "22   650 1391  23   458 265 20  110 12  12  4876 \n",
       "23   813 1374 114   926 157 29   92 15   9  4273 \n",
       "24   813 1369 146   497 121  1   59 NA  NA    NA \n",
       "25   698 1354 151  2489 237 23  109 15  12  5086 \n",
       "26   793 1353 453   399 153  3   97  0   0  3521 \n",
       "27   785 1349  73  1093 160 31   96 11  15  4015 \n",
       "28   698 1338  38  1125 274 11   77 17   5  4556 \n",
       "29   865 1338  97  1336 127 20   56  4   1  3143 \n",
       "30   627 1335  67  1159 217 23   90  9   4  5090 \n",
       "... ...  ...  ...  ...  ... ... ... ... ... ...  \n",
       "71  599  1029  -31 1304 133  9  70   8   8  3585 \n",
       "72  781  1028   25  571 111  8  38   9   7  3640 \n",
       "73  537  1022 -125  718 198 13  58   2   5  3588 \n",
       "74  615  1021   89  508  83  0  40  NA  NA    NA \n",
       "75  697  1020   98 3565  92 10  41   5   3  2045 \n",
       "76  545  1013   -4  552 156 11  59  11   3  2665 \n",
       "77  571  1012  204  532 162 24  60   1   1  2803 \n",
       "78  506  1006   41  899 139 11  53   0   0  3444 \n",
       "79  579  1004  310  830 120 22  59   1   1  3111 \n",
       "80  587   989   31  399 139 17  53   4   4  3509 \n",
       "81  540   988  180  157 115 25  59   0   0  2275 \n",
       "82  590   986  -12  117  32 24  40  NA  NA    NA \n",
       "83  624   973  -22  624   9  0   7  NA  NA    NA \n",
       "84  421   965   NA 1285  NA NA  NA  NA  NA    NA \n",
       "85  602   959 -146 1223 134 11  47   6   5  2792 \n",
       "86  750   958  730  793  66  3  29   2   0  2338 \n",
       "87  512   952   82 2972 130 13  50   9   2  2804 \n",
       "88  763   948  350 2891  69 13  31   5   1  3626 \n",
       "89  521   938   81 1242 145  2  64   7   6  3460 \n",
       "90  501   935  183  544 126 26  70   5  11  3383 \n",
       "91  512   933   30 1306 106  0  78   7  10  3170 \n",
       "92  555   930  191  497 104 14  78   4  15  3036 \n",
       "93  634   923   18  569  67 25  34   3   2  2316 \n",
       "94  645   915  597  953  73 15  26  NA  NA    NA \n",
       "95  572   912   12  280  87 28  60   5   9  2536 \n",
       "96  472   910  229 2560 109 13  52  11   5  2374 \n",
       "97  712   908  377 2785  75  5  34   0   2  3240 \n",
       "98  484   900   96  752 108 23  58   7   6  3260 \n",
       "99  490   898 -104 1288 130  0  45  11   6  2164 \n",
       "100 683   896  358 1429  93  5  28  NA  NA  2820 "
      ]
     },
     "metadata": {},
     "output_type": "display_data"
    }
   ],
   "source": [
    "data = read.csv(\"NHLTop100.csv\")\n",
    "data"
   ]
  },
  {
   "cell_type": "code",
   "execution_count": 2,
   "metadata": {
    "collapsed": true
   },
   "outputs": [],
   "source": [
    "library('ggplot2')"
   ]
  },
  {
   "cell_type": "code",
   "execution_count": 3,
   "metadata": {
    "collapsed": false
   },
   "outputs": [
    {
     "data": {
      "image/png": "[encoded data removed]",
      "text/plain": [
       "Plot with title \"\""
      ]
     },
     "metadata": {},
     "output_type": "display_data"
    },
    {
     "data": {
      "image/png": "[encoded data removed]",
      "text/plain": [
       "Plot with title \"\""
      ]
     },
     "metadata": {},
     "output_type": "display_data"
    },
    {
     "data": {
      "image/png": "[encoded data removed]",
      "text/plain": [
       "Plot with title \"\""
      ]
     },
     "metadata": {},
     "output_type": "display_data"
    },
    {
     "data": {
      "image/png": "[encoded data removed]",
      "text/plain": [
       "Plot with title \"\""
      ]
     },
     "metadata": {},
     "output_type": "display_data"
    }
   ],
   "source": [
    "fit <- lm(G~A, data=data)\n",
    "plot(fit)"
   ]
  },
  {
   "cell_type": "code",
   "execution_count": 4,
   "metadata": {
    "collapsed": false
   },
   "outputs": [
    {
     "data": {
      "text/plain": [
       "\n",
       "Call:\n",
       "lm(formula = G ~ A, data = data)\n",
       "\n",
       "Coefficients:\n",
       "(Intercept)            A  \n",
       "   321.0800       0.2081  \n"
      ]
     },
     "metadata": {},
     "output_type": "display_data"
    }
   ],
   "source": [
    "fit"
   ]
  },
  {
   "cell_type": "code",
   "execution_count": 5,
   "metadata": {
    "collapsed": true
   },
   "outputs": [],
   "source": [
    "coefs <- coef(fit)"
   ]
  },
  {
   "cell_type": "code",
   "execution_count": 6,
   "metadata": {
    "collapsed": false
   },
   "outputs": [],
   "source": [
    "fit <- lm(G~A, data=data)"
   ]
  },
  {
   "cell_type": "code",
   "execution_count": 7,
   "metadata": {
    "collapsed": false
   },
   "outputs": [
    {
     "data": {
      "image/png": "[encoded data removed]",
      "text/plain": [
       "plot without title"
      ]
     },
     "metadata": {},
     "output_type": "display_data"
    }
   ],
   "source": [
    "with(data, plot(G,A,xlim=range(0,1000),ylim=range(0,2000)))\n",
    "abline(fit)"
   ]
  },
  {
   "cell_type": "markdown",
   "metadata": {},
   "source": [
    "Plot 1 for initial fit without passing through origin"
   ]
  },
  {
   "cell_type": "code",
   "execution_count": 8,
   "metadata": {
    "collapsed": false
   },
   "outputs": [],
   "source": [
    "s1 <- summary(fit)"
   ]
  },
  {
   "cell_type": "code",
   "execution_count": 9,
   "metadata": {
    "collapsed": false
   },
   "outputs": [
    {
     "data": {
      "text/plain": [
       "\n",
       "Call:\n",
       "lm(formula = G ~ A, data = data)\n",
       "\n",
       "Residuals:\n",
       "    Min      1Q  Median      3Q     Max \n",
       "-294.82  -83.50   10.12   88.54  284.69 \n",
       "\n",
       "Coefficients:\n",
       "             Estimate Std. Error t value Pr(>|t|)    \n",
       "(Intercept) 321.08001   46.62860   6.886 5.52e-10 ***\n",
       "A             0.20805    0.06033   3.449 0.000832 ***\n",
       "---\n",
       "Signif. codes:  0 '***' 0.001 '**' 0.01 '*' 0.05 '.' 0.1 ' ' 1\n",
       "\n",
       "Residual standard error: 130.9 on 98 degrees of freedom\n",
       "Multiple R-squared:  0.1082,\tAdjusted R-squared:  0.09913 \n",
       "F-statistic: 11.89 on 1 and 98 DF,  p-value: 0.0008317\n"
      ]
     },
     "metadata": {},
     "output_type": "display_data"
    }
   ],
   "source": [
    "s1"
   ]
  },
  {
   "cell_type": "code",
   "execution_count": 10,
   "metadata": {
    "collapsed": false
   },
   "outputs": [
    {
     "data": {
      "text/html": [
       "0.10823050447434"
      ],
      "text/latex": [
       "0.10823050447434"
      ],
      "text/markdown": [
       "0.10823050447434"
      ],
      "text/plain": [
       "[1] 0.1082305"
      ]
     },
     "metadata": {},
     "output_type": "display_data"
    }
   ],
   "source": [
    "r1 <- s1$r.squared\n",
    "r1"
   ]
  },
  {
   "cell_type": "code",
   "execution_count": 11,
   "metadata": {
    "collapsed": false
   },
   "outputs": [
    {
     "name": "stdout",
     "output_type": "stream",
     "text": [
      "[1] \"R-Squared:\"\n"
     ]
    },
    {
     "data": {
      "text/html": [
       "0.10823050447434"
      ],
      "text/latex": [
       "0.10823050447434"
      ],
      "text/markdown": [
       "0.10823050447434"
      ],
      "text/plain": [
       "[1] 0.1082305"
      ]
     },
     "metadata": {},
     "output_type": "display_data"
    },
    {
     "name": "stdout",
     "output_type": "stream",
     "text": [
      "[1] \"P-Value:\"\n"
     ]
    },
    {
     "data": {
      "text/html": [
       "0.0008317"
      ],
      "text/latex": [
       "0.0008317"
      ],
      "text/markdown": [
       "0.0008317"
      ],
      "text/plain": [
       "[1] 0.0008317"
      ]
     },
     "metadata": {},
     "output_type": "display_data"
    }
   ],
   "source": [
    "p1 <- 0.0008317\n",
    "print(\"R-Squared:\")\n",
    "s1$r.squared\n",
    "print(\"P-Value:\")\n",
    "p1"
   ]
  },
  {
   "cell_type": "code",
   "execution_count": 12,
   "metadata": {
    "collapsed": true
   },
   "outputs": [],
   "source": [
    "y = data$A"
   ]
  },
  {
   "cell_type": "code",
   "execution_count": 13,
   "metadata": {
    "collapsed": true
   },
   "outputs": [],
   "source": [
    "x = data$G"
   ]
  },
  {
   "cell_type": "code",
   "execution_count": 14,
   "metadata": {
    "collapsed": false
   },
   "outputs": [],
   "source": [
    "fitb <- lm(I(A-1963) ~ I(G-894), data=data)"
   ]
  },
  {
   "cell_type": "code",
   "execution_count": 15,
   "metadata": {
    "collapsed": false
   },
   "outputs": [],
   "source": [
    "s2 <- summary(fitb)"
   ]
  },
  {
   "cell_type": "code",
   "execution_count": 16,
   "metadata": {
    "collapsed": false
   },
   "outputs": [
    {
     "data": {
      "text/plain": [
       "\n",
       "Call:\n",
       "lm(formula = I(A - 1963) ~ I(G - 894), data = data)\n",
       "\n",
       "Residuals:\n",
       "    Min      1Q  Median      3Q     Max \n",
       "-356.51 -158.59  -10.29  125.08 1003.42 \n",
       "\n",
       "Coefficients:\n",
       "              Estimate Std. Error t value Pr(>|t|)    \n",
       "(Intercept) -1003.4220    66.4463 -15.101  < 2e-16 ***\n",
       "I(G - 894)      0.5202     0.1508   3.449 0.000832 ***\n",
       "---\n",
       "Signif. codes:  0 '***' 0.001 '**' 0.01 '*' 0.05 '.' 0.1 ' ' 1\n",
       "\n",
       "Residual standard error: 207 on 98 degrees of freedom\n",
       "Multiple R-squared:  0.1082,\tAdjusted R-squared:  0.09913 \n",
       "F-statistic: 11.89 on 1 and 98 DF,  p-value: 0.0008317\n"
      ]
     },
     "metadata": {},
     "output_type": "display_data"
    }
   ],
   "source": [
    "s2"
   ]
  },
  {
   "cell_type": "code",
   "execution_count": 17,
   "metadata": {
    "collapsed": false
   },
   "outputs": [
    {
     "data": {
      "text/html": [
       "0.10823050447434"
      ],
      "text/latex": [
       "0.10823050447434"
      ],
      "text/markdown": [
       "0.10823050447434"
      ],
      "text/plain": [
       "[1] 0.1082305"
      ]
     },
     "metadata": {},
     "output_type": "display_data"
    },
    {
     "data": {
      "text/html": [
       "0.0008317"
      ],
      "text/latex": [
       "0.0008317"
      ],
      "text/markdown": [
       "0.0008317"
      ],
      "text/plain": [
       "[1] 0.0008317"
      ]
     },
     "metadata": {},
     "output_type": "display_data"
    }
   ],
   "source": [
    "r2 <- s2$r.squared\n",
    "p2 <- 0.0008317\n",
    "r2\n",
    "p2"
   ]
  },
  {
   "cell_type": "code",
   "execution_count": 18,
   "metadata": {
    "collapsed": false
   },
   "outputs": [
    {
     "data": {
      "text/html": [
       "<dl class=dl-horizontal>\n",
       "\t<dt>(Intercept)</dt>\n",
       "\t\t<dd>-1003.42204909603</dd>\n",
       "\t<dt>I(G - 894)</dt>\n",
       "\t\t<dd>0.520206294863515</dd>\n",
       "</dl>\n"
      ],
      "text/latex": [
       "\\begin{description*}\n",
       "\\item[(Intercept)] -1003.42204909603\n",
       "\\item[I(G - 894)] 0.520206294863515\n",
       "\\end{description*}\n"
      ],
      "text/markdown": [
       "(Intercept)\n",
       ":   -1003.42204909603I(G - 894)\n",
       ":   0.520206294863515\n",
       "\n"
      ],
      "text/plain": [
       "  (Intercept)    I(G - 894) \n",
       "-1003.4220491     0.5202063 "
      ]
     },
     "metadata": {},
     "output_type": "display_data"
    }
   ],
   "source": [
    "coef(fitb)"
   ]
  },
  {
   "cell_type": "code",
   "execution_count": 19,
   "metadata": {
    "collapsed": false
   },
   "outputs": [
    {
     "data": {
      "text/html": [
       "<dl class=dl-horizontal>\n",
       "\t<dt>(Intercept)</dt>\n",
       "\t\t<dd>-1003.42204909603</dd>\n",
       "\t<dt>I(G - 894)</dt>\n",
       "\t\t<dd>0.520206294863515</dd>\n",
       "</dl>\n"
      ],
      "text/latex": [
       "\\begin{description*}\n",
       "\\item[(Intercept)] -1003.42204909603\n",
       "\\item[I(G - 894)] 0.520206294863515\n",
       "\\end{description*}\n"
      ],
      "text/markdown": [
       "(Intercept)\n",
       ":   -1003.42204909603I(G - 894)\n",
       ":   0.520206294863515\n",
       "\n"
      ],
      "text/plain": [
       "  (Intercept)    I(G - 894) \n",
       "-1003.4220491     0.5202063 "
      ]
     },
     "metadata": {},
     "output_type": "display_data"
    }
   ],
   "source": [
    "c1 <- coef(fitb)\n",
    "c1"
   ]
  },
  {
   "cell_type": "code",
   "execution_count": 20,
   "metadata": {
    "collapsed": false
   },
   "outputs": [
    {
     "data": {
      "text/html": [
       "-1003.422"
      ],
      "text/latex": [
       "-1003.422"
      ],
      "text/markdown": [
       "-1003.422"
      ],
      "text/plain": [
       "[1] -1003.422"
      ]
     },
     "metadata": {},
     "output_type": "display_data"
    }
   ],
   "source": [
    "c1 <- -1003.422\n",
    "c1"
   ]
  },
  {
   "cell_type": "code",
   "execution_count": 21,
   "metadata": {
    "collapsed": false
   },
   "outputs": [
    {
     "data": {
      "text/html": [
       "3.31814541387025"
      ],
      "text/latex": [
       "3.31814541387025"
      ],
      "text/markdown": [
       "3.31814541387025"
      ],
      "text/plain": [
       "[1] 3.318145"
      ]
     },
     "metadata": {},
     "output_type": "display_data"
    }
   ],
   "source": [
    "m1 <- (1963 - c1) / 894\n",
    "m1"
   ]
  },
  {
   "cell_type": "code",
   "execution_count": 22,
   "metadata": {
    "collapsed": false
   },
   "outputs": [
    {
     "data": {
      "image/png": "[encoded data removed]",
      "text/plain": [
       "plot without title"
      ]
     },
     "metadata": {},
     "output_type": "display_data"
    }
   ],
   "source": [
    "with(data, plot(x=G,y=A,xlim=range(0,1000),ylim=range(0,2000)))\n",
    "abline(c1,m1)"
   ]
  },
  {
   "cell_type": "markdown",
   "metadata": {},
   "source": [
    "Plot 2 for making the line pass through Goal and Assist values of Wayne Gretzky, and not through origin"
   ]
  },
  {
   "cell_type": "code",
   "execution_count": 23,
   "metadata": {
    "collapsed": false
   },
   "outputs": [
    {
     "data": {
      "text/html": [
       "<table>\n",
       "<thead><tr><th scope=col>Rank</th><th scope=col>Player</th><th scope=col>Team</th><th scope=col>Pos</th><th scope=col>X1st.NHL.Season</th><th scope=col>Last.NHL.Season</th><th scope=col>GP</th><th scope=col>G</th><th scope=col>A</th><th scope=col>P</th><th scope=col>X...</th><th scope=col>PIM</th><th scope=col>PP</th><th scope=col>SH</th><th scope=col>GW</th><th scope=col>GT</th><th scope=col>OT</th><th scope=col>Shots</th></tr></thead>\n",
       "<tbody>\n",
       "\t<tr><td> 1              </td><td>Wayne Gretzky   </td><td>                </td><td>C               </td><td>1979-1980       </td><td>1998-1999       </td><td>1487            </td><td>894             </td><td>1963            </td><td>2857            </td><td>518             </td><td> 577            </td><td>204             </td><td>73              </td><td> 91             </td><td>12              </td><td> 1              </td><td>5089            </td></tr>\n",
       "\t<tr><td> 2              </td><td>Mark Messier    </td><td>                </td><td>C               </td><td>1979-1980       </td><td>2003-2004       </td><td>1756            </td><td>694             </td><td>1193            </td><td>1887            </td><td>210             </td><td>1910            </td><td>179             </td><td>63              </td><td> 92             </td><td>15              </td><td> 7              </td><td>4219            </td></tr>\n",
       "\t<tr><td> 3              </td><td>Gordie Howe     </td><td>                </td><td>R               </td><td>1946-1947       </td><td>1979-1980       </td><td>1767            </td><td>801             </td><td>1049            </td><td>1850            </td><td> 87             </td><td>1685            </td><td> 39             </td><td> 5              </td><td> 18             </td><td>NA              </td><td>NA              </td><td>  NA            </td></tr>\n",
       "\t<tr><td> 4              </td><td>Ron Francis     </td><td>                </td><td>C               </td><td>1981-1982       </td><td>2003-2004       </td><td>1731            </td><td>549             </td><td>1249            </td><td>1798            </td><td>-10             </td><td> 979            </td><td>188             </td><td>12              </td><td> 79             </td><td>13              </td><td> 3              </td><td>3754            </td></tr>\n",
       "\t<tr><td> 5              </td><td>Marcel Dionne   </td><td>                </td><td>C               </td><td>1971-1972       </td><td>1988-1989       </td><td>1348            </td><td>731             </td><td>1040            </td><td>1771            </td><td> 28             </td><td> 600            </td><td>234             </td><td>19              </td><td> 74             </td><td> 1              </td><td> 2              </td><td>5366            </td></tr>\n",
       "\t<tr><td> 6              </td><td>Steve Yzerman   </td><td>                </td><td>C               </td><td>1983-1984       </td><td>2005-2006       </td><td>1514            </td><td>692             </td><td>1063            </td><td>1755            </td><td>202             </td><td> 924            </td><td>202             </td><td>50              </td><td> 94             </td><td>12              </td><td> 8              </td><td>4602            </td></tr>\n",
       "\t<tr><td> 7              </td><td>Mario Lemieux   </td><td>                </td><td>C               </td><td>1984-1985       </td><td>2005-2006       </td><td> 915            </td><td>690             </td><td>1033            </td><td>1723            </td><td>115             </td><td> 834            </td><td>236             </td><td>49              </td><td> 74             </td><td> 7              </td><td> 7              </td><td>3633            </td></tr>\n",
       "\t<tr><td> 8              </td><td>Jaromir Jagr    </td><td>NJD             </td><td>R               </td><td>1990-1991       </td><td>2012-2013       </td><td>1391            </td><td>681             </td><td>1007            </td><td>1688            </td><td>278             </td><td> 959            </td><td>195             </td><td>11              </td><td>118             </td><td>11              </td><td>17              </td><td>4881            </td></tr>\n",
       "\t<tr><td> 9              </td><td>Joe Sakic       </td><td>                </td><td>C               </td><td>1988-1989       </td><td>2008-2009       </td><td>1378            </td><td>625             </td><td>1016            </td><td>1641            </td><td> 30             </td><td> 614            </td><td>205             </td><td>32              </td><td> 86             </td><td>13              </td><td> 7              </td><td>4621            </td></tr>\n",
       "\t<tr><td>10              </td><td>Phil Esposito   </td><td>                </td><td>C               </td><td>1963-1964       </td><td>1980-1981       </td><td>1282            </td><td>717             </td><td> 873            </td><td>1590            </td><td>197             </td><td> 910            </td><td>249             </td><td>23              </td><td>118             </td><td>NA              </td><td>NA              </td><td>  NA            </td></tr>\n",
       "\t<tr><td>11              </td><td>Ray Bourque     </td><td>                </td><td>D               </td><td>1979-1980       </td><td>2000-2001       </td><td>1612            </td><td>410             </td><td>1169            </td><td>1579            </td><td>528             </td><td>1141            </td><td>173             </td><td>16              </td><td> 60             </td><td>14              </td><td> 4              </td><td>6206            </td></tr>\n",
       "\t<tr><td>12              </td><td>Mark Recchi     </td><td>                </td><td>R               </td><td>1988-1989       </td><td>2010-2011       </td><td>1652            </td><td>577             </td><td> 956            </td><td>1533            </td><td>  0             </td><td>1033            </td><td>200             </td><td>18              </td><td> 91             </td><td> 6              </td><td> 6              </td><td>3820            </td></tr>\n",
       "\t<tr><td>13              </td><td>Paul Coffey     </td><td>                </td><td>D               </td><td>1980-1981       </td><td>2000-2001       </td><td>1409            </td><td>396             </td><td>1135            </td><td>1531            </td><td>294             </td><td>1802            </td><td>135             </td><td>20              </td><td> 43             </td><td> 4              </td><td> 0              </td><td>4385            </td></tr>\n",
       "\t<tr><td>14              </td><td>Stan Mikita     </td><td>                </td><td>C               </td><td>1958-1959       </td><td>1979-1980       </td><td>1394            </td><td>541             </td><td> 926            </td><td>1467            </td><td>159             </td><td>1270            </td><td> 86             </td><td> 9              </td><td> 48             </td><td>NA              </td><td>NA              </td><td>  NA            </td></tr>\n",
       "\t<tr><td>15              </td><td>Teemu Selanne   </td><td>                </td><td>R               </td><td>1992-1993       </td><td>2012-2013       </td><td>1387            </td><td>675             </td><td> 755            </td><td>1430            </td><td> 87             </td><td> 648            </td><td>251             </td><td> 7              </td><td>107             </td><td>11              </td><td> 9              </td><td>4429            </td></tr>\n",
       "\t<tr><td>16              </td><td>Bryan Trottier  </td><td>                </td><td>C               </td><td>1975-1976       </td><td>1993-1994       </td><td>1279            </td><td>524             </td><td> 901            </td><td>1425            </td><td>452             </td><td> 912            </td><td>161             </td><td>19              </td><td> 68             </td><td> 2              </td><td> 0              </td><td>2841            </td></tr>\n",
       "\t<tr><td>17              </td><td>Adam Oates      </td><td>                </td><td>C               </td><td>1985-1986       </td><td>2003-2004       </td><td>1337            </td><td>341             </td><td>1079            </td><td>1420            </td><td> 35             </td><td> 415            </td><td>103             </td><td>12              </td><td> 56             </td><td> 6              </td><td> 5              </td><td>2392            </td></tr>\n",
       "\t<tr><td>18              </td><td>Doug Gilmour    </td><td>                </td><td>C               </td><td>1983-1984       </td><td>2002-2003       </td><td>1474            </td><td>450             </td><td> 964            </td><td>1414            </td><td>132             </td><td>1301            </td><td>153             </td><td>18              </td><td> 56             </td><td>15              </td><td> 2              </td><td>2833            </td></tr>\n",
       "\t<tr><td>19              </td><td>Dale Hawerchuk  </td><td>                </td><td>C               </td><td>1981-1982       </td><td>1996-1997       </td><td>1188            </td><td>518             </td><td> 891            </td><td>1409            </td><td>-92             </td><td> 740            </td><td>182             </td><td>13              </td><td> 49             </td><td> 3              </td><td> 2              </td><td>3754            </td></tr>\n",
       "\t<tr><td>20              </td><td>Jari Kurri      </td><td>                </td><td>R               </td><td>1980-1981       </td><td>1997-1998       </td><td>1251            </td><td>601             </td><td> 797            </td><td>1398            </td><td>282             </td><td> 545            </td><td>150             </td><td>37              </td><td> 67             </td><td> 7              </td><td> 3              </td><td>3142            </td></tr>\n",
       "\t<tr><td>21              </td><td>Luc Robitaille  </td><td>                </td><td>L               </td><td>1986-1987       </td><td>2005-2006       </td><td>1431            </td><td>668             </td><td> 726            </td><td>1394            </td><td> 72             </td><td>1177            </td><td>247             </td><td> 3              </td><td> 89             </td><td>14              </td><td> 7              </td><td>3961            </td></tr>\n",
       "\t<tr><td>22              </td><td>Brett Hull      </td><td>                </td><td>R               </td><td>1985-1986       </td><td>2005-2006       </td><td>1269            </td><td>741             </td><td> 650            </td><td>1391            </td><td> 23             </td><td> 458            </td><td>265             </td><td>20              </td><td>110             </td><td>12              </td><td>12              </td><td>4876            </td></tr>\n",
       "\t<tr><td>23              </td><td>Mike Modano     </td><td>                </td><td>C               </td><td>1988-1989       </td><td>2010-2011       </td><td>1499            </td><td>561             </td><td> 813            </td><td>1374            </td><td>114             </td><td> 926            </td><td>157             </td><td>29              </td><td> 92             </td><td>15              </td><td> 9              </td><td>4273            </td></tr>\n",
       "\t<tr><td>24              </td><td>John Bucyk      </td><td>                </td><td>L               </td><td>1955-1956       </td><td>1977-1978       </td><td>1540            </td><td>556             </td><td> 813            </td><td>1369            </td><td>146             </td><td> 497            </td><td>121             </td><td> 1              </td><td> 59             </td><td>NA              </td><td>NA              </td><td>  NA            </td></tr>\n",
       "\t<tr><td>25              </td><td>Brendan Shanahan</td><td>                </td><td>L               </td><td>1987-1988       </td><td>2008-2009       </td><td>1524            </td><td>656             </td><td> 698            </td><td>1354            </td><td>151             </td><td>2489            </td><td>237             </td><td>23              </td><td>109             </td><td>15              </td><td>12              </td><td>5086            </td></tr>\n",
       "\t<tr><td>26              </td><td>Guy Lafleur     </td><td>                </td><td>R               </td><td>1971-1972       </td><td>1990-1991       </td><td>1126            </td><td>560             </td><td> 793            </td><td>1353            </td><td>453             </td><td> 399            </td><td>153             </td><td> 3              </td><td> 97             </td><td> 0              </td><td> 0              </td><td>3521            </td></tr>\n",
       "\t<tr><td>27              </td><td>Mats Sundin     </td><td>                </td><td>C               </td><td>1990-1991       </td><td>2008-2009       </td><td>1346            </td><td>564             </td><td> 785            </td><td>1349            </td><td> 73             </td><td>1093            </td><td>160             </td><td>31              </td><td> 96             </td><td>11              </td><td>15              </td><td>4015            </td></tr>\n",
       "\t<tr><td>28              </td><td>Dave Andreychuk </td><td>                </td><td>L               </td><td>1982-1983       </td><td>2005-2006       </td><td>1639            </td><td>640             </td><td> 698            </td><td>1338            </td><td> 38             </td><td>1125            </td><td>274             </td><td>11              </td><td> 77             </td><td>17              </td><td> 5              </td><td>4556            </td></tr>\n",
       "\t<tr><td>29              </td><td>Denis Savard    </td><td>                </td><td>C               </td><td>1980-1981       </td><td>1996-1997       </td><td>1196            </td><td>473             </td><td> 865            </td><td>1338            </td><td> 97             </td><td>1336            </td><td>127             </td><td>20              </td><td> 56             </td><td> 4              </td><td> 1              </td><td>3143            </td></tr>\n",
       "\t<tr><td>30              </td><td>Mike Gartner    </td><td>                </td><td>R               </td><td>1979-1980       </td><td>1997-1998       </td><td>1432            </td><td>708             </td><td> 627            </td><td>1335            </td><td> 67             </td><td>1159            </td><td>217             </td><td>23              </td><td> 90             </td><td> 9              </td><td> 4              </td><td>5090            </td></tr>\n",
       "\t<tr><td>...</td><td>...</td><td>...</td><td>...</td><td>...</td><td>...</td><td>...</td><td>...</td><td>...</td><td>...</td><td>...</td><td>...</td><td>...</td><td>...</td><td>...</td><td>...</td><td>...</td><td>...</td></tr>\n",
       "\t<tr><td> 72            </td><td>Brian Leetch   </td><td>               </td><td>D              </td><td>1987-1988      </td><td>2005-2006      </td><td>1205           </td><td>247            </td><td>781            </td><td>1028           </td><td>  25           </td><td> 571           </td><td>111            </td><td> 8             </td><td>38             </td><td> 9             </td><td> 7             </td><td>3640           </td></tr>\n",
       "\t<tr><td> 73            </td><td>Brian Bellows  </td><td>               </td><td>L              </td><td>1982-1983      </td><td>1998-1999      </td><td>1188           </td><td>485            </td><td>537            </td><td>1022           </td><td>-125           </td><td> 718           </td><td>198            </td><td>13             </td><td>58             </td><td> 2             </td><td> 5             </td><td>3588           </td></tr>\n",
       "\t<tr><td> 74            </td><td>Rod Gilbert    </td><td>               </td><td>R              </td><td>1960-1961      </td><td>1977-1978      </td><td>1065           </td><td>406            </td><td>615            </td><td>1021           </td><td>  89           </td><td> 508           </td><td> 83            </td><td> 0             </td><td>40             </td><td>NA             </td><td>NA             </td><td>  NA           </td></tr>\n",
       "\t<tr><td> 75            </td><td>Dale Hunter    </td><td>               </td><td>C              </td><td>1980-1981      </td><td>1998-1999      </td><td>1407           </td><td>323            </td><td>697            </td><td>1020           </td><td>  98           </td><td>3565           </td><td> 92            </td><td>10             </td><td>41             </td><td> 5             </td><td> 3             </td><td>2045           </td></tr>\n",
       "\t<tr><td> 76            </td><td>Pat LaFontaine </td><td>               </td><td>C              </td><td>1983-1984      </td><td>1997-1998      </td><td> 865           </td><td>468            </td><td>545            </td><td>1013           </td><td>  -4           </td><td> 552           </td><td>156            </td><td>11             </td><td>59             </td><td>11             </td><td> 3             </td><td>2665           </td></tr>\n",
       "\t<tr><td> 77            </td><td>Steve Larmer   </td><td>               </td><td>R              </td><td>1980-1981      </td><td>1994-1995      </td><td>1006           </td><td>441            </td><td>571            </td><td>1012           </td><td> 204           </td><td> 532           </td><td>162            </td><td>24             </td><td>60             </td><td> 1             </td><td> 1             </td><td>2803           </td></tr>\n",
       "\t<tr><td> 78            </td><td>Lanny Mcdonald </td><td>               </td><td>R              </td><td>1973-1974      </td><td>1988-1989      </td><td>1111           </td><td>500            </td><td>506            </td><td>1006           </td><td>  41           </td><td> 899           </td><td>139            </td><td>11             </td><td>53             </td><td> 0             </td><td> 0             </td><td>3444           </td></tr>\n",
       "\t<tr><td> 79            </td><td>Brian Propp    </td><td>               </td><td>L              </td><td>1979-1980      </td><td>1993-1994      </td><td>1016           </td><td>425            </td><td>579            </td><td>1004           </td><td> 310           </td><td> 830           </td><td>120            </td><td>22             </td><td>59             </td><td> 1             </td><td> 1             </td><td>3111           </td></tr>\n",
       "\t<tr><td> 80            </td><td>Paul Kariya    </td><td>               </td><td>L              </td><td>1994-1995      </td><td>2009-2010      </td><td> 989           </td><td>402            </td><td>587            </td><td> 989           </td><td>  31           </td><td> 399           </td><td>139            </td><td>17             </td><td>53             </td><td> 4             </td><td> 4             </td><td>3509           </td></tr>\n",
       "\t<tr><td> 81            </td><td>Rick Middleton </td><td>               </td><td>R              </td><td>1974-1975      </td><td>1987-1988      </td><td>1005           </td><td>448            </td><td>540            </td><td> 988           </td><td> 180           </td><td> 157           </td><td>115            </td><td>25             </td><td>59             </td><td> 0             </td><td> 0             </td><td>2275           </td></tr>\n",
       "\t<tr><td> 82            </td><td>David Keon     </td><td>               </td><td>C              </td><td>1960-1961      </td><td>1981-1982      </td><td>1296           </td><td>396            </td><td>590            </td><td> 986           </td><td> -12           </td><td> 117           </td><td> 32            </td><td>24             </td><td>40             </td><td>NA             </td><td>NA             </td><td>  NA           </td></tr>\n",
       "\t<tr><td> 83            </td><td>Andy Bathgate  </td><td>               </td><td>R              </td><td>1952-1953      </td><td>1970-1971      </td><td>1069           </td><td>349            </td><td>624            </td><td> 973           </td><td> -22           </td><td> 624           </td><td>  9            </td><td> 0             </td><td> 7             </td><td>NA             </td><td>NA             </td><td>  NA           </td></tr>\n",
       "\t<tr><td> 84            </td><td>Maurice Richard</td><td>               </td><td>R              </td><td>1942-1943      </td><td>1959-1960      </td><td> 978           </td><td>544            </td><td>421            </td><td> 965           </td><td>  NA           </td><td>1285           </td><td> NA            </td><td>NA             </td><td>NA             </td><td>NA             </td><td>NA             </td><td>  NA           </td></tr>\n",
       "\t<tr><td> 85            </td><td>Kirk Muller    </td><td>               </td><td>L              </td><td>1984-1985      </td><td>2002-2003      </td><td>1349           </td><td>357            </td><td>602            </td><td> 959           </td><td>-146           </td><td>1223           </td><td>134            </td><td>11             </td><td>47             </td><td> 6             </td><td> 5             </td><td>2792           </td></tr>\n",
       "\t<tr><td> 86            </td><td>Larry Robinson </td><td>               </td><td>D              </td><td>1972-1973      </td><td>1991-1992      </td><td>1384           </td><td>208            </td><td>750            </td><td> 958           </td><td> 730           </td><td> 793           </td><td> 66            </td><td> 3             </td><td>29             </td><td> 2             </td><td> 0             </td><td>2338           </td></tr>\n",
       "\t<tr><td> 87            </td><td>Rick Tocchet   </td><td>               </td><td>R              </td><td>1984-1985      </td><td>2001-2002      </td><td>1144           </td><td>440            </td><td>512            </td><td> 952           </td><td>  82           </td><td>2972           </td><td>130            </td><td>13             </td><td>50             </td><td> 9             </td><td> 2             </td><td>2804           </td></tr>\n",
       "\t<tr><td> 88            </td><td>Chris Chelios  </td><td>               </td><td>D              </td><td>1983-1984      </td><td>2009-2010      </td><td>1651           </td><td>185            </td><td>763            </td><td> 948           </td><td> 350           </td><td>2891           </td><td> 69            </td><td>13             </td><td>31             </td><td> 5             </td><td> 1             </td><td>3626           </td></tr>\n",
       "\t<tr><td> 89            </td><td>Jason Arnott   </td><td>               </td><td>C              </td><td>1993-1994      </td><td>2011-2012      </td><td>1244           </td><td>417            </td><td>521            </td><td> 938           </td><td>  81           </td><td>1242           </td><td>145            </td><td> 2             </td><td>64             </td><td> 7             </td><td> 6             </td><td>3460           </td></tr>\n",
       "\t<tr><td> 90            </td><td>Marian Hossa   </td><td>CHI            </td><td>R              </td><td>1997-1998      </td><td>2012-2013      </td><td>1018           </td><td>434            </td><td>501            </td><td> 935           </td><td> 183           </td><td> 544           </td><td>126            </td><td>26             </td><td>70             </td><td> 5             </td><td>11             </td><td>3383           </td></tr>\n",
       "\t<tr><td> 91            </td><td>Steve Thomas   </td><td>               </td><td>R              </td><td>1984-1985      </td><td>2003-2004      </td><td>1235           </td><td>421            </td><td>512            </td><td> 933           </td><td>  30           </td><td>1306           </td><td>106            </td><td> 0             </td><td>78             </td><td> 7             </td><td>10             </td><td>3170           </td></tr>\n",
       "\t<tr><td> 92            </td><td>Patrik Elias   </td><td>NJD            </td><td>L              </td><td>1995-1996      </td><td>2012-2013      </td><td>1090           </td><td>375            </td><td>555            </td><td> 930           </td><td> 191           </td><td> 497           </td><td>104            </td><td>14             </td><td>78             </td><td> 4             </td><td>15             </td><td>3036           </td></tr>\n",
       "\t<tr><td> 93            </td><td>Neal Broten    </td><td>               </td><td>C              </td><td>1980-1981      </td><td>1996-1997      </td><td>1099           </td><td>289            </td><td>634            </td><td> 923           </td><td>  18           </td><td> 569           </td><td> 67            </td><td>25             </td><td>34             </td><td> 3             </td><td> 2             </td><td>2316           </td></tr>\n",
       "\t<tr><td> 94            </td><td>Bobby Orr      </td><td>               </td><td>D              </td><td>1966-1967      </td><td>1978-1979      </td><td> 657           </td><td>270            </td><td>645            </td><td> 915           </td><td> 597           </td><td> 953           </td><td> 73            </td><td>15             </td><td>26             </td><td>NA             </td><td>NA             </td><td>  NA           </td></tr>\n",
       "\t<tr><td> 95            </td><td>Martin St Louis</td><td>TBL            </td><td>R              </td><td>1998-1999      </td><td>2012-2013      </td><td> 979           </td><td>340            </td><td>572            </td><td> 912           </td><td>  12           </td><td> 280           </td><td> 87            </td><td>28             </td><td>60             </td><td> 5             </td><td> 9             </td><td>2536           </td></tr>\n",
       "\t<tr><td> 96            </td><td>Gary Roberts   </td><td>               </td><td>L              </td><td>1986-1987      </td><td>2008-2009      </td><td>1224           </td><td>438            </td><td>472            </td><td> 910           </td><td> 229           </td><td>2560           </td><td>109            </td><td>13             </td><td>52             </td><td>11             </td><td> 5             </td><td>2374           </td></tr>\n",
       "\t<tr><td> 97            </td><td>Scott Stevens  </td><td>               </td><td>D              </td><td>1982-1983      </td><td>2003-2004      </td><td>1635           </td><td>196            </td><td>712            </td><td> 908           </td><td> 377           </td><td>2785           </td><td> 75            </td><td> 5             </td><td>34             </td><td> 0             </td><td> 2             </td><td>3240           </td></tr>\n",
       "\t<tr><td> 98            </td><td>Tony Amonte    </td><td>               </td><td>R              </td><td>1990-1991      </td><td>2006-2007      </td><td>1174           </td><td>416            </td><td>484            </td><td> 900           </td><td>  96           </td><td> 752           </td><td>108            </td><td>23             </td><td>58             </td><td> 7             </td><td> 6             </td><td>3260           </td></tr>\n",
       "\t<tr><td> 99            </td><td>Ray Ferraro    </td><td>               </td><td>C              </td><td>1984-1985      </td><td>2001-2002      </td><td>1258           </td><td>408            </td><td>490            </td><td> 898           </td><td>-104           </td><td>1288           </td><td>130            </td><td> 0             </td><td>45             </td><td>11             </td><td> 6             </td><td>2164           </td></tr>\n",
       "\t<tr><td>100            </td><td>Brad Park      </td><td>               </td><td>D              </td><td>1968-1969      </td><td>1984-1985      </td><td>1113           </td><td>213            </td><td>683            </td><td> 896           </td><td> 358           </td><td>1429           </td><td> 93            </td><td> 5             </td><td>28             </td><td>NA             </td><td>NA             </td><td>2820           </td></tr>\n",
       "\t<tr><td>101            </td><td>Patrick Kane   </td><td>CHI            </td><td>L              </td><td>2007-2008      </td><td>20016-2017     </td><td> 736           </td><td>285            </td><td>465            </td><td> 750           </td><td>  83           </td><td> 284           </td><td> NA            </td><td> 0             </td><td>49             </td><td>NA             </td><td> 3             </td><td>2294           </td></tr>\n",
       "</tbody>\n",
       "</table>\n"
      ],
      "text/latex": [
       "\\begin{tabular}{r|llllllllllllllllll}\n",
       " Rank & Player & Team & Pos & X1st.NHL.Season & Last.NHL.Season & GP & G & A & P & X... & PIM & PP & SH & GW & GT & OT & Shots\\\\\n",
       "\\hline\n",
       "\t  1               & Wayne Gretzky    &                  & C                & 1979-1980        & 1998-1999        & 1487             & 894              & 1963             & 2857             & 518              &  577             & 204              & 73               &  91              & 12               &  1               & 5089            \\\\\n",
       "\t  2               & Mark Messier     &                  & C                & 1979-1980        & 2003-2004        & 1756             & 694              & 1193             & 1887             & 210              & 1910             & 179              & 63               &  92              & 15               &  7               & 4219            \\\\\n",
       "\t  3               & Gordie Howe      &                  & R                & 1946-1947        & 1979-1980        & 1767             & 801              & 1049             & 1850             &  87              & 1685             &  39              &  5               &  18              & NA               & NA               &   NA            \\\\\n",
       "\t  4               & Ron Francis      &                  & C                & 1981-1982        & 2003-2004        & 1731             & 549              & 1249             & 1798             & -10              &  979             & 188              & 12               &  79              & 13               &  3               & 3754            \\\\\n",
       "\t  5               & Marcel Dionne    &                  & C                & 1971-1972        & 1988-1989        & 1348             & 731              & 1040             & 1771             &  28              &  600             & 234              & 19               &  74              &  1               &  2               & 5366            \\\\\n",
       "\t  6               & Steve Yzerman    &                  & C                & 1983-1984        & 2005-2006        & 1514             & 692              & 1063             & 1755             & 202              &  924             & 202              & 50               &  94              & 12               &  8               & 4602            \\\\\n",
       "\t  7               & Mario Lemieux    &                  & C                & 1984-1985        & 2005-2006        &  915             & 690              & 1033             & 1723             & 115              &  834             & 236              & 49               &  74              &  7               &  7               & 3633            \\\\\n",
       "\t  8               & Jaromir Jagr     & NJD              & R                & 1990-1991        & 2012-2013        & 1391             & 681              & 1007             & 1688             & 278              &  959             & 195              & 11               & 118              & 11               & 17               & 4881            \\\\\n",
       "\t  9               & Joe Sakic        &                  & C                & 1988-1989        & 2008-2009        & 1378             & 625              & 1016             & 1641             &  30              &  614             & 205              & 32               &  86              & 13               &  7               & 4621            \\\\\n",
       "\t 10               & Phil Esposito    &                  & C                & 1963-1964        & 1980-1981        & 1282             & 717              &  873             & 1590             & 197              &  910             & 249              & 23               & 118              & NA               & NA               &   NA            \\\\\n",
       "\t 11               & Ray Bourque      &                  & D                & 1979-1980        & 2000-2001        & 1612             & 410              & 1169             & 1579             & 528              & 1141             & 173              & 16               &  60              & 14               &  4               & 6206            \\\\\n",
       "\t 12               & Mark Recchi      &                  & R                & 1988-1989        & 2010-2011        & 1652             & 577              &  956             & 1533             &   0              & 1033             & 200              & 18               &  91              &  6               &  6               & 3820            \\\\\n",
       "\t 13               & Paul Coffey      &                  & D                & 1980-1981        & 2000-2001        & 1409             & 396              & 1135             & 1531             & 294              & 1802             & 135              & 20               &  43              &  4               &  0               & 4385            \\\\\n",
       "\t 14               & Stan Mikita      &                  & C                & 1958-1959        & 1979-1980        & 1394             & 541              &  926             & 1467             & 159              & 1270             &  86              &  9               &  48              & NA               & NA               &   NA            \\\\\n",
       "\t 15               & Teemu Selanne    &                  & R                & 1992-1993        & 2012-2013        & 1387             & 675              &  755             & 1430             &  87              &  648             & 251              &  7               & 107              & 11               &  9               & 4429            \\\\\n",
       "\t 16               & Bryan Trottier   &                  & C                & 1975-1976        & 1993-1994        & 1279             & 524              &  901             & 1425             & 452              &  912             & 161              & 19               &  68              &  2               &  0               & 2841            \\\\\n",
       "\t 17               & Adam Oates       &                  & C                & 1985-1986        & 2003-2004        & 1337             & 341              & 1079             & 1420             &  35              &  415             & 103              & 12               &  56              &  6               &  5               & 2392            \\\\\n",
       "\t 18               & Doug Gilmour     &                  & C                & 1983-1984        & 2002-2003        & 1474             & 450              &  964             & 1414             & 132              & 1301             & 153              & 18               &  56              & 15               &  2               & 2833            \\\\\n",
       "\t 19               & Dale Hawerchuk   &                  & C                & 1981-1982        & 1996-1997        & 1188             & 518              &  891             & 1409             & -92              &  740             & 182              & 13               &  49              &  3               &  2               & 3754            \\\\\n",
       "\t 20               & Jari Kurri       &                  & R                & 1980-1981        & 1997-1998        & 1251             & 601              &  797             & 1398             & 282              &  545             & 150              & 37               &  67              &  7               &  3               & 3142            \\\\\n",
       "\t 21               & Luc Robitaille   &                  & L                & 1986-1987        & 2005-2006        & 1431             & 668              &  726             & 1394             &  72              & 1177             & 247              &  3               &  89              & 14               &  7               & 3961            \\\\\n",
       "\t 22               & Brett Hull       &                  & R                & 1985-1986        & 2005-2006        & 1269             & 741              &  650             & 1391             &  23              &  458             & 265              & 20               & 110              & 12               & 12               & 4876            \\\\\n",
       "\t 23               & Mike Modano      &                  & C                & 1988-1989        & 2010-2011        & 1499             & 561              &  813             & 1374             & 114              &  926             & 157              & 29               &  92              & 15               &  9               & 4273            \\\\\n",
       "\t 24               & John Bucyk       &                  & L                & 1955-1956        & 1977-1978        & 1540             & 556              &  813             & 1369             & 146              &  497             & 121              &  1               &  59              & NA               & NA               &   NA            \\\\\n",
       "\t 25               & Brendan Shanahan &                  & L                & 1987-1988        & 2008-2009        & 1524             & 656              &  698             & 1354             & 151              & 2489             & 237              & 23               & 109              & 15               & 12               & 5086            \\\\\n",
       "\t 26               & Guy Lafleur      &                  & R                & 1971-1972        & 1990-1991        & 1126             & 560              &  793             & 1353             & 453              &  399             & 153              &  3               &  97              &  0               &  0               & 3521            \\\\\n",
       "\t 27               & Mats Sundin      &                  & C                & 1990-1991        & 2008-2009        & 1346             & 564              &  785             & 1349             &  73              & 1093             & 160              & 31               &  96              & 11               & 15               & 4015            \\\\\n",
       "\t 28               & Dave Andreychuk  &                  & L                & 1982-1983        & 2005-2006        & 1639             & 640              &  698             & 1338             &  38              & 1125             & 274              & 11               &  77              & 17               &  5               & 4556            \\\\\n",
       "\t 29               & Denis Savard     &                  & C                & 1980-1981        & 1996-1997        & 1196             & 473              &  865             & 1338             &  97              & 1336             & 127              & 20               &  56              &  4               &  1               & 3143            \\\\\n",
       "\t 30               & Mike Gartner     &                  & R                & 1979-1980        & 1997-1998        & 1432             & 708              &  627             & 1335             &  67              & 1159             & 217              & 23               &  90              &  9               &  4               & 5090            \\\\\n",
       "\t ... & ... & ... & ... & ... & ... & ... & ... & ... & ... & ... & ... & ... & ... & ... & ... & ... & ...\\\\\n",
       "\t  72             & Brian Leetch    &                 & D               & 1987-1988       & 2005-2006       & 1205            & 247             & 781             & 1028            &   25            &  571            & 111             &  8              & 38              &  9              &  7              & 3640           \\\\\n",
       "\t  73             & Brian Bellows   &                 & L               & 1982-1983       & 1998-1999       & 1188            & 485             & 537             & 1022            & -125            &  718            & 198             & 13              & 58              &  2              &  5              & 3588           \\\\\n",
       "\t  74             & Rod Gilbert     &                 & R               & 1960-1961       & 1977-1978       & 1065            & 406             & 615             & 1021            &   89            &  508            &  83             &  0              & 40              & NA              & NA              &   NA           \\\\\n",
       "\t  75             & Dale Hunter     &                 & C               & 1980-1981       & 1998-1999       & 1407            & 323             & 697             & 1020            &   98            & 3565            &  92             & 10              & 41              &  5              &  3              & 2045           \\\\\n",
       "\t  76             & Pat LaFontaine  &                 & C               & 1983-1984       & 1997-1998       &  865            & 468             & 545             & 1013            &   -4            &  552            & 156             & 11              & 59              & 11              &  3              & 2665           \\\\\n",
       "\t  77             & Steve Larmer    &                 & R               & 1980-1981       & 1994-1995       & 1006            & 441             & 571             & 1012            &  204            &  532            & 162             & 24              & 60              &  1              &  1              & 2803           \\\\\n",
       "\t  78             & Lanny Mcdonald  &                 & R               & 1973-1974       & 1988-1989       & 1111            & 500             & 506             & 1006            &   41            &  899            & 139             & 11              & 53              &  0              &  0              & 3444           \\\\\n",
       "\t  79             & Brian Propp     &                 & L               & 1979-1980       & 1993-1994       & 1016            & 425             & 579             & 1004            &  310            &  830            & 120             & 22              & 59              &  1              &  1              & 3111           \\\\\n",
       "\t  80             & Paul Kariya     &                 & L               & 1994-1995       & 2009-2010       &  989            & 402             & 587             &  989            &   31            &  399            & 139             & 17              & 53              &  4              &  4              & 3509           \\\\\n",
       "\t  81             & Rick Middleton  &                 & R               & 1974-1975       & 1987-1988       & 1005            & 448             & 540             &  988            &  180            &  157            & 115             & 25              & 59              &  0              &  0              & 2275           \\\\\n",
       "\t  82             & David Keon      &                 & C               & 1960-1961       & 1981-1982       & 1296            & 396             & 590             &  986            &  -12            &  117            &  32             & 24              & 40              & NA              & NA              &   NA           \\\\\n",
       "\t  83             & Andy Bathgate   &                 & R               & 1952-1953       & 1970-1971       & 1069            & 349             & 624             &  973            &  -22            &  624            &   9             &  0              &  7              & NA              & NA              &   NA           \\\\\n",
       "\t  84             & Maurice Richard &                 & R               & 1942-1943       & 1959-1960       &  978            & 544             & 421             &  965            &   NA            & 1285            &  NA             & NA              & NA              & NA              & NA              &   NA           \\\\\n",
       "\t  85             & Kirk Muller     &                 & L               & 1984-1985       & 2002-2003       & 1349            & 357             & 602             &  959            & -146            & 1223            & 134             & 11              & 47              &  6              &  5              & 2792           \\\\\n",
       "\t  86             & Larry Robinson  &                 & D               & 1972-1973       & 1991-1992       & 1384            & 208             & 750             &  958            &  730            &  793            &  66             &  3              & 29              &  2              &  0              & 2338           \\\\\n",
       "\t  87             & Rick Tocchet    &                 & R               & 1984-1985       & 2001-2002       & 1144            & 440             & 512             &  952            &   82            & 2972            & 130             & 13              & 50              &  9              &  2              & 2804           \\\\\n",
       "\t  88             & Chris Chelios   &                 & D               & 1983-1984       & 2009-2010       & 1651            & 185             & 763             &  948            &  350            & 2891            &  69             & 13              & 31              &  5              &  1              & 3626           \\\\\n",
       "\t  89             & Jason Arnott    &                 & C               & 1993-1994       & 2011-2012       & 1244            & 417             & 521             &  938            &   81            & 1242            & 145             &  2              & 64              &  7              &  6              & 3460           \\\\\n",
       "\t  90             & Marian Hossa    & CHI             & R               & 1997-1998       & 2012-2013       & 1018            & 434             & 501             &  935            &  183            &  544            & 126             & 26              & 70              &  5              & 11              & 3383           \\\\\n",
       "\t  91             & Steve Thomas    &                 & R               & 1984-1985       & 2003-2004       & 1235            & 421             & 512             &  933            &   30            & 1306            & 106             &  0              & 78              &  7              & 10              & 3170           \\\\\n",
       "\t  92             & Patrik Elias    & NJD             & L               & 1995-1996       & 2012-2013       & 1090            & 375             & 555             &  930            &  191            &  497            & 104             & 14              & 78              &  4              & 15              & 3036           \\\\\n",
       "\t  93             & Neal Broten     &                 & C               & 1980-1981       & 1996-1997       & 1099            & 289             & 634             &  923            &   18            &  569            &  67             & 25              & 34              &  3              &  2              & 2316           \\\\\n",
       "\t  94             & Bobby Orr       &                 & D               & 1966-1967       & 1978-1979       &  657            & 270             & 645             &  915            &  597            &  953            &  73             & 15              & 26              & NA              & NA              &   NA           \\\\\n",
       "\t  95             & Martin St Louis & TBL             & R               & 1998-1999       & 2012-2013       &  979            & 340             & 572             &  912            &   12            &  280            &  87             & 28              & 60              &  5              &  9              & 2536           \\\\\n",
       "\t  96             & Gary Roberts    &                 & L               & 1986-1987       & 2008-2009       & 1224            & 438             & 472             &  910            &  229            & 2560            & 109             & 13              & 52              & 11              &  5              & 2374           \\\\\n",
       "\t  97             & Scott Stevens   &                 & D               & 1982-1983       & 2003-2004       & 1635            & 196             & 712             &  908            &  377            & 2785            &  75             &  5              & 34              &  0              &  2              & 3240           \\\\\n",
       "\t  98             & Tony Amonte     &                 & R               & 1990-1991       & 2006-2007       & 1174            & 416             & 484             &  900            &   96            &  752            & 108             & 23              & 58              &  7              &  6              & 3260           \\\\\n",
       "\t  99             & Ray Ferraro     &                 & C               & 1984-1985       & 2001-2002       & 1258            & 408             & 490             &  898            & -104            & 1288            & 130             &  0              & 45              & 11              &  6              & 2164           \\\\\n",
       "\t 100             & Brad Park       &                 & D               & 1968-1969       & 1984-1985       & 1113            & 213             & 683             &  896            &  358            & 1429            &  93             &  5              & 28              & NA              & NA              & 2820           \\\\\n",
       "\t 101             & Patrick Kane    & CHI             & L               & 2007-2008       & 20016-2017      &  736            & 285             & 465             &  750            &   83            &  284            &  NA             &  0              & 49              & NA              &  3              & 2294           \\\\\n",
       "\\end{tabular}\n"
      ],
      "text/markdown": [
       "\n",
       "Rank | Player | Team | Pos | X1st.NHL.Season | Last.NHL.Season | GP | G | A | P | X... | PIM | PP | SH | GW | GT | OT | Shots | \n",
       "|---|---|---|---|---|---|---|---|---|---|---|---|---|---|---|---|---|---|---|---|---|---|---|---|---|---|---|---|---|---|---|---|---|---|---|---|---|---|---|---|---|---|---|---|---|---|---|---|---|---|---|---|---|---|---|---|---|---|---|---|---|\n",
       "|  1               | Wayne Gretzky    |                  | C                | 1979-1980        | 1998-1999        | 1487             | 894              | 1963             | 2857             | 518              |  577             | 204              | 73               |  91              | 12               |  1               | 5089             | \n",
       "|  2               | Mark Messier     |                  | C                | 1979-1980        | 2003-2004        | 1756             | 694              | 1193             | 1887             | 210              | 1910             | 179              | 63               |  92              | 15               |  7               | 4219             | \n",
       "|  3               | Gordie Howe      |                  | R                | 1946-1947        | 1979-1980        | 1767             | 801              | 1049             | 1850             |  87              | 1685             |  39              |  5               |  18              | NA               | NA               |   NA             | \n",
       "|  4               | Ron Francis      |                  | C                | 1981-1982        | 2003-2004        | 1731             | 549              | 1249             | 1798             | -10              |  979             | 188              | 12               |  79              | 13               |  3               | 3754             | \n",
       "|  5               | Marcel Dionne    |                  | C                | 1971-1972        | 1988-1989        | 1348             | 731              | 1040             | 1771             |  28              |  600             | 234              | 19               |  74              |  1               |  2               | 5366             | \n",
       "|  6               | Steve Yzerman    |                  | C                | 1983-1984        | 2005-2006        | 1514             | 692              | 1063             | 1755             | 202              |  924             | 202              | 50               |  94              | 12               |  8               | 4602             | \n",
       "|  7               | Mario Lemieux    |                  | C                | 1984-1985        | 2005-2006        |  915             | 690              | 1033             | 1723             | 115              |  834             | 236              | 49               |  74              |  7               |  7               | 3633             | \n",
       "|  8               | Jaromir Jagr     | NJD              | R                | 1990-1991        | 2012-2013        | 1391             | 681              | 1007             | 1688             | 278              |  959             | 195              | 11               | 118              | 11               | 17               | 4881             | \n",
       "|  9               | Joe Sakic        |                  | C                | 1988-1989        | 2008-2009        | 1378             | 625              | 1016             | 1641             |  30              |  614             | 205              | 32               |  86              | 13               |  7               | 4621             | \n",
       "| 10               | Phil Esposito    |                  | C                | 1963-1964        | 1980-1981        | 1282             | 717              |  873             | 1590             | 197              |  910             | 249              | 23               | 118              | NA               | NA               |   NA             | \n",
       "| 11               | Ray Bourque      |                  | D                | 1979-1980        | 2000-2001        | 1612             | 410              | 1169             | 1579             | 528              | 1141             | 173              | 16               |  60              | 14               |  4               | 6206             | \n",
       "| 12               | Mark Recchi      |                  | R                | 1988-1989        | 2010-2011        | 1652             | 577              |  956             | 1533             |   0              | 1033             | 200              | 18               |  91              |  6               |  6               | 3820             | \n",
       "| 13               | Paul Coffey      |                  | D                | 1980-1981        | 2000-2001        | 1409             | 396              | 1135             | 1531             | 294              | 1802             | 135              | 20               |  43              |  4               |  0               | 4385             | \n",
       "| 14               | Stan Mikita      |                  | C                | 1958-1959        | 1979-1980        | 1394             | 541              |  926             | 1467             | 159              | 1270             |  86              |  9               |  48              | NA               | NA               |   NA             | \n",
       "| 15               | Teemu Selanne    |                  | R                | 1992-1993        | 2012-2013        | 1387             | 675              |  755             | 1430             |  87              |  648             | 251              |  7               | 107              | 11               |  9               | 4429             | \n",
       "| 16               | Bryan Trottier   |                  | C                | 1975-1976        | 1993-1994        | 1279             | 524              |  901             | 1425             | 452              |  912             | 161              | 19               |  68              |  2               |  0               | 2841             | \n",
       "| 17               | Adam Oates       |                  | C                | 1985-1986        | 2003-2004        | 1337             | 341              | 1079             | 1420             |  35              |  415             | 103              | 12               |  56              |  6               |  5               | 2392             | \n",
       "| 18               | Doug Gilmour     |                  | C                | 1983-1984        | 2002-2003        | 1474             | 450              |  964             | 1414             | 132              | 1301             | 153              | 18               |  56              | 15               |  2               | 2833             | \n",
       "| 19               | Dale Hawerchuk   |                  | C                | 1981-1982        | 1996-1997        | 1188             | 518              |  891             | 1409             | -92              |  740             | 182              | 13               |  49              |  3               |  2               | 3754             | \n",
       "| 20               | Jari Kurri       |                  | R                | 1980-1981        | 1997-1998        | 1251             | 601              |  797             | 1398             | 282              |  545             | 150              | 37               |  67              |  7               |  3               | 3142             | \n",
       "| 21               | Luc Robitaille   |                  | L                | 1986-1987        | 2005-2006        | 1431             | 668              |  726             | 1394             |  72              | 1177             | 247              |  3               |  89              | 14               |  7               | 3961             | \n",
       "| 22               | Brett Hull       |                  | R                | 1985-1986        | 2005-2006        | 1269             | 741              |  650             | 1391             |  23              |  458             | 265              | 20               | 110              | 12               | 12               | 4876             | \n",
       "| 23               | Mike Modano      |                  | C                | 1988-1989        | 2010-2011        | 1499             | 561              |  813             | 1374             | 114              |  926             | 157              | 29               |  92              | 15               |  9               | 4273             | \n",
       "| 24               | John Bucyk       |                  | L                | 1955-1956        | 1977-1978        | 1540             | 556              |  813             | 1369             | 146              |  497             | 121              |  1               |  59              | NA               | NA               |   NA             | \n",
       "| 25               | Brendan Shanahan |                  | L                | 1987-1988        | 2008-2009        | 1524             | 656              |  698             | 1354             | 151              | 2489             | 237              | 23               | 109              | 15               | 12               | 5086             | \n",
       "| 26               | Guy Lafleur      |                  | R                | 1971-1972        | 1990-1991        | 1126             | 560              |  793             | 1353             | 453              |  399             | 153              |  3               |  97              |  0               |  0               | 3521             | \n",
       "| 27               | Mats Sundin      |                  | C                | 1990-1991        | 2008-2009        | 1346             | 564              |  785             | 1349             |  73              | 1093             | 160              | 31               |  96              | 11               | 15               | 4015             | \n",
       "| 28               | Dave Andreychuk  |                  | L                | 1982-1983        | 2005-2006        | 1639             | 640              |  698             | 1338             |  38              | 1125             | 274              | 11               |  77              | 17               |  5               | 4556             | \n",
       "| 29               | Denis Savard     |                  | C                | 1980-1981        | 1996-1997        | 1196             | 473              |  865             | 1338             |  97              | 1336             | 127              | 20               |  56              |  4               |  1               | 3143             | \n",
       "| 30               | Mike Gartner     |                  | R                | 1979-1980        | 1997-1998        | 1432             | 708              |  627             | 1335             |  67              | 1159             | 217              | 23               |  90              |  9               |  4               | 5090             | \n",
       "| ... | ... | ... | ... | ... | ... | ... | ... | ... | ... | ... | ... | ... | ... | ... | ... | ... | ... | \n",
       "|  72             | Brian Leetch    |                 | D               | 1987-1988       | 2005-2006       | 1205            | 247             | 781             | 1028            |   25            |  571            | 111             |  8              | 38              |  9              |  7              | 3640            | \n",
       "|  73             | Brian Bellows   |                 | L               | 1982-1983       | 1998-1999       | 1188            | 485             | 537             | 1022            | -125            |  718            | 198             | 13              | 58              |  2              |  5              | 3588            | \n",
       "|  74             | Rod Gilbert     |                 | R               | 1960-1961       | 1977-1978       | 1065            | 406             | 615             | 1021            |   89            |  508            |  83             |  0              | 40              | NA              | NA              |   NA            | \n",
       "|  75             | Dale Hunter     |                 | C               | 1980-1981       | 1998-1999       | 1407            | 323             | 697             | 1020            |   98            | 3565            |  92             | 10              | 41              |  5              |  3              | 2045            | \n",
       "|  76             | Pat LaFontaine  |                 | C               | 1983-1984       | 1997-1998       |  865            | 468             | 545             | 1013            |   -4            |  552            | 156             | 11              | 59              | 11              |  3              | 2665            | \n",
       "|  77             | Steve Larmer    |                 | R               | 1980-1981       | 1994-1995       | 1006            | 441             | 571             | 1012            |  204            |  532            | 162             | 24              | 60              |  1              |  1              | 2803            | \n",
       "|  78             | Lanny Mcdonald  |                 | R               | 1973-1974       | 1988-1989       | 1111            | 500             | 506             | 1006            |   41            |  899            | 139             | 11              | 53              |  0              |  0              | 3444            | \n",
       "|  79             | Brian Propp     |                 | L               | 1979-1980       | 1993-1994       | 1016            | 425             | 579             | 1004            |  310            |  830            | 120             | 22              | 59              |  1              |  1              | 3111            | \n",
       "|  80             | Paul Kariya     |                 | L               | 1994-1995       | 2009-2010       |  989            | 402             | 587             |  989            |   31            |  399            | 139             | 17              | 53              |  4              |  4              | 3509            | \n",
       "|  81             | Rick Middleton  |                 | R               | 1974-1975       | 1987-1988       | 1005            | 448             | 540             |  988            |  180            |  157            | 115             | 25              | 59              |  0              |  0              | 2275            | \n",
       "|  82             | David Keon      |                 | C               | 1960-1961       | 1981-1982       | 1296            | 396             | 590             |  986            |  -12            |  117            |  32             | 24              | 40              | NA              | NA              |   NA            | \n",
       "|  83             | Andy Bathgate   |                 | R               | 1952-1953       | 1970-1971       | 1069            | 349             | 624             |  973            |  -22            |  624            |   9             |  0              |  7              | NA              | NA              |   NA            | \n",
       "|  84             | Maurice Richard |                 | R               | 1942-1943       | 1959-1960       |  978            | 544             | 421             |  965            |   NA            | 1285            |  NA             | NA              | NA              | NA              | NA              |   NA            | \n",
       "|  85             | Kirk Muller     |                 | L               | 1984-1985       | 2002-2003       | 1349            | 357             | 602             |  959            | -146            | 1223            | 134             | 11              | 47              |  6              |  5              | 2792            | \n",
       "|  86             | Larry Robinson  |                 | D               | 1972-1973       | 1991-1992       | 1384            | 208             | 750             |  958            |  730            |  793            |  66             |  3              | 29              |  2              |  0              | 2338            | \n",
       "|  87             | Rick Tocchet    |                 | R               | 1984-1985       | 2001-2002       | 1144            | 440             | 512             |  952            |   82            | 2972            | 130             | 13              | 50              |  9              |  2              | 2804            | \n",
       "|  88             | Chris Chelios   |                 | D               | 1983-1984       | 2009-2010       | 1651            | 185             | 763             |  948            |  350            | 2891            |  69             | 13              | 31              |  5              |  1              | 3626            | \n",
       "|  89             | Jason Arnott    |                 | C               | 1993-1994       | 2011-2012       | 1244            | 417             | 521             |  938            |   81            | 1242            | 145             |  2              | 64              |  7              |  6              | 3460            | \n",
       "|  90             | Marian Hossa    | CHI             | R               | 1997-1998       | 2012-2013       | 1018            | 434             | 501             |  935            |  183            |  544            | 126             | 26              | 70              |  5              | 11              | 3383            | \n",
       "|  91             | Steve Thomas    |                 | R               | 1984-1985       | 2003-2004       | 1235            | 421             | 512             |  933            |   30            | 1306            | 106             |  0              | 78              |  7              | 10              | 3170            | \n",
       "|  92             | Patrik Elias    | NJD             | L               | 1995-1996       | 2012-2013       | 1090            | 375             | 555             |  930            |  191            |  497            | 104             | 14              | 78              |  4              | 15              | 3036            | \n",
       "|  93             | Neal Broten     |                 | C               | 1980-1981       | 1996-1997       | 1099            | 289             | 634             |  923            |   18            |  569            |  67             | 25              | 34              |  3              |  2              | 2316            | \n",
       "|  94             | Bobby Orr       |                 | D               | 1966-1967       | 1978-1979       |  657            | 270             | 645             |  915            |  597            |  953            |  73             | 15              | 26              | NA              | NA              |   NA            | \n",
       "|  95             | Martin St Louis | TBL             | R               | 1998-1999       | 2012-2013       |  979            | 340             | 572             |  912            |   12            |  280            |  87             | 28              | 60              |  5              |  9              | 2536            | \n",
       "|  96             | Gary Roberts    |                 | L               | 1986-1987       | 2008-2009       | 1224            | 438             | 472             |  910            |  229            | 2560            | 109             | 13              | 52              | 11              |  5              | 2374            | \n",
       "|  97             | Scott Stevens   |                 | D               | 1982-1983       | 2003-2004       | 1635            | 196             | 712             |  908            |  377            | 2785            |  75             |  5              | 34              |  0              |  2              | 3240            | \n",
       "|  98             | Tony Amonte     |                 | R               | 1990-1991       | 2006-2007       | 1174            | 416             | 484             |  900            |   96            |  752            | 108             | 23              | 58              |  7              |  6              | 3260            | \n",
       "|  99             | Ray Ferraro     |                 | C               | 1984-1985       | 2001-2002       | 1258            | 408             | 490             |  898            | -104            | 1288            | 130             |  0              | 45              | 11              |  6              | 2164            | \n",
       "| 100             | Brad Park       |                 | D               | 1968-1969       | 1984-1985       | 1113            | 213             | 683             |  896            |  358            | 1429            |  93             |  5              | 28              | NA              | NA              | 2820            | \n",
       "| 101             | Patrick Kane    | CHI             | L               | 2007-2008       | 20016-2017      |  736            | 285             | 465             |  750            |   83            |  284            |  NA             |  0              | 49              | NA              |  3              | 2294            | \n",
       "\n",
       "\n"
      ],
      "text/plain": [
       "    Rank Player           Team Pos X1st.NHL.Season Last.NHL.Season GP   G  \n",
       "1    1   Wayne Gretzky         C   1979-1980       1998-1999       1487 894\n",
       "2    2   Mark Messier          C   1979-1980       2003-2004       1756 694\n",
       "3    3   Gordie Howe           R   1946-1947       1979-1980       1767 801\n",
       "4    4   Ron Francis           C   1981-1982       2003-2004       1731 549\n",
       "5    5   Marcel Dionne         C   1971-1972       1988-1989       1348 731\n",
       "6    6   Steve Yzerman         C   1983-1984       2005-2006       1514 692\n",
       "7    7   Mario Lemieux         C   1984-1985       2005-2006        915 690\n",
       "8    8   Jaromir Jagr     NJD  R   1990-1991       2012-2013       1391 681\n",
       "9    9   Joe Sakic             C   1988-1989       2008-2009       1378 625\n",
       "10  10   Phil Esposito         C   1963-1964       1980-1981       1282 717\n",
       "11  11   Ray Bourque           D   1979-1980       2000-2001       1612 410\n",
       "12  12   Mark Recchi           R   1988-1989       2010-2011       1652 577\n",
       "13  13   Paul Coffey           D   1980-1981       2000-2001       1409 396\n",
       "14  14   Stan Mikita           C   1958-1959       1979-1980       1394 541\n",
       "15  15   Teemu Selanne         R   1992-1993       2012-2013       1387 675\n",
       "16  16   Bryan Trottier        C   1975-1976       1993-1994       1279 524\n",
       "17  17   Adam Oates            C   1985-1986       2003-2004       1337 341\n",
       "18  18   Doug Gilmour          C   1983-1984       2002-2003       1474 450\n",
       "19  19   Dale Hawerchuk        C   1981-1982       1996-1997       1188 518\n",
       "20  20   Jari Kurri            R   1980-1981       1997-1998       1251 601\n",
       "21  21   Luc Robitaille        L   1986-1987       2005-2006       1431 668\n",
       "22  22   Brett Hull            R   1985-1986       2005-2006       1269 741\n",
       "23  23   Mike Modano           C   1988-1989       2010-2011       1499 561\n",
       "24  24   John Bucyk            L   1955-1956       1977-1978       1540 556\n",
       "25  25   Brendan Shanahan      L   1987-1988       2008-2009       1524 656\n",
       "26  26   Guy Lafleur           R   1971-1972       1990-1991       1126 560\n",
       "27  27   Mats Sundin           C   1990-1991       2008-2009       1346 564\n",
       "28  28   Dave Andreychuk       L   1982-1983       2005-2006       1639 640\n",
       "29  29   Denis Savard          C   1980-1981       1996-1997       1196 473\n",
       "30  30   Mike Gartner          R   1979-1980       1997-1998       1432 708\n",
       "... ...  ...              ...  ... ...             ...             ...  ...\n",
       "72   72  Brian Leetch          D   1987-1988       2005-2006       1205 247\n",
       "73   73  Brian Bellows         L   1982-1983       1998-1999       1188 485\n",
       "74   74  Rod Gilbert           R   1960-1961       1977-1978       1065 406\n",
       "75   75  Dale Hunter           C   1980-1981       1998-1999       1407 323\n",
       "76   76  Pat LaFontaine        C   1983-1984       1997-1998        865 468\n",
       "77   77  Steve Larmer          R   1980-1981       1994-1995       1006 441\n",
       "78   78  Lanny Mcdonald        R   1973-1974       1988-1989       1111 500\n",
       "79   79  Brian Propp           L   1979-1980       1993-1994       1016 425\n",
       "80   80  Paul Kariya           L   1994-1995       2009-2010        989 402\n",
       "81   81  Rick Middleton        R   1974-1975       1987-1988       1005 448\n",
       "82   82  David Keon            C   1960-1961       1981-1982       1296 396\n",
       "83   83  Andy Bathgate         R   1952-1953       1970-1971       1069 349\n",
       "84   84  Maurice Richard       R   1942-1943       1959-1960        978 544\n",
       "85   85  Kirk Muller           L   1984-1985       2002-2003       1349 357\n",
       "86   86  Larry Robinson        D   1972-1973       1991-1992       1384 208\n",
       "87   87  Rick Tocchet          R   1984-1985       2001-2002       1144 440\n",
       "88   88  Chris Chelios         D   1983-1984       2009-2010       1651 185\n",
       "89   89  Jason Arnott          C   1993-1994       2011-2012       1244 417\n",
       "90   90  Marian Hossa     CHI  R   1997-1998       2012-2013       1018 434\n",
       "91   91  Steve Thomas          R   1984-1985       2003-2004       1235 421\n",
       "92   92  Patrik Elias     NJD  L   1995-1996       2012-2013       1090 375\n",
       "93   93  Neal Broten           C   1980-1981       1996-1997       1099 289\n",
       "94   94  Bobby Orr             D   1966-1967       1978-1979        657 270\n",
       "95   95  Martin St Louis  TBL  R   1998-1999       2012-2013        979 340\n",
       "96   96  Gary Roberts          L   1986-1987       2008-2009       1224 438\n",
       "97   97  Scott Stevens         D   1982-1983       2003-2004       1635 196\n",
       "98   98  Tony Amonte           R   1990-1991       2006-2007       1174 416\n",
       "99   99  Ray Ferraro           C   1984-1985       2001-2002       1258 408\n",
       "100 100  Brad Park             D   1968-1969       1984-1985       1113 213\n",
       "101 101  Patrick Kane     CHI  L   2007-2008       20016-2017       736 285\n",
       "    A    P    X... PIM  PP  SH  GW  GT  OT  Shots\n",
       "1   1963 2857 518   577 204 73   91 12   1  5089 \n",
       "2   1193 1887 210  1910 179 63   92 15   7  4219 \n",
       "3   1049 1850  87  1685  39  5   18 NA  NA    NA \n",
       "4   1249 1798 -10   979 188 12   79 13   3  3754 \n",
       "5   1040 1771  28   600 234 19   74  1   2  5366 \n",
       "6   1063 1755 202   924 202 50   94 12   8  4602 \n",
       "7   1033 1723 115   834 236 49   74  7   7  3633 \n",
       "8   1007 1688 278   959 195 11  118 11  17  4881 \n",
       "9   1016 1641  30   614 205 32   86 13   7  4621 \n",
       "10   873 1590 197   910 249 23  118 NA  NA    NA \n",
       "11  1169 1579 528  1141 173 16   60 14   4  6206 \n",
       "12   956 1533   0  1033 200 18   91  6   6  3820 \n",
       "13  1135 1531 294  1802 135 20   43  4   0  4385 \n",
       "14   926 1467 159  1270  86  9   48 NA  NA    NA \n",
       "15   755 1430  87   648 251  7  107 11   9  4429 \n",
       "16   901 1425 452   912 161 19   68  2   0  2841 \n",
       "17  1079 1420  35   415 103 12   56  6   5  2392 \n",
       "18   964 1414 132  1301 153 18   56 15   2  2833 \n",
       "19   891 1409 -92   740 182 13   49  3   2  3754 \n",
       "20   797 1398 282   545 150 37   67  7   3  3142 \n",
       "21   726 1394  72  1177 247  3   89 14   7  3961 \n",
       "22   650 1391  23   458 265 20  110 12  12  4876 \n",
       "23   813 1374 114   926 157 29   92 15   9  4273 \n",
       "24   813 1369 146   497 121  1   59 NA  NA    NA \n",
       "25   698 1354 151  2489 237 23  109 15  12  5086 \n",
       "26   793 1353 453   399 153  3   97  0   0  3521 \n",
       "27   785 1349  73  1093 160 31   96 11  15  4015 \n",
       "28   698 1338  38  1125 274 11   77 17   5  4556 \n",
       "29   865 1338  97  1336 127 20   56  4   1  3143 \n",
       "30   627 1335  67  1159 217 23   90  9   4  5090 \n",
       "... ...  ...  ...  ...  ... ... ... ... ... ...  \n",
       "72  781  1028   25  571 111  8  38   9   7  3640 \n",
       "73  537  1022 -125  718 198 13  58   2   5  3588 \n",
       "74  615  1021   89  508  83  0  40  NA  NA    NA \n",
       "75  697  1020   98 3565  92 10  41   5   3  2045 \n",
       "76  545  1013   -4  552 156 11  59  11   3  2665 \n",
       "77  571  1012  204  532 162 24  60   1   1  2803 \n",
       "78  506  1006   41  899 139 11  53   0   0  3444 \n",
       "79  579  1004  310  830 120 22  59   1   1  3111 \n",
       "80  587   989   31  399 139 17  53   4   4  3509 \n",
       "81  540   988  180  157 115 25  59   0   0  2275 \n",
       "82  590   986  -12  117  32 24  40  NA  NA    NA \n",
       "83  624   973  -22  624   9  0   7  NA  NA    NA \n",
       "84  421   965   NA 1285  NA NA  NA  NA  NA    NA \n",
       "85  602   959 -146 1223 134 11  47   6   5  2792 \n",
       "86  750   958  730  793  66  3  29   2   0  2338 \n",
       "87  512   952   82 2972 130 13  50   9   2  2804 \n",
       "88  763   948  350 2891  69 13  31   5   1  3626 \n",
       "89  521   938   81 1242 145  2  64   7   6  3460 \n",
       "90  501   935  183  544 126 26  70   5  11  3383 \n",
       "91  512   933   30 1306 106  0  78   7  10  3170 \n",
       "92  555   930  191  497 104 14  78   4  15  3036 \n",
       "93  634   923   18  569  67 25  34   3   2  2316 \n",
       "94  645   915  597  953  73 15  26  NA  NA    NA \n",
       "95  572   912   12  280  87 28  60   5   9  2536 \n",
       "96  472   910  229 2560 109 13  52  11   5  2374 \n",
       "97  712   908  377 2785  75  5  34   0   2  3240 \n",
       "98  484   900   96  752 108 23  58   7   6  3260 \n",
       "99  490   898 -104 1288 130  0  45  11   6  2164 \n",
       "100 683   896  358 1429  93  5  28  NA  NA  2820 \n",
       "101 465   750   83  284  NA  0  49  NA   3  2294 "
      ]
     },
     "metadata": {},
     "output_type": "display_data"
    }
   ],
   "source": [
    "data1 <- read.csv(\"NHLTop1001.csv\")\n",
    "data1"
   ]
  },
  {
   "cell_type": "markdown",
   "metadata": {},
   "source": [
    "data1 <- data.frame(Rank=c(101),Player=c(\"Patrick Kane\"),Team=c(\"CHI\"),Pos=c(\"L\"),1\"2007-2008\",\"2016-2017\",736,285,465,750,83,284,\" \",0,49,\" \",3,2294))\n",
    "write.table(data1, file=\"NHLTop100.csv\", sep=\";\", append=TRUE,dec=\",\")"
   ]
  },
  {
   "cell_type": "code",
   "execution_count": 24,
   "metadata": {
    "collapsed": true
   },
   "outputs": [],
   "source": [
    "fitc <- lm(I(A-465) ~ I(G-285), data=data1)"
   ]
  },
  {
   "cell_type": "code",
   "execution_count": 25,
   "metadata": {
    "collapsed": false
   },
   "outputs": [
    {
     "data": {
      "text/plain": [
       "\n",
       "Call:\n",
       "lm(formula = I(A - 465) ~ I(G - 285), data = data1)\n",
       "\n",
       "Residuals:\n",
       "    Min      1Q  Median      3Q     Max \n",
       "-355.98 -172.72   -8.94  126.20  997.84 \n",
       "\n",
       "Coefficients:\n",
       "            Estimate Std. Error t value Pr(>|t|)    \n",
       "(Intercept) 172.7210    34.8505   4.956 2.97e-06 ***\n",
       "I(G - 285)    0.5377     0.1492   3.603 0.000493 ***\n",
       "---\n",
       "Signif. codes:  0 '***' 0.001 '**' 0.01 '*' 0.05 '.' 0.1 ' ' 1\n",
       "\n",
       "Residual standard error: 206.7 on 99 degrees of freedom\n",
       "Multiple R-squared:  0.116,\tAdjusted R-squared:  0.107 \n",
       "F-statistic: 12.98 on 1 and 99 DF,  p-value: 0.0004934\n"
      ]
     },
     "metadata": {},
     "output_type": "display_data"
    }
   ],
   "source": [
    "s3 <- summary(fitc)\n",
    "s3"
   ]
  },
  {
   "cell_type": "code",
   "execution_count": 26,
   "metadata": {
    "collapsed": false
   },
   "outputs": [
    {
     "data": {
      "text/html": [
       "0.115951676728681"
      ],
      "text/latex": [
       "0.115951676728681"
      ],
      "text/markdown": [
       "0.115951676728681"
      ],
      "text/plain": [
       "[1] 0.1159517"
      ]
     },
     "metadata": {},
     "output_type": "display_data"
    },
    {
     "data": {
      "text/html": [
       "0.0004934"
      ],
      "text/latex": [
       "0.0004934"
      ],
      "text/markdown": [
       "0.0004934"
      ],
      "text/plain": [
       "[1] 0.0004934"
      ]
     },
     "metadata": {},
     "output_type": "display_data"
    }
   ],
   "source": [
    "r3 <- s3$r.squared\n",
    "p3 <- 0.0004934\n",
    "r3\n",
    "p3"
   ]
  },
  {
   "cell_type": "code",
   "execution_count": 27,
   "metadata": {
    "collapsed": false
   },
   "outputs": [
    {
     "data": {
      "text/html": [
       "<dl class=dl-horizontal>\n",
       "\t<dt>(Intercept)</dt>\n",
       "\t\t<dd>172.721003771531</dd>\n",
       "\t<dt>I(G - 285)</dt>\n",
       "\t\t<dd>0.537662988082941</dd>\n",
       "</dl>\n"
      ],
      "text/latex": [
       "\\begin{description*}\n",
       "\\item[(Intercept)] 172.721003771531\n",
       "\\item[I(G - 285)] 0.537662988082941\n",
       "\\end{description*}\n"
      ],
      "text/markdown": [
       "(Intercept)\n",
       ":   172.721003771531I(G - 285)\n",
       ":   0.537662988082941\n",
       "\n"
      ],
      "text/plain": [
       "(Intercept)  I(G - 285) \n",
       " 172.721004    0.537663 "
      ]
     },
     "metadata": {},
     "output_type": "display_data"
    }
   ],
   "source": [
    "coef(fitc)"
   ]
  },
  {
   "cell_type": "code",
   "execution_count": 28,
   "metadata": {
    "collapsed": false
   },
   "outputs": [
    {
     "data": {
      "text/html": [
       "1.02554035087719"
      ],
      "text/latex": [
       "1.02554035087719"
      ],
      "text/markdown": [
       "1.02554035087719"
      ],
      "text/plain": [
       "[1] 1.02554"
      ]
     },
     "metadata": {},
     "output_type": "display_data"
    }
   ],
   "source": [
    "c2 <- 172.7210\n",
    "m2 <- (465 - c2) / 285\n",
    "m2"
   ]
  },
  {
   "cell_type": "code",
   "execution_count": 29,
   "metadata": {
    "collapsed": false
   },
   "outputs": [
    {
     "data": {
      "image/png": "[encoded data removed]",
      "text/plain": [
       "plot without title"
      ]
     },
     "metadata": {},
     "output_type": "display_data"
    }
   ],
   "source": [
    "with(data1, plot(x=G,y=A,xlim=range(0:1000),ylim=range(0,2000)))\n",
    "abline(c2,m2)"
   ]
  },
  {
   "cell_type": "markdown",
   "metadata": {},
   "source": [
    "Plot 3 for making the line pass through Goal and Assist values of Patrick Kane, and not through origin. Here, a new dataset, NHLTop1001.csv is taken as it contains an extra row for including information of Patrick Kane."
   ]
  },
  {
   "cell_type": "markdown",
   "metadata": {},
   "source": [
    "Part-d: Passing all the above models a,b and c through origin"
   ]
  },
  {
   "cell_type": "code",
   "execution_count": 30,
   "metadata": {
    "collapsed": false
   },
   "outputs": [
    {
     "data": {
      "image/png": "[encoded data removed]",
      "text/plain": [
       "plot without title"
      ]
     },
     "metadata": {},
     "output_type": "display_data"
    }
   ],
   "source": [
    "fitd1 <- lm(I(G)~I(A)+0, data=data)\n",
    "with(data, plot(G,A,xlim=range(0,1000),ylim=range(0,2000)))\n",
    "abline(fitd1)"
   ]
  },
  {
   "cell_type": "markdown",
   "metadata": {},
   "source": [
    "Plot 4-a for initial fit through origin"
   ]
  },
  {
   "cell_type": "code",
   "execution_count": 31,
   "metadata": {
    "collapsed": false
   },
   "outputs": [
    {
     "data": {
      "text/plain": [
       "\n",
       "Call:\n",
       "lm(formula = I(G) ~ I(A) + 0, data = data)\n",
       "\n",
       "Residuals:\n",
       "    Min      1Q  Median      3Q     Max \n",
       "-313.68  -52.62   44.87  130.85  346.62 \n",
       "\n",
       "Coefficients:\n",
       "     Estimate Std. Error t value Pr(>|t|)    \n",
       "I(A)  0.60675    0.02053   29.55   <2e-16 ***\n",
       "---\n",
       "Signif. codes:  0 '***' 0.001 '**' 0.01 '*' 0.05 '.' 0.1 ' ' 1\n",
       "\n",
       "Residual standard error: 158.7 on 99 degrees of freedom\n",
       "Multiple R-squared:  0.8982,\tAdjusted R-squared:  0.8972 \n",
       "F-statistic: 873.4 on 1 and 99 DF,  p-value: < 2.2e-16\n"
      ]
     },
     "metadata": {},
     "output_type": "display_data"
    }
   ],
   "source": [
    "s4 <- summary(fitd1)\n",
    "s4"
   ]
  },
  {
   "cell_type": "code",
   "execution_count": 32,
   "metadata": {
    "collapsed": false
   },
   "outputs": [
    {
     "data": {
      "text/html": [
       "0.89818610880756"
      ],
      "text/latex": [
       "0.89818610880756"
      ],
      "text/markdown": [
       "0.89818610880756"
      ],
      "text/plain": [
       "[1] 0.8981861"
      ]
     },
     "metadata": {},
     "output_type": "display_data"
    },
    {
     "data": {
      "text/html": [
       "2.2e-16"
      ],
      "text/latex": [
       "2.2e-16"
      ],
      "text/markdown": [
       "2.2e-16"
      ],
      "text/plain": [
       "[1] 2.2e-16"
      ]
     },
     "metadata": {},
     "output_type": "display_data"
    }
   ],
   "source": [
    "r4 <- s4$r.squared\n",
    "p4 <- 2.2e-16 \n",
    "r4\n",
    "p4"
   ]
  },
  {
   "cell_type": "code",
   "execution_count": 33,
   "metadata": {
    "collapsed": false
   },
   "outputs": [
    {
     "data": {
      "text/plain": [
       "\n",
       "Call:\n",
       "lm(formula = I(A - 1963) ~ I(G - 894) + 0, data = data)\n",
       "\n",
       "Residuals:\n",
       "   Min     1Q Median     3Q    Max \n",
       "-902.2 -333.4 -145.4  103.3  703.4 \n",
       "\n",
       "Coefficients:\n",
       "           Estimate Std. Error t value Pr(>|t|)    \n",
       "I(G - 894)   2.6847     0.0853   31.48   <2e-16 ***\n",
       "---\n",
       "Signif. codes:  0 '***' 0.001 '**' 0.01 '*' 0.05 '.' 0.1 ' ' 1\n",
       "\n",
       "Residual standard error: 375.7 on 99 degrees of freedom\n",
       "Multiple R-squared:  0.9091,\tAdjusted R-squared:  0.9082 \n",
       "F-statistic: 990.7 on 1 and 99 DF,  p-value: < 2.2e-16\n"
      ]
     },
     "metadata": {},
     "output_type": "display_data"
    },
    {
     "data": {
      "text/html": [
       "<dl class=dl-horizontal>\n",
       "\t<dt>(Intercept)</dt>\n",
       "\t\t<dd>-1003.42204909603</dd>\n",
       "\t<dt>I(G - 894)</dt>\n",
       "\t\t<dd>0.520206294863515</dd>\n",
       "</dl>\n"
      ],
      "text/latex": [
       "\\begin{description*}\n",
       "\\item[(Intercept)] -1003.42204909603\n",
       "\\item[I(G - 894)] 0.520206294863515\n",
       "\\end{description*}\n"
      ],
      "text/markdown": [
       "(Intercept)\n",
       ":   -1003.42204909603I(G - 894)\n",
       ":   0.520206294863515\n",
       "\n"
      ],
      "text/plain": [
       "  (Intercept)    I(G - 894) \n",
       "-1003.4220491     0.5202063 "
      ]
     },
     "metadata": {},
     "output_type": "display_data"
    }
   ],
   "source": [
    "fitd2 <- lm(I(A-1963) ~ I(G-894) +0, data=data)\n",
    "s5 <- summary(fitd2)\n",
    "s5\n",
    "c3 <- coef(fitb)\n",
    "c3"
   ]
  },
  {
   "cell_type": "code",
   "execution_count": 34,
   "metadata": {
    "collapsed": false
   },
   "outputs": [
    {
     "data": {
      "text/html": [
       "0.909145627591712"
      ],
      "text/latex": [
       "0.909145627591712"
      ],
      "text/markdown": [
       "0.909145627591712"
      ],
      "text/plain": [
       "[1] 0.9091456"
      ]
     },
     "metadata": {},
     "output_type": "display_data"
    },
    {
     "data": {
      "text/html": [
       "2.2e-16"
      ],
      "text/latex": [
       "2.2e-16"
      ],
      "text/markdown": [
       "2.2e-16"
      ],
      "text/plain": [
       "[1] 2.2e-16"
      ]
     },
     "metadata": {},
     "output_type": "display_data"
    }
   ],
   "source": [
    "r5 <- s5$r.squared\n",
    "p5 <- 2.2e-16\n",
    "r5\n",
    "p5"
   ]
  },
  {
   "cell_type": "code",
   "execution_count": 35,
   "metadata": {
    "collapsed": false
   },
   "outputs": [
    {
     "data": {
      "image/png": "[encoded data removed]",
      "text/plain": [
       "plot without title"
      ]
     },
     "metadata": {},
     "output_type": "display_data"
    }
   ],
   "source": [
    "c3 <- 0\n",
    "m3 <- 1963 / 894\n",
    "with(data, plot(x=G,y=A,xlim=range(0:1000),ylim=range(0,2000)))\n",
    "abline(c3,m3)"
   ]
  },
  {
   "cell_type": "markdown",
   "metadata": {},
   "source": [
    "Plot 4-b for the model in which the line passes through origin and Goal and Assist value of Wayne Gretzky."
   ]
  },
  {
   "cell_type": "code",
   "execution_count": 36,
   "metadata": {
    "collapsed": false
   },
   "outputs": [
    {
     "data": {
      "text/plain": [
       "\n",
       "Call:\n",
       "lm(formula = I(A - 465) ~ I(G - 285) + 0, data = data1)\n",
       "\n",
       "Residuals:\n",
       "    Min      1Q  Median      3Q     Max \n",
       "-337.85 -114.55   40.53  165.99  807.05 \n",
       "\n",
       "Coefficients:\n",
       "           Estimate Std. Error t value Pr(>|t|)    \n",
       "I(G - 285)   1.1346     0.0979   11.59   <2e-16 ***\n",
       "---\n",
       "Signif. codes:  0 '***' 0.001 '**' 0.01 '*' 0.05 '.' 0.1 ' ' 1\n",
       "\n",
       "Residual standard error: 229.8 on 100 degrees of freedom\n",
       "Multiple R-squared:  0.5732,\tAdjusted R-squared:  0.5689 \n",
       "F-statistic: 134.3 on 1 and 100 DF,  p-value: < 2.2e-16\n"
      ]
     },
     "metadata": {},
     "output_type": "display_data"
    },
    {
     "data": {
      "text/html": [
       "<dl class=dl-horizontal>\n",
       "\t<dt>(Intercept)</dt>\n",
       "\t\t<dd>-1003.42204909603</dd>\n",
       "\t<dt>I(G - 894)</dt>\n",
       "\t\t<dd>0.520206294863515</dd>\n",
       "</dl>\n"
      ],
      "text/latex": [
       "\\begin{description*}\n",
       "\\item[(Intercept)] -1003.42204909603\n",
       "\\item[I(G - 894)] 0.520206294863515\n",
       "\\end{description*}\n"
      ],
      "text/markdown": [
       "(Intercept)\n",
       ":   -1003.42204909603I(G - 894)\n",
       ":   0.520206294863515\n",
       "\n"
      ],
      "text/plain": [
       "  (Intercept)    I(G - 894) \n",
       "-1003.4220491     0.5202063 "
      ]
     },
     "metadata": {},
     "output_type": "display_data"
    },
    {
     "data": {
      "image/png": "[encoded data removed]",
      "text/plain": [
       "plot without title"
      ]
     },
     "metadata": {},
     "output_type": "display_data"
    }
   ],
   "source": [
    "fitd3 <- lm(I(A-465) ~ I(G-285) + 0, data=data1)\n",
    "s6 <- summary(fitd3)\n",
    "s6\n",
    "c4 <- coef(fitb)\n",
    "c4\n",
    "c4 <- 0\n",
    "m4 <- 465 / 285\n",
    "with(data1, plot(x=G,y=A,xlim=range(0:1000),ylim=range(0,2000)))\n",
    "abline(c4,m4)"
   ]
  },
  {
   "cell_type": "markdown",
   "metadata": {},
   "source": [
    "Plot 4-c for the model in which the line passes through origin and Goal and Assist value of Patrick Kane."
   ]
  },
  {
   "cell_type": "code",
   "execution_count": 37,
   "metadata": {
    "collapsed": false
   },
   "outputs": [
    {
     "data": {
      "text/html": [
       "0.573181712694336"
      ],
      "text/latex": [
       "0.573181712694336"
      ],
      "text/markdown": [
       "0.573181712694336"
      ],
      "text/plain": [
       "[1] 0.5731817"
      ]
     },
     "metadata": {},
     "output_type": "display_data"
    },
    {
     "data": {
      "text/html": [
       "2.2e-16"
      ],
      "text/latex": [
       "2.2e-16"
      ],
      "text/markdown": [
       "2.2e-16"
      ],
      "text/plain": [
       "[1] 2.2e-16"
      ]
     },
     "metadata": {},
     "output_type": "display_data"
    }
   ],
   "source": [
    "r6 <- s6$r.squared\n",
    "p6 <- 2.2e-16\n",
    "r6\n",
    "p6"
   ]
  },
  {
   "cell_type": "code",
   "execution_count": 38,
   "metadata": {
    "collapsed": true
   },
   "outputs": [],
   "source": [
    "model <- matrix(c(\"Initial fit\",r1,p1,\"Wayne Gretzky fit\",r2,p2,\"Patrick Kane\",r3,p3,\"Origin-Initial fit\",r4,p4,\"Origin-Wayne Gretzky fit\",r5,p5,\"Origin-Patrick Kane fit\",r6,p6),ncol=3,byrow=TRUE)"
   ]
  },
  {
   "cell_type": "code",
   "execution_count": 39,
   "metadata": {
    "collapsed": false
   },
   "outputs": [],
   "source": [
    "colnames(model) <- c(\"Model names\",\"R-squared\",\"p-value\")"
   ]
  },
  {
   "cell_type": "code",
   "execution_count": 40,
   "metadata": {
    "collapsed": false
   },
   "outputs": [
    {
     "data": {
      "text/html": [
       "<table>\n",
       "<thead><tr><th scope=col>Model names</th><th scope=col>R-squared</th><th scope=col>p-value</th></tr></thead>\n",
       "<tbody>\n",
       "\t<tr><td>Initial fit             </td><td>0.10823050447434        </td><td>0.0008317               </td></tr>\n",
       "\t<tr><td>Wayne Gretzky fit       </td><td>0.10823050447434        </td><td>0.0008317               </td></tr>\n",
       "\t<tr><td>Patrick Kane            </td><td>0.115951676728681       </td><td>0.0004934               </td></tr>\n",
       "\t<tr><td>Origin-Initial fit      </td><td>0.89818610880756        </td><td>2.2e-16                 </td></tr>\n",
       "\t<tr><td>Origin-Wayne Gretzky fit</td><td>0.909145627591712       </td><td>2.2e-16                 </td></tr>\n",
       "\t<tr><td>Origin-Patrick Kane fit </td><td>0.573181712694336       </td><td>2.2e-16                 </td></tr>\n",
       "</tbody>\n",
       "</table>\n"
      ],
      "text/latex": [
       "\\begin{tabular}{lll}\n",
       " Model names & R-squared & p-value\\\\\n",
       "\\hline\n",
       "\t Initial fit              & 0.10823050447434         & 0.0008317               \\\\\n",
       "\t Wayne Gretzky fit        & 0.10823050447434         & 0.0008317               \\\\\n",
       "\t Patrick Kane             & 0.115951676728681        & 0.0004934               \\\\\n",
       "\t Origin-Initial fit       & 0.89818610880756         & 2.2e-16                 \\\\\n",
       "\t Origin-Wayne Gretzky fit & 0.909145627591712        & 2.2e-16                 \\\\\n",
       "\t Origin-Patrick Kane fit  & 0.573181712694336        & 2.2e-16                 \\\\\n",
       "\\end{tabular}\n"
      ],
      "text/markdown": [
       "\n",
       "Model names | R-squared | p-value | \n",
       "|---|---|---|---|---|---|\n",
       "| Initial fit              | 0.10823050447434         | 0.0008317                | \n",
       "| Wayne Gretzky fit        | 0.10823050447434         | 0.0008317                | \n",
       "| Patrick Kane             | 0.115951676728681        | 0.0004934                | \n",
       "| Origin-Initial fit       | 0.89818610880756         | 2.2e-16                  | \n",
       "| Origin-Wayne Gretzky fit | 0.909145627591712        | 2.2e-16                  | \n",
       "| Origin-Patrick Kane fit  | 0.573181712694336        | 2.2e-16                  | \n",
       "\n",
       "\n"
      ],
      "text/plain": [
       "     Model names              R-squared         p-value  \n",
       "[1,] Initial fit              0.10823050447434  0.0008317\n",
       "[2,] Wayne Gretzky fit        0.10823050447434  0.0008317\n",
       "[3,] Patrick Kane             0.115951676728681 0.0004934\n",
       "[4,] Origin-Initial fit       0.89818610880756  2.2e-16  \n",
       "[5,] Origin-Wayne Gretzky fit 0.909145627591712 2.2e-16  \n",
       "[6,] Origin-Patrick Kane fit  0.573181712694336 2.2e-16  "
      ]
     },
     "metadata": {},
     "output_type": "display_data"
    }
   ],
   "source": [
    "model"
   ]
  },
  {
   "cell_type": "markdown",
   "metadata": {},
   "source": [
    "For a good fit of the model, the R-square value of the model should be high and p-value must be low. "
   ]
  },
  {
   "cell_type": "markdown",
   "metadata": {},
   "source": [
    "Hence, from the results obtained by observing the values of R-square and p-value for all the models, we can interpret that the model in which the line passes through the origin and Goal and Assist values of Wayne Gretzky is a "
   ]
  }
 ],
 "metadata": {
  "kernelspec": {
   "display_name": "R",
   "language": "R",
   "name": "ir"
  },
  "language_info": {
   "codemirror_mode": "r",
   "file_extension": ".r",
   "mimetype": "text/x-r-source",
   "name": "R",
   "pygments_lexer": "r",
   "version": "3.3.2"
  }
 },
 "nbformat": 4,
 "nbformat_minor": 2
}
