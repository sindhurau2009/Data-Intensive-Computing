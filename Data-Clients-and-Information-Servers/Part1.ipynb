{
 "cells": [
  {
   "cell_type": "code",
   "execution_count": 1,
   "metadata": {
    "collapsed": false
   },
   "outputs": [
    {
     "name": "stderr",
     "output_type": "stream",
     "text": [
      "Installing package into 'C:/Users/sindh/OneDrive/Documents/R/win-library/3.3'\n",
      "(as 'lib' is unspecified)\n"
     ]
    },
    {
     "name": "stdout",
     "output_type": "stream",
     "text": [
      "package 'twitteR' successfully unpacked and MD5 sums checked\n",
      "\n",
      "The downloaded binary packages are in\n",
      "\tC:\\Users\\sindh\\AppData\\Local\\Temp\\Rtmp0wvpmh\\downloaded_packages\n"
     ]
    }
   ],
   "source": [
    "install.packages('twitteR',repos=\"http://cran.us.r-project.org\")"
   ]
  },
  {
   "cell_type": "code",
   "execution_count": 2,
   "metadata": {
    "collapsed": true
   },
   "outputs": [],
   "source": [
    "library('twitteR')"
   ]
  },
  {
   "cell_type": "code",
   "execution_count": 3,
   "metadata": {
    "collapsed": false
   },
   "outputs": [
    {
     "name": "stdout",
     "output_type": "stream",
     "text": [
      "[1] \"Using direct authentication\"\n"
     ]
    }
   ],
   "source": [
    "setup_twitter_oauth(\"dIOk7Zoe1ggv1nt9DUz7mf5l2\",\"AfgmA3uH7HrLYJWdBagvkMaHJutCtVq7l5U3PLc1DfMR8pNNZH\",\"774008633948594176-UKdDUoFOmKZfDG5kzGXRvC7KWDBbQLx\",\"p0ylTSARIap5FxDzuFraPQxVQmswEEv40cOQcxg7bp2wd\")"
   ]
  },
  {
   "cell_type": "code",
   "execution_count": 4,
   "metadata": {
    "collapsed": true
   },
   "outputs": [],
   "source": [
    "tweets <- searchTwitter('#rstats',n=50)"
   ]
  },
  {
   "cell_type": "code",
   "execution_count": 5,
   "metadata": {
    "collapsed": false
   },
   "outputs": [
    {
     "data": {
      "text/plain": [
       "[[1]]\n",
       "[1] \"dasaptaerwin: @BiswapriyaMisra thanks. Need to dig deeper into this #rstats packages. PS: if I have time :). Have a pleasant Sunday.\"\n",
       "\n",
       "[[2]]\n",
       "[1] \"shoetree: RT @hadleywickham: #rstats  for data science will be shipping Jan 5 https://t.co/BMFYacy7x5 ! (Or read for free at https://t.co/48IKOWCtSc)\"\n",
       "\n",
       "[[3]]\n",
       "[1] \"ErikM727: RT @Rbloggers: Hello R world post https://t.co/QhDRHhHJ20 #rstats #DataScience\"\n",
       "\n",
       "[[4]]\n",
       "[1] \"HoracioCastello: RT @KirkDBorne: How to Install #Microsoft R Server for Windows: https://t.co/1VPRKYFL9r #Rstats #BigData #MachineLearning #DataScience http",
       "\"\n",
       "\n",
       "[[5]]\n",
       "[1] \"shoetree: RT @RLangTip: List of predictive model types supported by the caret package: https://t.co/isSFA2fdPp #rstats\"\n",
       "\n",
       "[[6]]\n",
       "[1] \"mimoradnalinka: RT @ma_salmon: Of course this #rstats post features forcats <ed><U+00A0><U+00BD><ed><U+00B8><U+00BA> https://t.co/k38NHRA8TG\"\n"
      ]
     },
     "metadata": {},
     "output_type": "display_data"
    }
   ],
   "source": [
    "head(tweets)"
   ]
  },
  {
   "cell_type": "code",
   "execution_count": 6,
   "metadata": {
    "collapsed": false
   },
   "outputs": [
    {
     "data": {
      "text/plain": [
       "[[1]]\n",
       "[1] \"dasaptaerwin: @BiswapriyaMisra thanks. Need to dig deeper into this #rstats packages. PS: if I have time :). Have a pleasant Sunday.\"\n",
       "\n",
       "[[2]]\n",
       "[1] \"jonmcalder: It's been an unforgettable 3 days of collaborative investment into the #rstats community for #satRdayCapeTown - so many new friends made :-)\"\n",
       "\n",
       "[[3]]\n",
       "[1] \"SteffLocke: Use your .Rprofile to give you important notifications https://t.co/aDqKSXXfPr #bestpractices #hibpwned #rstats\"\n",
       "\n",
       "[[4]]\n",
       "[1] \"pjs_228: When you're watching rstudio::conf talks and think about that most of your colleagues still do gui / non tidy data analysis :/ #rstats\"\n",
       "\n",
       "[[5]]\n",
       "[1] \"PWGTennant: Remembered why I stopped trying to learn #Rstats. @rstudio freezes within a minute of opening. Tried reinstalling etc. Lots of time wasted!\"\n",
       "\n",
       "[[6]]\n",
       "[1] \"Jemus42: TIL: If you use @rstudio and want a quiet startup, add to your ~/.profile: \\nexport RSTUDIO_WHICH_R='/usr/local/bin/R --quiet'\\n#rstats\"\n"
      ]
     },
     "metadata": {},
     "output_type": "display_data"
    }
   ],
   "source": [
    "head(strip_retweets(tweets,strip_manual=TRUE,strip_mt=TRUE))"
   ]
  },
  {
   "cell_type": "code",
   "execution_count": 7,
   "metadata": {
    "collapsed": true
   },
   "outputs": [],
   "source": [
    "srk <- getUser('imsrk__')"
   ]
  },
  {
   "cell_type": "code",
   "execution_count": 8,
   "metadata": {
    "collapsed": false
   },
   "outputs": [
    {
     "data": {
      "text/html": [
       "'Actor'"
      ],
      "text/latex": [
       "'Actor'"
      ],
      "text/markdown": [
       "'Actor'"
      ],
      "text/plain": [
       "[1] \"Actor\""
      ]
     },
     "metadata": {},
     "output_type": "display_data"
    }
   ],
   "source": [
    "srk$getDescription()"
   ]
  },
  {
   "cell_type": "code",
   "execution_count": 9,
   "metadata": {
    "collapsed": false
   },
   "outputs": [
    {
     "data": {
      "text/html": [
       "'Actor'"
      ],
      "text/latex": [
       "'Actor'"
      ],
      "text/markdown": [
       "'Actor'"
      ],
      "text/plain": [
       "[1] \"Actor\""
      ]
     },
     "metadata": {},
     "output_type": "display_data"
    }
   ],
   "source": [
    "srk$getDescription()"
   ]
  },
  {
   "cell_type": "code",
   "execution_count": 10,
   "metadata": {
    "collapsed": false
   },
   "outputs": [
    {
     "data": {
      "text/html": [
       "27214"
      ],
      "text/latex": [
       "27214"
      ],
      "text/markdown": [
       "27214"
      ],
      "text/plain": [
       "[1] 27214"
      ]
     },
     "metadata": {},
     "output_type": "display_data"
    }
   ],
   "source": [
    "srk$getFollowersCount()"
   ]
  },
  {
   "cell_type": "code",
   "execution_count": 11,
   "metadata": {
    "collapsed": false
   },
   "outputs": [
    {
     "data": {
      "text/plain": [
       "$`144755081`\n",
       "[1] \"ManishMalhotra\"\n",
       "\n",
       "$`114039710`\n",
       "[1] \"imdeepika_\"\n",
       "\n",
       "$`114042079`\n",
       "[1] \"barkha_dutt\"\n",
       "\n",
       "$`120131419`\n",
       "[1] \"iamAmitabh\"\n",
       "\n",
       "$`24705126`\n",
       "[1] \"ShashiTharoor\"\n"
      ]
     },
     "metadata": {},
     "output_type": "display_data"
    }
   ],
   "source": [
    "srk$getFriends(n=5)"
   ]
  },
  {
   "cell_type": "code",
   "execution_count": 12,
   "metadata": {
    "collapsed": false
   },
   "outputs": [
    {
     "data": {
      "text/plain": [
       "[[1]]\n",
       "[1] \"iHrithik: RT @utvmp: #Guzaarish creates a nation-wide buzz! http://www.youtube.com/watch?v=msez0Jk28MM #utvmp @iHrithik #bollywood\"\n"
      ]
     },
     "metadata": {},
     "output_type": "display_data"
    }
   ],
   "source": [
    "srk$getFavorites(n=5)"
   ]
  },
  {
   "cell_type": "code",
   "execution_count": 13,
   "metadata": {
    "collapsed": true
   },
   "outputs": [],
   "source": [
    "df <- twListToDF(tweets)"
   ]
  },
  {
   "cell_type": "code",
   "execution_count": 14,
   "metadata": {
    "collapsed": false
   },
   "outputs": [
    {
     "data": {
      "text/html": [
       "<table>\n",
       "<thead><tr><th scope=col>text</th><th scope=col>favorited</th><th scope=col>favoriteCount</th><th scope=col>replyToSN</th><th scope=col>created</th><th scope=col>truncated</th><th scope=col>replyToSID</th><th scope=col>id</th><th scope=col>replyToUID</th><th scope=col>statusSource</th><th scope=col>screenName</th><th scope=col>retweetCount</th><th scope=col>isRetweet</th><th scope=col>retweeted</th><th scope=col>longitude</th><th scope=col>latitude</th></tr></thead>\n",
       "<tbody>\n",
       "\t<tr><td><span style=white-space:pre-wrap>@BiswapriyaMisra thanks. Need to dig deeper into this #rstats packages. PS: if I have time :). Have a pleasant Sunday.                      </span></td><td>FALSE                                                                                                                                                                               </td><td>0                                                                                                                                                                                   </td><td>BiswapriyaMisra                                                                                                                                                                     </td><td>2017-02-18 23:18:47                                                                                                                                                                 </td><td>FALSE                                                                                                                                                                               </td><td>NA                                                                                                                                                                                  </td><td>833093432444805120                                                                                                                                                                  </td><td>751885664283602944                                                                                                                                                                  </td><td>&lt;a href=\"http://twitter.com/download/iphone\" rel=\"nofollow\"&gt;Twitter for iPhone&lt;/a&gt;                                                                                      </td><td><span style=white-space:pre-wrap>dasaptaerwin   </span>                                                                                                                             </td><td><span style=white-space:pre-wrap>  0</span>                                                                                                                                         </td><td>FALSE                                                                                                                                                                               </td><td>FALSE                                                                                                                                                                               </td><td>NA                                                                                                                                                                                  </td><td>NA                                                                                                                                                                                  </td></tr>\n",
       "\t<tr><td><span style=white-space:pre-wrap>RT @hadleywickham: #rstats  for data science will be shipping Jan 5 https://t.co/BMFYacy7x5 ! (Or read for free at https://t.co/48IKOWCtSc) </span></td><td>FALSE                                                                                                                                                                               </td><td>0                                                                                                                                                                                   </td><td><span style=white-space:pre-wrap>NA             </span>                                                                                                                             </td><td>2017-02-18 23:11:19                                                                                                                                                                 </td><td>FALSE                                                                                                                                                                               </td><td>NA                                                                                                                                                                                  </td><td>833091554172510208                                                                                                                                                                  </td><td><span style=white-space:pre-wrap>NA                </span>                                                                                                                          </td><td><span style=white-space:pre-wrap>&lt;a href=\"http://twitter.com\" rel=\"nofollow\"&gt;Twitter Web Client&lt;/a&gt;                </span>                                              </td><td><span style=white-space:pre-wrap>shoetree       </span>                                                                                                                             </td><td>330                                                                                                                                                                                 </td><td> TRUE                                                                                                                                                                               </td><td>FALSE                                                                                                                                                                               </td><td>NA                                                                                                                                                                                  </td><td>NA                                                                                                                                                                                  </td></tr>\n",
       "\t<tr><td><span style=white-space:pre-wrap>RT @Rbloggers: Hello R world post https://t.co/QhDRHhHJ20 #rstats #DataScience                                                              </span></td><td>FALSE                                                                                                                                                                               </td><td>0                                                                                                                                                                                   </td><td><span style=white-space:pre-wrap>NA             </span>                                                                                                                             </td><td>2017-02-18 23:11:18                                                                                                                                                                 </td><td>FALSE                                                                                                                                                                               </td><td>NA                                                                                                                                                                                  </td><td>833091549005303809                                                                                                                                                                  </td><td><span style=white-space:pre-wrap>NA                </span>                                                                                                                          </td><td>&lt;a href=\"http://twitter.com/download/iphone\" rel=\"nofollow\"&gt;Twitter for iPhone&lt;/a&gt;                                                                                      </td><td><span style=white-space:pre-wrap>ErikM727       </span>                                                                                                                             </td><td><span style=white-space:pre-wrap>  6</span>                                                                                                                                         </td><td> TRUE                                                                                                                                                                               </td><td>FALSE                                                                                                                                                                               </td><td>NA                                                                                                                                                                                  </td><td>NA                                                                                                                                                                                  </td></tr>\n",
       "\t<tr><td>RT @KirkDBorne: How to Install #Microsoft R Server for Windows: https://t.co/1VPRKYFL9r #Rstats #BigData #MachineLearning #DataScience http…</td><td>FALSE                                                                                                                                       </td><td>0                                                                                                                                           </td><td><span style=white-space:pre-wrap>NA             </span>                                                                                     </td><td>2017-02-18 23:09:51                                                                                                                         </td><td>FALSE                                                                                                                                       </td><td>NA                                                                                                                                          </td><td>833091184130191366                                                                                                                          </td><td><span style=white-space:pre-wrap>NA                </span>                                                                                  </td><td><span style=white-space:pre-wrap>&lt;a href=\"http://twitter.com\" rel=\"nofollow\"&gt;Twitter Web Client&lt;/a&gt;                </span>      </td><td>HoracioCastello                                                                                                                             </td><td> 13                                                                                                                                         </td><td> TRUE                                                                                                                                       </td><td>FALSE                                                                                                                                       </td><td>NA                                                                                                                                          </td><td>NA                                                                                                                                          </td></tr>\n",
       "\t<tr><td><span style=white-space:pre-wrap>RT @RLangTip: List of predictive model types supported by the caret package: https://t.co/isSFA2fdPp #rstats                                </span></td><td>FALSE                                                                                                                                                                               </td><td>0                                                                                                                                                                                   </td><td><span style=white-space:pre-wrap>NA             </span>                                                                                                                             </td><td>2017-02-18 23:09:05                                                                                                                                                                 </td><td>FALSE                                                                                                                                                                               </td><td>NA                                                                                                                                                                                  </td><td>833090992777474048                                                                                                                                                                  </td><td><span style=white-space:pre-wrap>NA                </span>                                                                                                                          </td><td><span style=white-space:pre-wrap>&lt;a href=\"http://twitter.com\" rel=\"nofollow\"&gt;Twitter Web Client&lt;/a&gt;                </span>                                              </td><td><span style=white-space:pre-wrap>shoetree       </span>                                                                                                                             </td><td> 21                                                                                                                                                                                 </td><td> TRUE                                                                                                                                                                               </td><td>FALSE                                                                                                                                                                               </td><td>NA                                                                                                                                                                                  </td><td>NA                                                                                                                                                                                  </td></tr>\n",
       "\t<tr><td><span style=white-space:pre-wrap>RT @ma_salmon: Of course this #rstats post features forcats &lt;ed&gt;&lt;U+00A0&gt;&lt;U+00BD&gt;&lt;ed&gt;&lt;U+00B8&gt;&lt;U+00BA&gt; https://t.co/k38NHRA8TG                </span></td><td>FALSE                                                                                                                                                                                                                   </td><td>0                                                                                                                                                                                                                       </td><td><span style=white-space:pre-wrap>NA             </span>                                                                                                                                                                 </td><td>2017-02-18 23:04:33                                                                                                                                                                                                     </td><td>FALSE                                                                                                                                                                                                                   </td><td>NA                                                                                                                                                                                                                      </td><td>833089852405116929                                                                                                                                                                                                      </td><td><span style=white-space:pre-wrap>NA                </span>                                                                                                                                                              </td><td>&lt;a href=\"http://twitter.com/download/iphone\" rel=\"nofollow\"&gt;Twitter for iPhone&lt;/a&gt;                                                                                                                          </td><td>mimoradnalinka                                                                                                                                                                                                          </td><td><span style=white-space:pre-wrap>  5</span>                                                                                                                                                                             </td><td> TRUE                                                                                                                                                                                                                   </td><td>FALSE                                                                                                                                                                                                                   </td><td>NA                                                                                                                                                                                                                      </td><td>NA                                                                                                                                                                                                                      </td></tr>\n",
       "</tbody>\n",
       "</table>\n"
      ],
      "text/latex": [
       "\\begin{tabular}{r|llllllllllllllll}\n",
       " text & favorited & favoriteCount & replyToSN & created & truncated & replyToSID & id & replyToUID & statusSource & screenName & retweetCount & isRetweet & retweeted & longitude & latitude\\\\\n",
       "\\hline\n",
       "\t @BiswapriyaMisra thanks. Need to dig deeper into this \\#rstats packages. PS: if I have time :). Have a pleasant Sunday.                       & FALSE                                                                                                                                          & 0                                                                                                                                              & BiswapriyaMisra                                                                                                                                & 2017-02-18 23:18:47                                                                                                                            & FALSE                                                                                                                                          & NA                                                                                                                                             & 833093432444805120                                                                                                                             & 751885664283602944                                                                                                                             & <a href=\"http://twitter.com/download/iphone\" rel=\"nofollow\">Twitter for iPhone</a>                                                             & dasaptaerwin                                                                                                                                   &   0                                                                                                                                            & FALSE                                                                                                                                          & FALSE                                                                                                                                          & NA                                                                                                                                             & NA                                                                                                                                            \\\\\n",
       "\t RT @hadleywickham: \\#rstats  for data science will be shipping Jan 5 https://t.co/BMFYacy7x5 ! (Or read for free at https://t.co/48IKOWCtSc)  & FALSE                                                                                                                                          & 0                                                                                                                                              & NA                                                                                                                                             & 2017-02-18 23:11:19                                                                                                                            & FALSE                                                                                                                                          & NA                                                                                                                                             & 833091554172510208                                                                                                                             & NA                                                                                                                                             & <a href=\"http://twitter.com\" rel=\"nofollow\">Twitter Web Client</a>                                                                             & shoetree                                                                                                                                       & 330                                                                                                                                            &  TRUE                                                                                                                                          & FALSE                                                                                                                                          & NA                                                                                                                                             & NA                                                                                                                                            \\\\\n",
       "\t RT @Rbloggers: Hello R world post https://t.co/QhDRHhHJ20 \\#rstats \\#DataScience                                                               & FALSE                                                                                                                                            & 0                                                                                                                                                & NA                                                                                                                                               & 2017-02-18 23:11:18                                                                                                                              & FALSE                                                                                                                                            & NA                                                                                                                                               & 833091549005303809                                                                                                                               & NA                                                                                                                                               & <a href=\"http://twitter.com/download/iphone\" rel=\"nofollow\">Twitter for iPhone</a>                                                               & ErikM727                                                                                                                                         &   6                                                                                                                                              &  TRUE                                                                                                                                            & FALSE                                                                                                                                            & NA                                                                                                                                               & NA                                                                                                                                              \\\\\n",
       "\t RT @KirkDBorne: How to Install \\#Microsoft R Server for Windows: https://t.co/1VPRKYFL9r \\#Rstats \\#BigData \\#MachineLearning \\#DataScience http… & FALSE                                                                                                                                                  & 0                                                                                                                                                      & NA                                                                                                                                                     & 2017-02-18 23:09:51                                                                                                                                    & FALSE                                                                                                                                                  & NA                                                                                                                                                     & 833091184130191366                                                                                                                                     & NA                                                                                                                                                     & <a href=\"http://twitter.com\" rel=\"nofollow\">Twitter Web Client</a>                                                                                     & HoracioCastello                                                                                                                                        &  13                                                                                                                                                    &  TRUE                                                                                                                                                  & FALSE                                                                                                                                                  & NA                                                                                                                                                     & NA                                                                                                                                                    \\\\\n",
       "\t RT @RLangTip: List of predictive model types supported by the caret package: https://t.co/isSFA2fdPp \\#rstats                                 & FALSE                                                                                                                                          & 0                                                                                                                                              & NA                                                                                                                                             & 2017-02-18 23:09:05                                                                                                                            & FALSE                                                                                                                                          & NA                                                                                                                                             & 833090992777474048                                                                                                                             & NA                                                                                                                                             & <a href=\"http://twitter.com\" rel=\"nofollow\">Twitter Web Client</a>                                                                             & shoetree                                                                                                                                       &  21                                                                                                                                            &  TRUE                                                                                                                                          & FALSE                                                                                                                                          & NA                                                                                                                                             & NA                                                                                                                                            \\\\\n",
       "\t RT @ma\\_salmon: Of course this \\#rstats post features forcats <ed><U+00A0><U+00BD><ed><U+00B8><U+00BA> https://t.co/k38NHRA8TG                 & FALSE                                                                                                                                            & 0                                                                                                                                                & NA                                                                                                                                               & 2017-02-18 23:04:33                                                                                                                              & FALSE                                                                                                                                            & NA                                                                                                                                               & 833089852405116929                                                                                                                               & NA                                                                                                                                               & <a href=\"http://twitter.com/download/iphone\" rel=\"nofollow\">Twitter for iPhone</a>                                                               & mimoradnalinka                                                                                                                                   &   5                                                                                                                                              &  TRUE                                                                                                                                            & FALSE                                                                                                                                            & NA                                                                                                                                               & NA                                                                                                                                              \\\\\n",
       "\\end{tabular}\n"
      ],
      "text/markdown": [
       "\n",
       "text | favorited | favoriteCount | replyToSN | created | truncated | replyToSID | id | replyToUID | statusSource | screenName | retweetCount | isRetweet | retweeted | longitude | latitude | \n",
       "|---|---|---|---|---|---|\n",
       "| @BiswapriyaMisra thanks. Need to dig deeper into this #rstats packages. PS: if I have time :). Have a pleasant Sunday.                       | FALSE                                                                                                                                        | 0                                                                                                                                            | BiswapriyaMisra                                                                                                                              | 2017-02-18 23:18:47                                                                                                                          | FALSE                                                                                                                                        | NA                                                                                                                                           | 833093432444805120                                                                                                                           | 751885664283602944                                                                                                                           | <a href=\"http://twitter.com/download/iphone\" rel=\"nofollow\">Twitter for iPhone</a>                                                           | dasaptaerwin                                                                                                                                 |   0                                                                                                                                          | FALSE                                                                                                                                        | FALSE                                                                                                                                        | NA                                                                                                                                           | NA                                                                                                                                           | \n",
       "| RT @hadleywickham: #rstats  for data science will be shipping Jan 5 https://t.co/BMFYacy7x5 ! (Or read for free at https://t.co/48IKOWCtSc)  | FALSE                                                                                                                                        | 0                                                                                                                                            | NA                                                                                                                                           | 2017-02-18 23:11:19                                                                                                                          | FALSE                                                                                                                                        | NA                                                                                                                                           | 833091554172510208                                                                                                                           | NA                                                                                                                                           | <a href=\"http://twitter.com\" rel=\"nofollow\">Twitter Web Client</a>                                                                           | shoetree                                                                                                                                     | 330                                                                                                                                          |  TRUE                                                                                                                                        | FALSE                                                                                                                                        | NA                                                                                                                                           | NA                                                                                                                                           | \n",
       "| RT @Rbloggers: Hello R world post https://t.co/QhDRHhHJ20 #rstats #DataScience                                                               | FALSE                                                                                                                                        | 0                                                                                                                                            | NA                                                                                                                                           | 2017-02-18 23:11:18                                                                                                                          | FALSE                                                                                                                                        | NA                                                                                                                                           | 833091549005303809                                                                                                                           | NA                                                                                                                                           | <a href=\"http://twitter.com/download/iphone\" rel=\"nofollow\">Twitter for iPhone</a>                                                           | ErikM727                                                                                                                                     |   6                                                                                                                                          |  TRUE                                                                                                                                        | FALSE                                                                                                                                        | NA                                                                                                                                           | NA                                                                                                                                           | \n",
       "| RT @KirkDBorne: How to Install #Microsoft R Server for Windows: https://t.co/1VPRKYFL9r #Rstats #BigData #MachineLearning #DataScience http… | FALSE                                                                                                                                        | 0                                                                                                                                            | NA                                                                                                                                           | 2017-02-18 23:09:51                                                                                                                          | FALSE                                                                                                                                        | NA                                                                                                                                           | 833091184130191366                                                                                                                           | NA                                                                                                                                           | <a href=\"http://twitter.com\" rel=\"nofollow\">Twitter Web Client</a>                                                                           | HoracioCastello                                                                                                                              |  13                                                                                                                                          |  TRUE                                                                                                                                        | FALSE                                                                                                                                        | NA                                                                                                                                           | NA                                                                                                                                           | \n",
       "| RT @RLangTip: List of predictive model types supported by the caret package: https://t.co/isSFA2fdPp #rstats                                 | FALSE                                                                                                                                        | 0                                                                                                                                            | NA                                                                                                                                           | 2017-02-18 23:09:05                                                                                                                          | FALSE                                                                                                                                        | NA                                                                                                                                           | 833090992777474048                                                                                                                           | NA                                                                                                                                           | <a href=\"http://twitter.com\" rel=\"nofollow\">Twitter Web Client</a>                                                                           | shoetree                                                                                                                                     |  21                                                                                                                                          |  TRUE                                                                                                                                        | FALSE                                                                                                                                        | NA                                                                                                                                           | NA                                                                                                                                           | \n",
       "| RT @ma_salmon: Of course this #rstats post features forcats <ed><U+00A0><U+00BD><ed><U+00B8><U+00BA> https://t.co/k38NHRA8TG                 | FALSE                                                                                                                                        | 0                                                                                                                                            | NA                                                                                                                                           | 2017-02-18 23:04:33                                                                                                                          | FALSE                                                                                                                                        | NA                                                                                                                                           | 833089852405116929                                                                                                                           | NA                                                                                                                                           | <a href=\"http://twitter.com/download/iphone\" rel=\"nofollow\">Twitter for iPhone</a>                                                           | mimoradnalinka                                                                                                                               |   5                                                                                                                                          |  TRUE                                                                                                                                        | FALSE                                                                                                                                        | NA                                                                                                                                           | NA                                                                                                                                           | \n",
       "\n",
       "\n"
      ],
      "text/plain": [
       "  text                                                                                                                                        \n",
       "1 @BiswapriyaMisra thanks. Need to dig deeper into this #rstats packages. PS: if I have time :). Have a pleasant Sunday.                      \n",
       "2 RT @hadleywickham: #rstats  for data science will be shipping Jan 5 https://t.co/BMFYacy7x5 ! (Or read for free at https://t.co/48IKOWCtSc) \n",
       "3 RT @Rbloggers: Hello R world post https://t.co/QhDRHhHJ20 #rstats #DataScience                                                              \n",
       "4 RT @KirkDBorne: How to Install #Microsoft R Server for Windows: https://t.co/1VPRKYFL9r #Rstats #BigData #MachineLearning #DataScience http",
       "\n",
       "5 RT @RLangTip: List of predictive model types supported by the caret package: https://t.co/isSFA2fdPp #rstats                                \n",
       "6 RT @ma_salmon: Of course this #rstats post features forcats <ed><U+00A0><U+00BD><ed><U+00B8><U+00BA> https://t.co/k38NHRA8TG                \n",
       "  favorited favoriteCount replyToSN       created             truncated\n",
       "1 FALSE     0             BiswapriyaMisra 2017-02-18 23:18:47 FALSE    \n",
       "2 FALSE     0             NA              2017-02-18 23:11:19 FALSE    \n",
       "3 FALSE     0             NA              2017-02-18 23:11:18 FALSE    \n",
       "4 FALSE     0             NA              2017-02-18 23:09:51 FALSE    \n",
       "5 FALSE     0             NA              2017-02-18 23:09:05 FALSE    \n",
       "6 FALSE     0             NA              2017-02-18 23:04:33 FALSE    \n",
       "  replyToSID id                 replyToUID        \n",
       "1 NA         833093432444805120 751885664283602944\n",
       "2 NA         833091554172510208 NA                \n",
       "3 NA         833091549005303809 NA                \n",
       "4 NA         833091184130191366 NA                \n",
       "5 NA         833090992777474048 NA                \n",
       "6 NA         833089852405116929 NA                \n",
       "  statusSource                                                                      \n",
       "1 <a href=\"http://twitter.com/download/iphone\" rel=\"nofollow\">Twitter for iPhone</a>\n",
       "2 <a href=\"http://twitter.com\" rel=\"nofollow\">Twitter Web Client</a>                \n",
       "3 <a href=\"http://twitter.com/download/iphone\" rel=\"nofollow\">Twitter for iPhone</a>\n",
       "4 <a href=\"http://twitter.com\" rel=\"nofollow\">Twitter Web Client</a>                \n",
       "5 <a href=\"http://twitter.com\" rel=\"nofollow\">Twitter Web Client</a>                \n",
       "6 <a href=\"http://twitter.com/download/iphone\" rel=\"nofollow\">Twitter for iPhone</a>\n",
       "  screenName      retweetCount isRetweet retweeted longitude latitude\n",
       "1 dasaptaerwin      0          FALSE     FALSE     NA        NA      \n",
       "2 shoetree        330           TRUE     FALSE     NA        NA      \n",
       "3 ErikM727          6           TRUE     FALSE     NA        NA      \n",
       "4 HoracioCastello  13           TRUE     FALSE     NA        NA      \n",
       "5 shoetree         21           TRUE     FALSE     NA        NA      \n",
       "6 mimoradnalinka    5           TRUE     FALSE     NA        NA      "
      ]
     },
     "metadata": {},
     "output_type": "display_data"
    }
   ],
   "source": [
    "head(df)"
   ]
  },
  {
   "cell_type": "code",
   "execution_count": 15,
   "metadata": {
    "collapsed": true
   },
   "outputs": [],
   "source": [
    "library('RSQLite')"
   ]
  },
  {
   "cell_type": "code",
   "execution_count": 16,
   "metadata": {
    "collapsed": true
   },
   "outputs": [],
   "source": [
    "sql_lite_file=tempfile()"
   ]
  },
  {
   "cell_type": "code",
   "execution_count": 17,
   "metadata": {
    "collapsed": true
   },
   "outputs": [],
   "source": [
    "register_sqlite_backend(sql_lite_file)"
   ]
  },
  {
   "cell_type": "code",
   "execution_count": 18,
   "metadata": {
    "collapsed": false
   },
   "outputs": [
    {
     "data": {
      "text/html": [
       "TRUE"
      ],
      "text/latex": [
       "TRUE"
      ],
      "text/markdown": [
       "TRUE"
      ],
      "text/plain": [
       "[1] TRUE"
      ]
     },
     "metadata": {},
     "output_type": "display_data"
    }
   ],
   "source": [
    "store_tweets_db(tweets)"
   ]
  },
  {
   "cell_type": "code",
   "execution_count": 19,
   "metadata": {
    "collapsed": true
   },
   "outputs": [],
   "source": [
    "from_db=load_tweets_db()"
   ]
  },
  {
   "cell_type": "code",
   "execution_count": 20,
   "metadata": {
    "collapsed": false
   },
   "outputs": [
    {
     "data": {
      "text/plain": [
       "[[1]]\n",
       "[1] \"dasaptaerwin: @BiswapriyaMisra thanks. Need to dig deeper into this #rstats packages. PS: if I have time :). Have a pleasant Sunday.\"\n",
       "\n",
       "[[2]]\n",
       "[1] \"shoetree: RT @hadleywickham: #rstats  for data science will be shipping Jan 5 https://t.co/BMFYacy7x5 ! (Or read for free at https://t.co/48IKOWCtSc)\"\n",
       "\n",
       "[[3]]\n",
       "[1] \"ErikM727: RT @Rbloggers: Hello R world post https://t.co/QhDRHhHJ20 #rstats #DataScience\"\n",
       "\n",
       "[[4]]\n",
       "[1] \"HoracioCastello: RT @KirkDBorne: How to Install #Microsoft R Server for Windows: https://t.co/1VPRKYFL9r #Rstats #BigData #MachineLearning #DataScience http",
       "\"\n",
       "\n",
       "[[5]]\n",
       "[1] \"shoetree: RT @RLangTip: List of predictive model types supported by the caret package: https://t.co/isSFA2fdPp #rstats\"\n",
       "\n",
       "[[6]]\n",
       "[1] \"mimoradnalinka: RT @ma_salmon: Of course this #rstats post features forcats <ed><U+00A0><U+00BD><ed><U+00B8><U+00BA> https://t.co/k38NHRA8TG\"\n"
      ]
     },
     "metadata": {},
     "output_type": "display_data"
    }
   ],
   "source": [
    "head(from_db)"
   ]
  },
  {
   "cell_type": "code",
   "execution_count": 21,
   "metadata": {
    "collapsed": true
   },
   "outputs": [],
   "source": [
    "srk_tweets <- userTimeline('imsrk__')"
   ]
  },
  {
   "cell_type": "code",
   "execution_count": 22,
   "metadata": {
    "collapsed": false
   },
   "outputs": [
    {
     "data": {
      "text/plain": [
       "[[1]]\n",
       "[1] \"imsrk__: https://t.co/8AxYvQdAZA  Need to open on chrome browser only\"\n",
       "\n",
       "[[2]]\n",
       "[1] \"imsrk__: @bubai_kdh many thanks\"\n",
       "\n",
       "[[3]]\n",
       "[1] \"imsrk__: @AamirSy95096419 nah, exam nahi doge to raees kaise banoge\"\n",
       "\n",
       "[[4]]\n",
       "[1] \"imsrk__: @pranavbhutara3 @RaeesTheFilm   love and thanks\"\n",
       "\n",
       "[[5]]\n",
       "[1] \"imsrk__: and finally this pic has gone viral. https://t.co/czgZAtVe7r\"\n"
      ]
     },
     "metadata": {},
     "output_type": "display_data"
    }
   ],
   "source": [
    "srk_tweets[1:5]"
   ]
  },
  {
   "cell_type": "code",
   "execution_count": 23,
   "metadata": {
    "collapsed": true
   },
   "outputs": [],
   "source": [
    "srk_tweets_large <- userTimeline('imsrk__',n=100)"
   ]
  },
  {
   "cell_type": "code",
   "execution_count": 24,
   "metadata": {
    "collapsed": false
   },
   "outputs": [
    {
     "data": {
      "text/html": [
       "98"
      ],
      "text/latex": [
       "98"
      ],
      "text/markdown": [
       "98"
      ],
      "text/plain": [
       "[1] 98"
      ]
     },
     "metadata": {},
     "output_type": "display_data"
    }
   ],
   "source": [
    "length(srk_tweets_large)"
   ]
  },
  {
   "cell_type": "code",
   "execution_count": 25,
   "metadata": {
    "collapsed": true
   },
   "outputs": [],
   "source": [
    "avail_trends <- availableTrendLocations()"
   ]
  },
  {
   "cell_type": "code",
   "execution_count": 26,
   "metadata": {
    "collapsed": false
   },
   "outputs": [
    {
     "data": {
      "text/html": [
       "<table>\n",
       "<thead><tr><th scope=col>name</th><th scope=col>country</th><th scope=col>woeid</th></tr></thead>\n",
       "<tbody>\n",
       "\t<tr><td>Worldwide</td><td>         </td><td>1        </td></tr>\n",
       "\t<tr><td>Winnipeg </td><td>Canada   </td><td>2972     </td></tr>\n",
       "\t<tr><td>Ottawa   </td><td>Canada   </td><td>3369     </td></tr>\n",
       "\t<tr><td>Quebec   </td><td>Canada   </td><td>3444     </td></tr>\n",
       "\t<tr><td>Montreal </td><td>Canada   </td><td>3534     </td></tr>\n",
       "\t<tr><td>Toronto  </td><td>Canada   </td><td>4118     </td></tr>\n",
       "</tbody>\n",
       "</table>\n"
      ],
      "text/latex": [
       "\\begin{tabular}{r|lll}\n",
       " name & country & woeid\\\\\n",
       "\\hline\n",
       "\t Worldwide &           & 1        \\\\\n",
       "\t Winnipeg  & Canada    & 2972     \\\\\n",
       "\t Ottawa    & Canada    & 3369     \\\\\n",
       "\t Quebec    & Canada    & 3444     \\\\\n",
       "\t Montreal  & Canada    & 3534     \\\\\n",
       "\t Toronto   & Canada    & 4118     \\\\\n",
       "\\end{tabular}\n"
      ],
      "text/markdown": [
       "\n",
       "name | country | woeid | \n",
       "|---|---|---|---|---|---|\n",
       "| Worldwide |           | 1         | \n",
       "| Winnipeg  | Canada    | 2972      | \n",
       "| Ottawa    | Canada    | 3369      | \n",
       "| Quebec    | Canada    | 3444      | \n",
       "| Montreal  | Canada    | 3534      | \n",
       "| Toronto   | Canada    | 4118      | \n",
       "\n",
       "\n"
      ],
      "text/plain": [
       "  name      country woeid\n",
       "1 Worldwide         1    \n",
       "2 Winnipeg  Canada  2972 \n",
       "3 Ottawa    Canada  3369 \n",
       "4 Quebec    Canada  3444 \n",
       "5 Montreal  Canada  3534 \n",
       "6 Toronto   Canada  4118 "
      ]
     },
     "metadata": {},
     "output_type": "display_data"
    }
   ],
   "source": [
    "head(avail_trends)"
   ]
  },
  {
   "cell_type": "code",
   "execution_count": 27,
   "metadata": {
    "collapsed": true
   },
   "outputs": [],
   "source": [
    "close_trends=closestTrendLocations(-42.8,-71.1)"
   ]
  },
  {
   "cell_type": "code",
   "execution_count": 28,
   "metadata": {
    "collapsed": false
   },
   "outputs": [
    {
     "data": {
      "text/html": [
       "<table>\n",
       "<thead><tr><th scope=col>name</th><th scope=col>country</th><th scope=col>woeid</th></tr></thead>\n",
       "<tbody>\n",
       "\t<tr><td>Concepcion</td><td>Chile     </td><td>349860    </td></tr>\n",
       "</tbody>\n",
       "</table>\n"
      ],
      "text/latex": [
       "\\begin{tabular}{r|lll}\n",
       " name & country & woeid\\\\\n",
       "\\hline\n",
       "\t Concepcion & Chile      & 349860    \\\\\n",
       "\\end{tabular}\n"
      ],
      "text/markdown": [
       "\n",
       "name | country | woeid | \n",
       "|---|\n",
       "| Concepcion | Chile      | 349860     | \n",
       "\n",
       "\n"
      ],
      "text/plain": [
       "  name       country woeid \n",
       "1 Concepcion Chile   349860"
      ]
     },
     "metadata": {},
     "output_type": "display_data"
    }
   ],
   "source": [
    "head(close_trends)"
   ]
  },
  {
   "cell_type": "code",
   "execution_count": 29,
   "metadata": {
    "collapsed": true
   },
   "outputs": [],
   "source": [
    "trends <- getTrends(349860)"
   ]
  },
  {
   "cell_type": "code",
   "execution_count": 30,
   "metadata": {
    "collapsed": false
   },
   "outputs": [
    {
     "data": {
      "text/html": [
       "<table>\n",
       "<thead><tr><th scope=col>name</th><th scope=col>url</th><th scope=col>query</th><th scope=col>woeid</th></tr></thead>\n",
       "<tbody>\n",
       "\t<tr><td>#VamosColoColo                                           </td><td>http://twitter.com/search?q=%23VamosColoColo             </td><td>%23VamosColoColo                                         </td><td>349860                                                   </td></tr>\n",
       "\t<tr><td>#LaMovidaEnEl13                                          </td><td>http://twitter.com/search?q=%23LaMovidaEnEl13            </td><td>%23LaMovidaEnEl13                                        </td><td>349860                                                   </td></tr>\n",
       "\t<tr><td>#FiebreDeVina                                            </td><td>http://twitter.com/search?q=%23FiebreDeVina              </td><td>%23FiebreDeVina                                          </td><td>349860                                                   </td></tr>\n",
       "\t<tr><td>Nico Peric                                               </td><td>http://twitter.com/search?q=%22Nico+Peric%22             </td><td>%22Nico+Peric%22                                         </td><td>349860                                                   </td></tr>\n",
       "\t<tr><td>#11CosasQueMeFaltanPorHacer                              </td><td>http://twitter.com/search?q=%2311CosasQueMeFaltanPorHacer</td><td>%2311CosasQueMeFaltanPorHacer                            </td><td>349860                                                   </td></tr>\n",
       "\t<tr><td>#Palestino                                               </td><td>http://twitter.com/search?q=%23Palestino                 </td><td>%23Palestino                                             </td><td>349860                                                   </td></tr>\n",
       "</tbody>\n",
       "</table>\n"
      ],
      "text/latex": [
       "\\begin{tabular}{r|llll}\n",
       " name & url & query & woeid\\\\\n",
       "\\hline\n",
       "\t \\#VamosColoColo                                            & http://twitter.com/search?q=\\%23VamosColoColo              & \\%23VamosColoColo                                          & 349860                                                     \\\\\n",
       "\t \\#LaMovidaEnEl13                                           & http://twitter.com/search?q=\\%23LaMovidaEnEl13             & \\%23LaMovidaEnEl13                                         & 349860                                                     \\\\\n",
       "\t \\#FiebreDeVina                                             & http://twitter.com/search?q=\\%23FiebreDeVina               & \\%23FiebreDeVina                                           & 349860                                                     \\\\\n",
       "\t Nico Peric                                                    & http://twitter.com/search?q=\\%22Nico+Peric\\%22              & \\%22Nico+Peric\\%22                                          & 349860                                                       \\\\\n",
       "\t \\#11CosasQueMeFaltanPorHacer                               & http://twitter.com/search?q=\\%2311CosasQueMeFaltanPorHacer & \\%2311CosasQueMeFaltanPorHacer                             & 349860                                                     \\\\\n",
       "\t \\#Palestino                                                & http://twitter.com/search?q=\\%23Palestino                  & \\%23Palestino                                              & 349860                                                     \\\\\n",
       "\\end{tabular}\n"
      ],
      "text/markdown": [
       "\n",
       "name | url | query | woeid | \n",
       "|---|---|---|---|---|---|\n",
       "| #VamosColoColo                                            | http://twitter.com/search?q=%23VamosColoColo              | %23VamosColoColo                                          | 349860                                                    | \n",
       "| #LaMovidaEnEl13                                           | http://twitter.com/search?q=%23LaMovidaEnEl13             | %23LaMovidaEnEl13                                         | 349860                                                    | \n",
       "| #FiebreDeVina                                             | http://twitter.com/search?q=%23FiebreDeVina               | %23FiebreDeVina                                           | 349860                                                    | \n",
       "| Nico Peric                                                | http://twitter.com/search?q=%22Nico+Peric%22              | %22Nico+Peric%22                                          | 349860                                                    | \n",
       "| #11CosasQueMeFaltanPorHacer                               | http://twitter.com/search?q=%2311CosasQueMeFaltanPorHacer | %2311CosasQueMeFaltanPorHacer                             | 349860                                                    | \n",
       "| #Palestino                                                | http://twitter.com/search?q=%23Palestino                  | %23Palestino                                              | 349860                                                    | \n",
       "\n",
       "\n"
      ],
      "text/plain": [
       "  name                       \n",
       "1 #VamosColoColo             \n",
       "2 #LaMovidaEnEl13            \n",
       "3 #FiebreDeVina              \n",
       "4 Nico Peric                 \n",
       "5 #11CosasQueMeFaltanPorHacer\n",
       "6 #Palestino                 \n",
       "  url                                                      \n",
       "1 http://twitter.com/search?q=%23VamosColoColo             \n",
       "2 http://twitter.com/search?q=%23LaMovidaEnEl13            \n",
       "3 http://twitter.com/search?q=%23FiebreDeVina              \n",
       "4 http://twitter.com/search?q=%22Nico+Peric%22             \n",
       "5 http://twitter.com/search?q=%2311CosasQueMeFaltanPorHacer\n",
       "6 http://twitter.com/search?q=%23Palestino                 \n",
       "  query                         woeid \n",
       "1 %23VamosColoColo              349860\n",
       "2 %23LaMovidaEnEl13             349860\n",
       "3 %23FiebreDeVina               349860\n",
       "4 %22Nico+Peric%22              349860\n",
       "5 %2311CosasQueMeFaltanPorHacer 349860\n",
       "6 %23Palestino                  349860"
      ]
     },
     "metadata": {},
     "output_type": "display_data"
    }
   ],
   "source": [
    "head(trends)"
   ]
  },
  {
   "cell_type": "code",
   "execution_count": 31,
   "metadata": {
    "collapsed": true
   },
   "outputs": [],
   "source": [
    "r_tweets<-searchTwitter(\"#rstats\",n=300)"
   ]
  },
  {
   "cell_type": "code",
   "execution_count": 32,
   "metadata": {
    "collapsed": true
   },
   "outputs": [],
   "source": [
    "sources<-sapply(r_tweets,function(x)x$getStatusSource())"
   ]
  },
  {
   "cell_type": "code",
   "execution_count": 33,
   "metadata": {
    "collapsed": true
   },
   "outputs": [],
   "source": [
    "sources<-gsub(\"</a>\",\"\",sources)"
   ]
  },
  {
   "cell_type": "code",
   "execution_count": 34,
   "metadata": {
    "collapsed": true
   },
   "outputs": [],
   "source": [
    "sources<-strsplit(sources,\">\")"
   ]
  },
  {
   "cell_type": "code",
   "execution_count": 35,
   "metadata": {
    "collapsed": true
   },
   "outputs": [],
   "source": [
    "sources<-sapply(sources,function(x)ifelse(length(x)>1,x[2],x[1]))"
   ]
  },
  {
   "cell_type": "code",
   "execution_count": 36,
   "metadata": {
    "collapsed": true
   },
   "outputs": [],
   "source": [
    "source_table=table(sources)"
   ]
  },
  {
   "cell_type": "code",
   "execution_count": 37,
   "metadata": {
    "collapsed": false
   },
   "outputs": [
    {
     "data": {
      "image/png": "[encoded data removed]",
      "text/plain": [
       "plot without title"
      ]
     },
     "metadata": {},
     "output_type": "display_data"
    }
   ],
   "source": [
    "pie(source_table[source_table>10])"
   ]
  },
  {
   "cell_type": "code",
   "execution_count": null,
   "metadata": {
    "collapsed": true
   },
   "outputs": [],
   "source": []
  }
 ],
 "metadata": {
  "kernelspec": {
   "display_name": "R",
   "language": "R",
   "name": "ir"
  },
  "language_info": {
   "codemirror_mode": "r",
   "file_extension": ".r",
   "mimetype": "text/x-r-source",
   "name": "R",
   "pygments_lexer": "r",
   "version": "3.3.2"
  }
 },
 "nbformat": 4,
 "nbformat_minor": 2
}
