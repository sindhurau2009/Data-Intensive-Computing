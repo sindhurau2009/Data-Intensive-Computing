{
 "cells": [
  {
   "cell_type": "code",
   "execution_count": 1,
   "metadata": {
    "collapsed": false
   },
   "outputs": [
    {
     "ename": "ERROR",
     "evalue": "Error in eval(expr, envir, enclos): could not find function \"setup_twitter_oauth\"\n",
     "output_type": "error",
     "traceback": [
      "Error in eval(expr, envir, enclos): could not find function \"setup_twitter_oauth\"\nTraceback:\n"
     ]
    }
   ],
   "source": [
    "setup_twitter_oauth(\"dIOk7Zoe1ggv1nt9DUz7mf5l2\",\"AfgmA3uH7HrLYJWdBagvkMaHJutCtVq7l5U3PLc1DfMR8pNNZH\",\"774008633948594176-UKdDUoFOmKZfDG5kzGXRvC7KWDBbQLx\",\"p0ylTSARIap5FxDzuFraPQxVQmswEEv40cOQcxg7bp2wd\")"
   ]
  },
  {
   "cell_type": "code",
   "execution_count": 3,
   "metadata": {
    "collapsed": false
   },
   "outputs": [
    {
     "name": "stderr",
     "output_type": "stream",
     "text": [
      "Installing package into 'C:/Users/sindh/OneDrive/Documents/R/win-library/3.3'\n",
      "(as 'lib' is unspecified)\n"
     ]
    },
    {
     "name": "stdout",
     "output_type": "stream",
     "text": [
      "package 'twitteR' successfully unpacked and MD5 sums checked\n",
      "\n",
      "The downloaded binary packages are in\n",
      "\tC:\\Users\\sindh\\AppData\\Local\\Temp\\RtmpwX4QdK\\downloaded_packages\n"
     ]
    }
   ],
   "source": [
    "install.packages('twitteR',repos=\"http://cran.us.r-project.org\")"
   ]
  },
  {
   "cell_type": "code",
   "execution_count": 4,
   "metadata": {
    "collapsed": true
   },
   "outputs": [],
   "source": [
    "library('twitteR')"
   ]
  },
  {
   "cell_type": "code",
   "execution_count": 5,
   "metadata": {
    "collapsed": false
   },
   "outputs": [
    {
     "name": "stdout",
     "output_type": "stream",
     "text": [
      "[1] \"Using direct authentication\"\n"
     ]
    }
   ],
   "source": [
    "setup_twitter_oauth(\"dIOk7Zoe1ggv1nt9DUz7mf5l2\",\"AfgmA3uH7HrLYJWdBagvkMaHJutCtVq7l5U3PLc1DfMR8pNNZH\",\"774008633948594176-UKdDUoFOmKZfDG5kzGXRvC7KWDBbQLx\",\"p0ylTSARIap5FxDzuFraPQxVQmswEEv40cOQcxg7bp2wd\")"
   ]
  },
  {
   "cell_type": "code",
   "execution_count": 6,
   "metadata": {
    "collapsed": true
   },
   "outputs": [],
   "source": [
    "avail_trends = availableTrendLocations()"
   ]
  },
  {
   "cell_type": "code",
   "execution_count": 7,
   "metadata": {
    "collapsed": false
   },
   "outputs": [
    {
     "data": {
      "text/html": [
       "<table>\n",
       "<thead><tr><th scope=col>name</th><th scope=col>country</th><th scope=col>woeid</th></tr></thead>\n",
       "<tbody>\n",
       "\t<tr><td>Worldwide</td><td>         </td><td>1        </td></tr>\n",
       "\t<tr><td>Winnipeg </td><td>Canada   </td><td>2972     </td></tr>\n",
       "\t<tr><td>Ottawa   </td><td>Canada   </td><td>3369     </td></tr>\n",
       "\t<tr><td>Quebec   </td><td>Canada   </td><td>3444     </td></tr>\n",
       "\t<tr><td>Montreal </td><td>Canada   </td><td>3534     </td></tr>\n",
       "\t<tr><td>Toronto  </td><td>Canada   </td><td>4118     </td></tr>\n",
       "</tbody>\n",
       "</table>\n"
      ],
      "text/latex": [
       "\\begin{tabular}{r|lll}\n",
       " name & country & woeid\\\\\n",
       "\\hline\n",
       "\t Worldwide &           & 1        \\\\\n",
       "\t Winnipeg  & Canada    & 2972     \\\\\n",
       "\t Ottawa    & Canada    & 3369     \\\\\n",
       "\t Quebec    & Canada    & 3444     \\\\\n",
       "\t Montreal  & Canada    & 3534     \\\\\n",
       "\t Toronto   & Canada    & 4118     \\\\\n",
       "\\end{tabular}\n"
      ],
      "text/markdown": [
       "\n",
       "name | country | woeid | \n",
       "|---|---|---|---|---|---|\n",
       "| Worldwide |           | 1         | \n",
       "| Winnipeg  | Canada    | 2972      | \n",
       "| Ottawa    | Canada    | 3369      | \n",
       "| Quebec    | Canada    | 3444      | \n",
       "| Montreal  | Canada    | 3534      | \n",
       "| Toronto   | Canada    | 4118      | \n",
       "\n",
       "\n"
      ],
      "text/plain": [
       "  name      country woeid\n",
       "1 Worldwide         1    \n",
       "2 Winnipeg  Canada  2972 \n",
       "3 Ottawa    Canada  3369 \n",
       "4 Quebec    Canada  3444 \n",
       "5 Montreal  Canada  3534 \n",
       "6 Toronto   Canada  4118 "
      ]
     },
     "metadata": {},
     "output_type": "display_data"
    }
   ],
   "source": [
    "head(avail_trends)"
   ]
  },
  {
   "cell_type": "code",
   "execution_count": 8,
   "metadata": {
    "collapsed": false
   },
   "outputs": [
    {
     "data": {
      "text/html": [
       "<table>\n",
       "<thead><tr><th scope=col>name</th><th scope=col>url</th><th scope=col>query</th><th scope=col>woeid</th></tr></thead>\n",
       "<tbody>\n",
       "\t<tr><td>Jamal Murray                                          </td><td>http://twitter.com/search?q=%22Jamal+Murray%22        </td><td>%22Jamal+Murray%22                                    </td><td>3444                                                  </td></tr>\n",
       "\t<tr><td>#MakeASongWhiny                                       </td><td>http://twitter.com/search?q=%23MakeASongWhiny         </td><td>%23MakeASongWhiny                                     </td><td>3444                                                  </td></tr>\n",
       "\t<tr><td>#advocacyworks                                        </td><td>http://twitter.com/search?q=%23advocacyworks          </td><td>%23advocacyworks                                      </td><td>3444                                                  </td></tr>\n",
       "\t<tr><td>#CWplayoffs                                           </td><td>http://twitter.com/search?q=%23CWplayoffs             </td><td>%23CWplayoffs                                         </td><td>3444                                                  </td></tr>\n",
       "\t<tr><td>#RealTime                                             </td><td>http://twitter.com/search?q=%23RealTime               </td><td>%23RealTime                                           </td><td>3444                                                  </td></tr>\n",
       "\t<tr><td>#ItsAboutTimeI                                        </td><td>http://twitter.com/search?q=%23ItsAboutTimeI          </td><td>%23ItsAboutTimeI                                      </td><td>3444                                                  </td></tr>\n",
       "\t<tr><td>Tigres                                                </td><td>http://twitter.com/search?q=Tigres                    </td><td>Tigres                                                </td><td>3444                                                  </td></tr>\n",
       "\t<tr><td>Donald Glover                                         </td><td>http://twitter.com/search?q=%22Donald+Glover%22       </td><td>%22Donald+Glover%22                                   </td><td>3444                                                  </td></tr>\n",
       "\t<tr><td>Nick Suzuki                                           </td><td>http://twitter.com/search?q=%22Nick+Suzuki%22         </td><td>%22Nick+Suzuki%22                                     </td><td>3444                                                  </td></tr>\n",
       "\t<tr><td>Win Butler                                            </td><td>http://twitter.com/search?q=%22Win+Butler%22          </td><td>%22Win+Butler%22                                      </td><td>3444                                                  </td></tr>\n",
       "\t<tr><td>Kyrie Irving                                          </td><td>http://twitter.com/search?q=%22Kyrie+Irving%22        </td><td>%22Kyrie+Irving%22                                    </td><td>3444                                                  </td></tr>\n",
       "\t<tr><td>Sea Dogs                                              </td><td>http://twitter.com/search?q=%22Sea+Dogs%22            </td><td>%22Sea+Dogs%22                                        </td><td>3444                                                  </td></tr>\n",
       "\t<tr><td>Game 3                                                </td><td>http://twitter.com/search?q=%22Game+3%22              </td><td>%22Game+3%22                                          </td><td>3444                                                  </td></tr>\n",
       "\t<tr><td>Voltigeurs                                            </td><td>http://twitter.com/search?q=Voltigeurs                </td><td>Voltigeurs                                            </td><td>3444                                                  </td></tr>\n",
       "\t<tr><td>Ryerson                                               </td><td>http://twitter.com/search?q=Ryerson                   </td><td>Ryerson                                               </td><td>3444                                                  </td></tr>\n",
       "\t<tr><td>Islam as Muslims                                      </td><td>http://twitter.com/search?q=%22Islam+as+Muslims%22    </td><td>%22Islam+as+Muslims%22                                </td><td>3444                                                  </td></tr>\n",
       "\t<tr><td>Nancy Elgie                                           </td><td>http://twitter.com/search?q=%22Nancy+Elgie%22         </td><td>%22Nancy+Elgie%22                                     </td><td>3444                                                  </td></tr>\n",
       "\t<tr><td>Logan                                                 </td><td>http://twitter.com/search?q=Logan                     </td><td>Logan                                                 </td><td>3444                                                  </td></tr>\n",
       "\t<tr><td>Cougars                                               </td><td>http://twitter.com/search?q=Cougars                   </td><td>Cougars                                               </td><td>3444                                                  </td></tr>\n",
       "\t<tr><td>Mounties                                              </td><td>http://twitter.com/search?q=Mounties                  </td><td>Mounties                                              </td><td>3444                                                  </td></tr>\n",
       "\t<tr><td>Split                                                 </td><td>http://twitter.com/search?q=Split                     </td><td>Split                                                 </td><td>3444                                                  </td></tr>\n",
       "\t<tr><td>Pens                                                  </td><td>http://twitter.com/search?q=Pens                      </td><td>Pens                                                  </td><td>3444                                                  </td></tr>\n",
       "\t<tr><td>Damon                                                 </td><td>http://twitter.com/search?q=Damon                     </td><td>Damon                                                 </td><td>3444                                                  </td></tr>\n",
       "\t<tr><td>The Animal                                            </td><td>http://twitter.com/search?q=%22The+Animal%22          </td><td>%22The+Animal%22                                      </td><td>3444                                                  </td></tr>\n",
       "\t<tr><td>#GARTHinedmonton                                      </td><td>http://twitter.com/search?q=%23GARTHinedmonton        </td><td>%23GARTHinedmonton                                    </td><td>3444                                                  </td></tr>\n",
       "\t<tr><td>#BlueBloods                                           </td><td>http://twitter.com/search?q=%23BlueBloods             </td><td>%23BlueBloods                                         </td><td>3444                                                  </td></tr>\n",
       "\t<tr><td>#NBACelebGame                                         </td><td>http://twitter.com/search?q=%23NBACelebGame           </td><td>%23NBACelebGame                                       </td><td>3444                                                  </td></tr>\n",
       "\t<tr><td>#BCPainSummit                                         </td><td>http://twitter.com/search?q=%23BCPainSummit           </td><td>%23BCPainSummit                                       </td><td>3444                                                  </td></tr>\n",
       "\t<tr><td>#GAvsTOR                                              </td><td>http://twitter.com/search?q=%23GAvsTOR                </td><td>%23GAvsTOR                                            </td><td>3444                                                  </td></tr>\n",
       "\t<tr><td>#PITvsCBJ                                             </td><td>http://twitter.com/search?q=%23PITvsCBJ               </td><td>%23PITvsCBJ                                           </td><td>3444                                                  </td></tr>\n",
       "\t<tr><td>#CanM20                                               </td><td>http://twitter.com/search?q=%23CanM20                 </td><td>%23CanM20                                             </td><td>3444                                                  </td></tr>\n",
       "\t<tr><td>#LongestNightPeel                                     </td><td>http://twitter.com/search?q=%23LongestNightPeel       </td><td>%23LongestNightPeel                                   </td><td>3444                                                  </td></tr>\n",
       "\t<tr><td>#GoLaval                                              </td><td>http://twitter.com/search?q=%23GoLaval                </td><td>%23GoLaval                                            </td><td>3444                                                  </td></tr>\n",
       "\t<tr><td>#JoinTheRegiment                                      </td><td>http://twitter.com/search?q=%23JoinTheRegiment        </td><td>%23JoinTheRegiment                                    </td><td>3444                                                  </td></tr>\n",
       "\t<tr><td>#WineFest2017                                         </td><td>http://twitter.com/search?q=%23WineFest2017           </td><td>%23WineFest2017                                       </td><td>3444                                                  </td></tr>\n",
       "\t<tr><td>#heho                                                 </td><td>http://twitter.com/search?q=%23heho                   </td><td>%23heho                                               </td><td>3444                                                  </td></tr>\n",
       "\t<tr><td>#TrueNorthCalling                                     </td><td>http://twitter.com/search?q=%23TrueNorthCalling       </td><td>%23TrueNorthCalling                                   </td><td>3444                                                  </td></tr>\n",
       "\t<tr><td>#FamilyDayWeekend                                     </td><td>http://twitter.com/search?q=%23FamilyDayWeekend       </td><td>%23FamilyDayWeekend                                   </td><td>3444                                                  </td></tr>\n",
       "\t<tr><td>#MBMoose                                              </td><td>http://twitter.com/search?q=%23MBMoose                </td><td>%23MBMoose                                            </td><td>3444                                                  </td></tr>\n",
       "\t<tr><td>#RDSCH                                                </td><td>http://twitter.com/search?q=%23RDSCH                  </td><td>%23RDSCH                                              </td><td>3444                                                  </td></tr>\n",
       "\t<tr><td>#olympiques                                           </td><td>http://twitter.com/search?q=%23olympiques             </td><td>%23olympiques                                         </td><td>3444                                                  </td></tr>\n",
       "\t<tr><td>#FalseFactATweep                                      </td><td>http://twitter.com/search?q=%23FalseFactATweep        </td><td>%23FalseFactATweep                                    </td><td>3444                                                  </td></tr>\n",
       "\t<tr><td>#LARain                                               </td><td>http://twitter.com/search?q=%23LARain                 </td><td>%23LARain                                             </td><td>3444                                                  </td></tr>\n",
       "\t<tr><td>#QuestForTheCup                                       </td><td>http://twitter.com/search?q=%23QuestForTheCup         </td><td>%23QuestForTheCup                                     </td><td>3444                                                  </td></tr>\n",
       "\t<tr><td>#RandomActsOfKindnessDay                              </td><td>http://twitter.com/search?q=%23RandomActsOfKindnessDay</td><td>%23RandomActsOfKindnessDay                            </td><td>3444                                                  </td></tr>\n",
       "\t<tr><td>#FridayFeeling                                        </td><td>http://twitter.com/search?q=%23FridayFeeling          </td><td>%23FridayFeeling                                      </td><td>3444                                                  </td></tr>\n",
       "\t<tr><td>#Garland                                              </td><td>http://twitter.com/search?q=%23Garland                </td><td>%23Garland                                            </td><td>3444                                                  </td></tr>\n",
       "\t<tr><td>#DayofFacts                                           </td><td>http://twitter.com/search?q=%23DayofFacts             </td><td>%23DayofFacts                                         </td><td>3444                                                  </td></tr>\n",
       "\t<tr><td>#M103                                                 </td><td>http://twitter.com/search?q=%23M103                   </td><td>%23M103                                               </td><td>3444                                                  </td></tr>\n",
       "\t<tr><td>#CdnAgDay                                             </td><td>http://twitter.com/search?q=%23CdnAgDay               </td><td>%23CdnAgDay                                           </td><td>3444                                                  </td></tr>\n",
       "</tbody>\n",
       "</table>\n"
      ],
      "text/latex": [
       "\\begin{tabular}{r|llll}\n",
       " name & url & query & woeid\\\\\n",
       "\\hline\n",
       "\t Jamal Murray                                               & http://twitter.com/search?q=\\%22Jamal+Murray\\%22         & \\%22Jamal+Murray\\%22                                     & 3444                                                      \\\\\n",
       "\t \\#MakeASongWhiny                                        & http://twitter.com/search?q=\\%23MakeASongWhiny          & \\%23MakeASongWhiny                                      & 3444                                                    \\\\\n",
       "\t \\#advocacyworks                                         & http://twitter.com/search?q=\\%23advocacyworks           & \\%23advocacyworks                                       & 3444                                                    \\\\\n",
       "\t \\#CWplayoffs                                            & http://twitter.com/search?q=\\%23CWplayoffs              & \\%23CWplayoffs                                          & 3444                                                    \\\\\n",
       "\t \\#RealTime                                              & http://twitter.com/search?q=\\%23RealTime                & \\%23RealTime                                            & 3444                                                    \\\\\n",
       "\t \\#ItsAboutTimeI                                         & http://twitter.com/search?q=\\%23ItsAboutTimeI           & \\%23ItsAboutTimeI                                       & 3444                                                    \\\\\n",
       "\t Tigres                                                 & http://twitter.com/search?q=Tigres                     & Tigres                                                 & 3444                                                  \\\\\n",
       "\t Donald Glover                                              & http://twitter.com/search?q=\\%22Donald+Glover\\%22        & \\%22Donald+Glover\\%22                                    & 3444                                                      \\\\\n",
       "\t Nick Suzuki                                                & http://twitter.com/search?q=\\%22Nick+Suzuki\\%22          & \\%22Nick+Suzuki\\%22                                      & 3444                                                      \\\\\n",
       "\t Win Butler                                                 & http://twitter.com/search?q=\\%22Win+Butler\\%22           & \\%22Win+Butler\\%22                                       & 3444                                                      \\\\\n",
       "\t Kyrie Irving                                               & http://twitter.com/search?q=\\%22Kyrie+Irving\\%22         & \\%22Kyrie+Irving\\%22                                     & 3444                                                      \\\\\n",
       "\t Sea Dogs                                                   & http://twitter.com/search?q=\\%22Sea+Dogs\\%22             & \\%22Sea+Dogs\\%22                                         & 3444                                                      \\\\\n",
       "\t Game 3                                                     & http://twitter.com/search?q=\\%22Game+3\\%22               & \\%22Game+3\\%22                                           & 3444                                                      \\\\\n",
       "\t Voltigeurs                                             & http://twitter.com/search?q=Voltigeurs                 & Voltigeurs                                             & 3444                                                  \\\\\n",
       "\t Ryerson                                                & http://twitter.com/search?q=Ryerson                    & Ryerson                                                & 3444                                                  \\\\\n",
       "\t Islam as Muslims                                           & http://twitter.com/search?q=\\%22Islam+as+Muslims\\%22     & \\%22Islam+as+Muslims\\%22                                 & 3444                                                      \\\\\n",
       "\t Nancy Elgie                                                & http://twitter.com/search?q=\\%22Nancy+Elgie\\%22          & \\%22Nancy+Elgie\\%22                                      & 3444                                                      \\\\\n",
       "\t Logan                                                  & http://twitter.com/search?q=Logan                      & Logan                                                  & 3444                                                  \\\\\n",
       "\t Cougars                                                & http://twitter.com/search?q=Cougars                    & Cougars                                                & 3444                                                  \\\\\n",
       "\t Mounties                                               & http://twitter.com/search?q=Mounties                   & Mounties                                               & 3444                                                  \\\\\n",
       "\t Split                                                  & http://twitter.com/search?q=Split                      & Split                                                  & 3444                                                  \\\\\n",
       "\t Pens                                                   & http://twitter.com/search?q=Pens                       & Pens                                                   & 3444                                                  \\\\\n",
       "\t Damon                                                  & http://twitter.com/search?q=Damon                      & Damon                                                  & 3444                                                  \\\\\n",
       "\t The Animal                                                 & http://twitter.com/search?q=\\%22The+Animal\\%22           & \\%22The+Animal\\%22                                       & 3444                                                      \\\\\n",
       "\t \\#GARTHinedmonton                                       & http://twitter.com/search?q=\\%23GARTHinedmonton         & \\%23GARTHinedmonton                                     & 3444                                                    \\\\\n",
       "\t \\#BlueBloods                                            & http://twitter.com/search?q=\\%23BlueBloods              & \\%23BlueBloods                                          & 3444                                                    \\\\\n",
       "\t \\#NBACelebGame                                          & http://twitter.com/search?q=\\%23NBACelebGame            & \\%23NBACelebGame                                        & 3444                                                    \\\\\n",
       "\t \\#BCPainSummit                                          & http://twitter.com/search?q=\\%23BCPainSummit            & \\%23BCPainSummit                                        & 3444                                                    \\\\\n",
       "\t \\#GAvsTOR                                               & http://twitter.com/search?q=\\%23GAvsTOR                 & \\%23GAvsTOR                                             & 3444                                                    \\\\\n",
       "\t \\#PITvsCBJ                                              & http://twitter.com/search?q=\\%23PITvsCBJ                & \\%23PITvsCBJ                                            & 3444                                                    \\\\\n",
       "\t \\#CanM20                                                & http://twitter.com/search?q=\\%23CanM20                  & \\%23CanM20                                              & 3444                                                    \\\\\n",
       "\t \\#LongestNightPeel                                      & http://twitter.com/search?q=\\%23LongestNightPeel        & \\%23LongestNightPeel                                    & 3444                                                    \\\\\n",
       "\t \\#GoLaval                                               & http://twitter.com/search?q=\\%23GoLaval                 & \\%23GoLaval                                             & 3444                                                    \\\\\n",
       "\t \\#JoinTheRegiment                                       & http://twitter.com/search?q=\\%23JoinTheRegiment         & \\%23JoinTheRegiment                                     & 3444                                                    \\\\\n",
       "\t \\#WineFest2017                                          & http://twitter.com/search?q=\\%23WineFest2017            & \\%23WineFest2017                                        & 3444                                                    \\\\\n",
       "\t \\#heho                                                  & http://twitter.com/search?q=\\%23heho                    & \\%23heho                                                & 3444                                                    \\\\\n",
       "\t \\#TrueNorthCalling                                      & http://twitter.com/search?q=\\%23TrueNorthCalling        & \\%23TrueNorthCalling                                    & 3444                                                    \\\\\n",
       "\t \\#FamilyDayWeekend                                      & http://twitter.com/search?q=\\%23FamilyDayWeekend        & \\%23FamilyDayWeekend                                    & 3444                                                    \\\\\n",
       "\t \\#MBMoose                                               & http://twitter.com/search?q=\\%23MBMoose                 & \\%23MBMoose                                             & 3444                                                    \\\\\n",
       "\t \\#RDSCH                                                 & http://twitter.com/search?q=\\%23RDSCH                   & \\%23RDSCH                                               & 3444                                                    \\\\\n",
       "\t \\#olympiques                                            & http://twitter.com/search?q=\\%23olympiques              & \\%23olympiques                                          & 3444                                                    \\\\\n",
       "\t \\#FalseFactATweep                                       & http://twitter.com/search?q=\\%23FalseFactATweep         & \\%23FalseFactATweep                                     & 3444                                                    \\\\\n",
       "\t \\#LARain                                                & http://twitter.com/search?q=\\%23LARain                  & \\%23LARain                                              & 3444                                                    \\\\\n",
       "\t \\#QuestForTheCup                                        & http://twitter.com/search?q=\\%23QuestForTheCup          & \\%23QuestForTheCup                                      & 3444                                                    \\\\\n",
       "\t \\#RandomActsOfKindnessDay                               & http://twitter.com/search?q=\\%23RandomActsOfKindnessDay & \\%23RandomActsOfKindnessDay                             & 3444                                                    \\\\\n",
       "\t \\#FridayFeeling                                         & http://twitter.com/search?q=\\%23FridayFeeling           & \\%23FridayFeeling                                       & 3444                                                    \\\\\n",
       "\t \\#Garland                                               & http://twitter.com/search?q=\\%23Garland                 & \\%23Garland                                             & 3444                                                    \\\\\n",
       "\t \\#DayofFacts                                            & http://twitter.com/search?q=\\%23DayofFacts              & \\%23DayofFacts                                          & 3444                                                    \\\\\n",
       "\t \\#M103                                                  & http://twitter.com/search?q=\\%23M103                    & \\%23M103                                                & 3444                                                    \\\\\n",
       "\t \\#CdnAgDay                                              & http://twitter.com/search?q=\\%23CdnAgDay                & \\%23CdnAgDay                                            & 3444                                                    \\\\\n",
       "\\end{tabular}\n"
      ],
      "text/markdown": [
       "\n",
       "name | url | query | woeid | \n",
       "|---|---|---|---|---|---|---|---|---|---|---|---|---|---|---|---|---|---|---|---|---|---|---|---|---|---|---|---|---|---|---|---|---|---|---|---|---|---|---|---|---|---|---|---|---|---|---|---|---|---|\n",
       "| Jamal Murray                                           | http://twitter.com/search?q=%22Jamal+Murray%22         | %22Jamal+Murray%22                                     | 3444                                                   | \n",
       "| #MakeASongWhiny                                        | http://twitter.com/search?q=%23MakeASongWhiny          | %23MakeASongWhiny                                      | 3444                                                   | \n",
       "| #advocacyworks                                         | http://twitter.com/search?q=%23advocacyworks           | %23advocacyworks                                       | 3444                                                   | \n",
       "| #CWplayoffs                                            | http://twitter.com/search?q=%23CWplayoffs              | %23CWplayoffs                                          | 3444                                                   | \n",
       "| #RealTime                                              | http://twitter.com/search?q=%23RealTime                | %23RealTime                                            | 3444                                                   | \n",
       "| #ItsAboutTimeI                                         | http://twitter.com/search?q=%23ItsAboutTimeI           | %23ItsAboutTimeI                                       | 3444                                                   | \n",
       "| Tigres                                                 | http://twitter.com/search?q=Tigres                     | Tigres                                                 | 3444                                                   | \n",
       "| Donald Glover                                          | http://twitter.com/search?q=%22Donald+Glover%22        | %22Donald+Glover%22                                    | 3444                                                   | \n",
       "| Nick Suzuki                                            | http://twitter.com/search?q=%22Nick+Suzuki%22          | %22Nick+Suzuki%22                                      | 3444                                                   | \n",
       "| Win Butler                                             | http://twitter.com/search?q=%22Win+Butler%22           | %22Win+Butler%22                                       | 3444                                                   | \n",
       "| Kyrie Irving                                           | http://twitter.com/search?q=%22Kyrie+Irving%22         | %22Kyrie+Irving%22                                     | 3444                                                   | \n",
       "| Sea Dogs                                               | http://twitter.com/search?q=%22Sea+Dogs%22             | %22Sea+Dogs%22                                         | 3444                                                   | \n",
       "| Game 3                                                 | http://twitter.com/search?q=%22Game+3%22               | %22Game+3%22                                           | 3444                                                   | \n",
       "| Voltigeurs                                             | http://twitter.com/search?q=Voltigeurs                 | Voltigeurs                                             | 3444                                                   | \n",
       "| Ryerson                                                | http://twitter.com/search?q=Ryerson                    | Ryerson                                                | 3444                                                   | \n",
       "| Islam as Muslims                                       | http://twitter.com/search?q=%22Islam+as+Muslims%22     | %22Islam+as+Muslims%22                                 | 3444                                                   | \n",
       "| Nancy Elgie                                            | http://twitter.com/search?q=%22Nancy+Elgie%22          | %22Nancy+Elgie%22                                      | 3444                                                   | \n",
       "| Logan                                                  | http://twitter.com/search?q=Logan                      | Logan                                                  | 3444                                                   | \n",
       "| Cougars                                                | http://twitter.com/search?q=Cougars                    | Cougars                                                | 3444                                                   | \n",
       "| Mounties                                               | http://twitter.com/search?q=Mounties                   | Mounties                                               | 3444                                                   | \n",
       "| Split                                                  | http://twitter.com/search?q=Split                      | Split                                                  | 3444                                                   | \n",
       "| Pens                                                   | http://twitter.com/search?q=Pens                       | Pens                                                   | 3444                                                   | \n",
       "| Damon                                                  | http://twitter.com/search?q=Damon                      | Damon                                                  | 3444                                                   | \n",
       "| The Animal                                             | http://twitter.com/search?q=%22The+Animal%22           | %22The+Animal%22                                       | 3444                                                   | \n",
       "| #GARTHinedmonton                                       | http://twitter.com/search?q=%23GARTHinedmonton         | %23GARTHinedmonton                                     | 3444                                                   | \n",
       "| #BlueBloods                                            | http://twitter.com/search?q=%23BlueBloods              | %23BlueBloods                                          | 3444                                                   | \n",
       "| #NBACelebGame                                          | http://twitter.com/search?q=%23NBACelebGame            | %23NBACelebGame                                        | 3444                                                   | \n",
       "| #BCPainSummit                                          | http://twitter.com/search?q=%23BCPainSummit            | %23BCPainSummit                                        | 3444                                                   | \n",
       "| #GAvsTOR                                               | http://twitter.com/search?q=%23GAvsTOR                 | %23GAvsTOR                                             | 3444                                                   | \n",
       "| #PITvsCBJ                                              | http://twitter.com/search?q=%23PITvsCBJ                | %23PITvsCBJ                                            | 3444                                                   | \n",
       "| #CanM20                                                | http://twitter.com/search?q=%23CanM20                  | %23CanM20                                              | 3444                                                   | \n",
       "| #LongestNightPeel                                      | http://twitter.com/search?q=%23LongestNightPeel        | %23LongestNightPeel                                    | 3444                                                   | \n",
       "| #GoLaval                                               | http://twitter.com/search?q=%23GoLaval                 | %23GoLaval                                             | 3444                                                   | \n",
       "| #JoinTheRegiment                                       | http://twitter.com/search?q=%23JoinTheRegiment         | %23JoinTheRegiment                                     | 3444                                                   | \n",
       "| #WineFest2017                                          | http://twitter.com/search?q=%23WineFest2017            | %23WineFest2017                                        | 3444                                                   | \n",
       "| #heho                                                  | http://twitter.com/search?q=%23heho                    | %23heho                                                | 3444                                                   | \n",
       "| #TrueNorthCalling                                      | http://twitter.com/search?q=%23TrueNorthCalling        | %23TrueNorthCalling                                    | 3444                                                   | \n",
       "| #FamilyDayWeekend                                      | http://twitter.com/search?q=%23FamilyDayWeekend        | %23FamilyDayWeekend                                    | 3444                                                   | \n",
       "| #MBMoose                                               | http://twitter.com/search?q=%23MBMoose                 | %23MBMoose                                             | 3444                                                   | \n",
       "| #RDSCH                                                 | http://twitter.com/search?q=%23RDSCH                   | %23RDSCH                                               | 3444                                                   | \n",
       "| #olympiques                                            | http://twitter.com/search?q=%23olympiques              | %23olympiques                                          | 3444                                                   | \n",
       "| #FalseFactATweep                                       | http://twitter.com/search?q=%23FalseFactATweep         | %23FalseFactATweep                                     | 3444                                                   | \n",
       "| #LARain                                                | http://twitter.com/search?q=%23LARain                  | %23LARain                                              | 3444                                                   | \n",
       "| #QuestForTheCup                                        | http://twitter.com/search?q=%23QuestForTheCup          | %23QuestForTheCup                                      | 3444                                                   | \n",
       "| #RandomActsOfKindnessDay                               | http://twitter.com/search?q=%23RandomActsOfKindnessDay | %23RandomActsOfKindnessDay                             | 3444                                                   | \n",
       "| #FridayFeeling                                         | http://twitter.com/search?q=%23FridayFeeling           | %23FridayFeeling                                       | 3444                                                   | \n",
       "| #Garland                                               | http://twitter.com/search?q=%23Garland                 | %23Garland                                             | 3444                                                   | \n",
       "| #DayofFacts                                            | http://twitter.com/search?q=%23DayofFacts              | %23DayofFacts                                          | 3444                                                   | \n",
       "| #M103                                                  | http://twitter.com/search?q=%23M103                    | %23M103                                                | 3444                                                   | \n",
       "| #CdnAgDay                                              | http://twitter.com/search?q=%23CdnAgDay                | %23CdnAgDay                                            | 3444                                                   | \n",
       "\n",
       "\n"
      ],
      "text/plain": [
       "   name                    \n",
       "1  Jamal Murray            \n",
       "2  #MakeASongWhiny         \n",
       "3  #advocacyworks          \n",
       "4  #CWplayoffs             \n",
       "5  #RealTime               \n",
       "6  #ItsAboutTimeI          \n",
       "7  Tigres                  \n",
       "8  Donald Glover           \n",
       "9  Nick Suzuki             \n",
       "10 Win Butler              \n",
       "11 Kyrie Irving            \n",
       "12 Sea Dogs                \n",
       "13 Game 3                  \n",
       "14 Voltigeurs              \n",
       "15 Ryerson                 \n",
       "16 Islam as Muslims        \n",
       "17 Nancy Elgie             \n",
       "18 Logan                   \n",
       "19 Cougars                 \n",
       "20 Mounties                \n",
       "21 Split                   \n",
       "22 Pens                    \n",
       "23 Damon                   \n",
       "24 The Animal              \n",
       "25 #GARTHinedmonton        \n",
       "26 #BlueBloods             \n",
       "27 #NBACelebGame           \n",
       "28 #BCPainSummit           \n",
       "29 #GAvsTOR                \n",
       "30 #PITvsCBJ               \n",
       "31 #CanM20                 \n",
       "32 #LongestNightPeel       \n",
       "33 #GoLaval                \n",
       "34 #JoinTheRegiment        \n",
       "35 #WineFest2017           \n",
       "36 #heho                   \n",
       "37 #TrueNorthCalling       \n",
       "38 #FamilyDayWeekend       \n",
       "39 #MBMoose                \n",
       "40 #RDSCH                  \n",
       "41 #olympiques             \n",
       "42 #FalseFactATweep        \n",
       "43 #LARain                 \n",
       "44 #QuestForTheCup         \n",
       "45 #RandomActsOfKindnessDay\n",
       "46 #FridayFeeling          \n",
       "47 #Garland                \n",
       "48 #DayofFacts             \n",
       "49 #M103                   \n",
       "50 #CdnAgDay               \n",
       "   url                                                   \n",
       "1  http://twitter.com/search?q=%22Jamal+Murray%22        \n",
       "2  http://twitter.com/search?q=%23MakeASongWhiny         \n",
       "3  http://twitter.com/search?q=%23advocacyworks          \n",
       "4  http://twitter.com/search?q=%23CWplayoffs             \n",
       "5  http://twitter.com/search?q=%23RealTime               \n",
       "6  http://twitter.com/search?q=%23ItsAboutTimeI          \n",
       "7  http://twitter.com/search?q=Tigres                    \n",
       "8  http://twitter.com/search?q=%22Donald+Glover%22       \n",
       "9  http://twitter.com/search?q=%22Nick+Suzuki%22         \n",
       "10 http://twitter.com/search?q=%22Win+Butler%22          \n",
       "11 http://twitter.com/search?q=%22Kyrie+Irving%22        \n",
       "12 http://twitter.com/search?q=%22Sea+Dogs%22            \n",
       "13 http://twitter.com/search?q=%22Game+3%22              \n",
       "14 http://twitter.com/search?q=Voltigeurs                \n",
       "15 http://twitter.com/search?q=Ryerson                   \n",
       "16 http://twitter.com/search?q=%22Islam+as+Muslims%22    \n",
       "17 http://twitter.com/search?q=%22Nancy+Elgie%22         \n",
       "18 http://twitter.com/search?q=Logan                     \n",
       "19 http://twitter.com/search?q=Cougars                   \n",
       "20 http://twitter.com/search?q=Mounties                  \n",
       "21 http://twitter.com/search?q=Split                     \n",
       "22 http://twitter.com/search?q=Pens                      \n",
       "23 http://twitter.com/search?q=Damon                     \n",
       "24 http://twitter.com/search?q=%22The+Animal%22          \n",
       "25 http://twitter.com/search?q=%23GARTHinedmonton        \n",
       "26 http://twitter.com/search?q=%23BlueBloods             \n",
       "27 http://twitter.com/search?q=%23NBACelebGame           \n",
       "28 http://twitter.com/search?q=%23BCPainSummit           \n",
       "29 http://twitter.com/search?q=%23GAvsTOR                \n",
       "30 http://twitter.com/search?q=%23PITvsCBJ               \n",
       "31 http://twitter.com/search?q=%23CanM20                 \n",
       "32 http://twitter.com/search?q=%23LongestNightPeel       \n",
       "33 http://twitter.com/search?q=%23GoLaval                \n",
       "34 http://twitter.com/search?q=%23JoinTheRegiment        \n",
       "35 http://twitter.com/search?q=%23WineFest2017           \n",
       "36 http://twitter.com/search?q=%23heho                   \n",
       "37 http://twitter.com/search?q=%23TrueNorthCalling       \n",
       "38 http://twitter.com/search?q=%23FamilyDayWeekend       \n",
       "39 http://twitter.com/search?q=%23MBMoose                \n",
       "40 http://twitter.com/search?q=%23RDSCH                  \n",
       "41 http://twitter.com/search?q=%23olympiques             \n",
       "42 http://twitter.com/search?q=%23FalseFactATweep        \n",
       "43 http://twitter.com/search?q=%23LARain                 \n",
       "44 http://twitter.com/search?q=%23QuestForTheCup         \n",
       "45 http://twitter.com/search?q=%23RandomActsOfKindnessDay\n",
       "46 http://twitter.com/search?q=%23FridayFeeling          \n",
       "47 http://twitter.com/search?q=%23Garland                \n",
       "48 http://twitter.com/search?q=%23DayofFacts             \n",
       "49 http://twitter.com/search?q=%23M103                   \n",
       "50 http://twitter.com/search?q=%23CdnAgDay               \n",
       "   query                      woeid\n",
       "1  %22Jamal+Murray%22         3444 \n",
       "2  %23MakeASongWhiny          3444 \n",
       "3  %23advocacyworks           3444 \n",
       "4  %23CWplayoffs              3444 \n",
       "5  %23RealTime                3444 \n",
       "6  %23ItsAboutTimeI           3444 \n",
       "7  Tigres                     3444 \n",
       "8  %22Donald+Glover%22        3444 \n",
       "9  %22Nick+Suzuki%22          3444 \n",
       "10 %22Win+Butler%22           3444 \n",
       "11 %22Kyrie+Irving%22         3444 \n",
       "12 %22Sea+Dogs%22             3444 \n",
       "13 %22Game+3%22               3444 \n",
       "14 Voltigeurs                 3444 \n",
       "15 Ryerson                    3444 \n",
       "16 %22Islam+as+Muslims%22     3444 \n",
       "17 %22Nancy+Elgie%22          3444 \n",
       "18 Logan                      3444 \n",
       "19 Cougars                    3444 \n",
       "20 Mounties                   3444 \n",
       "21 Split                      3444 \n",
       "22 Pens                       3444 \n",
       "23 Damon                      3444 \n",
       "24 %22The+Animal%22           3444 \n",
       "25 %23GARTHinedmonton         3444 \n",
       "26 %23BlueBloods              3444 \n",
       "27 %23NBACelebGame            3444 \n",
       "28 %23BCPainSummit            3444 \n",
       "29 %23GAvsTOR                 3444 \n",
       "30 %23PITvsCBJ                3444 \n",
       "31 %23CanM20                  3444 \n",
       "32 %23LongestNightPeel        3444 \n",
       "33 %23GoLaval                 3444 \n",
       "34 %23JoinTheRegiment         3444 \n",
       "35 %23WineFest2017            3444 \n",
       "36 %23heho                    3444 \n",
       "37 %23TrueNorthCalling        3444 \n",
       "38 %23FamilyDayWeekend        3444 \n",
       "39 %23MBMoose                 3444 \n",
       "40 %23RDSCH                   3444 \n",
       "41 %23olympiques              3444 \n",
       "42 %23FalseFactATweep         3444 \n",
       "43 %23LARain                  3444 \n",
       "44 %23QuestForTheCup          3444 \n",
       "45 %23RandomActsOfKindnessDay 3444 \n",
       "46 %23FridayFeeling           3444 \n",
       "47 %23Garland                 3444 \n",
       "48 %23DayofFacts              3444 \n",
       "49 %23M103                    3444 \n",
       "50 %23CdnAgDay                3444 "
      ]
     },
     "metadata": {},
     "output_type": "display_data"
    }
   ],
   "source": [
    "wid <- 3444\n",
    "trends <- getTrends(wid)\n",
    "trends"
   ]
  },
  {
   "cell_type": "code",
   "execution_count": 31,
   "metadata": {
    "collapsed": false
   },
   "outputs": [
    {
     "ename": "ERROR",
     "evalue": "Error in parse(text = x, srcfile = src): <text>:1:19: unexpected ','\n1: t1 <- (trends$name,\n                      ^\n",
     "output_type": "error",
     "traceback": [
      "Error in parse(text = x, srcfile = src): <text>:1:19: unexpected ','\n1: t1 <- (trends$name,\n                      ^\nTraceback:\n"
     ]
    }
   ],
   "source": [
    "t1 <- trends$name"
   ]
  },
  {
   "cell_type": "code",
   "execution_count": 10,
   "metadata": {
    "collapsed": false
   },
   "outputs": [
    {
     "data": {
      "text/html": [
       "<ol class=list-inline>\n",
       "\t<li>'Jamal Murray'</li>\n",
       "\t<li>'#MakeASongWhiny'</li>\n",
       "\t<li>'#advocacyworks'</li>\n",
       "\t<li>'#CWplayoffs'</li>\n",
       "\t<li>'#RealTime'</li>\n",
       "\t<li>'#ItsAboutTimeI'</li>\n",
       "\t<li>'Tigres'</li>\n",
       "\t<li>'Donald Glover'</li>\n",
       "\t<li>'Nick Suzuki'</li>\n",
       "\t<li>'Win Butler'</li>\n",
       "\t<li>'Kyrie Irving'</li>\n",
       "\t<li>'Sea Dogs'</li>\n",
       "\t<li>'Game 3'</li>\n",
       "\t<li>'Voltigeurs'</li>\n",
       "\t<li>'Ryerson'</li>\n",
       "\t<li>'Islam as Muslims'</li>\n",
       "\t<li>'Nancy Elgie'</li>\n",
       "\t<li>'Logan'</li>\n",
       "\t<li>'Cougars'</li>\n",
       "\t<li>'Mounties'</li>\n",
       "\t<li>'Split'</li>\n",
       "\t<li>'Pens'</li>\n",
       "\t<li>'Damon'</li>\n",
       "\t<li>'The Animal'</li>\n",
       "\t<li>'#GARTHinedmonton'</li>\n",
       "\t<li>'#BlueBloods'</li>\n",
       "\t<li>'#NBACelebGame'</li>\n",
       "\t<li>'#BCPainSummit'</li>\n",
       "\t<li>'#GAvsTOR'</li>\n",
       "\t<li>'#PITvsCBJ'</li>\n",
       "\t<li>'#CanM20'</li>\n",
       "\t<li>'#LongestNightPeel'</li>\n",
       "\t<li>'#GoLaval'</li>\n",
       "\t<li>'#JoinTheRegiment'</li>\n",
       "\t<li>'#WineFest2017'</li>\n",
       "\t<li>'#heho'</li>\n",
       "\t<li>'#TrueNorthCalling'</li>\n",
       "\t<li>'#FamilyDayWeekend'</li>\n",
       "\t<li>'#MBMoose'</li>\n",
       "\t<li>'#RDSCH'</li>\n",
       "\t<li>'#olympiques'</li>\n",
       "\t<li>'#FalseFactATweep'</li>\n",
       "\t<li>'#LARain'</li>\n",
       "\t<li>'#QuestForTheCup'</li>\n",
       "\t<li>'#RandomActsOfKindnessDay'</li>\n",
       "\t<li>'#FridayFeeling'</li>\n",
       "\t<li>'#Garland'</li>\n",
       "\t<li>'#DayofFacts'</li>\n",
       "\t<li>'#M103'</li>\n",
       "\t<li>'#CdnAgDay'</li>\n",
       "</ol>\n"
      ],
      "text/latex": [
       "\\begin{enumerate*}\n",
       "\\item 'Jamal Murray'\n",
       "\\item '\\#MakeASongWhiny'\n",
       "\\item '\\#advocacyworks'\n",
       "\\item '\\#CWplayoffs'\n",
       "\\item '\\#RealTime'\n",
       "\\item '\\#ItsAboutTimeI'\n",
       "\\item 'Tigres'\n",
       "\\item 'Donald Glover'\n",
       "\\item 'Nick Suzuki'\n",
       "\\item 'Win Butler'\n",
       "\\item 'Kyrie Irving'\n",
       "\\item 'Sea Dogs'\n",
       "\\item 'Game 3'\n",
       "\\item 'Voltigeurs'\n",
       "\\item 'Ryerson'\n",
       "\\item 'Islam as Muslims'\n",
       "\\item 'Nancy Elgie'\n",
       "\\item 'Logan'\n",
       "\\item 'Cougars'\n",
       "\\item 'Mounties'\n",
       "\\item 'Split'\n",
       "\\item 'Pens'\n",
       "\\item 'Damon'\n",
       "\\item 'The Animal'\n",
       "\\item '\\#GARTHinedmonton'\n",
       "\\item '\\#BlueBloods'\n",
       "\\item '\\#NBACelebGame'\n",
       "\\item '\\#BCPainSummit'\n",
       "\\item '\\#GAvsTOR'\n",
       "\\item '\\#PITvsCBJ'\n",
       "\\item '\\#CanM20'\n",
       "\\item '\\#LongestNightPeel'\n",
       "\\item '\\#GoLaval'\n",
       "\\item '\\#JoinTheRegiment'\n",
       "\\item '\\#WineFest2017'\n",
       "\\item '\\#heho'\n",
       "\\item '\\#TrueNorthCalling'\n",
       "\\item '\\#FamilyDayWeekend'\n",
       "\\item '\\#MBMoose'\n",
       "\\item '\\#RDSCH'\n",
       "\\item '\\#olympiques'\n",
       "\\item '\\#FalseFactATweep'\n",
       "\\item '\\#LARain'\n",
       "\\item '\\#QuestForTheCup'\n",
       "\\item '\\#RandomActsOfKindnessDay'\n",
       "\\item '\\#FridayFeeling'\n",
       "\\item '\\#Garland'\n",
       "\\item '\\#DayofFacts'\n",
       "\\item '\\#M103'\n",
       "\\item '\\#CdnAgDay'\n",
       "\\end{enumerate*}\n"
      ],
      "text/markdown": [
       "1. 'Jamal Murray'\n",
       "2. '#MakeASongWhiny'\n",
       "3. '#advocacyworks'\n",
       "4. '#CWplayoffs'\n",
       "5. '#RealTime'\n",
       "6. '#ItsAboutTimeI'\n",
       "7. 'Tigres'\n",
       "8. 'Donald Glover'\n",
       "9. 'Nick Suzuki'\n",
       "10. 'Win Butler'\n",
       "11. 'Kyrie Irving'\n",
       "12. 'Sea Dogs'\n",
       "13. 'Game 3'\n",
       "14. 'Voltigeurs'\n",
       "15. 'Ryerson'\n",
       "16. 'Islam as Muslims'\n",
       "17. 'Nancy Elgie'\n",
       "18. 'Logan'\n",
       "19. 'Cougars'\n",
       "20. 'Mounties'\n",
       "21. 'Split'\n",
       "22. 'Pens'\n",
       "23. 'Damon'\n",
       "24. 'The Animal'\n",
       "25. '#GARTHinedmonton'\n",
       "26. '#BlueBloods'\n",
       "27. '#NBACelebGame'\n",
       "28. '#BCPainSummit'\n",
       "29. '#GAvsTOR'\n",
       "30. '#PITvsCBJ'\n",
       "31. '#CanM20'\n",
       "32. '#LongestNightPeel'\n",
       "33. '#GoLaval'\n",
       "34. '#JoinTheRegiment'\n",
       "35. '#WineFest2017'\n",
       "36. '#heho'\n",
       "37. '#TrueNorthCalling'\n",
       "38. '#FamilyDayWeekend'\n",
       "39. '#MBMoose'\n",
       "40. '#RDSCH'\n",
       "41. '#olympiques'\n",
       "42. '#FalseFactATweep'\n",
       "43. '#LARain'\n",
       "44. '#QuestForTheCup'\n",
       "45. '#RandomActsOfKindnessDay'\n",
       "46. '#FridayFeeling'\n",
       "47. '#Garland'\n",
       "48. '#DayofFacts'\n",
       "49. '#M103'\n",
       "50. '#CdnAgDay'\n",
       "\n",
       "\n"
      ],
      "text/plain": [
       " [1] \"Jamal Murray\"             \"#MakeASongWhiny\"         \n",
       " [3] \"#advocacyworks\"           \"#CWplayoffs\"             \n",
       " [5] \"#RealTime\"                \"#ItsAboutTimeI\"          \n",
       " [7] \"Tigres\"                   \"Donald Glover\"           \n",
       " [9] \"Nick Suzuki\"              \"Win Butler\"              \n",
       "[11] \"Kyrie Irving\"             \"Sea Dogs\"                \n",
       "[13] \"Game 3\"                   \"Voltigeurs\"              \n",
       "[15] \"Ryerson\"                  \"Islam as Muslims\"        \n",
       "[17] \"Nancy Elgie\"              \"Logan\"                   \n",
       "[19] \"Cougars\"                  \"Mounties\"                \n",
       "[21] \"Split\"                    \"Pens\"                    \n",
       "[23] \"Damon\"                    \"The Animal\"              \n",
       "[25] \"#GARTHinedmonton\"         \"#BlueBloods\"             \n",
       "[27] \"#NBACelebGame\"            \"#BCPainSummit\"           \n",
       "[29] \"#GAvsTOR\"                 \"#PITvsCBJ\"               \n",
       "[31] \"#CanM20\"                  \"#LongestNightPeel\"       \n",
       "[33] \"#GoLaval\"                 \"#JoinTheRegiment\"        \n",
       "[35] \"#WineFest2017\"            \"#heho\"                   \n",
       "[37] \"#TrueNorthCalling\"        \"#FamilyDayWeekend\"       \n",
       "[39] \"#MBMoose\"                 \"#RDSCH\"                  \n",
       "[41] \"#olympiques\"              \"#FalseFactATweep\"        \n",
       "[43] \"#LARain\"                  \"#QuestForTheCup\"         \n",
       "[45] \"#RandomActsOfKindnessDay\" \"#FridayFeeling\"          \n",
       "[47] \"#Garland\"                 \"#DayofFacts\"             \n",
       "[49] \"#M103\"                    \"#CdnAgDay\"               "
      ]
     },
     "metadata": {},
     "output_type": "display_data"
    }
   ],
   "source": [
    "t1"
   ]
  },
  {
   "cell_type": "code",
   "execution_count": 11,
   "metadata": {
    "collapsed": true
   },
   "outputs": [],
   "source": [
    "close_trends <- closestTrendLocations(-42.8,-71.1)"
   ]
  },
  {
   "cell_type": "code",
   "execution_count": 12,
   "metadata": {
    "collapsed": false
   },
   "outputs": [
    {
     "data": {
      "text/html": [
       "<table>\n",
       "<thead><tr><th scope=col>name</th><th scope=col>country</th><th scope=col>woeid</th></tr></thead>\n",
       "<tbody>\n",
       "\t<tr><td>Concepcion</td><td>Chile     </td><td>349860    </td></tr>\n",
       "</tbody>\n",
       "</table>\n"
      ],
      "text/latex": [
       "\\begin{tabular}{r|lll}\n",
       " name & country & woeid\\\\\n",
       "\\hline\n",
       "\t Concepcion & Chile      & 349860    \\\\\n",
       "\\end{tabular}\n"
      ],
      "text/markdown": [
       "\n",
       "name | country | woeid | \n",
       "|---|\n",
       "| Concepcion | Chile      | 349860     | \n",
       "\n",
       "\n"
      ],
      "text/plain": [
       "  name       country woeid \n",
       "1 Concepcion Chile   349860"
      ]
     },
     "metadata": {},
     "output_type": "display_data"
    }
   ],
   "source": [
    "head(close_trends)"
   ]
  },
  {
   "cell_type": "code",
   "execution_count": 13,
   "metadata": {
    "collapsed": true
   },
   "outputs": [],
   "source": [
    "loc <- 'California'"
   ]
  },
  {
   "cell_type": "code",
   "execution_count": 16,
   "metadata": {
    "collapsed": false
   },
   "outputs": [
    {
     "name": "stderr",
     "output_type": "stream",
     "text": [
      "Information from URL : http://maps.googleapis.com/maps/api/geocode/json?address=California&sensor=false\n"
     ]
    }
   ],
   "source": [
    "g1 <- geocode(loc)"
   ]
  },
  {
   "cell_type": "code",
   "execution_count": 15,
   "metadata": {
    "collapsed": false
   },
   "outputs": [
    {
     "name": "stderr",
     "output_type": "stream",
     "text": [
      "Loading required package: ggplot2\n"
     ]
    }
   ],
   "source": [
    "library('ggmap')"
   ]
  },
  {
   "cell_type": "code",
   "execution_count": 17,
   "metadata": {
    "collapsed": false
   },
   "outputs": [
    {
     "data": {
      "text/html": [
       "<table>\n",
       "<thead><tr><th scope=col>lon</th><th scope=col>lat</th></tr></thead>\n",
       "<tbody>\n",
       "\t<tr><td>-119.4179</td><td>36.77826 </td></tr>\n",
       "</tbody>\n",
       "</table>\n"
      ],
      "text/latex": [
       "\\begin{tabular}{r|ll}\n",
       " lon & lat\\\\\n",
       "\\hline\n",
       "\t -119.4179 & 36.77826 \\\\\n",
       "\\end{tabular}\n"
      ],
      "text/markdown": [
       "\n",
       "lon | lat | \n",
       "|---|\n",
       "| -119.4179 | 36.77826  | \n",
       "\n",
       "\n"
      ],
      "text/plain": [
       "  lon       lat     \n",
       "1 -119.4179 36.77826"
      ]
     },
     "metadata": {},
     "output_type": "display_data"
    }
   ],
   "source": [
    "g1"
   ]
  },
  {
   "cell_type": "code",
   "execution_count": 26,
   "metadata": {
    "collapsed": false
   },
   "outputs": [],
   "source": [
    "close_trends <- closestTrendLocations(g1$lat,g1$lon)"
   ]
  },
  {
   "cell_type": "code",
   "execution_count": 27,
   "metadata": {
    "collapsed": false
   },
   "outputs": [
    {
     "data": {
      "text/html": [
       "<table>\n",
       "<thead><tr><th scope=col>name</th><th scope=col>country</th><th scope=col>woeid</th></tr></thead>\n",
       "<tbody>\n",
       "\t<tr><td>Fresno       </td><td>United States</td><td>2407517      </td></tr>\n",
       "</tbody>\n",
       "</table>\n"
      ],
      "text/latex": [
       "\\begin{tabular}{r|lll}\n",
       " name & country & woeid\\\\\n",
       "\\hline\n",
       "\t Fresno        & United States & 2407517      \\\\\n",
       "\\end{tabular}\n"
      ],
      "text/markdown": [
       "\n",
       "name | country | woeid | \n",
       "|---|\n",
       "| Fresno        | United States | 2407517       | \n",
       "\n",
       "\n"
      ],
      "text/plain": [
       "  name   country       woeid  \n",
       "1 Fresno United States 2407517"
      ]
     },
     "metadata": {},
     "output_type": "display_data"
    }
   ],
   "source": [
    "head(close_trends)"
   ]
  },
  {
   "cell_type": "code",
   "execution_count": 28,
   "metadata": {
    "collapsed": true
   },
   "outputs": [],
   "source": [
    "trends1 <- getTrends(close_trends$woeid)"
   ]
  },
  {
   "cell_type": "code",
   "execution_count": 29,
   "metadata": {
    "collapsed": false
   },
   "outputs": [
    {
     "data": {
      "text/html": [
       "<table>\n",
       "<thead><tr><th scope=col>name</th><th scope=col>url</th><th scope=col>query</th><th scope=col>woeid</th></tr></thead>\n",
       "<tbody>\n",
       "\t<tr><td>#FSStudentNight                                     </td><td>http://twitter.com/search?q=%23FSStudentNight       </td><td>%23FSStudentNight                                   </td><td>2407517                                             </td></tr>\n",
       "\t<tr><td>#Fresnostate                                        </td><td>http://twitter.com/search?q=%23Fresnostate          </td><td>%23Fresnostate                                      </td><td>2407517                                             </td></tr>\n",
       "\t<tr><td>#GoRhody                                            </td><td>http://twitter.com/search?q=%23GoRhody              </td><td>%23GoRhody                                          </td><td>2407517                                             </td></tr>\n",
       "\t<tr><td>#TrumpRally                                         </td><td>http://twitter.com/search?q=%23TrumpRally           </td><td>%23TrumpRally                                       </td><td>2407517                                             </td></tr>\n",
       "\t<tr><td>#NationalDrinkWineDay                               </td><td>http://twitter.com/search?q=%23NationalDrinkWineDay </td><td>%23NationalDrinkWineDay                             </td><td>2407517                                             </td></tr>\n",
       "\t<tr><td>Clyde Stubblefield                                  </td><td>http://twitter.com/search?q=%22Clyde+Stubblefield%22</td><td>%22Clyde+Stubblefield%22                            </td><td>2407517                                             </td></tr>\n",
       "</tbody>\n",
       "</table>\n"
      ],
      "text/latex": [
       "\\begin{tabular}{r|llll}\n",
       " name & url & query & woeid\\\\\n",
       "\\hline\n",
       "\t \\#FSStudentNight                                      & http://twitter.com/search?q=\\%23FSStudentNight        & \\%23FSStudentNight                                    & 2407517                                               \\\\\n",
       "\t \\#Fresnostate                                         & http://twitter.com/search?q=\\%23Fresnostate           & \\%23Fresnostate                                       & 2407517                                               \\\\\n",
       "\t \\#GoRhody                                             & http://twitter.com/search?q=\\%23GoRhody               & \\%23GoRhody                                           & 2407517                                               \\\\\n",
       "\t \\#TrumpRally                                          & http://twitter.com/search?q=\\%23TrumpRally            & \\%23TrumpRally                                        & 2407517                                               \\\\\n",
       "\t \\#NationalDrinkWineDay                                & http://twitter.com/search?q=\\%23NationalDrinkWineDay  & \\%23NationalDrinkWineDay                              & 2407517                                               \\\\\n",
       "\t Clyde Stubblefield                                       & http://twitter.com/search?q=\\%22Clyde+Stubblefield\\%22 & \\%22Clyde+Stubblefield\\%22                             & 2407517                                                 \\\\\n",
       "\\end{tabular}\n"
      ],
      "text/markdown": [
       "\n",
       "name | url | query | woeid | \n",
       "|---|---|---|---|---|---|\n",
       "| #FSStudentNight                                      | http://twitter.com/search?q=%23FSStudentNight        | %23FSStudentNight                                    | 2407517                                              | \n",
       "| #Fresnostate                                         | http://twitter.com/search?q=%23Fresnostate           | %23Fresnostate                                       | 2407517                                              | \n",
       "| #GoRhody                                             | http://twitter.com/search?q=%23GoRhody               | %23GoRhody                                           | 2407517                                              | \n",
       "| #TrumpRally                                          | http://twitter.com/search?q=%23TrumpRally            | %23TrumpRally                                        | 2407517                                              | \n",
       "| #NationalDrinkWineDay                                | http://twitter.com/search?q=%23NationalDrinkWineDay  | %23NationalDrinkWineDay                              | 2407517                                              | \n",
       "| Clyde Stubblefield                                   | http://twitter.com/search?q=%22Clyde+Stubblefield%22 | %22Clyde+Stubblefield%22                             | 2407517                                              | \n",
       "\n",
       "\n"
      ],
      "text/plain": [
       "  name                  url                                                 \n",
       "1 #FSStudentNight       http://twitter.com/search?q=%23FSStudentNight       \n",
       "2 #Fresnostate          http://twitter.com/search?q=%23Fresnostate          \n",
       "3 #GoRhody              http://twitter.com/search?q=%23GoRhody              \n",
       "4 #TrumpRally           http://twitter.com/search?q=%23TrumpRally           \n",
       "5 #NationalDrinkWineDay http://twitter.com/search?q=%23NationalDrinkWineDay \n",
       "6 Clyde Stubblefield    http://twitter.com/search?q=%22Clyde+Stubblefield%22\n",
       "  query                    woeid  \n",
       "1 %23FSStudentNight        2407517\n",
       "2 %23Fresnostate           2407517\n",
       "3 %23GoRhody               2407517\n",
       "4 %23TrumpRally            2407517\n",
       "5 %23NationalDrinkWineDay  2407517\n",
       "6 %22Clyde+Stubblefield%22 2407517"
      ]
     },
     "metadata": {},
     "output_type": "display_data"
    }
   ],
   "source": [
    "head(trends1)"
   ]
  },
  {
   "cell_type": "code",
   "execution_count": 32,
   "metadata": {
    "collapsed": true
   },
   "outputs": [],
   "source": [
    "t2 <- head(trends1$name,10)"
   ]
  },
  {
   "cell_type": "code",
   "execution_count": 33,
   "metadata": {
    "collapsed": false
   },
   "outputs": [
    {
     "data": {
      "text/html": [
       "<ol class=list-inline>\n",
       "\t<li>'#FSStudentNight'</li>\n",
       "\t<li>'#Fresnostate'</li>\n",
       "\t<li>'#GoRhody'</li>\n",
       "\t<li>'#TrumpRally'</li>\n",
       "\t<li>'#NationalDrinkWineDay'</li>\n",
       "\t<li>'Clyde Stubblefield'</li>\n",
       "\t<li>'Eron Harris'</li>\n",
       "\t<li>'Fedor'</li>\n",
       "\t<li>'Norma McCorvey'</li>\n",
       "\t<li>'Yante Maten'</li>\n",
       "</ol>\n"
      ],
      "text/latex": [
       "\\begin{enumerate*}\n",
       "\\item '\\#FSStudentNight'\n",
       "\\item '\\#Fresnostate'\n",
       "\\item '\\#GoRhody'\n",
       "\\item '\\#TrumpRally'\n",
       "\\item '\\#NationalDrinkWineDay'\n",
       "\\item 'Clyde Stubblefield'\n",
       "\\item 'Eron Harris'\n",
       "\\item 'Fedor'\n",
       "\\item 'Norma McCorvey'\n",
       "\\item 'Yante Maten'\n",
       "\\end{enumerate*}\n"
      ],
      "text/markdown": [
       "1. '#FSStudentNight'\n",
       "2. '#Fresnostate'\n",
       "3. '#GoRhody'\n",
       "4. '#TrumpRally'\n",
       "5. '#NationalDrinkWineDay'\n",
       "6. 'Clyde Stubblefield'\n",
       "7. 'Eron Harris'\n",
       "8. 'Fedor'\n",
       "9. 'Norma McCorvey'\n",
       "10. 'Yante Maten'\n",
       "\n",
       "\n"
      ],
      "text/plain": [
       " [1] \"#FSStudentNight\"       \"#Fresnostate\"          \"#GoRhody\"             \n",
       " [4] \"#TrumpRally\"           \"#NationalDrinkWineDay\" \"Clyde Stubblefield\"   \n",
       " [7] \"Eron Harris\"           \"Fedor\"                 \"Norma McCorvey\"       \n",
       "[10] \"Yante Maten\"          "
      ]
     },
     "metadata": {},
     "output_type": "display_data"
    }
   ],
   "source": [
    "print('The top 10 tren')\n",
    "t2"
   ]
  },
  {
   "cell_type": "code",
   "execution_count": null,
   "metadata": {
    "collapsed": true
   },
   "outputs": [],
   "source": []
  }
 ],
 "metadata": {
  "kernelspec": {
   "display_name": "R",
   "language": "R",
   "name": "ir"
  },
  "language_info": {
   "codemirror_mode": "r",
   "file_extension": ".r",
   "mimetype": "text/x-r-source",
   "name": "R",
   "pygments_lexer": "r",
   "version": "3.3.2"
  }
 },
 "nbformat": 4,
 "nbformat_minor": 2
}
